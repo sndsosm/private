{
  "cells": [
    {
      "cell_type": "code",
      "execution_count": 1,
      "metadata": {
        "id": "402081a1"
      },
      "outputs": [],
      "source": [
        "import pandas as pd\n",
        "import numpy as np\n",
        "import random\n",
        "from sklearn.model_selection import train_test_split\n",
        "from sklearn.metrics import r2_score, mean_squared_error, mean_absolute_error\n",
        "from sklearn.tree import DecisionTreeRegressor\n",
        "from sklearn.model_selection import GridSearchCV, RepeatedKFold, learning_curve\n",
        "from sklearn.svm import SVR\n",
        "from sklearn.feature_selection import RFE\n",
        "import matplotlib.pyplot as plt\n",
        "import matplotlib.cm as cm\n",
        "from sklearn.preprocessing import MinMaxScaler\n",
        "from sklearn.pipeline import make_pipeline\n",
        "import seaborn as sns\n",
        "sns.set_palette('husl')"
      ],
      "id": "402081a1"
    },
    {
      "cell_type": "code",
      "source": [
        "from google.colab import drive\n",
        "drive.mount('/content/gdrive', force_remount=True)"
      ],
      "metadata": {
        "colab": {
          "base_uri": "https://localhost:8080/"
        },
        "id": "TPB2jF-xJZyp",
        "outputId": "c2cbdc62-0e23-4158-c07a-3071609aedc0"
      },
      "execution_count": 2,
      "outputs": [
        {
          "output_type": "stream",
          "name": "stdout",
          "text": [
            "Mounted at /content/gdrive\n"
          ]
        }
      ],
      "id": "TPB2jF-xJZyp"
    },
    {
      "cell_type": "code",
      "execution_count": 3,
      "metadata": {
        "id": "e9e8d4a0",
        "colab": {
          "base_uri": "https://localhost:8080/"
        },
        "outputId": "5d356718-3bc3-403d-abc7-b57cb2f42bb5"
      },
      "outputs": [
        {
          "output_type": "stream",
          "name": "stdout",
          "text": [
            "<class 'pandas.core.frame.DataFrame'>\n",
            "RangeIndex: 2780 entries, 0 to 2779\n",
            "Data columns (total 85 columns):\n",
            " #   Column                            Non-Null Count  Dtype  \n",
            "---  ------                            --------------  -----  \n",
            " 0   Unnamed: 0                        2780 non-null   int64  \n",
            " 1   California                        2780 non-null   float64\n",
            " 2   Texas                             2780 non-null   float64\n",
            " 3   Wisconsin                         2780 non-null   float64\n",
            " 4   CA_1                              2780 non-null   float64\n",
            " 5   CA_2                              2780 non-null   float64\n",
            " 6   CA_3                              2780 non-null   float64\n",
            " 7   CA_4                              2780 non-null   float64\n",
            " 8   TX_1                              2780 non-null   float64\n",
            " 9   TX_2                              2780 non-null   float64\n",
            " 10  TX_3                              2780 non-null   float64\n",
            " 11  WI_1                              2780 non-null   float64\n",
            " 12  WI_2                              2780 non-null   float64\n",
            " 13  WI_3                              2780 non-null   float64\n",
            " 14  Date                              2780 non-null   object \n",
            " 15  year                              2780 non-null   int64  \n",
            " 16  quarter                           2780 non-null   int64  \n",
            " 17  month                             2780 non-null   int64  \n",
            " 18  week                              2780 non-null   int64  \n",
            " 19  day                               2780 non-null   int64  \n",
            " 20  fall                              2780 non-null   float64\n",
            " 21  spring                            2780 non-null   float64\n",
            " 22  summer                            2780 non-null   float64\n",
            " 23  winter                            2780 non-null   float64\n",
            " 24  dayofweek                         2780 non-null   int64  \n",
            " 25  is_weekend                        2780 non-null   int64  \n",
            " 26  ChanukahEnd                       2780 non-null   int64  \n",
            " 27  Christmas                         2780 non-null   int64  \n",
            " 28  CincoDeMayo                       2780 non-null   int64  \n",
            " 29  ColumbusDay                       2780 non-null   int64  \n",
            " 30  Easter                            2780 non-null   int64  \n",
            " 31  EidAlAdha                         2780 non-null   int64  \n",
            " 32  Eidal-Fitr                        2780 non-null   int64  \n",
            " 33  Fathersday                        2780 non-null   int64  \n",
            " 34  Halloween                         2780 non-null   int64  \n",
            " 35  IndependenceDay                   2780 non-null   int64  \n",
            " 36  LaborDay                          2780 non-null   int64  \n",
            " 37  LentStart                         2780 non-null   int64  \n",
            " 38  LentWeek2                         2780 non-null   int64  \n",
            " 39  MartinLutherKingDay               2780 non-null   int64  \n",
            " 40  MemorialDay                       2780 non-null   int64  \n",
            " 41  Mothersday                        2780 non-null   int64  \n",
            " 42  NBAFinalsEnd                      2780 non-null   int64  \n",
            " 43  NBAFinalsStart                    2780 non-null   int64  \n",
            " 44  NewYear                           2780 non-null   int64  \n",
            " 45  OrthodoxChristmas                 2780 non-null   int64  \n",
            " 46  OrthodoxEaster                    2780 non-null   int64  \n",
            " 47  PesachEnd                         2780 non-null   int64  \n",
            " 48  PresidentsDay                     2780 non-null   int64  \n",
            " 49  PurimEnd                          2780 non-null   int64  \n",
            " 50  Ramadanstarts                     2780 non-null   int64  \n",
            " 51  StPatricksDay                     2780 non-null   int64  \n",
            " 52  SuperBowl                         2780 non-null   int64  \n",
            " 53  Thanksgiving                      2780 non-null   int64  \n",
            " 54  ValentinesDay                     2780 non-null   int64  \n",
            " 55  VeteransDay                       2780 non-null   int64  \n",
            " 56  number_of_events                  2780 non-null   int64  \n",
            " 57  Cultural                          2780 non-null   int64  \n",
            " 58  National                          2780 non-null   int64  \n",
            " 59  Religious                         2780 non-null   int64  \n",
            " 60  Sporting                          2780 non-null   int64  \n",
            " 61  raw_visit_counts                  2780 non-null   float64\n",
            " 62  raw_visitor_counts                2780 non-null   float64\n",
            " 63  distance_from_home                2780 non-null   float64\n",
            " 64  median_dwell                      2780 non-null   float64\n",
            " 65  <5                                2780 non-null   float64\n",
            " 66  5-10                              2780 non-null   float64\n",
            " 67  11-20                             2780 non-null   float64\n",
            " 68  21-60                             2780 non-null   float64\n",
            " 69  61-120                            2780 non-null   float64\n",
            " 70  121-240                           2780 non-null   float64\n",
            " 71  >240                              2780 non-null   float64\n",
            " 72  number_stores_visited_daily       2780 non-null   int64  \n",
            " 73  other_stores_avg_visitors_daily   2780 non-null   float64\n",
            " 74  most_visited_store_same_day       2780 non-null   object \n",
            " 75  average_visitors_same_day_yj      2780 non-null   float64\n",
            " 76  number_stores_visited_weekly      2780 non-null   int64  \n",
            " 77  other_stores_avg_visitors_weekly  2780 non-null   float64\n",
            " 78  most_visited_store_same_week      2780 non-null   object \n",
            " 79  average_visitors_same_week_yj     2780 non-null   float64\n",
            " 80  population                        2780 non-null   float64\n",
            " 81  employed                          2780 non-null   float64\n",
            " 82  unemployed                        2780 non-null   float64\n",
            " 83  unemployment_rate                 2780 non-null   float64\n",
            " 84  sold                              2780 non-null   int64  \n",
            "dtypes: float64(36), int64(46), object(3)\n",
            "memory usage: 1.8+ MB\n"
          ]
        }
      ],
      "source": [
        "df = pd.read_csv('/content/gdrive/MyDrive/NEWEST_Dataset')\n",
        "\n",
        "df.info()\n"
      ],
      "id": "e9e8d4a0"
    },
    {
      "cell_type": "code",
      "source": [
        "df.head()"
      ],
      "metadata": {
        "colab": {
          "base_uri": "https://localhost:8080/",
          "height": 299
        },
        "id": "2cvaCKDeUzEw",
        "outputId": "6844e503-aa28-4074-b804-7f548eafe4d4"
      },
      "execution_count": 36,
      "outputs": [
        {
          "output_type": "execute_result",
          "data": {
            "text/plain": [
              "   California  Texas  Wisconsin  CA_1  CA_2  CA_3  CA_4  TX_1  TX_2  TX_3  \\\n",
              "0         1.0    0.0        0.0   1.0   0.0   0.0   0.0   0.0   0.0   0.0   \n",
              "1         0.0    0.0        1.0   0.0   0.0   0.0   0.0   0.0   0.0   0.0   \n",
              "2         0.0    1.0        0.0   0.0   0.0   0.0   0.0   0.0   0.0   1.0   \n",
              "3         0.0    1.0        0.0   0.0   0.0   0.0   0.0   1.0   0.0   0.0   \n",
              "4         0.0    1.0        0.0   0.0   0.0   0.0   0.0   0.0   1.0   0.0   \n",
              "\n",
              "   ...  average_visitors_same_day_yj  number_stores_visited_weekly  \\\n",
              "0  ...                         12.75                           233   \n",
              "1  ...                         10.00                           173   \n",
              "2  ...                         45.00                           308   \n",
              "3  ...                         45.00                           308   \n",
              "4  ...                         45.00                           308   \n",
              "\n",
              "   other_stores_avg_visitors_weekly most_visited_store_same_week  \\\n",
              "0                          7.742210        build a bear workshop   \n",
              "1                          6.135069            einstein brothers   \n",
              "2                          8.138411                 sunglass hut   \n",
              "3                          8.138411                 sunglass hut   \n",
              "4                          8.138411                 sunglass hut   \n",
              "\n",
              "   average_visitors_same_week_yj     population       employed    unemployed  \\\n",
              "0                       18.84375  649528.517241  280312.706897  37189.137931   \n",
              "1                       20.00000   79247.388889   39458.319444   3316.180556   \n",
              "2                       50.00000  100962.299213   45413.779528   3816.582677   \n",
              "3                       50.00000  100962.299213   45413.779528   3816.582677   \n",
              "4                       50.00000  100962.299213   45413.779528   3816.582677   \n",
              "\n",
              "   unemployment_rate   sold  \n",
              "0          13.425345  11308  \n",
              "1           8.463889  11553  \n",
              "2           7.497480   8261  \n",
              "3           7.497480   7065  \n",
              "4           7.497480  10520  \n",
              "\n",
              "[5 rows x 84 columns]"
            ],
            "text/html": [
              "\n",
              "  <div id=\"df-35525e5b-4596-4f28-8c95-7423bbc79431\">\n",
              "    <div class=\"colab-df-container\">\n",
              "      <div>\n",
              "<style scoped>\n",
              "    .dataframe tbody tr th:only-of-type {\n",
              "        vertical-align: middle;\n",
              "    }\n",
              "\n",
              "    .dataframe tbody tr th {\n",
              "        vertical-align: top;\n",
              "    }\n",
              "\n",
              "    .dataframe thead th {\n",
              "        text-align: right;\n",
              "    }\n",
              "</style>\n",
              "<table border=\"1\" class=\"dataframe\">\n",
              "  <thead>\n",
              "    <tr style=\"text-align: right;\">\n",
              "      <th></th>\n",
              "      <th>California</th>\n",
              "      <th>Texas</th>\n",
              "      <th>Wisconsin</th>\n",
              "      <th>CA_1</th>\n",
              "      <th>CA_2</th>\n",
              "      <th>CA_3</th>\n",
              "      <th>CA_4</th>\n",
              "      <th>TX_1</th>\n",
              "      <th>TX_2</th>\n",
              "      <th>TX_3</th>\n",
              "      <th>...</th>\n",
              "      <th>average_visitors_same_day_yj</th>\n",
              "      <th>number_stores_visited_weekly</th>\n",
              "      <th>other_stores_avg_visitors_weekly</th>\n",
              "      <th>most_visited_store_same_week</th>\n",
              "      <th>average_visitors_same_week_yj</th>\n",
              "      <th>population</th>\n",
              "      <th>employed</th>\n",
              "      <th>unemployed</th>\n",
              "      <th>unemployment_rate</th>\n",
              "      <th>sold</th>\n",
              "    </tr>\n",
              "  </thead>\n",
              "  <tbody>\n",
              "    <tr>\n",
              "      <th>0</th>\n",
              "      <td>1.0</td>\n",
              "      <td>0.0</td>\n",
              "      <td>0.0</td>\n",
              "      <td>1.0</td>\n",
              "      <td>0.0</td>\n",
              "      <td>0.0</td>\n",
              "      <td>0.0</td>\n",
              "      <td>0.0</td>\n",
              "      <td>0.0</td>\n",
              "      <td>0.0</td>\n",
              "      <td>...</td>\n",
              "      <td>12.75</td>\n",
              "      <td>233</td>\n",
              "      <td>7.742210</td>\n",
              "      <td>build a bear workshop</td>\n",
              "      <td>18.84375</td>\n",
              "      <td>649528.517241</td>\n",
              "      <td>280312.706897</td>\n",
              "      <td>37189.137931</td>\n",
              "      <td>13.425345</td>\n",
              "      <td>11308</td>\n",
              "    </tr>\n",
              "    <tr>\n",
              "      <th>1</th>\n",
              "      <td>0.0</td>\n",
              "      <td>0.0</td>\n",
              "      <td>1.0</td>\n",
              "      <td>0.0</td>\n",
              "      <td>0.0</td>\n",
              "      <td>0.0</td>\n",
              "      <td>0.0</td>\n",
              "      <td>0.0</td>\n",
              "      <td>0.0</td>\n",
              "      <td>0.0</td>\n",
              "      <td>...</td>\n",
              "      <td>10.00</td>\n",
              "      <td>173</td>\n",
              "      <td>6.135069</td>\n",
              "      <td>einstein brothers</td>\n",
              "      <td>20.00000</td>\n",
              "      <td>79247.388889</td>\n",
              "      <td>39458.319444</td>\n",
              "      <td>3316.180556</td>\n",
              "      <td>8.463889</td>\n",
              "      <td>11553</td>\n",
              "    </tr>\n",
              "    <tr>\n",
              "      <th>2</th>\n",
              "      <td>0.0</td>\n",
              "      <td>1.0</td>\n",
              "      <td>0.0</td>\n",
              "      <td>0.0</td>\n",
              "      <td>0.0</td>\n",
              "      <td>0.0</td>\n",
              "      <td>0.0</td>\n",
              "      <td>0.0</td>\n",
              "      <td>0.0</td>\n",
              "      <td>1.0</td>\n",
              "      <td>...</td>\n",
              "      <td>45.00</td>\n",
              "      <td>308</td>\n",
              "      <td>8.138411</td>\n",
              "      <td>sunglass hut</td>\n",
              "      <td>50.00000</td>\n",
              "      <td>100962.299213</td>\n",
              "      <td>45413.779528</td>\n",
              "      <td>3816.582677</td>\n",
              "      <td>7.497480</td>\n",
              "      <td>8261</td>\n",
              "    </tr>\n",
              "    <tr>\n",
              "      <th>3</th>\n",
              "      <td>0.0</td>\n",
              "      <td>1.0</td>\n",
              "      <td>0.0</td>\n",
              "      <td>0.0</td>\n",
              "      <td>0.0</td>\n",
              "      <td>0.0</td>\n",
              "      <td>0.0</td>\n",
              "      <td>1.0</td>\n",
              "      <td>0.0</td>\n",
              "      <td>0.0</td>\n",
              "      <td>...</td>\n",
              "      <td>45.00</td>\n",
              "      <td>308</td>\n",
              "      <td>8.138411</td>\n",
              "      <td>sunglass hut</td>\n",
              "      <td>50.00000</td>\n",
              "      <td>100962.299213</td>\n",
              "      <td>45413.779528</td>\n",
              "      <td>3816.582677</td>\n",
              "      <td>7.497480</td>\n",
              "      <td>7065</td>\n",
              "    </tr>\n",
              "    <tr>\n",
              "      <th>4</th>\n",
              "      <td>0.0</td>\n",
              "      <td>1.0</td>\n",
              "      <td>0.0</td>\n",
              "      <td>0.0</td>\n",
              "      <td>0.0</td>\n",
              "      <td>0.0</td>\n",
              "      <td>0.0</td>\n",
              "      <td>0.0</td>\n",
              "      <td>1.0</td>\n",
              "      <td>0.0</td>\n",
              "      <td>...</td>\n",
              "      <td>45.00</td>\n",
              "      <td>308</td>\n",
              "      <td>8.138411</td>\n",
              "      <td>sunglass hut</td>\n",
              "      <td>50.00000</td>\n",
              "      <td>100962.299213</td>\n",
              "      <td>45413.779528</td>\n",
              "      <td>3816.582677</td>\n",
              "      <td>7.497480</td>\n",
              "      <td>10520</td>\n",
              "    </tr>\n",
              "  </tbody>\n",
              "</table>\n",
              "<p>5 rows × 84 columns</p>\n",
              "</div>\n",
              "      <button class=\"colab-df-convert\" onclick=\"convertToInteractive('df-35525e5b-4596-4f28-8c95-7423bbc79431')\"\n",
              "              title=\"Convert this dataframe to an interactive table.\"\n",
              "              style=\"display:none;\">\n",
              "        \n",
              "  <svg xmlns=\"http://www.w3.org/2000/svg\" height=\"24px\"viewBox=\"0 0 24 24\"\n",
              "       width=\"24px\">\n",
              "    <path d=\"M0 0h24v24H0V0z\" fill=\"none\"/>\n",
              "    <path d=\"M18.56 5.44l.94 2.06.94-2.06 2.06-.94-2.06-.94-.94-2.06-.94 2.06-2.06.94zm-11 1L8.5 8.5l.94-2.06 2.06-.94-2.06-.94L8.5 2.5l-.94 2.06-2.06.94zm10 10l.94 2.06.94-2.06 2.06-.94-2.06-.94-.94-2.06-.94 2.06-2.06.94z\"/><path d=\"M17.41 7.96l-1.37-1.37c-.4-.4-.92-.59-1.43-.59-.52 0-1.04.2-1.43.59L10.3 9.45l-7.72 7.72c-.78.78-.78 2.05 0 2.83L4 21.41c.39.39.9.59 1.41.59.51 0 1.02-.2 1.41-.59l7.78-7.78 2.81-2.81c.8-.78.8-2.07 0-2.86zM5.41 20L4 18.59l7.72-7.72 1.47 1.35L5.41 20z\"/>\n",
              "  </svg>\n",
              "      </button>\n",
              "      \n",
              "  <style>\n",
              "    .colab-df-container {\n",
              "      display:flex;\n",
              "      flex-wrap:wrap;\n",
              "      gap: 12px;\n",
              "    }\n",
              "\n",
              "    .colab-df-convert {\n",
              "      background-color: #E8F0FE;\n",
              "      border: none;\n",
              "      border-radius: 50%;\n",
              "      cursor: pointer;\n",
              "      display: none;\n",
              "      fill: #1967D2;\n",
              "      height: 32px;\n",
              "      padding: 0 0 0 0;\n",
              "      width: 32px;\n",
              "    }\n",
              "\n",
              "    .colab-df-convert:hover {\n",
              "      background-color: #E2EBFA;\n",
              "      box-shadow: 0px 1px 2px rgba(60, 64, 67, 0.3), 0px 1px 3px 1px rgba(60, 64, 67, 0.15);\n",
              "      fill: #174EA6;\n",
              "    }\n",
              "\n",
              "    [theme=dark] .colab-df-convert {\n",
              "      background-color: #3B4455;\n",
              "      fill: #D2E3FC;\n",
              "    }\n",
              "\n",
              "    [theme=dark] .colab-df-convert:hover {\n",
              "      background-color: #434B5C;\n",
              "      box-shadow: 0px 1px 3px 1px rgba(0, 0, 0, 0.15);\n",
              "      filter: drop-shadow(0px 1px 2px rgba(0, 0, 0, 0.3));\n",
              "      fill: #FFFFFF;\n",
              "    }\n",
              "  </style>\n",
              "\n",
              "      <script>\n",
              "        const buttonEl =\n",
              "          document.querySelector('#df-35525e5b-4596-4f28-8c95-7423bbc79431 button.colab-df-convert');\n",
              "        buttonEl.style.display =\n",
              "          google.colab.kernel.accessAllowed ? 'block' : 'none';\n",
              "\n",
              "        async function convertToInteractive(key) {\n",
              "          const element = document.querySelector('#df-35525e5b-4596-4f28-8c95-7423bbc79431');\n",
              "          const dataTable =\n",
              "            await google.colab.kernel.invokeFunction('convertToInteractive',\n",
              "                                                     [key], {});\n",
              "          if (!dataTable) return;\n",
              "\n",
              "          const docLinkHtml = 'Like what you see? Visit the ' +\n",
              "            '<a target=\"_blank\" href=https://colab.research.google.com/notebooks/data_table.ipynb>data table notebook</a>'\n",
              "            + ' to learn more about interactive tables.';\n",
              "          element.innerHTML = '';\n",
              "          dataTable['output_type'] = 'display_data';\n",
              "          await google.colab.output.renderOutput(dataTable, element);\n",
              "          const docLink = document.createElement('div');\n",
              "          docLink.innerHTML = docLinkHtml;\n",
              "          element.appendChild(docLink);\n",
              "        }\n",
              "      </script>\n",
              "    </div>\n",
              "  </div>\n",
              "  "
            ]
          },
          "metadata": {},
          "execution_count": 36
        }
      ],
      "id": "2cvaCKDeUzEw"
    },
    {
      "cell_type": "code",
      "source": [
        "df.drop(columns=['year', 'quarter',\n",
        "       'month', 'week', 'day',],inplace=True)"
      ],
      "metadata": {
        "id": "GfUsa_e2JosH"
      },
      "execution_count": 39,
      "outputs": [],
      "id": "GfUsa_e2JosH"
    },
    {
      "cell_type": "code",
      "execution_count": 40,
      "metadata": {
        "colab": {
          "base_uri": "https://localhost:8080/"
        },
        "id": "67f0a12f",
        "outputId": "b38c88d8-fbf6-4ed2-e855-a1e2c548e3ab"
      },
      "outputs": [
        {
          "output_type": "stream",
          "name": "stdout",
          "text": [
            "(2780, 78)\n",
            "(2780,)\n"
          ]
        }
      ],
      "source": [
        "X = df.drop(['sold'], axis=1)\n",
        "y = df['sold']\n",
        "#print(X.head())\n",
        "print(X.shape)\n",
        "#print(y.head())\n",
        "print(y.shape)"
      ],
      "id": "67f0a12f"
    },
    {
      "cell_type": "code",
      "source": [
        "X=X._get_numeric_data()"
      ],
      "metadata": {
        "id": "t_K9FtDEaIle"
      },
      "execution_count": 41,
      "outputs": [],
      "id": "t_K9FtDEaIle"
    },
    {
      "cell_type": "code",
      "execution_count": 42,
      "metadata": {
        "colab": {
          "base_uri": "https://localhost:8080/"
        },
        "id": "10898401",
        "outputId": "3ffec526-73e9-47ac-fe49-68f47afd3dfc"
      },
      "outputs": [
        {
          "output_type": "stream",
          "name": "stdout",
          "text": [
            "(2085, 75)\n",
            "(2085,)\n",
            "(695, 75)\n",
            "(695,)\n"
          ]
        }
      ],
      "source": [
        "X_train, X_test, y_train, y_test = train_test_split(X, y, test_size=0.25, random_state=50)\n",
        "print(X_train.shape)\n",
        "print(y_train.shape)\n",
        "print(X_test.shape)\n",
        "print(y_test.shape)"
      ],
      "id": "10898401"
    },
    {
      "cell_type": "code",
      "execution_count": null,
      "metadata": {
        "colab": {
          "base_uri": "https://localhost:8080/"
        },
        "id": "f4a5bd38",
        "outputId": "880083de-1d07-4390-f0cc-594b30ed0ecb"
      },
      "outputs": [
        {
          "output_type": "execute_result",
          "data": {
            "text/plain": [
              "28019    0.143885\n",
              "27949    0.095923\n",
              "14820    0.095923\n",
              "14948    0.095923\n",
              "13959    0.095923\n",
              "           ...   \n",
              "26806    0.047962\n",
              "15408    0.047962\n",
              "32597    0.047962\n",
              "24080    0.047962\n",
              "20102    0.047962\n",
              "Name: sold, Length: 1998, dtype: float64"
            ]
          },
          "metadata": {},
          "execution_count": 8
        }
      ],
      "source": [
        "y_train.value_counts() / len(y_train) * 100\n"
      ],
      "id": "f4a5bd38"
    },
    {
      "cell_type": "code",
      "execution_count": null,
      "metadata": {
        "colab": {
          "base_uri": "https://localhost:8080/"
        },
        "id": "fd9fb289",
        "outputId": "d2d7684c-4f2a-4571-e61e-159cf776ff95"
      },
      "outputs": [
        {
          "output_type": "execute_result",
          "data": {
            "text/plain": [
              "16567    0.287770\n",
              "24840    0.287770\n",
              "20246    0.287770\n",
              "21033    0.287770\n",
              "25412    0.287770\n",
              "           ...   \n",
              "24299    0.143885\n",
              "26134    0.143885\n",
              "23886    0.143885\n",
              "10862    0.143885\n",
              "25315    0.143885\n",
              "Name: sold, Length: 688, dtype: float64"
            ]
          },
          "metadata": {},
          "execution_count": 9
        }
      ],
      "source": [
        "y_test.value_counts() / len(y_test) * 100"
      ],
      "id": "fd9fb289"
    },
    {
      "cell_type": "code",
      "execution_count": 8,
      "metadata": {
        "id": "1dd7ba22"
      },
      "outputs": [],
      "source": [
        "def plot_learning_curve(estimator, title, X, y, axes=None, ylim=None, cv=None, n_jobs=None, \n",
        "                        train_sizes=np.linspace(0.1, 1.0, 5)):\n",
        "   \n",
        "    if axes is None:\n",
        "        _, axes = plt.subplots(1, 1)\n",
        "\n",
        "    axes.set_title(title)\n",
        "    if ylim is not None:\n",
        "        axes.set_ylim(*ylim)\n",
        "    axes.set_xlabel(\"Training examples\")\n",
        "    axes.set_ylabel(\"Score\")\n",
        "\n",
        "    train_sizes, train_scores, test_scores, fit_times, _ = learning_curve(\n",
        "        estimator, X, y,\n",
        "        cv=cv,\n",
        "        scoring='r2', \n",
        "        n_jobs=n_jobs,\n",
        "        train_sizes=train_sizes,\n",
        "        return_times=True,\n",
        "    )\n",
        "    train_scores_mean = np.mean(train_scores, axis=1)\n",
        "    train_scores_std = np.std(train_scores, axis=1)\n",
        "    test_scores_mean = np.mean(test_scores, axis=1)\n",
        "    test_scores_std = np.std(test_scores, axis=1)\n",
        "    fit_times_mean = np.mean(fit_times, axis=1)\n",
        "    fit_times_std = np.std(fit_times, axis=1)\n",
        "\n",
        "    # Plot learning curve\n",
        "    axes.grid()\n",
        "    axes.fill_between(\n",
        "        train_sizes,\n",
        "        train_scores_mean - train_scores_std,\n",
        "        train_scores_mean + train_scores_std,\n",
        "        alpha=0.1,\n",
        "        color=\"r\",\n",
        "    )\n",
        "    axes.fill_between(\n",
        "        train_sizes,\n",
        "        test_scores_mean - test_scores_std,\n",
        "        test_scores_mean + test_scores_std,\n",
        "        alpha=0.1,\n",
        "        color=\"g\",\n",
        "    )\n",
        "    axes.plot(\n",
        "        train_sizes, train_scores_mean, \"o-\", color=\"r\", label=\"Training score\"\n",
        "    )\n",
        "    axes.plot(\n",
        "        train_sizes, test_scores_mean, \"o-\", color=\"g\", label=\"Cross-validation score\"\n",
        "    )\n",
        "    axes.legend(loc=\"best\")\n",
        "    return plt"
      ],
      "id": "1dd7ba22"
    },
    {
      "cell_type": "code",
      "execution_count": null,
      "metadata": {
        "id": "2919374a"
      },
      "outputs": [],
      "source": [
        "from sklearn.pipeline import make_pipeline\n",
        "\n",
        "model = make_pipeline(MinMaxScaler(), DecisionTreeRegressor())\n"
      ],
      "id": "2919374a"
    },
    {
      "cell_type": "code",
      "source": [
        "cv = RepeatedKFold(n_splits=10, n_repeats=10, random_state=50)"
      ],
      "metadata": {
        "id": "xbxGCSjseIPr"
      },
      "id": "xbxGCSjseIPr",
      "execution_count": null,
      "outputs": []
    },
    {
      "cell_type": "code",
      "execution_count": null,
      "metadata": {
        "colab": {
          "base_uri": "https://localhost:8080/"
        },
        "id": "0a3d7c8c",
        "outputId": "de46310b-3807-4f68-93cc-25dc8aef0342"
      },
      "outputs": [
        {
          "output_type": "execute_result",
          "data": {
            "text/plain": [
              "GridSearchCV(cv=RepeatedKFold(n_repeats=10, n_splits=10, random_state=50),\n",
              "             estimator=Pipeline(steps=[('minmaxscaler', MinMaxScaler()),\n",
              "                                       ('decisiontreeregressor',\n",
              "                                        DecisionTreeRegressor())]),\n",
              "             param_grid={'decisiontreeregressor__max_depth': [2, 6, 8],\n",
              "                         'decisiontreeregressor__max_leaf_nodes': [5, 20, 100],\n",
              "                         'decisiontreeregressor__min_samples_leaf': [20, 40,\n",
              "                                                                     100],\n",
              "                         'decisiontreeregressor__min_samples_split': [10, 20,\n",
              "                                                                      40]})"
            ]
          },
          "metadata": {},
          "execution_count": 58
        }
      ],
      "source": [
        "# create the grid of hyper parameters\n",
        "params = {\n",
        "    \"decisiontreeregressor__min_samples_split\": [10, 20, 40],\n",
        "    \"decisiontreeregressor__max_depth\": [2, 6, 8],\n",
        "    \"decisiontreeregressor__min_samples_leaf\": [20, 40, 100],\n",
        "    \"decisiontreeregressor__max_leaf_nodes\": [5, 20, 100],\n",
        "}\n",
        "\n",
        "# define the cross validation using RepeatedKFold (10 folds 10 repeats)\n",
        "\n",
        "\n",
        "# define the grid search CV \n",
        "clf = GridSearchCV(estimator=model, param_grid=params, cv=cv)\n",
        "\n",
        "# start training\n",
        "clf.fit(X_train, y_train)"
      ],
      "id": "0a3d7c8c"
    },
    {
      "cell_type": "code",
      "execution_count": null,
      "metadata": {
        "colab": {
          "base_uri": "https://localhost:8080/"
        },
        "id": "82891b7d",
        "outputId": "aee01df9-2d20-4ebc-f7d8-2f54ebf5a599"
      },
      "outputs": [
        {
          "output_type": "execute_result",
          "data": {
            "text/plain": [
              "Pipeline(steps=[('minmaxscaler', MinMaxScaler()),\n",
              "                ('decisiontreeregressor',\n",
              "                 DecisionTreeRegressor(max_depth=8, max_leaf_nodes=100,\n",
              "                                       min_samples_leaf=20,\n",
              "                                       min_samples_split=10))])"
            ]
          },
          "metadata": {},
          "execution_count": 59
        }
      ],
      "source": [
        "best_model = clf.best_estimator_\n",
        "best_model"
      ],
      "id": "82891b7d"
    },
    {
      "cell_type": "code",
      "execution_count": null,
      "metadata": {
        "colab": {
          "base_uri": "https://localhost:8080/"
        },
        "id": "293bf023",
        "outputId": "0f13c73c-2680-4ce8-fc54-4b1aad91a6e4"
      },
      "outputs": [
        {
          "output_type": "stream",
          "name": "stdout",
          "text": [
            "Accuracy of the tuned model: 0.8745\n",
            "{'decisiontreeregressor__max_depth': 8, 'decisiontreeregressor__max_leaf_nodes': 100, 'decisiontreeregressor__min_samples_leaf': 20, 'decisiontreeregressor__min_samples_split': 10}\n"
          ]
        }
      ],
      "source": [
        "print(\"Accuracy of the tuned model: %.4f\" %clf.best_score_)\n",
        "print(clf.best_params_)"
      ],
      "id": "293bf023"
    },
    {
      "cell_type": "code",
      "source": [
        "# define the cross validation using RepeatedKFold (10 folds 10 repeats)\n",
        "cv = RepeatedKFold(n_splits=10, n_repeats=10, random_state=50)"
      ],
      "metadata": {
        "id": "_FTHLWzM4uB7"
      },
      "id": "_FTHLWzM4uB7",
      "execution_count": 34,
      "outputs": []
    },
    {
      "cell_type": "code",
      "source": [
        "params = {\n",
        "  'decisiontreeregressor__criterion': ['squared_error',\n",
        "  'friedman_mse', 'absolute_error', 'poisson'],\n",
        "  'decisiontreeregressor__splitter': ['best','random'],\n",
        "  'decisiontreeregressor__max_depth': [10, 20, 30, 40, 50, 100,\n",
        "  150],\n",
        "  'decisiontreeregressor__max_features': ['auto', 'sqrt', 'log2'],\n",
        "  }\n",
        "\n",
        "\n",
        "# define the cross validation using RepeatedKFold (10 folds 10 repeats)\n",
        "cv = RepeatedKFold(n_splits=10, n_repeats=10, random_state=50)\n",
        "\n",
        "# define the grid search CV \n",
        "clf = GridSearchCV(estimator=model, param_grid=params, cv=cv)\n",
        "\n",
        "# start training\n",
        "clf.fit(X_train, y_train)"
      ],
      "metadata": {
        "colab": {
          "base_uri": "https://localhost:8080/"
        },
        "id": "x9N261qDUsC4",
        "outputId": "14d3f558-2d3b-47f8-d1f7-539f3322f32f"
      },
      "execution_count": null,
      "outputs": [
        {
          "output_type": "execute_result",
          "data": {
            "text/plain": [
              "GridSearchCV(cv=RepeatedKFold(n_repeats=10, n_splits=10, random_state=50),\n",
              "             estimator=Pipeline(steps=[('minmaxscaler', MinMaxScaler()),\n",
              "                                       ('decisiontreeregressor',\n",
              "                                        DecisionTreeRegressor())]),\n",
              "             param_grid={'decisiontreeregressor__criterion': ['squared_error',\n",
              "                                                              'friedman_mse',\n",
              "                                                              'absolute_error',\n",
              "                                                              'poisson'],\n",
              "                         'decisiontreeregressor__max_depth': [10, 20, 30, 40,\n",
              "                                                              50, 100, 150],\n",
              "                         'decisiontreeregressor__max_features': ['auto', 'sqrt',\n",
              "                                                                 'log2'],\n",
              "                         'decisiontreeregressor__splitter': ['best', 'random']})"
            ]
          },
          "metadata": {},
          "execution_count": 204
        }
      ],
      "id": "x9N261qDUsC4"
    },
    {
      "cell_type": "code",
      "execution_count": null,
      "metadata": {
        "colab": {
          "base_uri": "https://localhost:8080/"
        },
        "outputId": "915df068-5574-44cb-dc10-0646ee0c02ba",
        "id": "19DTVmVVY8x8"
      },
      "outputs": [
        {
          "output_type": "execute_result",
          "data": {
            "text/plain": [
              "Pipeline(steps=[('minmaxscaler', MinMaxScaler()),\n",
              "                ('decisiontreeregressor',\n",
              "                 DecisionTreeRegressor(criterion='absolute_error', max_depth=10,\n",
              "                                       max_features='auto'))])"
            ]
          },
          "metadata": {},
          "execution_count": 205
        }
      ],
      "source": [
        "best_model = clf.best_estimator_\n",
        "best_model"
      ],
      "id": "19DTVmVVY8x8"
    },
    {
      "cell_type": "code",
      "execution_count": null,
      "metadata": {
        "colab": {
          "base_uri": "https://localhost:8080/"
        },
        "outputId": "d3701ccc-154e-459f-f0ba-0fababcb7031",
        "id": "hNJUS-JcY8x-"
      },
      "outputs": [
        {
          "output_type": "stream",
          "name": "stdout",
          "text": [
            "Accuracy of the tuned model: 0.8933\n",
            "{'decisiontreeregressor__criterion': 'absolute_error', 'decisiontreeregressor__max_depth': 10, 'decisiontreeregressor__max_features': 'auto', 'decisiontreeregressor__splitter': 'best'}\n"
          ]
        }
      ],
      "source": [
        "print(\"Accuracy of the tuned model: %.4f\" %clf.best_score_)\n",
        "print(clf.best_params_)"
      ],
      "id": "hNJUS-JcY8x-"
    },
    {
      "cell_type": "code",
      "source": [
        "# Train Decision Tree Regressor\n",
        "clf = clf.fit(X_train,y_train)\n",
        "#Predict the response for test dataset\n",
        "y_pred = clf.predict(X_test)\n",
        "# Model Accuracy, how often is the classifier correct?\n",
        "print(\"Accuracy:\", r2_score(y_test, y_pred))"
      ],
      "metadata": {
        "colab": {
          "base_uri": "https://localhost:8080/"
        },
        "id": "IR-sJHfkZEsn",
        "outputId": "aff0286b-df04-4b89-9f86-876473895c8d"
      },
      "execution_count": null,
      "outputs": [
        {
          "output_type": "stream",
          "name": "stdout",
          "text": [
            "Accuracy: 0.8564065115611599\n"
          ]
        }
      ],
      "id": "IR-sJHfkZEsn"
    },
    {
      "cell_type": "code",
      "source": [
        "plot_learning_curve(best_model, \"Learning Curve For Decision Tree Model\", X_train, y_train, \n",
        "                    axes=None, ylim=None, cv=cv, n_jobs=4)"
      ],
      "metadata": {
        "colab": {
          "base_uri": "https://localhost:8080/",
          "height": 313
        },
        "id": "pW5o3Yr2YPXk",
        "outputId": "0a1d6992-a274-430a-c192-f088bd801a46"
      },
      "execution_count": null,
      "outputs": [
        {
          "output_type": "execute_result",
          "data": {
            "text/plain": [
              "<module 'matplotlib.pyplot' from '/usr/local/lib/python3.7/dist-packages/matplotlib/pyplot.py'>"
            ]
          },
          "metadata": {},
          "execution_count": 208
        },
        {
          "output_type": "display_data",
          "data": {
            "text/plain": [
              "<Figure size 432x288 with 1 Axes>"
            ],
            "image/png": "[encoded data removed]"
          },
          "metadata": {
            "needs_background": "light"
          }
        }
      ],
      "id": "pW5o3Yr2YPXk"
    },
    {
      "cell_type": "code",
      "source": [
        "from sklearn.ensemble import GradientBoostingRegressor"
      ],
      "metadata": {
        "id": "g4vikLvYcg6e"
      },
      "execution_count": 12,
      "outputs": [],
      "id": "g4vikLvYcg6e"
    },
    {
      "cell_type": "code",
      "source": [
        "model_2 = make_pipeline(MinMaxScaler(), GradientBoostingRegressor())"
      ],
      "metadata": {
        "id": "52JFKzvtcevA"
      },
      "execution_count": null,
      "outputs": [],
      "id": "52JFKzvtcevA"
    },
    {
      "cell_type": "code",
      "source": [
        "params={\n",
        "'gradientboostingregressor__n_estimators': [10, 50, 100, 150,\n",
        "200],\n",
        "'gradientboostingregressor__loss': ['squared_error', 'huber',\n",
        "'quantile'],\n",
        "'gradientboostingregressor__criterion': ['friedman_mse',\n",
        "'squared_error']\n",
        "}"
      ],
      "metadata": {
        "id": "Kn7xexfucpTG"
      },
      "execution_count": null,
      "outputs": [],
      "id": "Kn7xexfucpTG"
    },
    {
      "cell_type": "code",
      "source": [
        "# define the cross validation using RepeatedKFold (10 folds 10 repeats)\n",
        "cv = RepeatedKFold(n_splits=10, n_repeats=10, random_state=50)\n",
        "\n",
        "# define the grid search CV \n",
        "clf_2= GridSearchCV(estimator=model_2, param_grid=params, cv=cv)\n",
        "\n",
        "# start training\n",
        "clf_2.fit(X_train, y_train)"
      ],
      "metadata": {
        "colab": {
          "base_uri": "https://localhost:8080/"
        },
        "id": "RyuS_43JctrS",
        "outputId": "c5b0e555-598d-4641-d156-2a3f825bb16c"
      },
      "execution_count": null,
      "outputs": [
        {
          "output_type": "execute_result",
          "data": {
            "text/plain": [
              "GridSearchCV(cv=RepeatedKFold(n_repeats=10, n_splits=10, random_state=50),\n",
              "             estimator=Pipeline(steps=[('minmaxscaler', MinMaxScaler()),\n",
              "                                       ('gradientboostingregressor',\n",
              "                                        GradientBoostingRegressor())]),\n",
              "             param_grid={'gradientboostingregressor__criterion': ['friedman_mse',\n",
              "                                                                  'squared_error'],\n",
              "                         'gradientboostingregressor__loss': ['squared_error',\n",
              "                                                             'huber',\n",
              "                                                             'quantile'],\n",
              "                         'gradientboostingregressor__n_estimators': [10, 50,\n",
              "                                                                     100, 150,\n",
              "                                                                     200]})"
            ]
          },
          "metadata": {},
          "execution_count": 68
        }
      ],
      "id": "RyuS_43JctrS"
    },
    {
      "cell_type": "code",
      "source": [
        "best_model = clf_2.best_estimator_\n",
        "best_model"
      ],
      "metadata": {
        "colab": {
          "base_uri": "https://localhost:8080/"
        },
        "id": "TB8eb8k-jOS9",
        "outputId": "5998d979-cc52-43fa-a170-458a3adc3241"
      },
      "execution_count": null,
      "outputs": [
        {
          "output_type": "execute_result",
          "data": {
            "text/plain": [
              "Pipeline(steps=[('minmaxscaler', MinMaxScaler()),\n",
              "                ('gradientboostingregressor',\n",
              "                 GradientBoostingRegressor(loss='huber', n_estimators=200))])"
            ]
          },
          "metadata": {},
          "execution_count": 69
        }
      ],
      "id": "TB8eb8k-jOS9"
    },
    {
      "cell_type": "code",
      "source": [
        "print(\"Accuracy of the tuned model: %.4f\" %clf_2.best_score_)\n",
        "print(clf_2.best_params_)"
      ],
      "metadata": {
        "colab": {
          "base_uri": "https://localhost:8080/"
        },
        "id": "ovcdLh8UjYaD",
        "outputId": "79a8bec8-94bd-4c79-8164-4d00552d723f"
      },
      "execution_count": null,
      "outputs": [
        {
          "output_type": "stream",
          "name": "stdout",
          "text": [
            "Accuracy of the tuned model: 0.9197\n",
            "{'gradientboostingregressor__criterion': 'friedman_mse', 'gradientboostingregressor__loss': 'huber', 'gradientboostingregressor__n_estimators': 200}\n"
          ]
        }
      ],
      "id": "ovcdLh8UjYaD"
    },
    {
      "cell_type": "code",
      "source": [
        "# Train Decision Tree Regressor\n",
        "clf_2 = clf_2.fit(X_train,y_train)\n",
        "#Predict the response for test dataset\n",
        "y_pred = clf_2.predict(X_test)\n",
        "# Model Accuracy, how often is the classifier correct?\n",
        "print(\"Accuracy:\", r2_score(y_test, y_pred))"
      ],
      "metadata": {
        "colab": {
          "base_uri": "https://localhost:8080/"
        },
        "id": "fXP1yF17jhyn",
        "outputId": "06c707de-0f23-479e-c494-e7773c89e520"
      },
      "execution_count": null,
      "outputs": [
        {
          "output_type": "stream",
          "name": "stdout",
          "text": [
            "Accuracy: 0.9033014417330727\n"
          ]
        }
      ],
      "id": "fXP1yF17jhyn"
    },
    {
      "cell_type": "code",
      "execution_count": null,
      "metadata": {
        "colab": {
          "base_uri": "https://localhost:8080/",
          "height": 313
        },
        "id": "eb505175",
        "outputId": "c26641db-ba84-46c5-bef3-21aa0c4f11b2"
      },
      "outputs": [
        {
          "data": {
            "text/plain": [
              "<module 'matplotlib.pyplot' from '/usr/local/lib/python3.7/dist-packages/matplotlib/pyplot.py'>"
            ]
          },
          "execution_count": null,
          "metadata": {},
          "output_type": "execute_result"
        },
        {
          "data": {
            "image/png": "[encoded data removed]",
            "text/plain": [
              "<Figure size 432x288 with 1 Axes>"
            ]
          },
          "metadata": {},
          "output_type": "display_data"
        }
      ],
      "source": [
        "plot_learning_curve(best_model, \"Learning Curve For Decision Tree Model\", X_train, y_train, \n",
        "                    axes=None, ylim=None, cv=cv, n_jobs=4)"
      ],
      "id": "eb505175"
    },
    {
      "cell_type": "code",
      "source": [
        "from sklearn.model_selection import cross_val_score\n",
        "# function to get cross validation scores\n",
        "def get_cv_scores(model):\n",
        "    scores = cross_val_score(model,\n",
        "                             X_train,\n",
        "                             y_train,\n",
        "                             cv=5,\n",
        "                             scoring='r2')\n",
        "    \n",
        "    print('CV Mean: ', np.mean(scores))\n",
        "    print('STD: ', np.std(scores))\n",
        "    print('\\n')"
      ],
      "metadata": {
        "id": "yownnR1V3UKs"
      },
      "execution_count": null,
      "outputs": [],
      "id": "yownnR1V3UKs"
    },
    {
      "cell_type": "code",
      "source": [
        "from sklearn.linear_model import LinearRegression\n",
        "# Train model\n",
        "lr = LinearRegression().fit(X_train, y_train)\n",
        "# get cross val scores\n",
        "get_cv_scores(lr)"
      ],
      "metadata": {
        "colab": {
          "base_uri": "https://localhost:8080/"
        },
        "id": "ZfxjBj4pDNo5",
        "outputId": "f25823b7-b4da-4a2a-d845-de31ff4910d5"
      },
      "execution_count": null,
      "outputs": [
        {
          "output_type": "stream",
          "name": "stdout",
          "text": [
            "CV Mean:  0.8247862268707042\n",
            "STD:  0.012991513691012833\n",
            "\n",
            "\n"
          ]
        }
      ],
      "id": "ZfxjBj4pDNo5"
    },
    {
      "cell_type": "code",
      "source": [
        "from sklearn.linear_model import Ridge\n",
        "# Train model with default alpha=1\n",
        "ridge = Ridge(alpha=1).fit(X_train, y_train)\n",
        "# get cross val scores\n",
        "get_cv_scores(ridge)"
      ],
      "metadata": {
        "colab": {
          "base_uri": "https://localhost:8080/"
        },
        "id": "ZDyn183RD5Fp",
        "outputId": "7354b032-5614-4225-ba93-e2d3d6397905"
      },
      "execution_count": null,
      "outputs": [
        {
          "output_type": "stream",
          "name": "stdout",
          "text": [
            "CV Mean:  0.8187004773627168\n",
            "STD:  0.011836614558360293\n",
            "\n",
            "\n"
          ]
        }
      ],
      "id": "ZDyn183RD5Fp"
    },
    {
      "cell_type": "code",
      "source": [
        "\n",
        "cv = RepeatedKFold(n_splits=10, n_repeats=10, random_state=50)"
      ],
      "metadata": {
        "id": "7DYxtRc83flp"
      },
      "execution_count": null,
      "outputs": [],
      "id": "7DYxtRc83flp"
    },
    {
      "cell_type": "code",
      "source": [
        "# find optimal alpha with grid search\n",
        "alpha = [0.001, 0.01, 0.1, 1, 10, 100, 1000]\n",
        "param_grid = dict(alpha=alpha)\n",
        "grid = GridSearchCV(estimator=ridge, param_grid=param_grid, scoring='r2', verbose=0,cv=cv)\n",
        "grid_resultrd = grid.fit(X_train, y_train)\n",
        "print('Best Score: ', grid_resultrd.best_score_)\n",
        "print('Best Params: ', grid_resultrd.best_params_)"
      ],
      "metadata": {
        "id": "vmnrvdOwD_in"
      },
      "execution_count": null,
      "outputs": [],
      "id": "vmnrvdOwD_in"
    },
    {
      "cell_type": "code",
      "source": [
        "from sklearn.linear_model import Lasso\n",
        "# Train model with default alpha=1\n",
        "lasso = Lasso(alpha=1).fit(X_train, y_train)\n",
        "# get cross val scores\n",
        "get_cv_scores(lasso)"
      ],
      "metadata": {
        "colab": {
          "base_uri": "https://localhost:8080/"
        },
        "id": "YMgHe6F9ELwy",
        "outputId": "052fcc10-63b8-404f-cd1c-b95ae0d2409c"
      },
      "execution_count": null,
      "outputs": [
        {
          "output_type": "stream",
          "name": "stderr",
          "text": [
            "/usr/local/lib/python3.7/dist-packages/sklearn/linear_model/_coordinate_descent.py:648: ConvergenceWarning: Objective did not converge. You might want to increase the number of iterations, check the scale of the features or consider increasing regularisation. Duality gap: 1.182e+10, tolerance: 1.383e+07\n",
            "  coef_, l1_reg, l2_reg, X, y, max_iter, tol, rng, random, positive\n",
            "/usr/local/lib/python3.7/dist-packages/sklearn/linear_model/_coordinate_descent.py:648: ConvergenceWarning: Objective did not converge. You might want to increase the number of iterations, check the scale of the features or consider increasing regularisation. Duality gap: 9.221e+09, tolerance: 1.062e+07\n",
            "  coef_, l1_reg, l2_reg, X, y, max_iter, tol, rng, random, positive\n",
            "/usr/local/lib/python3.7/dist-packages/sklearn/linear_model/_coordinate_descent.py:648: ConvergenceWarning: Objective did not converge. You might want to increase the number of iterations, check the scale of the features or consider increasing regularisation. Duality gap: 9.305e+09, tolerance: 1.085e+07\n",
            "  coef_, l1_reg, l2_reg, X, y, max_iter, tol, rng, random, positive\n",
            "/usr/local/lib/python3.7/dist-packages/sklearn/linear_model/_coordinate_descent.py:648: ConvergenceWarning: Objective did not converge. You might want to increase the number of iterations, check the scale of the features or consider increasing regularisation. Duality gap: 9.495e+09, tolerance: 1.117e+07\n",
            "  coef_, l1_reg, l2_reg, X, y, max_iter, tol, rng, random, positive\n"
          ]
        },
        {
          "output_type": "stream",
          "name": "stdout",
          "text": [
            "CV Mean:  0.8184181684284729\n",
            "STD:  0.012226525260857966\n",
            "\n",
            "\n"
          ]
        },
        {
          "output_type": "stream",
          "name": "stderr",
          "text": [
            "/usr/local/lib/python3.7/dist-packages/sklearn/linear_model/_coordinate_descent.py:648: ConvergenceWarning: Objective did not converge. You might want to increase the number of iterations, check the scale of the features or consider increasing regularisation. Duality gap: 9.444e+09, tolerance: 1.134e+07\n",
            "  coef_, l1_reg, l2_reg, X, y, max_iter, tol, rng, random, positive\n",
            "/usr/local/lib/python3.7/dist-packages/sklearn/linear_model/_coordinate_descent.py:648: ConvergenceWarning: Objective did not converge. You might want to increase the number of iterations, check the scale of the features or consider increasing regularisation. Duality gap: 9.453e+09, tolerance: 1.135e+07\n",
            "  coef_, l1_reg, l2_reg, X, y, max_iter, tol, rng, random, positive\n"
          ]
        }
      ],
      "id": "YMgHe6F9ELwy"
    },
    {
      "cell_type": "code",
      "execution_count": null,
      "metadata": {
        "id": "1a023a89"
      },
      "outputs": [],
      "source": [
        "from sklearn.pipeline import make_pipeline\n"
      ],
      "id": "1a023a89"
    },
    {
      "cell_type": "code",
      "source": [
        "model_lasso=make_pipeline(MinMaxScaler(), Lasso())\n",
        "model_ridge = make_pipeline(MinMaxScaler(), Ridge())"
      ],
      "metadata": {
        "id": "2aVooD8L7di8"
      },
      "execution_count": null,
      "outputs": [],
      "id": "2aVooD8L7di8"
    },
    {
      "cell_type": "code",
      "source": [
        "param_grid = {'lasso__alpha': [0.001, 0.01, 0.1, 1, 10, 100, 1000]}"
      ],
      "metadata": {
        "id": "jXjjvmTx5pn8"
      },
      "execution_count": null,
      "outputs": [],
      "id": "jXjjvmTx5pn8"
    },
    {
      "cell_type": "code",
      "source": [
        "import warnings\n",
        "warnings.filterwarnings(\"ignore\")"
      ],
      "metadata": {
        "id": "LUXN1cns6EQ4"
      },
      "execution_count": null,
      "outputs": [],
      "id": "LUXN1cns6EQ4"
    },
    {
      "cell_type": "code",
      "source": [
        "\n",
        "grid_lasso = GridSearchCV(estimator=model_lasso, param_grid=param_grid,  cv=cv)\n",
        "grid_lasso.fit(X_train, y_train)\n",
        "print('Best Score: ', grid_lasso.best_score_)\n",
        "print('Best Params: ', grid_lasso.best_params_)"
      ],
      "metadata": {
        "colab": {
          "base_uri": "https://localhost:8080/"
        },
        "id": "sXk7ELOZEPMa",
        "outputId": "5112d2ce-8a46-47c0-aed2-138c447c5ab7"
      },
      "execution_count": null,
      "outputs": [
        {
          "output_type": "stream",
          "name": "stdout",
          "text": [
            "Best Score:  0.8173928430913218\n",
            "Best Params:  {'lasso__alpha': 0.01}\n"
          ]
        }
      ],
      "id": "sXk7ELOZEPMa"
    },
    {
      "cell_type": "code",
      "source": [
        "plot_learning_curve(grid_lasso, \"Learning Curve for Lasso\",X = X_train, y = y_train, cv = cv)"
      ],
      "metadata": {
        "colab": {
          "base_uri": "https://localhost:8080/",
          "height": 313
        },
        "id": "jZQ6FKtH41ON",
        "outputId": "49807c9c-076d-41ac-f10b-7919241ac4d4"
      },
      "execution_count": null,
      "outputs": [
        {
          "output_type": "execute_result",
          "data": {
            "text/plain": [
              "<module 'matplotlib.pyplot' from '/usr/local/lib/python3.7/dist-packages/matplotlib/pyplot.py'>"
            ]
          },
          "metadata": {},
          "execution_count": 42
        },
        {
          "output_type": "display_data",
          "data": {
            "text/plain": [
              "<Figure size 432x288 with 1 Axes>"
            ],
            "image/png": "[encoded data removed]"
          },
          "metadata": {
            "needs_background": "light"
          }
        }
      ],
      "id": "jZQ6FKtH41ON"
    },
    {
      "cell_type": "code",
      "source": [
        "param_grid = {'ridge__alpha': [0.001, 0.01, 0.1, 1, 10, 100, 1000]}"
      ],
      "metadata": {
        "id": "u5nRnC5ad96k"
      },
      "id": "u5nRnC5ad96k",
      "execution_count": null,
      "outputs": []
    },
    {
      "cell_type": "code",
      "source": [
        "\n",
        "grid_ridge = GridSearchCV(estimator=model_ridge, param_grid=param_grid,  cv=cv)\n",
        "grid_ridge.fit(X_train, y_train)\n",
        "print('Best Score: ', grid_ridge.best_score_)\n",
        "print('Best Params: ', grid_ridge.best_params_)"
      ],
      "metadata": {
        "colab": {
          "base_uri": "https://localhost:8080/"
        },
        "outputId": "1e74bfa9-565f-48c0-903b-bc5a5a2ea789",
        "id": "axnqhoe4dwcp"
      },
      "execution_count": null,
      "outputs": [
        {
          "output_type": "stream",
          "name": "stdout",
          "text": [
            "Best Score:  0.8228387121657863\n",
            "Best Params:  {'ridge__alpha': 0.001}\n"
          ]
        }
      ],
      "id": "axnqhoe4dwcp"
    },
    {
      "cell_type": "code",
      "source": [
        "plot_learning_curve(grid_ridge, \"Learning Curve for Ridge\",X = X_train, y = y_train, cv = cv)"
      ],
      "metadata": {
        "colab": {
          "base_uri": "https://localhost:8080/",
          "height": 313
        },
        "outputId": "20afdded-96fa-4b3f-c664-ed538f7c74a9",
        "id": "0Lrt4IBbdwcq"
      },
      "execution_count": null,
      "outputs": [
        {
          "output_type": "execute_result",
          "data": {
            "text/plain": [
              "<module 'matplotlib.pyplot' from '/usr/local/lib/python3.7/dist-packages/matplotlib/pyplot.py'>"
            ]
          },
          "metadata": {},
          "execution_count": 23
        },
        {
          "output_type": "display_data",
          "data": {
            "text/plain": [
              "<Figure size 432x288 with 1 Axes>"
            ],
            "image/png": "[encoded data removed]"
          },
          "metadata": {
            "needs_background": "light"
          }
        }
      ],
      "id": "0Lrt4IBbdwcq"
    },
    {
      "cell_type": "code",
      "source": [
        "from sklearn.ensemble import RandomForestRegressor"
      ],
      "metadata": {
        "id": "A-D_8SUW4_C4"
      },
      "execution_count": 9,
      "outputs": [],
      "id": "A-D_8SUW4_C4"
    },
    {
      "cell_type": "code",
      "source": [
        "params = {\n",
        "    'svr': {\n",
        "'svr__kernel' : [\"linear\", \"rbf\", \"sigmoid\"],'svr__C' : [1,10],\n",
        "},\n",
        "'decision_tree': {\n",
        " \"decisiontreeregressor__max_leaf_nodes\": [5, 20, 100],\n",
        "                      \"decisiontreeregressor__min_samples_leaf\": [20, 40, 100],\n",
        "                   \"decisiontreeregressor__min_samples_split\": [10, 20, 40],\n",
        "                  'decisiontreeregressor__criterion': ['squared_error','friedman_mse', 'absolute_error', 'poisson'],\n",
        "  'decisiontreeregressor__max_depth': [10,  40, 100],\n",
        "  },\n",
        "'randomforest': {\n",
        " 'randomforestregressor__max_depth' : [10, 20, 30],\n",
        "                      'randomforestregressor__max_features':['auto', 'sqrt', 'log2'],\n",
        "                   'randomforestregressor__n_estimators' : [10, 20, 100],\n",
        "},\n",
        "'gradient_boosting': {'gradientboostingregressor__n_estimators': [10, 100,\n",
        "200],\n",
        "'gradientboostingregressor__loss': ['squared_error', 'huber',\n",
        "'quantile'],\n",
        "'gradientboostingregressor__criterion': ['friedman_mse',\n",
        "'squared_error']\n",
        "\n",
        "}\n",
        "}"
      ],
      "metadata": {
        "id": "tfr41BKO5M_g"
      },
      "execution_count": 10,
      "outputs": [],
      "id": "tfr41BKO5M_g"
    },
    {
      "cell_type": "code",
      "source": [
        "param_grid = {'svr__C': [0.1,1, 10, 100], 'svr__gamma': [1,0.1,0.01,0.001],'svr__kernel': ['rbf', 'poly', 'sigmoid']}"
      ],
      "metadata": {
        "id": "8i0tRPi0YKhw"
      },
      "execution_count": 14,
      "outputs": [],
      "id": "8i0tRPi0YKhw"
    },
    {
      "cell_type": "code",
      "source": [
        "model_svr=make_pipeline(MinMaxScaler(),SVR())\n",
        "model_rfr=make_pipeline(MinMaxScaler(), RandomForestRegressor())\n",
        "model_dtr=make_pipeline(MinMaxScaler(), DecisionTreeRegressor())\n",
        "model_gb=make_pipeline(MinMaxScaler(), GradientBoostingRegressor())"
      ],
      "metadata": {
        "id": "85yipeZ7tlJU"
      },
      "id": "85yipeZ7tlJU",
      "execution_count": 13,
      "outputs": []
    },
    {
      "cell_type": "code",
      "source": [
        "from sklearn.model_selection import RandomizedSearchCV"
      ],
      "metadata": {
        "id": "gbEtH9h21Gjs"
      },
      "id": "gbEtH9h21Gjs",
      "execution_count": 16,
      "outputs": []
    },
    {
      "cell_type": "code",
      "source": [
        "rd_svr=RandomizedSearchCV(model_svr,param_grid,scoring='neg_mean_absolute_error')\n",
        "rd_svr.fit(X_train,y_train)"
      ],
      "metadata": {
        "colab": {
          "base_uri": "https://localhost:8080/"
        },
        "id": "frEb26vn0mbG",
        "outputId": "409cfde4-9015-4f6e-9532-7e9d5c6a4712"
      },
      "id": "frEb26vn0mbG",
      "execution_count": 17,
      "outputs": [
        {
          "output_type": "execute_result",
          "data": {
            "text/plain": [
              "RandomizedSearchCV(estimator=Pipeline(steps=[('minmaxscaler', MinMaxScaler()),\n",
              "                                             ('svr', SVR())]),\n",
              "                   param_distributions={'svr__C': [0.1, 1, 10, 100],\n",
              "                                        'svr__gamma': [1, 0.1, 0.01, 0.001],\n",
              "                                        'svr__kernel': ['rbf', 'poly',\n",
              "                                                        'sigmoid']},\n",
              "                   scoring='neg_mean_absolute_error')"
            ]
          },
          "metadata": {},
          "execution_count": 17
        }
      ]
    },
    {
      "cell_type": "code",
      "source": [
        "rd_svr.best_params_"
      ],
      "metadata": {
        "colab": {
          "base_uri": "https://localhost:8080/"
        },
        "id": "vyJb4VyP1hZz",
        "outputId": "c8e1f1e1-ae2c-411b-f9d7-0ae5043e2121"
      },
      "id": "vyJb4VyP1hZz",
      "execution_count": 18,
      "outputs": [
        {
          "output_type": "execute_result",
          "data": {
            "text/plain": [
              "{'svr__C': 100, 'svr__gamma': 1, 'svr__kernel': 'poly'}"
            ]
          },
          "metadata": {},
          "execution_count": 18
        }
      ]
    },
    {
      "cell_type": "code",
      "source": [
        "rd_svr.best_score_"
      ],
      "metadata": {
        "id": "uCATgy2G28Fv"
      },
      "id": "uCATgy2G28Fv",
      "execution_count": null,
      "outputs": []
    },
    {
      "cell_type": "code",
      "source": [
        "gd_svr=GridSearchCV(model_svr,param_grid,scoring='neg_mean_absolute_error')\n",
        "gd_svr.fit(X_train,y_train)\n",
        "gd_svr.best_params_"
      ],
      "metadata": {
        "colab": {
          "base_uri": "https://localhost:8080/"
        },
        "id": "Ox6qMHEo1ouv",
        "outputId": "0434cae3-60f3-421f-ce1a-9102090f6c63"
      },
      "id": "Ox6qMHEo1ouv",
      "execution_count": 20,
      "outputs": [
        {
          "output_type": "execute_result",
          "data": {
            "text/plain": [
              "{'svr__C': 100, 'svr__gamma': 1, 'svr__kernel': 'poly'}"
            ]
          },
          "metadata": {},
          "execution_count": 20
        }
      ]
    },
    {
      "cell_type": "code",
      "source": [
        "gd_svr.best_score_"
      ],
      "metadata": {
        "colab": {
          "base_uri": "https://localhost:8080/"
        },
        "id": "wrxqGHuE26RI",
        "outputId": "c7da92f7-3a9b-4b75-bd4f-fa7bcf0a46d2"
      },
      "id": "wrxqGHuE26RI",
      "execution_count": 27,
      "outputs": [
        {
          "output_type": "execute_result",
          "data": {
            "text/plain": [
              "-2167.805157746211"
            ]
          },
          "metadata": {},
          "execution_count": 27
        }
      ]
    },
    {
      "cell_type": "code",
      "execution_count": null,
      "metadata": {
        "id": "315943a5",
        "colab": {
          "base_uri": "https://localhost:8080/"
        },
        "outputId": "63768abc-491c-442a-ef65-23cb673567d4"
      },
      "outputs": [
        {
          "output_type": "execute_result",
          "data": {
            "text/plain": [
              "GridSearchCV(cv=RepeatedKFold(n_repeats=10, n_splits=10, random_state=42),\n",
              "             estimator=Pipeline(steps=[('minmaxscaler', MinMaxScaler()),\n",
              "                                       ('svr', SVR())]),\n",
              "             param_grid={'svr__C': [0.1, 1, 10, 100],\n",
              "                         'svr__gamma': [1, 0.1, 0.01, 0.001],\n",
              "                         'svr__kernel': ['rbf', 'poly', 'sigmoid']})"
            ]
          },
          "metadata": {},
          "execution_count": 75
        }
      ],
      "source": [
        "# svr\n",
        "# SVR\n",
        "clf_svr = GridSearchCV(estimator=model_svr, param_grid=param_grid, cv=cv)\n",
        "\n",
        "# start training\n",
        "clf_svr.fit(X_train, y_train)"
      ],
      "id": "315943a5"
    },
    {
      "cell_type": "code",
      "source": [
        "rd_dtr=RandomizedSearchCV(model_dtr,params['decision_tree'],scoring='neg_mean_absolute_error')\n",
        "rd_dtr.fit(X_train,y_train)\n",
        "rd_dtr.best_params_"
      ],
      "metadata": {
        "colab": {
          "base_uri": "https://localhost:8080/"
        },
        "id": "qAalJSYS2J6i",
        "outputId": "53d4ea93-8006-433a-977a-c9b2f4f4bdbd"
      },
      "id": "qAalJSYS2J6i",
      "execution_count": 21,
      "outputs": [
        {
          "output_type": "execute_result",
          "data": {
            "text/plain": [
              "{'decisiontreeregressor__criterion': 'squared_error',\n",
              " 'decisiontreeregressor__max_depth': 10,\n",
              " 'decisiontreeregressor__max_leaf_nodes': 100,\n",
              " 'decisiontreeregressor__min_samples_leaf': 20,\n",
              " 'decisiontreeregressor__min_samples_split': 40}"
            ]
          },
          "metadata": {},
          "execution_count": 21
        }
      ]
    },
    {
      "cell_type": "code",
      "source": [
        "gd_dtr=GridSearchCV(model_dtr,params['decision_tree'],scoring='neg_mean_absolute_error')\n",
        "gd_dtr.fit(X_train,y_train)\n",
        "gd_dtr.best_params_"
      ],
      "metadata": {
        "colab": {
          "base_uri": "https://localhost:8080/"
        },
        "id": "4Ui_mfDE2SRE",
        "outputId": "c6293edf-befe-42f1-93a7-3ec5cc242ae8"
      },
      "id": "4Ui_mfDE2SRE",
      "execution_count": 22,
      "outputs": [
        {
          "output_type": "execute_result",
          "data": {
            "text/plain": [
              "{'decisiontreeregressor__criterion': 'absolute_error',\n",
              " 'decisiontreeregressor__max_depth': 100,\n",
              " 'decisiontreeregressor__max_leaf_nodes': 100,\n",
              " 'decisiontreeregressor__min_samples_leaf': 20,\n",
              " 'decisiontreeregressor__min_samples_split': 40}"
            ]
          },
          "metadata": {},
          "execution_count": 22
        }
      ]
    },
    {
      "cell_type": "code",
      "source": [
        "rd_dtr.best_score_"
      ],
      "metadata": {
        "colab": {
          "base_uri": "https://localhost:8080/"
        },
        "id": "xdplcJdL29YL",
        "outputId": "14a7dd0b-f087-4b3e-bb6e-a9de96007996"
      },
      "id": "xdplcJdL29YL",
      "execution_count": 28,
      "outputs": [
        {
          "output_type": "execute_result",
          "data": {
            "text/plain": [
              "-2004.2780063734783"
            ]
          },
          "metadata": {},
          "execution_count": 28
        }
      ]
    },
    {
      "cell_type": "code",
      "source": [
        "gd_dtr.best_score_"
      ],
      "metadata": {
        "colab": {
          "base_uri": "https://localhost:8080/"
        },
        "id": "DYoCorzE2__R",
        "outputId": "f9d0f0d2-8483-44db-fd58-8b78015db055"
      },
      "id": "DYoCorzE2__R",
      "execution_count": 29,
      "outputs": [
        {
          "output_type": "execute_result",
          "data": {
            "text/plain": [
              "-1866.0947242206234"
            ]
          },
          "metadata": {},
          "execution_count": 29
        }
      ]
    },
    {
      "cell_type": "code",
      "execution_count": null,
      "metadata": {
        "scrolled": false,
        "id": "93da15ff",
        "colab": {
          "base_uri": "https://localhost:8080/"
        },
        "outputId": "237cd296-bf49-4d43-b4c5-759103447d42"
      },
      "outputs": [
        {
          "output_type": "execute_result",
          "data": {
            "text/plain": [
              "GridSearchCV(cv=RepeatedKFold(n_repeats=10, n_splits=10, random_state=42),\n",
              "             estimator=Pipeline(steps=[('minmaxscaler', MinMaxScaler()),\n",
              "                                       ('decisiontreeregressor',\n",
              "                                        DecisionTreeRegressor())]),\n",
              "             param_grid={'decisiontreeregressor__criterion': ['squared_error',\n",
              "                                                              'friedman_mse',\n",
              "                                                              'absolute_error',\n",
              "                                                              'poisson'],\n",
              "                         'decisiontreeregressor__max_depth': [10, 40, 100],\n",
              "                         'decisiontreeregressor__max_leaf_nodes': [5, 20, 100],\n",
              "                         'decisiontreeregressor__min_samples_leaf': [20, 40,\n",
              "                                                                     100],\n",
              "                         'decisiontreeregressor__min_samples_split': [10, 20,\n",
              "                                                                      40]})"
            ]
          },
          "metadata": {},
          "execution_count": 21
        }
      ],
      "source": [
        "# Decision trees\n",
        "clf_dtr = GridSearchCV(estimator=model_dtr, param_grid=params['decision_tree'], cv=cv)\n",
        "\n",
        "# start training\n",
        "clf_dtr.fit(X_train, y_train)"
      ],
      "id": "93da15ff"
    },
    {
      "cell_type": "code",
      "source": [
        "rd_rfr=RandomizedSearchCV(model_rfr,params['randomforest'],scoring='neg_mean_absolute_error')\n",
        "rd_rfr.fit(X_train,y_train)\n",
        "rd_rfr.best_params_"
      ],
      "metadata": {
        "colab": {
          "base_uri": "https://localhost:8080/"
        },
        "id": "Rk8hg-022YbD",
        "outputId": "eb910156-e6b5-449a-aed5-6c09d9a3f8b3"
      },
      "id": "Rk8hg-022YbD",
      "execution_count": 23,
      "outputs": [
        {
          "output_type": "execute_result",
          "data": {
            "text/plain": [
              "{'randomforestregressor__max_depth': 20,\n",
              " 'randomforestregressor__max_features': 'auto',\n",
              " 'randomforestregressor__n_estimators': 20}"
            ]
          },
          "metadata": {},
          "execution_count": 23
        }
      ]
    },
    {
      "cell_type": "code",
      "source": [
        "gd_rfr=GridSearchCV(model_rfr,params['randomforest'],scoring='neg_mean_absolute_error')\n",
        "gd_rfr.fit(X_train,y_train)\n",
        "gd_rfr.best_params_"
      ],
      "metadata": {
        "colab": {
          "base_uri": "https://localhost:8080/"
        },
        "id": "L6Pc6_AE2fpI",
        "outputId": "3f36716f-9a6f-429f-a859-faafd2ac1ead"
      },
      "id": "L6Pc6_AE2fpI",
      "execution_count": 24,
      "outputs": [
        {
          "output_type": "execute_result",
          "data": {
            "text/plain": [
              "{'randomforestregressor__max_depth': 20,\n",
              " 'randomforestregressor__max_features': 'auto',\n",
              " 'randomforestregressor__n_estimators': 100}"
            ]
          },
          "metadata": {},
          "execution_count": 24
        }
      ]
    },
    {
      "cell_type": "code",
      "source": [
        "rd_rfr.best_score_"
      ],
      "metadata": {
        "colab": {
          "base_uri": "https://localhost:8080/"
        },
        "id": "eRhWhfCH3Co7",
        "outputId": "008634a0-4ab2-4b9d-fb1f-775d9503c795"
      },
      "id": "eRhWhfCH3Co7",
      "execution_count": 30,
      "outputs": [
        {
          "output_type": "execute_result",
          "data": {
            "text/plain": [
              "-1353.5315621271097"
            ]
          },
          "metadata": {},
          "execution_count": 30
        }
      ]
    },
    {
      "cell_type": "code",
      "source": [
        "gd_rfr.best_score_"
      ],
      "metadata": {
        "colab": {
          "base_uri": "https://localhost:8080/"
        },
        "id": "itsTbCql3D8j",
        "outputId": "359c32f0-5fac-4c90-b7b3-7989f8b64dfd"
      },
      "id": "itsTbCql3D8j",
      "execution_count": 31,
      "outputs": [
        {
          "output_type": "execute_result",
          "data": {
            "text/plain": [
              "-1298.4228029756032"
            ]
          },
          "metadata": {},
          "execution_count": 31
        }
      ]
    },
    {
      "cell_type": "code",
      "execution_count": null,
      "metadata": {
        "id": "591d0b13",
        "colab": {
          "base_uri": "https://localhost:8080/"
        },
        "outputId": "77cc8755-4318-4592-eac6-1fb99bb4fa6b"
      },
      "outputs": [
        {
          "output_type": "execute_result",
          "data": {
            "text/plain": [
              "GridSearchCV(cv=RepeatedKFold(n_repeats=10, n_splits=10, random_state=42),\n",
              "             estimator=Pipeline(steps=[('minmaxscaler', MinMaxScaler()),\n",
              "                                       ('randomforestregressor',\n",
              "                                        RandomForestRegressor())]),\n",
              "             param_grid={'randomforestregressor__max_depth': [10, 20, 30],\n",
              "                         'randomforestregressor__max_features': ['auto', 'sqrt',\n",
              "                                                                 'log2'],\n",
              "                         'randomforestregressor__n_estimators': [10, 20, 100]})"
            ]
          },
          "metadata": {},
          "execution_count": 33
        }
      ],
      "source": [
        "# Random Forest\n",
        "clf_rfr = GridSearchCV(estimator=model_rfr, param_grid=params['randomforest'], cv=cv)\n",
        "\n",
        "# start training\n",
        "clf_rfr.fit(X_train, y_train)"
      ],
      "id": "591d0b13"
    },
    {
      "cell_type": "code",
      "source": [
        "rd_gb=RandomizedSearchCV(model_gb,params['gradient_boosting'],scoring='neg_mean_absolute_error')\n",
        "rd_gb.fit(X_train,y_train)\n",
        "rd_gb.best_params_"
      ],
      "metadata": {
        "colab": {
          "base_uri": "https://localhost:8080/"
        },
        "id": "aRB-RgoF2ikI",
        "outputId": "3111b9de-f626-4580-ae2e-16492be50526"
      },
      "id": "aRB-RgoF2ikI",
      "execution_count": 25,
      "outputs": [
        {
          "output_type": "execute_result",
          "data": {
            "text/plain": [
              "{'gradientboostingregressor__criterion': 'friedman_mse',\n",
              " 'gradientboostingregressor__loss': 'huber',\n",
              " 'gradientboostingregressor__n_estimators': 200}"
            ]
          },
          "metadata": {},
          "execution_count": 25
        }
      ]
    },
    {
      "cell_type": "code",
      "source": [
        "gd_gb=GridSearchCV(model_gb,params['gradient_boosting'],scoring='neg_mean_absolute_error')\n",
        "gd_gb.fit(X_train,y_train)\n",
        "gd_gb.best_params_"
      ],
      "metadata": {
        "colab": {
          "base_uri": "https://localhost:8080/"
        },
        "id": "CHcjCt932o9t",
        "outputId": "16e5ad82-1c3f-472d-de2d-e598a9314743"
      },
      "id": "CHcjCt932o9t",
      "execution_count": 26,
      "outputs": [
        {
          "output_type": "execute_result",
          "data": {
            "text/plain": [
              "{'gradientboostingregressor__criterion': 'friedman_mse',\n",
              " 'gradientboostingregressor__loss': 'huber',\n",
              " 'gradientboostingregressor__n_estimators': 200}"
            ]
          },
          "metadata": {},
          "execution_count": 26
        }
      ]
    },
    {
      "cell_type": "code",
      "source": [
        "rd_gb.best_score_"
      ],
      "metadata": {
        "colab": {
          "base_uri": "https://localhost:8080/"
        },
        "id": "yKSRr5YH3FbM",
        "outputId": "1e68cd2f-ea27-4806-81ae-a1fcb794763e"
      },
      "id": "yKSRr5YH3FbM",
      "execution_count": 32,
      "outputs": [
        {
          "output_type": "execute_result",
          "data": {
            "text/plain": [
              "-1477.593801758821"
            ]
          },
          "metadata": {},
          "execution_count": 32
        }
      ]
    },
    {
      "cell_type": "code",
      "source": [
        "gd_gb.best_score_"
      ],
      "metadata": {
        "colab": {
          "base_uri": "https://localhost:8080/"
        },
        "id": "xq-RjcCN3HRB",
        "outputId": "96d74b9a-dfed-400c-8475-fe90a2335e56"
      },
      "id": "xq-RjcCN3HRB",
      "execution_count": 33,
      "outputs": [
        {
          "output_type": "execute_result",
          "data": {
            "text/plain": [
              "-1461.186792627591"
            ]
          },
          "metadata": {},
          "execution_count": 33
        }
      ]
    },
    {
      "cell_type": "code",
      "source": [
        "# Gradient Boosting\n",
        "clf_gb = GridSearchCV(estimator=model_gb, param_grid=params['gradient_boosting'], cv=cv)\n",
        "\n",
        "# start training\n",
        "clf_gb.fit(X_train, y_train)"
      ],
      "metadata": {
        "colab": {
          "base_uri": "https://localhost:8080/"
        },
        "id": "lLL0RQtixgrt",
        "outputId": "68640bd8-885c-4e03-f24a-74b142b3746c"
      },
      "execution_count": null,
      "outputs": [
        {
          "output_type": "execute_result",
          "data": {
            "text/plain": [
              "GridSearchCV(cv=RepeatedKFold(n_repeats=10, n_splits=10, random_state=42),\n",
              "             estimator=Pipeline(steps=[('minmaxscaler', MinMaxScaler()),\n",
              "                                       ('gradientboostingregressor',\n",
              "                                        GradientBoostingRegressor())]),\n",
              "             param_grid={'gradientboostingregressor__criterion': ['friedman_mse',\n",
              "                                                                  'squared_error'],\n",
              "                         'gradientboostingregressor__loss': ['squared_error',\n",
              "                                                             'huber',\n",
              "                                                             'quantile'],\n",
              "                         'gradientboostingregressor__n_estimators': [10, 100,\n",
              "                                                                     200]})"
            ]
          },
          "metadata": {},
          "execution_count": 34
        }
      ],
      "id": "lLL0RQtixgrt"
    },
    {
      "cell_type": "code",
      "execution_count": null,
      "metadata": {
        "id": "df72fdcc"
      },
      "outputs": [],
      "source": [
        "def transform_params(best_params):\n",
        "    new_best_params = {}\n",
        "    for k, v in best_params.items():\n",
        "        new_k = k.split(\"__\")[1]\n",
        "        new_best_params[new_k] = v\n",
        "    return new_best_params"
      ],
      "id": "df72fdcc"
    },
    {
      "cell_type": "code",
      "execution_count": null,
      "metadata": {
        "id": "97c9a77a",
        "outputId": "70c2731b-af4d-4c69-8f39-5cf1b3995ebf",
        "colab": {
          "base_uri": "https://localhost:8080/"
        }
      },
      "outputs": [
        {
          "output_type": "stream",
          "name": "stdout",
          "text": [
            "{'C': 100, 'gamma': 1, 'kernel': 'poly'}\n"
          ]
        }
      ],
      "source": [
        "best_svr=transform_params(clf_svr.best_params_)\n",
        "print(best_svr)"
      ],
      "id": "97c9a77a"
    },
    {
      "cell_type": "code",
      "execution_count": null,
      "metadata": {
        "id": "0e46ca23",
        "colab": {
          "base_uri": "https://localhost:8080/"
        },
        "outputId": "f72aa231-2c7f-444d-9edf-c2beb98eba30"
      },
      "outputs": [
        {
          "output_type": "stream",
          "name": "stdout",
          "text": [
            "{'max_depth': 30, 'max_features': 'auto', 'n_estimators': 100}\n"
          ]
        }
      ],
      "source": [
        "best_rf=transform_params(clf_rfr.best_params_)\n",
        "print(best_rf)"
      ],
      "id": "0e46ca23"
    },
    {
      "cell_type": "code",
      "execution_count": null,
      "metadata": {
        "id": "d2744747",
        "colab": {
          "base_uri": "https://localhost:8080/"
        },
        "outputId": "179ca6ec-7c9c-49e3-f324-f17e811aa079"
      },
      "outputs": [
        {
          "output_type": "stream",
          "name": "stdout",
          "text": [
            "{'criterion': 'squared_error', 'max_depth': 100, 'max_leaf_nodes': 100, 'min_samples_leaf': 20, 'min_samples_split': 20}\n"
          ]
        }
      ],
      "source": [
        "best_dt=transform_params(clf_dtr.best_params_)\n",
        "print(best_dt)"
      ],
      "id": "d2744747"
    },
    {
      "cell_type": "code",
      "source": [
        "best_gb=transform_params(clf_gb.best_params_)\n",
        "print(best_gb)"
      ],
      "metadata": {
        "colab": {
          "base_uri": "https://localhost:8080/"
        },
        "id": "XNygVuebxddX",
        "outputId": "1902aad1-0c78-42b8-d572-c3a93f2ac7a1"
      },
      "execution_count": null,
      "outputs": [
        {
          "output_type": "stream",
          "name": "stdout",
          "text": [
            "{'criterion': 'squared_error', 'loss': 'squared_error', 'n_estimators': 200}\n"
          ]
        }
      ],
      "id": "XNygVuebxddX"
    },
    {
      "cell_type": "code",
      "execution_count": null,
      "metadata": {
        "id": "588d2216",
        "colab": {
          "base_uri": "https://localhost:8080/"
        },
        "outputId": "62861a1b-7403-47c7-9c09-8c7150a6e9aa"
      },
      "outputs": [
        {
          "output_type": "execute_result",
          "data": {
            "text/plain": [
              "Pipeline(steps=[('minmaxscaler', MinMaxScaler()),\n",
              "                ('svr', SVR(C=100, gamma=1, kernel='poly'))])"
            ]
          },
          "metadata": {},
          "execution_count": 77
        }
      ],
      "source": [
        "best_model_svr = clf_svr.best_estimator_\n",
        "best_model_svr"
      ],
      "id": "588d2216"
    },
    {
      "cell_type": "code",
      "source": [
        "print(\"Accuracy of the tuned SVR model: %.4f\" %clf_svr.best_score_)"
      ],
      "metadata": {
        "colab": {
          "base_uri": "https://localhost:8080/"
        },
        "id": "eYfOwrvJ9tDs",
        "outputId": "76539b63-ef9d-4619-eed0-19d2993f6a77"
      },
      "execution_count": null,
      "outputs": [
        {
          "output_type": "stream",
          "name": "stdout",
          "text": [
            "Accuracy of the tuned SVR model: 0.8617\n"
          ]
        }
      ],
      "id": "eYfOwrvJ9tDs"
    },
    {
      "cell_type": "code",
      "source": [
        "best_model_dtr = clf_dtr.best_estimator_\n",
        "best_model_dtr"
      ],
      "metadata": {
        "colab": {
          "base_uri": "https://localhost:8080/"
        },
        "id": "FlO5FSTR86h5",
        "outputId": "85cea5ef-fcda-42a4-e128-c6bd61019780"
      },
      "execution_count": null,
      "outputs": [
        {
          "output_type": "execute_result",
          "data": {
            "text/plain": [
              "Pipeline(steps=[('minmaxscaler', MinMaxScaler()),\n",
              "                ('decisiontreeregressor',\n",
              "                 DecisionTreeRegressor(max_depth=100, max_leaf_nodes=100,\n",
              "                                       min_samples_leaf=20,\n",
              "                                       min_samples_split=20))])"
            ]
          },
          "metadata": {},
          "execution_count": 43
        }
      ],
      "id": "FlO5FSTR86h5"
    },
    {
      "cell_type": "code",
      "source": [
        "print(\"Accuracy of the tuned DTR model: %.4f\" %clf_dtr.best_score_)"
      ],
      "metadata": {
        "colab": {
          "base_uri": "https://localhost:8080/"
        },
        "id": "sjUxPge99wqX",
        "outputId": "168f3a32-a865-4325-fd23-768a71481cf8"
      },
      "execution_count": null,
      "outputs": [
        {
          "output_type": "stream",
          "name": "stdout",
          "text": [
            "Accuracy of the tuned DTR model: 0.8929\n"
          ]
        }
      ],
      "id": "sjUxPge99wqX"
    },
    {
      "cell_type": "code",
      "source": [
        "best_model_rfr = clf_rfr.best_estimator_\n",
        "best_model_rfr"
      ],
      "metadata": {
        "colab": {
          "base_uri": "https://localhost:8080/"
        },
        "id": "_4vIyN068_jF",
        "outputId": "c9a273fc-87ed-4db5-f839-5589700a35ef"
      },
      "execution_count": null,
      "outputs": [
        {
          "output_type": "execute_result",
          "data": {
            "text/plain": [
              "Pipeline(steps=[('minmaxscaler', MinMaxScaler()),\n",
              "                ('randomforestregressor', RandomForestRegressor(max_depth=30))])"
            ]
          },
          "metadata": {},
          "execution_count": 45
        }
      ],
      "id": "_4vIyN068_jF"
    },
    {
      "cell_type": "code",
      "source": [
        "print(\"Accuracy of the tuned RFR model: %.4f\" %clf_rfr.best_score_)"
      ],
      "metadata": {
        "colab": {
          "base_uri": "https://localhost:8080/"
        },
        "id": "W3ouK86590ac",
        "outputId": "b14f9da4-1bc6-447f-9156-faf267f2440e"
      },
      "execution_count": null,
      "outputs": [
        {
          "output_type": "stream",
          "name": "stdout",
          "text": [
            "Accuracy of the tuned RFR model: 0.9488\n"
          ]
        }
      ],
      "id": "W3ouK86590ac"
    },
    {
      "cell_type": "code",
      "source": [
        "best_model_gb = clf_gb.best_estimator_\n",
        "best_model_gb"
      ],
      "metadata": {
        "colab": {
          "base_uri": "https://localhost:8080/"
        },
        "id": "UBNr7eQzxiGQ",
        "outputId": "8d7b063f-14ba-4975-a374-ccb216dc18e5"
      },
      "execution_count": null,
      "outputs": [
        {
          "output_type": "execute_result",
          "data": {
            "text/plain": [
              "Pipeline(steps=[('minmaxscaler', MinMaxScaler()),\n",
              "                ('gradientboostingregressor',\n",
              "                 GradientBoostingRegressor(criterion='squared_error',\n",
              "                                           n_estimators=200))])"
            ]
          },
          "metadata": {},
          "execution_count": 47
        }
      ],
      "id": "UBNr7eQzxiGQ"
    },
    {
      "cell_type": "code",
      "source": [
        "print(\"Accuracy of the tuned GB model: %.4f\" %clf_gb.best_score_)"
      ],
      "metadata": {
        "colab": {
          "base_uri": "https://localhost:8080/"
        },
        "id": "ewKquRCyxiGQ",
        "outputId": "98b511f3-6b4d-4e21-d0ad-7becb8a8bcc6"
      },
      "execution_count": null,
      "outputs": [
        {
          "output_type": "stream",
          "name": "stdout",
          "text": [
            "Accuracy of the tuned GB model: 0.9329\n"
          ]
        }
      ],
      "id": "ewKquRCyxiGQ"
    },
    {
      "cell_type": "code",
      "source": [
        "model_svr_best = SVR(C=10, gamma=1, kernel='linear')\n",
        "plot_learning_curve(model_svr_best, \"Learning Curve for SVR\",X = X_train, y = y_train, cv = cv)"
      ],
      "metadata": {
        "id": "YweGQeoF964x"
      },
      "execution_count": null,
      "outputs": [],
      "id": "YweGQeoF964x"
    },
    {
      "cell_type": "code",
      "source": [
        "model_dtr_best = DecisionTreeRegressor(**best_dt)\n",
        "plot_learning_curve(model_dtr_best, \"Learning Curve for Decision Tree Regressor\",X = X_train, y = y_train, cv = cv)"
      ],
      "metadata": {
        "colab": {
          "base_uri": "https://localhost:8080/",
          "height": 313
        },
        "id": "1GU0IfH99JR9",
        "outputId": "fc6b3607-38b4-4a50-bc18-2e704c904915"
      },
      "execution_count": null,
      "outputs": [
        {
          "output_type": "execute_result",
          "data": {
            "text/plain": [
              "<module 'matplotlib.pyplot' from '/usr/local/lib/python3.7/dist-packages/matplotlib/pyplot.py'>"
            ]
          },
          "metadata": {},
          "execution_count": 50
        },
        {
          "output_type": "display_data",
          "data": {
            "text/plain": [
              "<Figure size 432x288 with 1 Axes>"
            ],
            "image/png": "[encoded data removed]"
          },
          "metadata": {
            "needs_background": "light"
          }
        }
      ],
      "id": "1GU0IfH99JR9"
    },
    {
      "cell_type": "code",
      "source": [
        "model_rfr_best = RandomForestRegressor(**best_rf)\n",
        "plot_learning_curve(model_rfr_best, \"Learning Curve for Random Forest Regressor\",X = X_train, y = y_train, cv = cv)"
      ],
      "metadata": {
        "colab": {
          "base_uri": "https://localhost:8080/",
          "height": 313
        },
        "id": "aR4OB1S2-CVK",
        "outputId": "c0ebfa2f-b1c9-46f3-c4dd-8823245b210f"
      },
      "execution_count": null,
      "outputs": [
        {
          "output_type": "execute_result",
          "data": {
            "text/plain": [
              "<module 'matplotlib.pyplot' from '/usr/local/lib/python3.7/dist-packages/matplotlib/pyplot.py'>"
            ]
          },
          "metadata": {},
          "execution_count": 51
        },
        {
          "output_type": "display_data",
          "data": {
            "text/plain": [
              "<Figure size 432x288 with 1 Axes>"
            ],
            "image/png": "[encoded data removed]"
          },
          "metadata": {
            "needs_background": "light"
          }
        }
      ],
      "id": "aR4OB1S2-CVK"
    },
    {
      "cell_type": "code",
      "source": [
        "model_gb_best =GradientBoostingRegressor(**best_gb)\n",
        "plot_learning_curve(model_gb_best, \"Learning Curve for Gradient Boosting Regressor\",X = X_train, y = y_train, cv = cv)"
      ],
      "metadata": {
        "colab": {
          "base_uri": "https://localhost:8080/",
          "height": 313
        },
        "id": "lSwcHeYCxpOL",
        "outputId": "ded938ab-92d4-4538-d895-d7cce923361b"
      },
      "execution_count": null,
      "outputs": [
        {
          "output_type": "execute_result",
          "data": {
            "text/plain": [
              "<module 'matplotlib.pyplot' from '/usr/local/lib/python3.7/dist-packages/matplotlib/pyplot.py'>"
            ]
          },
          "metadata": {},
          "execution_count": 52
        },
        {
          "output_type": "display_data",
          "data": {
            "text/plain": [
              "<Figure size 432x288 with 1 Axes>"
            ],
            "image/png": "[encoded data removed]"
          },
          "metadata": {
            "needs_background": "light"
          }
        }
      ],
      "id": "lSwcHeYCxpOL"
    },
    {
      "cell_type": "code",
      "source": [
        "params = {\n",
        " 'adaboostregressor__n_estimators': [50, 100],\n",
        " 'adaboostregressor__learning_rate' : [0.01, 0.05, 0.1, 0.5],\n",
        " 'adaboostregressor__loss' : ['linear', 'square', 'exponential']\n",
        " }"
      ],
      "metadata": {
        "id": "gq4NGljFPBaK"
      },
      "id": "gq4NGljFPBaK",
      "execution_count": null,
      "outputs": []
    },
    {
      "cell_type": "code",
      "source": [
        "from sklearn.ensemble import AdaBoostRegressor"
      ],
      "metadata": {
        "id": "jipRZfuIPT_3"
      },
      "id": "jipRZfuIPT_3",
      "execution_count": null,
      "outputs": []
    },
    {
      "cell_type": "code",
      "source": [
        "abreg = make_pipeline(MinMaxScaler(), AdaBoostRegressor())"
      ],
      "metadata": {
        "id": "nMfgt12mPXsu"
      },
      "id": "nMfgt12mPXsu",
      "execution_count": null,
      "outputs": []
    },
    {
      "cell_type": "code",
      "source": [
        "grid_ada=GridSearchCV(abreg, params, cv=cv, return_train_score=True)\n",
        "grid_ada.fit(X_train, y_train)\n",
        "print('Best Score: ', grid_ada.best_score_)\n",
        "print('Best Params: ', grid_ada.best_params_)"
      ],
      "metadata": {
        "colab": {
          "base_uri": "https://localhost:8080/"
        },
        "id": "bm9oP3g3PPDz",
        "outputId": "57a67f49-a034-4677-fbda-39d85978d98f"
      },
      "id": "bm9oP3g3PPDz",
      "execution_count": null,
      "outputs": [
        {
          "output_type": "stream",
          "name": "stdout",
          "text": [
            "Best Score:  0.7645087067798484\n",
            "Best Params:  {'adaboostregressor__learning_rate': 0.5, 'adaboostregressor__loss': 'square', 'adaboostregressor__n_estimators': 100}\n"
          ]
        }
      ]
    },
    {
      "cell_type": "code",
      "source": [
        "model_ada_best =AdaBoostRegressor(**transform_params(grid_ada.best_params_))\n",
        "plot_learning_curve(model_ada_best, \"Learning Curve for ADABoost\",X = X_train, y = y_train, cv = cv)"
      ],
      "metadata": {
        "colab": {
          "base_uri": "https://localhost:8080/",
          "height": 313
        },
        "id": "HcfE9U9khH_M",
        "outputId": "a6daa1fc-83f2-4665-df95-5bedc181dc6a"
      },
      "id": "HcfE9U9khH_M",
      "execution_count": null,
      "outputs": [
        {
          "output_type": "execute_result",
          "data": {
            "text/plain": [
              "<module 'matplotlib.pyplot' from '/usr/local/lib/python3.7/dist-packages/matplotlib/pyplot.py'>"
            ]
          },
          "metadata": {},
          "execution_count": 33
        },
        {
          "output_type": "display_data",
          "data": {
            "text/plain": [
              "<Figure size 432x288 with 1 Axes>"
            ],
            "image/png": "[encoded data removed]"
          },
          "metadata": {
            "needs_background": "light"
          }
        }
      ]
    },
    {
      "cell_type": "code",
      "execution_count": 62,
      "metadata": {
        "id": "ce121563"
      },
      "outputs": [],
      "source": [
        "def print_error_metrics(y_test, y_pred):\n",
        "    r2 = r2_score(y_test, y_pred)\n",
        "    mse = mean_squared_error(y_test, y_pred)\n",
        "    rmse = np.sqrt(mean_squared_error(y_test, y_pred))\n",
        "    mae = mean_absolute_error(y_test, y_pred)\n",
        "\n",
        "    print('R2: {:.5f}'.format(r2))\n",
        "    print('MSE: {:.5f}'.format(mse))\n",
        "    print('RMSE: {:.5f}'.format(rmse))\n",
        "    print('MAE: {:.5f}'.format(mae))"
      ],
      "id": "ce121563"
    },
    {
      "cell_type": "code",
      "source": [
        "new_dtr =    DecisionTreeRegressor(criterion='squared_error',max_depth=100, max_leaf_nodes=100,\n",
        "                                       min_samples_leaf=20,\n",
        "                                       min_samples_split=20)\n",
        "new_rfr=RandomForestRegressor(max_depth=30,max_features= 'auto', n_estimators=100)\n",
        "\n"
      ],
      "metadata": {
        "id": "pGyBHEvSTLW-"
      },
      "execution_count": null,
      "outputs": [],
      "id": "pGyBHEvSTLW-"
    },
    {
      "cell_type": "code",
      "source": [
        "new_svr=SVR(C=100, gamma=1, kernel='poly')\n",
        "new_svr.fit(X_train, y_train)\n",
        "yhat_svr= new_svr.predict(X_test)"
      ],
      "metadata": {
        "id": "bMr0PSWrADsr"
      },
      "execution_count": null,
      "outputs": [],
      "id": "bMr0PSWrADsr"
    },
    {
      "cell_type": "code",
      "execution_count": null,
      "metadata": {
        "id": "1a64c8e8"
      },
      "outputs": [],
      "source": [
        "new_dtr.fit(X_train, y_train)\n",
        "yhat_dtr= new_dtr.predict(X_test)"
      ],
      "id": "1a64c8e8"
    },
    {
      "cell_type": "code",
      "execution_count": null,
      "metadata": {
        "id": "d25dd055"
      },
      "outputs": [],
      "source": [
        "new_rfr.fit(X_train, y_train)\n",
        "yhat_rfr= new_rfr.predict(X_test)"
      ],
      "id": "d25dd055"
    },
    {
      "cell_type": "code",
      "source": [
        "new_gb=GradientBoostingRegressor(criterion='squared_error',loss='squared_error',\n",
        "                                           n_estimators=200)\n",
        "new_gb.fit(X_train,y_train)\n",
        "yhat_gb= new_gb.predict(X_test)"
      ],
      "metadata": {
        "id": "oxp39yjfTJCY"
      },
      "execution_count": null,
      "outputs": [],
      "id": "oxp39yjfTJCY"
    },
    {
      "cell_type": "code",
      "source": [
        "print_error_metrics(y_test, yhat_svr)"
      ],
      "metadata": {
        "id": "2h7KnpKUAUwe"
      },
      "execution_count": null,
      "outputs": [],
      "id": "2h7KnpKUAUwe"
    },
    {
      "cell_type": "code",
      "source": [
        "print_error_metrics(y_test, yhat_dtr)"
      ],
      "metadata": {
        "colab": {
          "base_uri": "https://localhost:8080/"
        },
        "id": "xjYiWJN4AZdA",
        "outputId": "1d3d3621-fcca-4eb2-b820-b9dbb473c85b"
      },
      "execution_count": null,
      "outputs": [
        {
          "output_type": "stream",
          "name": "stdout",
          "text": [
            "R2: 0.90851\n",
            "MSE: 6039964.61487\n",
            "RMSE: 2457.63395\n",
            "MAE: 1777.32341\n"
          ]
        }
      ],
      "id": "xjYiWJN4AZdA"
    },
    {
      "cell_type": "code",
      "source": [
        "print_error_metrics(y_test, yhat_rfr)"
      ],
      "metadata": {
        "colab": {
          "base_uri": "https://localhost:8080/"
        },
        "id": "O014IWMmAa-y",
        "outputId": "e1fd4659-57c0-494f-9823-e8cdec41e47f"
      },
      "execution_count": null,
      "outputs": [
        {
          "output_type": "stream",
          "name": "stdout",
          "text": [
            "R2: 0.95855\n",
            "MSE: 2736574.43963\n",
            "RMSE: 1654.25948\n",
            "MAE: 1173.21454\n"
          ]
        }
      ],
      "id": "O014IWMmAa-y"
    },
    {
      "cell_type": "code",
      "source": [
        "print_error_metrics(y_test, yhat_gb)"
      ],
      "metadata": {
        "colab": {
          "base_uri": "https://localhost:8080/"
        },
        "id": "1hFGHIIuyB3r",
        "outputId": "e9c48f33-4657-45cb-8792-ddda2692b431"
      },
      "execution_count": null,
      "outputs": [
        {
          "output_type": "stream",
          "name": "stdout",
          "text": [
            "R2: 0.94329\n",
            "MSE: 3743562.24141\n",
            "RMSE: 1934.82874\n",
            "MAE: 1404.12565\n"
          ]
        }
      ],
      "id": "1hFGHIIuyB3r"
    },
    {
      "cell_type": "code",
      "source": [
        ""
      ],
      "metadata": {
        "id": "LbGPqD9oeu9N"
      },
      "id": "LbGPqD9oeu9N",
      "execution_count": null,
      "outputs": []
    },
    {
      "cell_type": "code",
      "execution_count": 43,
      "metadata": {
        "id": "ed000893"
      },
      "outputs": [],
      "source": [
        "import keras\n",
        "from keras.models import Sequential\n",
        "from keras.layers import Activation, Dense"
      ],
      "id": "ed000893"
    },
    {
      "cell_type": "code",
      "execution_count": 44,
      "metadata": {
        "id": "23b8b388"
      },
      "outputs": [],
      "source": [
        "model = Sequential(layers=None, name=None)\n",
        "model.add(Dense(40, input_dim=75,  activation = 'tanh'))\n",
        "model.add(Dense(20, activation = 'tanh'))\n",
        "model.add(Dense(1))\n"
      ],
      "id": "23b8b388"
    },
    {
      "cell_type": "code",
      "execution_count": 47,
      "metadata": {
        "id": "c9dc8294"
      },
      "outputs": [],
      "source": [
        "from tensorflow.keras.optimizers import SGD\n",
        "sgd = SGD()"
      ],
      "id": "c9dc8294"
    },
    {
      "cell_type": "code",
      "execution_count": 76,
      "metadata": {
        "id": "eaee753c"
      },
      "outputs": [],
      "source": [
        "model.compile(loss='mean_squared_error', optimizer=sgd)\n",
        " # stochastic gradient descent optimizer\n",
        "# for regression problems, mean squared error (MSE) is often employed"
      ],
      "id": "eaee753c"
    },
    {
      "cell_type": "code",
      "execution_count": 56,
      "metadata": {
        "id": "a6b646b7",
        "colab": {
          "base_uri": "https://localhost:8080/"
        },
        "outputId": "82ada864-bc81-46ec-e113-ddef8abdabb9"
      },
      "outputs": [
        {
          "output_type": "stream",
          "name": "stdout",
          "text": [
            "Model: \"sequential\"\n",
            "_________________________________________________________________\n",
            " Layer (type)                Output Shape              Param #   \n",
            "=================================================================\n",
            " dense (Dense)               (None, 40)                3040      \n",
            "                                                                 \n",
            " dense_1 (Dense)             (None, 20)                820       \n",
            "                                                                 \n",
            " dense_2 (Dense)             (None, 1)                 21        \n",
            "                                                                 \n",
            "=================================================================\n",
            "Total params: 3,881\n",
            "Trainable params: 3,881\n",
            "Non-trainable params: 0\n",
            "_________________________________________________________________\n"
          ]
        }
      ],
      "source": [
        " # summary of the model\n",
        " model.summary()"
      ],
      "id": "a6b646b7"
    },
    {
      "cell_type": "code",
      "source": [
        "nn_model=make_pipeline(MinMaxScaler)"
      ],
      "metadata": {
        "id": "af3VjVbh8BJn"
      },
      "id": "af3VjVbh8BJn",
      "execution_count": null,
      "outputs": []
    },
    {
      "cell_type": "code",
      "execution_count": 61,
      "metadata": {
        "id": "0d7ee510",
        "colab": {
          "base_uri": "https://localhost:8080/"
        },
        "outputId": "a7dafa27-4d40-4fb0-c6db-adf15a9ef514"
      },
      "outputs": [
        {
          "output_type": "stream",
          "name": "stdout",
          "text": [
            "Epoch 1/100\n",
            "34/34 [==============================] - 0s 4ms/step - loss: 68295944.0000 - val_loss: 59628476.0000\n",
            "Epoch 2/100\n",
            "34/34 [==============================] - 0s 4ms/step - loss: 68557856.0000 - val_loss: 59671496.0000\n",
            "Epoch 3/100\n",
            "34/34 [==============================] - 0s 4ms/step - loss: 68519592.0000 - val_loss: 60076844.0000\n",
            "Epoch 4/100\n",
            "34/34 [==============================] - 0s 4ms/step - loss: 68692624.0000 - val_loss: 61094296.0000\n",
            "Epoch 5/100\n",
            "34/34 [==============================] - 0s 4ms/step - loss: 68810920.0000 - val_loss: 59623548.0000\n",
            "Epoch 6/100\n",
            "34/34 [==============================] - 0s 4ms/step - loss: 68782592.0000 - val_loss: 61858592.0000\n",
            "Epoch 7/100\n",
            "34/34 [==============================] - 0s 4ms/step - loss: 68372880.0000 - val_loss: 59619668.0000\n",
            "Epoch 8/100\n",
            "34/34 [==============================] - 0s 4ms/step - loss: 68255504.0000 - val_loss: 61242056.0000\n",
            "Epoch 9/100\n",
            "34/34 [==============================] - 0s 4ms/step - loss: 68367824.0000 - val_loss: 59723624.0000\n",
            "Epoch 10/100\n",
            "34/34 [==============================] - 0s 4ms/step - loss: 68526368.0000 - val_loss: 59661296.0000\n",
            "Epoch 11/100\n",
            "34/34 [==============================] - 0s 4ms/step - loss: 68250720.0000 - val_loss: 59786876.0000\n",
            "Epoch 12/100\n",
            "34/34 [==============================] - 0s 4ms/step - loss: 68445496.0000 - val_loss: 59719356.0000\n",
            "Epoch 13/100\n",
            "34/34 [==============================] - 0s 5ms/step - loss: 68430312.0000 - val_loss: 59663440.0000\n",
            "Epoch 14/100\n",
            "34/34 [==============================] - 0s 4ms/step - loss: 68416232.0000 - val_loss: 60938564.0000\n",
            "Epoch 15/100\n",
            "34/34 [==============================] - 0s 4ms/step - loss: 68435872.0000 - val_loss: 61914880.0000\n",
            "Epoch 16/100\n",
            "34/34 [==============================] - 0s 4ms/step - loss: 68649408.0000 - val_loss: 59974408.0000\n",
            "Epoch 17/100\n",
            "34/34 [==============================] - 0s 4ms/step - loss: 68487376.0000 - val_loss: 60199232.0000\n",
            "Epoch 18/100\n",
            "34/34 [==============================] - 0s 4ms/step - loss: 68823120.0000 - val_loss: 60817992.0000\n",
            "Epoch 19/100\n",
            "34/34 [==============================] - 0s 4ms/step - loss: 68473648.0000 - val_loss: 60105760.0000\n",
            "Epoch 20/100\n",
            "34/34 [==============================] - 0s 3ms/step - loss: 68609192.0000 - val_loss: 59935664.0000\n",
            "Epoch 21/100\n",
            "34/34 [==============================] - 0s 4ms/step - loss: 68528216.0000 - val_loss: 61041844.0000\n",
            "Epoch 22/100\n",
            "34/34 [==============================] - 0s 4ms/step - loss: 68558752.0000 - val_loss: 59738988.0000\n",
            "Epoch 23/100\n",
            "34/34 [==============================] - 0s 4ms/step - loss: 68414208.0000 - val_loss: 59639836.0000\n",
            "Epoch 24/100\n",
            "34/34 [==============================] - 0s 5ms/step - loss: 68360272.0000 - val_loss: 59622052.0000\n",
            "Epoch 25/100\n",
            "34/34 [==============================] - 0s 4ms/step - loss: 68331800.0000 - val_loss: 60263716.0000\n",
            "Epoch 26/100\n",
            "34/34 [==============================] - 0s 4ms/step - loss: 68513272.0000 - val_loss: 59862548.0000\n",
            "Epoch 27/100\n",
            "34/34 [==============================] - 0s 3ms/step - loss: 68518064.0000 - val_loss: 61272164.0000\n",
            "Epoch 28/100\n",
            "34/34 [==============================] - 0s 3ms/step - loss: 68442472.0000 - val_loss: 61977108.0000\n",
            "Epoch 29/100\n",
            "34/34 [==============================] - 0s 5ms/step - loss: 68703720.0000 - val_loss: 59901936.0000\n",
            "Epoch 30/100\n",
            "34/34 [==============================] - 0s 4ms/step - loss: 68583200.0000 - val_loss: 59619952.0000\n",
            "Epoch 31/100\n",
            "34/34 [==============================] - 0s 4ms/step - loss: 68338504.0000 - val_loss: 62797548.0000\n",
            "Epoch 32/100\n",
            "34/34 [==============================] - 0s 3ms/step - loss: 68411088.0000 - val_loss: 59931312.0000\n",
            "Epoch 33/100\n",
            "34/34 [==============================] - 0s 4ms/step - loss: 68153048.0000 - val_loss: 60568820.0000\n",
            "Epoch 34/100\n",
            "34/34 [==============================] - 0s 4ms/step - loss: 68588416.0000 - val_loss: 61732224.0000\n",
            "Epoch 35/100\n",
            "34/34 [==============================] - 0s 3ms/step - loss: 68480328.0000 - val_loss: 59883196.0000\n",
            "Epoch 36/100\n",
            "34/34 [==============================] - 0s 4ms/step - loss: 68591688.0000 - val_loss: 59692208.0000\n",
            "Epoch 37/100\n",
            "34/34 [==============================] - 0s 4ms/step - loss: 68594632.0000 - val_loss: 59631288.0000\n",
            "Epoch 38/100\n",
            "34/34 [==============================] - 0s 4ms/step - loss: 68507568.0000 - val_loss: 60162600.0000\n",
            "Epoch 39/100\n",
            "34/34 [==============================] - 0s 4ms/step - loss: 68363528.0000 - val_loss: 59790784.0000\n",
            "Epoch 40/100\n",
            "34/34 [==============================] - 0s 4ms/step - loss: 68447512.0000 - val_loss: 60395992.0000\n",
            "Epoch 41/100\n",
            "34/34 [==============================] - 0s 5ms/step - loss: 68222616.0000 - val_loss: 59654808.0000\n",
            "Epoch 42/100\n",
            "34/34 [==============================] - 0s 4ms/step - loss: 68423800.0000 - val_loss: 59648884.0000\n",
            "Epoch 43/100\n",
            "34/34 [==============================] - 0s 4ms/step - loss: 68479416.0000 - val_loss: 59766172.0000\n",
            "Epoch 44/100\n",
            "34/34 [==============================] - 0s 5ms/step - loss: 67707840.0000 - val_loss: 63064152.0000\n",
            "Epoch 45/100\n",
            "34/34 [==============================] - 0s 4ms/step - loss: 68389432.0000 - val_loss: 59825532.0000\n",
            "Epoch 46/100\n",
            "34/34 [==============================] - 0s 4ms/step - loss: 68276504.0000 - val_loss: 60129344.0000\n",
            "Epoch 47/100\n",
            "34/34 [==============================] - 0s 7ms/step - loss: 68403832.0000 - val_loss: 61842472.0000\n",
            "Epoch 48/100\n",
            "34/34 [==============================] - 0s 9ms/step - loss: 68299696.0000 - val_loss: 60598892.0000\n",
            "Epoch 49/100\n",
            "34/34 [==============================] - 0s 9ms/step - loss: 68578528.0000 - val_loss: 60616440.0000\n",
            "Epoch 50/100\n",
            "34/34 [==============================] - 0s 8ms/step - loss: 68620872.0000 - val_loss: 60089096.0000\n",
            "Epoch 51/100\n",
            "34/34 [==============================] - 0s 6ms/step - loss: 68477976.0000 - val_loss: 59638192.0000\n",
            "Epoch 52/100\n",
            "34/34 [==============================] - 0s 2ms/step - loss: 68334768.0000 - val_loss: 59692152.0000\n",
            "Epoch 53/100\n",
            "34/34 [==============================] - 0s 2ms/step - loss: 68425544.0000 - val_loss: 60633448.0000\n",
            "Epoch 54/100\n",
            "34/34 [==============================] - 0s 3ms/step - loss: 68248960.0000 - val_loss: 59663304.0000\n",
            "Epoch 55/100\n",
            "34/34 [==============================] - 0s 3ms/step - loss: 68425184.0000 - val_loss: 61583160.0000\n",
            "Epoch 56/100\n",
            "34/34 [==============================] - 0s 2ms/step - loss: 68439376.0000 - val_loss: 60035936.0000\n",
            "Epoch 57/100\n",
            "34/34 [==============================] - 0s 3ms/step - loss: 68361064.0000 - val_loss: 66279016.0000\n",
            "Epoch 58/100\n",
            "34/34 [==============================] - 0s 3ms/step - loss: 68727272.0000 - val_loss: 59764680.0000\n",
            "Epoch 59/100\n",
            "34/34 [==============================] - 0s 3ms/step - loss: 68014080.0000 - val_loss: 62843880.0000\n",
            "Epoch 60/100\n",
            "34/34 [==============================] - 0s 3ms/step - loss: 68823704.0000 - val_loss: 59822232.0000\n",
            "Epoch 61/100\n",
            "34/34 [==============================] - 0s 3ms/step - loss: 68320864.0000 - val_loss: 60885468.0000\n",
            "Epoch 62/100\n",
            "34/34 [==============================] - 0s 3ms/step - loss: 68645264.0000 - val_loss: 60312880.0000\n",
            "Epoch 63/100\n",
            "34/34 [==============================] - 0s 2ms/step - loss: 68610800.0000 - val_loss: 59674276.0000\n",
            "Epoch 64/100\n",
            "34/34 [==============================] - 0s 3ms/step - loss: 68546792.0000 - val_loss: 60077644.0000\n",
            "Epoch 65/100\n",
            "34/34 [==============================] - 0s 3ms/step - loss: 68430592.0000 - val_loss: 59689604.0000\n",
            "Epoch 66/100\n",
            "34/34 [==============================] - 0s 3ms/step - loss: 68570776.0000 - val_loss: 59986868.0000\n",
            "Epoch 67/100\n",
            "34/34 [==============================] - 0s 3ms/step - loss: 68377024.0000 - val_loss: 61343300.0000\n",
            "Epoch 68/100\n",
            "34/34 [==============================] - 0s 2ms/step - loss: 68398400.0000 - val_loss: 61081604.0000\n",
            "Epoch 69/100\n",
            "34/34 [==============================] - 0s 2ms/step - loss: 68439280.0000 - val_loss: 59726220.0000\n",
            "Epoch 70/100\n",
            "34/34 [==============================] - 0s 2ms/step - loss: 68460448.0000 - val_loss: 59677948.0000\n",
            "Epoch 71/100\n",
            "34/34 [==============================] - 0s 3ms/step - loss: 68548672.0000 - val_loss: 59630608.0000\n",
            "Epoch 72/100\n",
            "34/34 [==============================] - 0s 3ms/step - loss: 68372152.0000 - val_loss: 60661648.0000\n",
            "Epoch 73/100\n",
            "34/34 [==============================] - 0s 3ms/step - loss: 68118448.0000 - val_loss: 60447468.0000\n",
            "Epoch 74/100\n",
            "34/34 [==============================] - 0s 3ms/step - loss: 68290984.0000 - val_loss: 59673568.0000\n",
            "Epoch 75/100\n",
            "34/34 [==============================] - 0s 3ms/step - loss: 68377640.0000 - val_loss: 59877212.0000\n",
            "Epoch 76/100\n",
            "34/34 [==============================] - 0s 3ms/step - loss: 68419408.0000 - val_loss: 59624768.0000\n",
            "Epoch 77/100\n",
            "34/34 [==============================] - 0s 3ms/step - loss: 68290032.0000 - val_loss: 59747788.0000\n",
            "Epoch 78/100\n",
            "34/34 [==============================] - 0s 2ms/step - loss: 68611176.0000 - val_loss: 61323476.0000\n",
            "Epoch 79/100\n",
            "34/34 [==============================] - 0s 3ms/step - loss: 68576888.0000 - val_loss: 63506008.0000\n",
            "Epoch 80/100\n",
            "34/34 [==============================] - 0s 3ms/step - loss: 68483696.0000 - val_loss: 59854892.0000\n",
            "Epoch 81/100\n",
            "34/34 [==============================] - 0s 2ms/step - loss: 68564264.0000 - val_loss: 59705596.0000\n",
            "Epoch 82/100\n",
            "34/34 [==============================] - 0s 3ms/step - loss: 68379128.0000 - val_loss: 59813044.0000\n",
            "Epoch 83/100\n",
            "34/34 [==============================] - 0s 3ms/step - loss: 68358104.0000 - val_loss: 60403144.0000\n",
            "Epoch 84/100\n",
            "34/34 [==============================] - 0s 3ms/step - loss: 68639288.0000 - val_loss: 59992640.0000\n",
            "Epoch 85/100\n",
            "34/34 [==============================] - 0s 3ms/step - loss: 68432328.0000 - val_loss: 61033620.0000\n",
            "Epoch 86/100\n",
            "34/34 [==============================] - 0s 3ms/step - loss: 68433096.0000 - val_loss: 60534696.0000\n",
            "Epoch 87/100\n",
            "34/34 [==============================] - 0s 2ms/step - loss: 68428256.0000 - val_loss: 59708648.0000\n",
            "Epoch 88/100\n",
            "34/34 [==============================] - 0s 3ms/step - loss: 68357792.0000 - val_loss: 59658064.0000\n",
            "Epoch 89/100\n",
            "34/34 [==============================] - 0s 3ms/step - loss: 68447656.0000 - val_loss: 59851552.0000\n",
            "Epoch 90/100\n",
            "34/34 [==============================] - 0s 2ms/step - loss: 68484072.0000 - val_loss: 59956928.0000\n",
            "Epoch 91/100\n",
            "34/34 [==============================] - 0s 2ms/step - loss: 68462704.0000 - val_loss: 59770260.0000\n",
            "Epoch 92/100\n",
            "34/34 [==============================] - 0s 3ms/step - loss: 68259080.0000 - val_loss: 59620492.0000\n",
            "Epoch 93/100\n",
            "34/34 [==============================] - 0s 3ms/step - loss: 68630608.0000 - val_loss: 59717348.0000\n",
            "Epoch 94/100\n",
            "34/34 [==============================] - 0s 3ms/step - loss: 68292936.0000 - val_loss: 59861336.0000\n",
            "Epoch 95/100\n",
            "34/34 [==============================] - 0s 2ms/step - loss: 68465136.0000 - val_loss: 59680948.0000\n",
            "Epoch 96/100\n",
            "34/34 [==============================] - 0s 3ms/step - loss: 68456528.0000 - val_loss: 59685852.0000\n",
            "Epoch 97/100\n",
            "34/34 [==============================] - 0s 3ms/step - loss: 68413600.0000 - val_loss: 60029232.0000\n",
            "Epoch 98/100\n",
            "34/34 [==============================] - 0s 3ms/step - loss: 68411312.0000 - val_loss: 59642740.0000\n",
            "Epoch 99/100\n",
            "34/34 [==============================] - 0s 3ms/step - loss: 68318464.0000 - val_loss: 59709932.0000\n",
            "Epoch 100/100\n",
            "34/34 [==============================] - 0s 2ms/step - loss: 68549776.0000 - val_loss: 60187760.0000\n"
          ]
        }
      ],
      "source": [
        "history=model.fit(X_train,y_train,validation_split=0.2,batch_size=50,epochs=100)"
      ],
      "id": "0d7ee510"
    },
    {
      "cell_type": "code",
      "source": [
        "ypred = model.predict(X_test)"
      ],
      "metadata": {
        "id": "DTHp0nBqFUv5"
      },
      "execution_count": 51,
      "outputs": [],
      "id": "DTHp0nBqFUv5"
    },
    {
      "cell_type": "code",
      "execution_count": 63,
      "metadata": {
        "id": "f0501e5d",
        "colab": {
          "base_uri": "https://localhost:8080/"
        },
        "outputId": "44f788aa-75e7-4b00-ff4a-01627db1c720"
      },
      "outputs": [
        {
          "output_type": "stream",
          "name": "stdout",
          "text": [
            "R2: -0.01445\n",
            "MSE: 65916075.59195\n",
            "RMSE: 8118.87157\n",
            "MAE: 6206.24249\n"
          ]
        }
      ],
      "source": [
        "print_error_metrics(y_test, ypred)"
      ],
      "id": "f0501e5d"
    },
    {
      "cell_type": "code",
      "source": [
        "loss_train = history.history['loss']\n",
        "loss_val = history.history['val_loss']\n",
        "plt.plot(loss_train, 'g', label='Training Loss')\n",
        "plt.plot(loss_val, 'b', label='validation Loss')\n",
        "plt.title('Training and Validation Loss')\n",
        "plt.xlabel('Epochs')\n",
        "plt.ylabel('Loss')\n",
        "plt.legend()\n",
        "plt.show()"
      ],
      "metadata": {
        "colab": {
          "base_uri": "https://localhost:8080/",
          "height": 295
        },
        "id": "Rptbfhr4ua4O",
        "outputId": "2c48c0d6-4ef7-4719-f940-c5fc564c4421"
      },
      "execution_count": 53,
      "outputs": [
        {
          "output_type": "display_data",
          "data": {
            "text/plain": [
              "<Figure size 432x288 with 1 Axes>"
            ],
            "image/png": "[encoded data removed]"
          },
          "metadata": {
            "needs_background": "light"
          }
        }
      ],
      "id": "Rptbfhr4ua4O"
    },
    {
      "cell_type": "code",
      "source": [
        "from sklearn.preprocessing import normalize"
      ],
      "metadata": {
        "id": "6l1cHdGJ9MKi"
      },
      "id": "6l1cHdGJ9MKi",
      "execution_count": 69,
      "outputs": []
    },
    {
      "cell_type": "code",
      "source": [
        "y_train"
      ],
      "metadata": {
        "colab": {
          "base_uri": "https://localhost:8080/"
        },
        "id": "MWsUrZ-H9WMd",
        "outputId": "b8052db8-ad83-4f36-8739-7413b52a528d"
      },
      "id": "MWsUrZ-H9WMd",
      "execution_count": 72,
      "outputs": [
        {
          "output_type": "execute_result",
          "data": {
            "text/plain": [
              "45      26738\n",
              "1874    21242\n",
              "1095    42272\n",
              "848     26735\n",
              "931     20529\n",
              "        ...  \n",
              "2014    21072\n",
              "2157    24356\n",
              "1931    23032\n",
              "1504    20275\n",
              "1712    20102\n",
              "Name: sold, Length: 2085, dtype: int64"
            ]
          },
          "metadata": {},
          "execution_count": 72
        }
      ]
    },
    {
      "cell_type": "code",
      "source": [
        "optimizer = ['SGD', 'RMSprop']\n",
        "neurons = [ 10,  20, 40]\n",
        "neurons2 = [5, 15, 25]\n",
        "param_grid = dict(neurons=neurons,neurons2=neurons2,optimizer=optimizer)"
      ],
      "metadata": {
        "id": "tEoGUFNNLM4i"
      },
      "execution_count": 81,
      "outputs": [],
      "id": "tEoGUFNNLM4i"
    },
    {
      "cell_type": "code",
      "source": [
        "from keras.wrappers.scikit_learn import KerasRegressor"
      ],
      "metadata": {
        "id": "KV1Shbn0XNlW"
      },
      "execution_count": 85,
      "outputs": [],
      "id": "KV1Shbn0XNlW"
    },
    {
      "cell_type": "code",
      "source": [
        "def create_model(neurons=40,neurons2=20,optimizer='SGD'):\n",
        "  model = Sequential(layers=None, name=None)\n",
        "  model.add(Dense(neurons, input_dim=75,  activation = 'tanh'))\n",
        "  model.add(Dense(neurons2, activation = 'tanh'))\n",
        "  model.add(Dense(1))\n",
        "  model.compile(loss='mean_squared_error', optimizer=optimizer)\n",
        "  return model"
      ],
      "metadata": {
        "id": "J997-NE4U1rW"
      },
      "execution_count": 91,
      "outputs": [],
      "id": "J997-NE4U1rW"
    },
    {
      "cell_type": "code",
      "source": [
        "cv = RepeatedKFold(n_splits=3,random_state=42)"
      ],
      "metadata": {
        "id": "-XTeAH-9WCNA"
      },
      "execution_count": 83,
      "outputs": [],
      "id": "-XTeAH-9WCNA"
    },
    {
      "cell_type": "code",
      "source": [
        "model = KerasRegressor(build_fn=create_model, epochs=100, batch_size=20, verbose=0)"
      ],
      "metadata": {
        "id": "Eil1drx5WLsv",
        "colab": {
          "base_uri": "https://localhost:8080/"
        },
        "outputId": "d197df0b-e2f3-475c-b577-83f2350bf2bc"
      },
      "execution_count": 92,
      "outputs": [
        {
          "output_type": "stream",
          "name": "stderr",
          "text": [
            "/usr/local/lib/python3.7/dist-packages/ipykernel_launcher.py:1: DeprecationWarning: KerasRegressor is deprecated, use Sci-Keras (https://github.com/adriangb/scikeras) instead. See https://www.adriangb.com/scikeras/stable/migration.html for help migrating.\n",
            "  \"\"\"Entry point for launching an IPython kernel.\n"
          ]
        }
      ],
      "id": "Eil1drx5WLsv"
    },
    {
      "cell_type": "code",
      "source": [
        "grid = GridSearchCV(estimator=model, param_grid=param_grid, cv=cv)\n",
        "grid_result = grid.fit(X_train, y_train)\n",
        "# summarize results\n",
        "print(\"Best: %f using %s\" % (grid_result.best_score_, grid_result.best_params_))\n",
        "means = grid_result.cv_results_['mean_test_score']\n",
        "stds = grid_result.cv_results_['std_test_score']\n",
        "params = grid_result.cv_results_['params']\n",
        "for mean, stdev, param in zip(means, stds, params):\n",
        "    print(\"%f (%f) with: %r\" % (mean, stdev, param))\n"
      ],
      "metadata": {
        "id": "0AXCFp82V0ys"
      },
      "execution_count": null,
      "outputs": [],
      "id": "0AXCFp82V0ys"
    },
    {
      "cell_type": "code",
      "execution_count": null,
      "metadata": {
        "id": "rFFAQG2SumPh"
      },
      "outputs": [],
      "source": [
        "best_model=transform_params(grid_result.best_params_)\n",
        "print(best_model)"
      ],
      "id": "rFFAQG2SumPh"
    },
    {
      "cell_type": "code",
      "execution_count": null,
      "metadata": {
        "id": "OsPx2daPumPh"
      },
      "outputs": [],
      "source": [
        "best_model = grid_result.best_estimator_\n",
        "best_model"
      ],
      "id": "OsPx2daPumPh"
    },
    {
      "cell_type": "code",
      "source": [
        "from sklearn.linear_model import ElasticNet\n",
        "# Train model with default alpha=1 and l1_ratio=0.5\n",
        "elastic_net = ElasticNet(alpha=1, l1_ratio=0.5).fit(X_train, y_train)\n",
        "# get cross val scores\n",
        "get_cv_scores(elastic_net)"
      ],
      "metadata": {
        "colab": {
          "base_uri": "https://localhost:8080/"
        },
        "id": "na-J2O_JE6dP",
        "outputId": "8be866d0-7ad4-43d9-be83-99e1c5b5af86"
      },
      "execution_count": null,
      "outputs": [
        {
          "output_type": "stream",
          "name": "stdout",
          "text": [
            "CV Mean:  0.24482880828334297\n",
            "STD:  0.0070396261187266745\n",
            "\n",
            "\n"
          ]
        }
      ],
      "id": "na-J2O_JE6dP"
    },
    {
      "cell_type": "code",
      "source": [
        "# find optimal alpha with grid search\n",
        "alpha = [0.001, 0.01, 0.1, 1, 10, 100, 1000]\n",
        "l1_ratio = [0, 0.1, 0.2, 0.3, 0.4, 0.5, 0.6, 0.7, 0.8, 0.9, 1]\n",
        "param_grid = dict(alpha=alpha, l1_ratio=l1_ratio)\n",
        "grid = GridSearchCV(estimator=elastic_net, param_grid=param_grid, scoring='r2', verbose=1, n_jobs=-1)\n",
        "grid_result = grid.fit(X_train, y_train)\n",
        "print('Best Score: ', grid_result.best_score_)\n",
        "print('Best Params: ', grid_result.best_params_)"
      ],
      "metadata": {
        "colab": {
          "base_uri": "https://localhost:8080/"
        },
        "id": "Tw_2p8_EE9Ds",
        "outputId": "3861a6e8-a4c0-485b-af80-0b914e5186a0"
      },
      "execution_count": null,
      "outputs": [
        {
          "output_type": "stream",
          "name": "stdout",
          "text": [
            "Fitting 5 folds for each of 77 candidates, totalling 385 fits\n",
            "Best Score:  0.8104903351725804\n",
            "Best Params:  {'alpha': 1, 'l1_ratio': 1}\n"
          ]
        },
        {
          "output_type": "stream",
          "name": "stderr",
          "text": [
            "/usr/local/lib/python3.7/dist-packages/sklearn/linear_model/_coordinate_descent.py:648: ConvergenceWarning: Objective did not converge. You might want to increase the number of iterations, check the scale of the features or consider increasing regularisation. Duality gap: 2.624e+07, tolerance: 1.383e+07\n",
            "  coef_, l1_reg, l2_reg, X, y, max_iter, tol, rng, random, positive\n"
          ]
        }
      ],
      "id": "Tw_2p8_EE9Ds"
    },
    {
      "cell_type": "code",
      "source": [
        "reg = LinearRegression().fit(X_train, y_train)\n",
        "reg.score(X_train, y_train)"
      ],
      "metadata": {
        "colab": {
          "base_uri": "https://localhost:8080/"
        },
        "id": "BLT5ZwlXp4af",
        "outputId": "e9cbbba8-e7a9-4fd2-805f-5ca58af4aa82"
      },
      "execution_count": null,
      "outputs": [
        {
          "output_type": "execute_result",
          "data": {
            "text/plain": [
              "0.8218196303155274"
            ]
          },
          "metadata": {},
          "execution_count": 117
        }
      ],
      "id": "BLT5ZwlXp4af"
    },
    {
      "cell_type": "code",
      "source": [
        "reg.coef_"
      ],
      "metadata": {
        "colab": {
          "base_uri": "https://localhost:8080/"
        },
        "id": "CMJlV4sLqqQV",
        "outputId": "1987771f-f454-4457-c20f-5761e57524c5"
      },
      "execution_count": null,
      "outputs": [
        {
          "output_type": "execute_result",
          "data": {
            "text/plain": [
              "array([-4.54600910e+15, -2.19033126e+17,  6.29834133e+16, -2.78812441e+16,\n",
              "       -2.78812441e+16, -2.78812441e+16, -2.78812441e+16,  1.86605872e+17,\n",
              "        1.86605872e+17,  1.86605872e+17, -9.54106665e+16, -9.54106665e+16,\n",
              "       -9.54106665e+16, -1.42748730e+16, -1.42748730e+16, -1.42748730e+16,\n",
              "       -1.42748730e+16,  1.24285478e+16, -9.43585671e+15,  1.24285478e+16,\n",
              "       -9.43585671e+15,  1.24285478e+16,  1.24285478e+16,  1.24285478e+16,\n",
              "        1.24285478e+16,  1.24285478e+16, -9.43585671e+15, -9.43585671e+15,\n",
              "        1.24285478e+16,  1.24285478e+16, -9.43585671e+15, -9.43585671e+15,\n",
              "        1.24285478e+16, -4.32106291e+15, -4.32106291e+15, -9.43585671e+15,\n",
              "        1.24285478e+16,  1.24285478e+16,  1.24285478e+16, -9.43585671e+15,\n",
              "        1.24285478e+16,  1.24285478e+16,  1.24285478e+16, -4.32106291e+15,\n",
              "       -9.43585671e+15,  1.24285478e+16, -9.43585671e+15, -3.72856435e+16,\n",
              "        2.97800000e+03,  2.18644045e+16, -4.50000000e+02,  1.67496107e+16,\n",
              "        7.41603341e+14,  2.85600000e+04, -2.01600000e+03,  4.76000000e+02,\n",
              "       -1.16094302e+13, -1.56903859e+14, -1.58825182e+14, -2.96631247e+14,\n",
              "       -8.10214125e+13, -2.05128785e+13, -2.61638371e+13, -8.75200000e+03,\n",
              "        1.93600000e+03, -4.80000000e+01, -4.34200000e+03, -3.87600000e+03,\n",
              "        4.48000000e+02, -4.98880000e+04,  7.84960000e+04,  2.81920000e+04,\n",
              "       -2.37920000e+04])"
            ]
          },
          "metadata": {},
          "execution_count": 118
        }
      ],
      "id": "CMJlV4sLqqQV"
    },
    {
      "cell_type": "code",
      "source": [
        "import numpy as np # linear algebra\n",
        "import pandas as pd # data processing, CSV file I/O (e.g. pd.read_csv)\n",
        "from sklearn.preprocessing import LabelEncoder\n",
        "from sklearn import metrics\n",
        "import lightgbm as lgb\n",
        "from sklearn.linear_model import Ridge\n",
        "import gc\n"
      ],
      "metadata": {
        "id": "W8MiNDarrYs3"
      },
      "execution_count": null,
      "outputs": [],
      "id": "W8MiNDarrYs3"
    },
    {
      "cell_type": "code",
      "source": [
        "train_set = lgb.Dataset(X_train, label=y_train)\n",
        "val_set = lgb.Dataset(X_test, label=y_test)\n",
        "    \n",
        "params = {\n",
        "        'boosting_type': 'gbdt',\n",
        "        'metric': 'rmse',\n",
        "        'objective': 'regression',\n",
        "        'n_jobs': -1,\n",
        "        'seed': 236,\n",
        "        'learning_rate': 0.1,\n",
        "        'bagging_fraction': 0.75,\n",
        "        'bagging_freq': 10, \n",
        "        'colsample_bytree': 0.75}\n",
        "    \n",
        "model = lgb.train(params, train_set, num_boost_round = 1000, early_stopping_rounds = 50, valid_sets = [train_set, val_set], verbose_eval = 100)\n",
        "\n",
        "val_pred = model.predict(X_test)\n",
        "val_score = np.sqrt(metrics.mean_squared_error(val_pred, y_test))\n",
        "print('val rmse score is {}'.format(val_score))\n"
      ],
      "metadata": {
        "colab": {
          "base_uri": "https://localhost:8080/"
        },
        "id": "kkaX0-_vrAdA",
        "outputId": "60098ae6-fd3c-4125-b985-8ca1aa1a36ca"
      },
      "execution_count": null,
      "outputs": [
        {
          "output_type": "stream",
          "name": "stdout",
          "text": [
            "Training until validation scores don't improve for 50 rounds.\n",
            "[100]\ttraining's rmse: 1226.61\tvalid_1's rmse: 2144.05\n",
            "[200]\ttraining's rmse: 976.462\tvalid_1's rmse: 2038.91\n",
            "[300]\ttraining's rmse: 865.01\tvalid_1's rmse: 1987.64\n",
            "[400]\ttraining's rmse: 778.711\tvalid_1's rmse: 1956.91\n",
            "[500]\ttraining's rmse: 710.031\tvalid_1's rmse: 1929.83\n",
            "Early stopping, best iteration is:\n",
            "[493]\ttraining's rmse: 715.699\tvalid_1's rmse: 1928.35\n",
            "val rmse score is 1928.3481593428307\n"
          ]
        }
      ],
      "id": "kkaX0-_vrAdA"
    },
    {
      "cell_type": "code",
      "source": [
        "\n",
        "# Create an instance of a linear regression model and fit it to the data with the fit() function:\n",
        "model = LinearRegression().fit(X, y) \n",
        "\n",
        "# Obtain the coefficient of determination by calling the model with the score() function, then print the coefficient:\n",
        "r_sq = model.score(X, y)\n",
        "print('coefficient of determination:', r_sq)\n",
        "\n",
        "# Print the Intercept:\n",
        "print('intercept:', model.intercept_)\n",
        "\n",
        "# Print the Slope:\n",
        "print('slope:', model.coef_) \n",
        "\n",
        "# Predict a Response and print it:\n",
        "y_pred = model.predict(X)\n",
        "print('Predicted response:', y_pred, sep='\\n')"
      ],
      "metadata": {
        "colab": {
          "base_uri": "https://localhost:8080/"
        },
        "id": "MUem9ct6rscc",
        "outputId": "d818721b-656a-479a-acd2-034d9b905d08"
      },
      "execution_count": null,
      "outputs": [
        {
          "output_type": "stream",
          "name": "stdout",
          "text": [
            "coefficient of determination: 0.8094280282888494\n",
            "intercept: 6.131132941622072e+16\n",
            "slope: [ 1.21675075e+17  1.09393430e+17  8.62670817e+16 -1.14260396e+17\n",
            " -1.14260396e+17 -1.14260396e+17 -1.14260396e+17 -1.01978750e+17\n",
            " -1.01978750e+17 -1.01978750e+17 -7.88524026e+16 -7.88524026e+16\n",
            " -7.88524026e+16 -6.87099844e+16 -6.87099844e+16 -6.87099844e+16\n",
            " -6.87099844e+16  3.10388844e+15 -1.26222061e+16  3.10388844e+15\n",
            " -1.26222061e+16  3.10388844e+15  3.10388844e+15  3.10388844e+15\n",
            "  3.10388844e+15  3.10388844e+15 -1.26222061e+16 -1.26222061e+16\n",
            "  3.10388844e+15  3.10388844e+15 -1.26222061e+16 -1.26222061e+16\n",
            "  3.10388844e+15 -1.38178973e+17 -1.38178973e+17 -1.26222061e+16\n",
            "  3.10388844e+15  3.10388844e+15  3.10388844e+15 -1.26222061e+16\n",
            "  3.10388844e+15  3.10388844e+15  3.10388844e+15 -1.38178973e+17\n",
            " -1.26222061e+16  3.10388844e+15 -1.26222061e+16 -9.31166531e+15\n",
            "  2.78400000e+03  1.57260945e+16 -5.56000000e+02  1.41282861e+17\n",
            "  1.27520067e+16  1.72040000e+04 -1.98400000e+03  1.41600000e+03\n",
            " -1.99626301e+14 -2.69799089e+15 -2.73102839e+15 -5.10062918e+15\n",
            " -1.39317818e+15 -3.52722742e+14 -4.49892020e+14 -7.37200000e+03\n",
            "  2.91200000e+03 -2.56000000e+02 -3.03200000e+03 -4.03200000e+03\n",
            "  5.92000000e+02 -5.39800000e+04  5.21000000e+04  2.24240000e+04\n",
            " -2.38080000e+04]\n",
            "Predicted response:\n",
            "[23648. 18728. 16120. ... 21776. 23496. 28888.]\n"
          ]
        }
      ],
      "id": "MUem9ct6rscc"
    },
    {
      "cell_type": "markdown",
      "metadata": {
        "id": "aa2ede83"
      },
      "source": [
        "# 7. Feature Importance and Feature Selection <a class=\"anchor\" id=\"seventh-bullet\">"
      ],
      "id": "aa2ede83"
    },
    {
      "cell_type": "markdown",
      "metadata": {
        "id": "d71e7453"
      },
      "source": [
        "Recall:\n",
        "\n",
        "    Feature selection is a process where you automatically select those features in your data that contribute most to the prediction variable or output in which you are interested.\n",
        "\n",
        "Having irrelevant features in your data can decrease the accuracy of many models, especially linear algorithms like linear and logistic regression.\n",
        "\n",
        "Three benefits of performing feature selection before modeling your data are:\n",
        "\n",
        "* **Reduces Overfitting**: Less redundant data means less opportunity to make decisions based on noise.\n",
        "* **Improves Accuracy**: Less misleading data means modeling accuracy improves.\n",
        "* **Reduces Training Time**: Less data means that algorithms train faster."
      ],
      "id": "d71e7453"
    },
    {
      "cell_type": "markdown",
      "metadata": {
        "id": "3921f5da"
      },
      "source": [
        "## Recursive Feature Elimination"
      ],
      "id": "3921f5da"
    },
    {
      "cell_type": "markdown",
      "metadata": {
        "id": "99ee92c5"
      },
      "source": [
        "Use RFE to get the ranks of top 2 features and print them up."
      ],
      "id": "99ee92c5"
    },
    {
      "cell_type": "code",
      "source": [
        "feature_names=['California', 'Texas', 'Wisconsin', 'CA_1', 'CA_2', 'CA_3', 'CA_4',\n",
        "       'TX_1', 'TX_2', 'TX_3', 'WI_1', 'WI_2', 'WI_3', 'fall', 'spring',\n",
        "       'summer', 'winter', 'ChanukahEnd', 'Christmas', 'CincoDeMayo',\n",
        "       'ColumbusDay', 'Easter', 'EidAlAdha', 'Eidal-Fitr', 'Fathersday',\n",
        "       'Halloween', 'IndependenceDay', 'LaborDay', 'LentStart', 'LentWeek2',\n",
        "       'MartinLutherKingDay', 'MemorialDay', 'Mothersday', 'NBAFinalsEnd',\n",
        "       'NBAFinalsStart', 'NewYear', 'OrthodoxChristmas', 'OrthodoxEaster',\n",
        "       'PesachEnd', 'PresidentsDay', 'PurimEnd', 'Ramadanstarts',\n",
        "       'StPatricksDay', 'SuperBowl', 'Thanksgiving', 'ValentinesDay',\n",
        "       'VeteransDay', 'number_of_events', 'Cultural', 'National', 'Religious',\n",
        "       'Sporting', 'raw_visit_counts', 'raw_visitor_counts',\n",
        "       'distance_from_home', 'median_dwell', '<5', '5-10', '11-20', '21-60',\n",
        "       '61-120', '121-240', '>240', 'number_stores_visited_daily',\n",
        "       'other_stores_avg_visitors_daily', 'average_visitors_same_day_yj',\n",
        "       'number_stores_visited_weekly', 'other_stores_avg_visitors_weekly',\n",
        "       'average_visitors_same_week_yj', 'population', 'employed', 'unemployed',\n",
        "       'unemployment_rate']"
      ],
      "metadata": {
        "id": "FawGmj6Kl67f"
      },
      "execution_count": null,
      "outputs": [],
      "id": "FawGmj6Kl67f"
    },
    {
      "cell_type": "code",
      "execution_count": null,
      "metadata": {
        "colab": {
          "base_uri": "https://localhost:8080/"
        },
        "id": "579aba00",
        "outputId": "66837fd5-65ce-457a-d331-d5f7db5958f3"
      },
      "outputs": [
        {
          "output_type": "stream",
          "name": "stdout",
          "text": [
            "Num Features: 10\n",
            "Selected Features: [False False False  True False  True  True False  True False False  True\n",
            "  True False False False False False False False False False False False\n",
            " False False False False False False False False False False False False\n",
            " False False False False False False False False False False False False\n",
            " False False False False False False False False False  True False False\n",
            " False False False False False False False  True False False  True False\n",
            "  True]\n",
            "Feature Ranking: [59 58 63  1 64  1  1 15  1 34  8  1  1 37 26  6 23 31 16 53 62 36 57 40\n",
            " 30 50 51 48 35 32 44 61 55 49 39 27 60 46 47 56 43 52 41 54 33 45 42 21\n",
            " 29 22 28 38 25 24  5 12 19  1  2 14  4 10 11  7 20 18 17  1  9  3  1 13\n",
            "  1]\n",
            "Selected Features:  ['CA_1', 'CA_3', 'CA_4', 'TX_2', 'WI_2', 'WI_3', '5-10', 'other_stores_avg_visitors_weekly', 'employed', 'unemployment_rate']\n"
          ]
        }
      ],
      "source": [
        "NUM_FEATURES_RFE = 2\n",
        "estimator = DecisionTreeRegressor()\n",
        "selector = RFE(estimator, n_features_to_select=10)\n",
        "fit = selector.fit(X_train, y_train)\n",
        "print(\"Num Features: %d\" % fit.n_features_)\n",
        "print(\"Selected Features: %s\" % fit.support_)\n",
        "print(\"Feature Ranking: %s\" % fit.ranking_)\n",
        "selected = []\n",
        "for i in range(len(fit.support_)):\n",
        "    if fit.support_[i]:\n",
        "        selected.append(feature_names[i])\n",
        "print('Selected Features: ', selected)\n"
      ],
      "id": "579aba00"
    },
    {
      "cell_type": "markdown",
      "metadata": {
        "id": "1c1256e1"
      },
      "source": [
        "## Feature Importance - Extra Trees \n"
      ],
      "id": "1c1256e1"
    },
    {
      "cell_type": "markdown",
      "metadata": {
        "id": "2f2b9f3d"
      },
      "source": [
        "Write the appropriate code to plot the feature importances of an Extra Trees model."
      ],
      "id": "2f2b9f3d"
    },
    {
      "cell_type": "code",
      "execution_count": null,
      "metadata": {
        "colab": {
          "base_uri": "https://localhost:8080/",
          "height": 347
        },
        "id": "db20e292",
        "outputId": "60142729-aeae-4965-c6d6-56327ac936d7"
      },
      "outputs": [
        {
          "output_type": "display_data",
          "data": {
            "text/plain": [
              "<Figure size 720x396 with 1 Axes>"
            ],
            "image/png": "[encoded data removed]"
          },
          "metadata": {
            "needs_background": "light"
          }
        }
      ],
      "source": [
        "from sklearn.ensemble import ExtraTreesRegressor\n",
        "\n",
        "# Initialize the model\n",
        "model_et = ExtraTreesRegressor(n_estimators=100, random_state=42)\n",
        "# train the model\n",
        "model_et.fit(X_train, y_train)\n",
        "# Plot the feature importance scores. \n",
        "feat_importances = pd.Series(model_et.feature_importances_)\n",
        "feat_importances.nlargest(20).plot(kind='barh')\n",
        "fig = plt.gcf()\n",
        "fig.set_size_inches(10, 5.5)"
      ],
      "id": "db20e292"
    },
    {
      "cell_type": "markdown",
      "source": [
        "##Feature Selection Numerical"
      ],
      "metadata": {
        "id": "2i4qCQNn12Hk"
      },
      "id": "2i4qCQNn12Hk"
    },
    {
      "cell_type": "code",
      "source": [
        "temp_df=df._get_numeric_data()"
      ],
      "metadata": {
        "id": "3iwhqJAl2MrQ"
      },
      "execution_count": null,
      "outputs": [],
      "id": "3iwhqJAl2MrQ"
    },
    {
      "cell_type": "code",
      "source": [
        "temp_df"
      ],
      "metadata": {
        "colab": {
          "base_uri": "https://localhost:8080/",
          "height": 487
        },
        "outputId": "c9998de9-633f-407e-b4c2-b1f3a9ad0921",
        "id": "sx9-e8jB2MrQ"
      },
      "execution_count": null,
      "outputs": [
        {
          "output_type": "execute_result",
          "data": {
            "text/plain": [
              "      California  Texas  Wisconsin  CA_1  CA_2  CA_3  CA_4  TX_1  TX_2  TX_3  \\\n",
              "0            1.0    0.0        0.0   1.0   0.0   0.0   0.0   0.0   0.0   0.0   \n",
              "1            0.0    0.0        1.0   0.0   0.0   0.0   0.0   0.0   0.0   0.0   \n",
              "2            0.0    1.0        0.0   0.0   0.0   0.0   0.0   0.0   0.0   1.0   \n",
              "3            0.0    1.0        0.0   0.0   0.0   0.0   0.0   1.0   0.0   0.0   \n",
              "4            0.0    1.0        0.0   0.0   0.0   0.0   0.0   0.0   1.0   0.0   \n",
              "...          ...    ...        ...   ...   ...   ...   ...   ...   ...   ...   \n",
              "2775         1.0    0.0        0.0   1.0   0.0   0.0   0.0   0.0   0.0   0.0   \n",
              "2776         0.0    1.0        0.0   0.0   0.0   0.0   0.0   0.0   0.0   1.0   \n",
              "2777         0.0    1.0        0.0   0.0   0.0   0.0   0.0   1.0   0.0   0.0   \n",
              "2778         0.0    0.0        1.0   0.0   0.0   0.0   0.0   0.0   0.0   0.0   \n",
              "2779         0.0    0.0        1.0   0.0   0.0   0.0   0.0   0.0   0.0   0.0   \n",
              "\n",
              "      ...  other_stores_avg_visitors_daily  average_visitors_same_day_yj  \\\n",
              "0     ...                         2.162703                         12.75   \n",
              "1     ...                         1.894174                         10.00   \n",
              "2     ...                         2.169162                         45.00   \n",
              "3     ...                         2.169162                         45.00   \n",
              "4     ...                         2.169162                         45.00   \n",
              "...   ...                              ...                           ...   \n",
              "2775  ...                         2.133195                         14.00   \n",
              "2776  ...                         2.164043                         46.00   \n",
              "2777  ...                         2.164043                         46.00   \n",
              "2778  ...                         1.882406                          9.00   \n",
              "2779  ...                         1.882406                          9.00   \n",
              "\n",
              "      number_stores_visited_weekly  other_stores_avg_visitors_weekly  \\\n",
              "0                              233                          7.742210   \n",
              "1                              173                          6.135069   \n",
              "2                              308                          8.138411   \n",
              "3                              308                          8.138411   \n",
              "4                              308                          8.138411   \n",
              "...                            ...                               ...   \n",
              "2775                           242                          7.615986   \n",
              "2776                           286                          8.356229   \n",
              "2777                           286                          8.356229   \n",
              "2778                           146                          6.837417   \n",
              "2779                           146                          6.837417   \n",
              "\n",
              "      average_visitors_same_week_yj     population       employed  \\\n",
              "0                         18.843750  649528.517241  280312.706897   \n",
              "1                         20.000000   79247.388889   39458.319444   \n",
              "2                         50.000000  100962.299213   45413.779528   \n",
              "3                         50.000000  100962.299213   45413.779528   \n",
              "4                         50.000000  100962.299213   45413.779528   \n",
              "...                             ...            ...            ...   \n",
              "2775                      22.000000  677525.448276  311186.724138   \n",
              "2776                      57.000000  109861.661417   50008.393701   \n",
              "2777                      57.000000  109861.661417   50008.393701   \n",
              "2778                      22.792636   80179.402778   41742.805556   \n",
              "2779                      22.792636   80179.402778   41742.805556   \n",
              "\n",
              "        unemployed  unemployment_rate   sold  \n",
              "0     37189.137931          13.425345  11308  \n",
              "1      3316.180556           8.463889  11553  \n",
              "2      3816.582677           7.497480   8261  \n",
              "3      3816.582677           7.497480   7065  \n",
              "4      3816.582677           7.497480  10520  \n",
              "...            ...                ...    ...  \n",
              "2775  18014.396552           6.930172  28566  \n",
              "2776   2421.515748           5.118189  25126  \n",
              "2777   2421.515748           5.118189  21660  \n",
              "2778   1736.819444           4.401389  23912  \n",
              "2779   1736.819444           4.401389  28950  \n",
              "\n",
              "[2780 rows x 81 columns]"
            ],
            "text/html": [
              "\n",
              "  <div id=\"df-cfc150cb-17b7-4ecd-8a46-ab9853fdae03\">\n",
              "    <div class=\"colab-df-container\">\n",
              "      <div>\n",
              "<style scoped>\n",
              "    .dataframe tbody tr th:only-of-type {\n",
              "        vertical-align: middle;\n",
              "    }\n",
              "\n",
              "    .dataframe tbody tr th {\n",
              "        vertical-align: top;\n",
              "    }\n",
              "\n",
              "    .dataframe thead th {\n",
              "        text-align: right;\n",
              "    }\n",
              "</style>\n",
              "<table border=\"1\" class=\"dataframe\">\n",
              "  <thead>\n",
              "    <tr style=\"text-align: right;\">\n",
              "      <th></th>\n",
              "      <th>California</th>\n",
              "      <th>Texas</th>\n",
              "      <th>Wisconsin</th>\n",
              "      <th>CA_1</th>\n",
              "      <th>CA_2</th>\n",
              "      <th>CA_3</th>\n",
              "      <th>CA_4</th>\n",
              "      <th>TX_1</th>\n",
              "      <th>TX_2</th>\n",
              "      <th>TX_3</th>\n",
              "      <th>...</th>\n",
              "      <th>other_stores_avg_visitors_daily</th>\n",
              "      <th>average_visitors_same_day_yj</th>\n",
              "      <th>number_stores_visited_weekly</th>\n",
              "      <th>other_stores_avg_visitors_weekly</th>\n",
              "      <th>average_visitors_same_week_yj</th>\n",
              "      <th>population</th>\n",
              "      <th>employed</th>\n",
              "      <th>unemployed</th>\n",
              "      <th>unemployment_rate</th>\n",
              "      <th>sold</th>\n",
              "    </tr>\n",
              "  </thead>\n",
              "  <tbody>\n",
              "    <tr>\n",
              "      <th>0</th>\n",
              "      <td>1.0</td>\n",
              "      <td>0.0</td>\n",
              "      <td>0.0</td>\n",
              "      <td>1.0</td>\n",
              "      <td>0.0</td>\n",
              "      <td>0.0</td>\n",
              "      <td>0.0</td>\n",
              "      <td>0.0</td>\n",
              "      <td>0.0</td>\n",
              "      <td>0.0</td>\n",
              "      <td>...</td>\n",
              "      <td>2.162703</td>\n",
              "      <td>12.75</td>\n",
              "      <td>233</td>\n",
              "      <td>7.742210</td>\n",
              "      <td>18.843750</td>\n",
              "      <td>649528.517241</td>\n",
              "      <td>280312.706897</td>\n",
              "      <td>37189.137931</td>\n",
              "      <td>13.425345</td>\n",
              "      <td>11308</td>\n",
              "    </tr>\n",
              "    <tr>\n",
              "      <th>1</th>\n",
              "      <td>0.0</td>\n",
              "      <td>0.0</td>\n",
              "      <td>1.0</td>\n",
              "      <td>0.0</td>\n",
              "      <td>0.0</td>\n",
              "      <td>0.0</td>\n",
              "      <td>0.0</td>\n",
              "      <td>0.0</td>\n",
              "      <td>0.0</td>\n",
              "      <td>0.0</td>\n",
              "      <td>...</td>\n",
              "      <td>1.894174</td>\n",
              "      <td>10.00</td>\n",
              "      <td>173</td>\n",
              "      <td>6.135069</td>\n",
              "      <td>20.000000</td>\n",
              "      <td>79247.388889</td>\n",
              "      <td>39458.319444</td>\n",
              "      <td>3316.180556</td>\n",
              "      <td>8.463889</td>\n",
              "      <td>11553</td>\n",
              "    </tr>\n",
              "    <tr>\n",
              "      <th>2</th>\n",
              "      <td>0.0</td>\n",
              "      <td>1.0</td>\n",
              "      <td>0.0</td>\n",
              "      <td>0.0</td>\n",
              "      <td>0.0</td>\n",
              "      <td>0.0</td>\n",
              "      <td>0.0</td>\n",
              "      <td>0.0</td>\n",
              "      <td>0.0</td>\n",
              "      <td>1.0</td>\n",
              "      <td>...</td>\n",
              "      <td>2.169162</td>\n",
              "      <td>45.00</td>\n",
              "      <td>308</td>\n",
              "      <td>8.138411</td>\n",
              "      <td>50.000000</td>\n",
              "      <td>100962.299213</td>\n",
              "      <td>45413.779528</td>\n",
              "      <td>3816.582677</td>\n",
              "      <td>7.497480</td>\n",
              "      <td>8261</td>\n",
              "    </tr>\n",
              "    <tr>\n",
              "      <th>3</th>\n",
              "      <td>0.0</td>\n",
              "      <td>1.0</td>\n",
              "      <td>0.0</td>\n",
              "      <td>0.0</td>\n",
              "      <td>0.0</td>\n",
              "      <td>0.0</td>\n",
              "      <td>0.0</td>\n",
              "      <td>1.0</td>\n",
              "      <td>0.0</td>\n",
              "      <td>0.0</td>\n",
              "      <td>...</td>\n",
              "      <td>2.169162</td>\n",
              "      <td>45.00</td>\n",
              "      <td>308</td>\n",
              "      <td>8.138411</td>\n",
              "      <td>50.000000</td>\n",
              "      <td>100962.299213</td>\n",
              "      <td>45413.779528</td>\n",
              "      <td>3816.582677</td>\n",
              "      <td>7.497480</td>\n",
              "      <td>7065</td>\n",
              "    </tr>\n",
              "    <tr>\n",
              "      <th>4</th>\n",
              "      <td>0.0</td>\n",
              "      <td>1.0</td>\n",
              "      <td>0.0</td>\n",
              "      <td>0.0</td>\n",
              "      <td>0.0</td>\n",
              "      <td>0.0</td>\n",
              "      <td>0.0</td>\n",
              "      <td>0.0</td>\n",
              "      <td>1.0</td>\n",
              "      <td>0.0</td>\n",
              "      <td>...</td>\n",
              "      <td>2.169162</td>\n",
              "      <td>45.00</td>\n",
              "      <td>308</td>\n",
              "      <td>8.138411</td>\n",
              "      <td>50.000000</td>\n",
              "      <td>100962.299213</td>\n",
              "      <td>45413.779528</td>\n",
              "      <td>3816.582677</td>\n",
              "      <td>7.497480</td>\n",
              "      <td>10520</td>\n",
              "    </tr>\n",
              "    <tr>\n",
              "      <th>...</th>\n",
              "      <td>...</td>\n",
              "      <td>...</td>\n",
              "      <td>...</td>\n",
              "      <td>...</td>\n",
              "      <td>...</td>\n",
              "      <td>...</td>\n",
              "      <td>...</td>\n",
              "      <td>...</td>\n",
              "      <td>...</td>\n",
              "      <td>...</td>\n",
              "      <td>...</td>\n",
              "      <td>...</td>\n",
              "      <td>...</td>\n",
              "      <td>...</td>\n",
              "      <td>...</td>\n",
              "      <td>...</td>\n",
              "      <td>...</td>\n",
              "      <td>...</td>\n",
              "      <td>...</td>\n",
              "      <td>...</td>\n",
              "      <td>...</td>\n",
              "    </tr>\n",
              "    <tr>\n",
              "      <th>2775</th>\n",
              "      <td>1.0</td>\n",
              "      <td>0.0</td>\n",
              "      <td>0.0</td>\n",
              "      <td>1.0</td>\n",
              "      <td>0.0</td>\n",
              "      <td>0.0</td>\n",
              "      <td>0.0</td>\n",
              "      <td>0.0</td>\n",
              "      <td>0.0</td>\n",
              "      <td>0.0</td>\n",
              "      <td>...</td>\n",
              "      <td>2.133195</td>\n",
              "      <td>14.00</td>\n",
              "      <td>242</td>\n",
              "      <td>7.615986</td>\n",
              "      <td>22.000000</td>\n",
              "      <td>677525.448276</td>\n",
              "      <td>311186.724138</td>\n",
              "      <td>18014.396552</td>\n",
              "      <td>6.930172</td>\n",
              "      <td>28566</td>\n",
              "    </tr>\n",
              "    <tr>\n",
              "      <th>2776</th>\n",
              "      <td>0.0</td>\n",
              "      <td>1.0</td>\n",
              "      <td>0.0</td>\n",
              "      <td>0.0</td>\n",
              "      <td>0.0</td>\n",
              "      <td>0.0</td>\n",
              "      <td>0.0</td>\n",
              "      <td>0.0</td>\n",
              "      <td>0.0</td>\n",
              "      <td>1.0</td>\n",
              "      <td>...</td>\n",
              "      <td>2.164043</td>\n",
              "      <td>46.00</td>\n",
              "      <td>286</td>\n",
              "      <td>8.356229</td>\n",
              "      <td>57.000000</td>\n",
              "      <td>109861.661417</td>\n",
              "      <td>50008.393701</td>\n",
              "      <td>2421.515748</td>\n",
              "      <td>5.118189</td>\n",
              "      <td>25126</td>\n",
              "    </tr>\n",
              "    <tr>\n",
              "      <th>2777</th>\n",
              "      <td>0.0</td>\n",
              "      <td>1.0</td>\n",
              "      <td>0.0</td>\n",
              "      <td>0.0</td>\n",
              "      <td>0.0</td>\n",
              "      <td>0.0</td>\n",
              "      <td>0.0</td>\n",
              "      <td>1.0</td>\n",
              "      <td>0.0</td>\n",
              "      <td>0.0</td>\n",
              "      <td>...</td>\n",
              "      <td>2.164043</td>\n",
              "      <td>46.00</td>\n",
              "      <td>286</td>\n",
              "      <td>8.356229</td>\n",
              "      <td>57.000000</td>\n",
              "      <td>109861.661417</td>\n",
              "      <td>50008.393701</td>\n",
              "      <td>2421.515748</td>\n",
              "      <td>5.118189</td>\n",
              "      <td>21660</td>\n",
              "    </tr>\n",
              "    <tr>\n",
              "      <th>2778</th>\n",
              "      <td>0.0</td>\n",
              "      <td>0.0</td>\n",
              "      <td>1.0</td>\n",
              "      <td>0.0</td>\n",
              "      <td>0.0</td>\n",
              "      <td>0.0</td>\n",
              "      <td>0.0</td>\n",
              "      <td>0.0</td>\n",
              "      <td>0.0</td>\n",
              "      <td>0.0</td>\n",
              "      <td>...</td>\n",
              "      <td>1.882406</td>\n",
              "      <td>9.00</td>\n",
              "      <td>146</td>\n",
              "      <td>6.837417</td>\n",
              "      <td>22.792636</td>\n",
              "      <td>80179.402778</td>\n",
              "      <td>41742.805556</td>\n",
              "      <td>1736.819444</td>\n",
              "      <td>4.401389</td>\n",
              "      <td>23912</td>\n",
              "    </tr>\n",
              "    <tr>\n",
              "      <th>2779</th>\n",
              "      <td>0.0</td>\n",
              "      <td>0.0</td>\n",
              "      <td>1.0</td>\n",
              "      <td>0.0</td>\n",
              "      <td>0.0</td>\n",
              "      <td>0.0</td>\n",
              "      <td>0.0</td>\n",
              "      <td>0.0</td>\n",
              "      <td>0.0</td>\n",
              "      <td>0.0</td>\n",
              "      <td>...</td>\n",
              "      <td>1.882406</td>\n",
              "      <td>9.00</td>\n",
              "      <td>146</td>\n",
              "      <td>6.837417</td>\n",
              "      <td>22.792636</td>\n",
              "      <td>80179.402778</td>\n",
              "      <td>41742.805556</td>\n",
              "      <td>1736.819444</td>\n",
              "      <td>4.401389</td>\n",
              "      <td>28950</td>\n",
              "    </tr>\n",
              "  </tbody>\n",
              "</table>\n",
              "<p>2780 rows × 81 columns</p>\n",
              "</div>\n",
              "      <button class=\"colab-df-convert\" onclick=\"convertToInteractive('df-cfc150cb-17b7-4ecd-8a46-ab9853fdae03')\"\n",
              "              title=\"Convert this dataframe to an interactive table.\"\n",
              "              style=\"display:none;\">\n",
              "        \n",
              "  <svg xmlns=\"http://www.w3.org/2000/svg\" height=\"24px\"viewBox=\"0 0 24 24\"\n",
              "       width=\"24px\">\n",
              "    <path d=\"M0 0h24v24H0V0z\" fill=\"none\"/>\n",
              "    <path d=\"M18.56 5.44l.94 2.06.94-2.06 2.06-.94-2.06-.94-.94-2.06-.94 2.06-2.06.94zm-11 1L8.5 8.5l.94-2.06 2.06-.94-2.06-.94L8.5 2.5l-.94 2.06-2.06.94zm10 10l.94 2.06.94-2.06 2.06-.94-2.06-.94-.94-2.06-.94 2.06-2.06.94z\"/><path d=\"M17.41 7.96l-1.37-1.37c-.4-.4-.92-.59-1.43-.59-.52 0-1.04.2-1.43.59L10.3 9.45l-7.72 7.72c-.78.78-.78 2.05 0 2.83L4 21.41c.39.39.9.59 1.41.59.51 0 1.02-.2 1.41-.59l7.78-7.78 2.81-2.81c.8-.78.8-2.07 0-2.86zM5.41 20L4 18.59l7.72-7.72 1.47 1.35L5.41 20z\"/>\n",
              "  </svg>\n",
              "      </button>\n",
              "      \n",
              "  <style>\n",
              "    .colab-df-container {\n",
              "      display:flex;\n",
              "      flex-wrap:wrap;\n",
              "      gap: 12px;\n",
              "    }\n",
              "\n",
              "    .colab-df-convert {\n",
              "      background-color: #E8F0FE;\n",
              "      border: none;\n",
              "      border-radius: 50%;\n",
              "      cursor: pointer;\n",
              "      display: none;\n",
              "      fill: #1967D2;\n",
              "      height: 32px;\n",
              "      padding: 0 0 0 0;\n",
              "      width: 32px;\n",
              "    }\n",
              "\n",
              "    .colab-df-convert:hover {\n",
              "      background-color: #E2EBFA;\n",
              "      box-shadow: 0px 1px 2px rgba(60, 64, 67, 0.3), 0px 1px 3px 1px rgba(60, 64, 67, 0.15);\n",
              "      fill: #174EA6;\n",
              "    }\n",
              "\n",
              "    [theme=dark] .colab-df-convert {\n",
              "      background-color: #3B4455;\n",
              "      fill: #D2E3FC;\n",
              "    }\n",
              "\n",
              "    [theme=dark] .colab-df-convert:hover {\n",
              "      background-color: #434B5C;\n",
              "      box-shadow: 0px 1px 3px 1px rgba(0, 0, 0, 0.15);\n",
              "      filter: drop-shadow(0px 1px 2px rgba(0, 0, 0, 0.3));\n",
              "      fill: #FFFFFF;\n",
              "    }\n",
              "  </style>\n",
              "\n",
              "      <script>\n",
              "        const buttonEl =\n",
              "          document.querySelector('#df-cfc150cb-17b7-4ecd-8a46-ab9853fdae03 button.colab-df-convert');\n",
              "        buttonEl.style.display =\n",
              "          google.colab.kernel.accessAllowed ? 'block' : 'none';\n",
              "\n",
              "        async function convertToInteractive(key) {\n",
              "          const element = document.querySelector('#df-cfc150cb-17b7-4ecd-8a46-ab9853fdae03');\n",
              "          const dataTable =\n",
              "            await google.colab.kernel.invokeFunction('convertToInteractive',\n",
              "                                                     [key], {});\n",
              "          if (!dataTable) return;\n",
              "\n",
              "          const docLinkHtml = 'Like what you see? Visit the ' +\n",
              "            '<a target=\"_blank\" href=https://colab.research.google.com/notebooks/data_table.ipynb>data table notebook</a>'\n",
              "            + ' to learn more about interactive tables.';\n",
              "          element.innerHTML = '';\n",
              "          dataTable['output_type'] = 'display_data';\n",
              "          await google.colab.output.renderOutput(dataTable, element);\n",
              "          const docLink = document.createElement('div');\n",
              "          docLink.innerHTML = docLinkHtml;\n",
              "          element.appendChild(docLink);\n",
              "        }\n",
              "      </script>\n",
              "    </div>\n",
              "  </div>\n",
              "  "
            ]
          },
          "metadata": {},
          "execution_count": 754
        }
      ],
      "id": "sx9-e8jB2MrQ"
    },
    {
      "cell_type": "code",
      "source": [
        "temp_df.dropna(axis=0,inplace=True)"
      ],
      "metadata": {
        "id": "STCcWJ_v5Kbr"
      },
      "execution_count": null,
      "outputs": [],
      "id": "STCcWJ_v5Kbr"
    },
    {
      "cell_type": "code",
      "source": [
        "temp_df.columns"
      ],
      "metadata": {
        "colab": {
          "base_uri": "https://localhost:8080/"
        },
        "outputId": "c66fbb74-7a65-4fe7-a553-0a6e9f4b9c23",
        "id": "pejLBlv92MrR"
      },
      "execution_count": null,
      "outputs": [
        {
          "output_type": "execute_result",
          "data": {
            "text/plain": [
              "Index(['California', 'Texas', 'Wisconsin', 'CA_1', 'CA_2', 'CA_3', 'CA_4',\n",
              "       'TX_1', 'TX_2', 'TX_3', 'WI_1', 'WI_2', 'WI_3', 'year', 'quarter',\n",
              "       'month', 'week', 'day', 'fall', 'spring', 'summer', 'winter',\n",
              "       'dayofweek', 'is_weekend', 'ChanukahEnd', 'Christmas', 'CincoDeMayo',\n",
              "       'ColumbusDay', 'Easter', 'EidAlAdha', 'Eidal-Fitr', 'Fathersday',\n",
              "       'Halloween', 'IndependenceDay', 'LaborDay', 'LentStart', 'LentWeek2',\n",
              "       'MartinLutherKingDay', 'MemorialDay', 'Mothersday', 'NBAFinalsEnd',\n",
              "       'NBAFinalsStart', 'NewYear', 'OrthodoxChristmas', 'OrthodoxEaster',\n",
              "       'PesachEnd', 'PresidentsDay', 'PurimEnd', 'Ramadanstarts',\n",
              "       'StPatricksDay', 'SuperBowl', 'Thanksgiving', 'ValentinesDay',\n",
              "       'VeteransDay', 'number_of_events', 'Cultural', 'National', 'Religious',\n",
              "       'Sporting', 'raw_visit_counts', 'raw_visitor_counts',\n",
              "       'distance_from_home', 'median_dwell', '<5', '5-10', '11-20', '21-60',\n",
              "       '61-120', '121-240', '>240', 'number_stores_visited_daily',\n",
              "       'other_stores_avg_visitors_daily', 'average_visitors_same_day_yj',\n",
              "       'number_stores_visited_weekly', 'other_stores_avg_visitors_weekly',\n",
              "       'average_visitors_same_week_yj', 'population', 'employed', 'unemployed',\n",
              "       'unemployment_rate', 'sold'],\n",
              "      dtype='object')"
            ]
          },
          "metadata": {},
          "execution_count": 762
        }
      ],
      "id": "pejLBlv92MrR"
    },
    {
      "cell_type": "code",
      "source": [
        "cols=['California', 'Texas', 'Wisconsin', 'CA_1', 'CA_2', 'CA_3', 'CA_4',\n",
        "       'TX_1', 'TX_2', 'TX_3', 'WI_1', 'WI_2', 'WI_3',  'fall', 'spring', 'summer', 'winter',\n",
        "       'dayofweek', 'is_weekend', 'ChanukahEnd', 'Christmas', 'CincoDeMayo',\n",
        "       'ColumbusDay', 'Easter', 'EidAlAdha', 'Eidal-Fitr', 'Fathersday',\n",
        "       'Halloween', 'IndependenceDay', 'LaborDay', 'LentStart', 'LentWeek2',\n",
        "       'MartinLutherKingDay', 'MemorialDay', 'Mothersday', 'NBAFinalsEnd',\n",
        "       'NBAFinalsStart', 'NewYear', 'OrthodoxChristmas', 'OrthodoxEaster',\n",
        "       'PesachEnd', 'PresidentsDay', 'PurimEnd', 'Ramadanstarts',\n",
        "       'StPatricksDay', 'SuperBowl', 'Thanksgiving', 'ValentinesDay',\n",
        "       'VeteransDay', 'number_of_events', 'Cultural', 'National', 'Religious',\n",
        "       'Sporting', 'raw_visit_counts', 'raw_visitor_counts',\n",
        "       'distance_from_home', 'median_dwell', '<5', '5-10', '11-20', '21-60',\n",
        "       '61-120', '121-240', '>240', 'number_stores_visited_daily',\n",
        "       'other_stores_avg_visitors_daily', 'average_visitors_same_day_yj',\n",
        "       'number_stores_visited_weekly', 'other_stores_avg_visitors_weekly',\n",
        "       'average_visitors_same_week_yj', 'population', 'employed', 'unemployed',\n",
        "       'unemployment_rate', 'sold']"
      ],
      "metadata": {
        "id": "vkRC-VcR2MrR"
      },
      "execution_count": null,
      "outputs": [],
      "id": "vkRC-VcR2MrR"
    },
    {
      "cell_type": "code",
      "source": [
        "temp_df=temp_df[cols]"
      ],
      "metadata": {
        "id": "m-dJcnjS2MrR"
      },
      "execution_count": null,
      "outputs": [],
      "id": "m-dJcnjS2MrR"
    },
    {
      "cell_type": "code",
      "source": [
        "temp_df[53:].values"
      ],
      "metadata": {
        "colab": {
          "base_uri": "https://localhost:8080/"
        },
        "id": "TXOcL1H74qAz",
        "outputId": "779f90e0-5ddf-4f4c-d2e8-dc444ab85724"
      },
      "execution_count": null,
      "outputs": [
        {
          "output_type": "execute_result",
          "data": {
            "text/plain": [
              "array([[7.00000000e+00, 1.00000000e+00, 4.89079545e+02, ...,\n",
              "        2.21920000e+04, 1.89280000e+04, 1.08450000e+04],\n",
              "       [9.00000000e+00, 1.00000000e+00, 4.89079545e+02, ...,\n",
              "        2.21920000e+04, 2.35360000e+04, 2.52560000e+04],\n",
              "       [8.00000000e+00, 1.00000000e+00, 4.89079545e+02, ...,\n",
              "        2.21920000e+04, 2.40960000e+04, 1.25030000e+04],\n",
              "       ...,\n",
              "       [4.00000000e+00, 1.00000000e+00, 1.04715444e+03, ...,\n",
              "        2.30560000e+04, 2.04800000e+04, 2.16600000e+04],\n",
              "       [7.00000000e+00, 1.00000000e+00, 6.27727273e+02, ...,\n",
              "        2.21920000e+04, 1.89280000e+04, 2.39120000e+04],\n",
              "       [8.00000000e+00, 1.00000000e+00, 6.27727273e+02, ...,\n",
              "        2.21920000e+04, 2.40960000e+04, 2.89500000e+04]])"
            ]
          },
          "metadata": {},
          "execution_count": 807
        }
      ],
      "id": "TXOcL1H74qAz"
    },
    {
      "cell_type": "code",
      "source": [
        "\n",
        "data=temp_df.values\n",
        "X, y = data[:, :-1], data[:, -1]"
      ],
      "metadata": {
        "id": "dEQiQlg_NRas"
      },
      "execution_count": null,
      "outputs": [],
      "id": "dEQiQlg_NRas"
    },
    {
      "cell_type": "code",
      "source": [
        "from pandas import read_csv\n",
        "from sklearn.model_selection import train_test_split\n",
        "from sklearn.feature_selection import SelectKBest\n",
        "from sklearn.feature_selection import f_classif\n",
        "from matplotlib import pyplot\n",
        "# load the dataset\n",
        "from sklearn.ensemble import RandomForestRegressor\n",
        "\n",
        "data=temp_df.values\n",
        "X, y = data[:, :-1], data[:, -1]\n",
        "# fit random forest model\n",
        "model = RandomForestRegressor(n_estimators=500, random_state=1)\n",
        "model.fit(X, y)\n",
        "# show importance scores\n",
        "print(model.feature_importances_)\n",
        "# plot importance scores\n",
        "names = temp_df.columns.values[0:-1]\n",
        "ticks = [i for i in range(len(names))]\n",
        "pyplot.bar(ticks, model.feature_importances_)\n",
        "pyplot.xticks(ticks, names)\n",
        "pyplot.show()"
      ],
      "metadata": {
        "colab": {
          "base_uri": "https://localhost:8080/",
          "height": 596
        },
        "id": "xhV35aXs2DDC",
        "outputId": "582e3773-1496-4268-ce9b-647bc0ac2f63"
      },
      "execution_count": null,
      "outputs": [
        {
          "output_type": "stream",
          "name": "stdout",
          "text": [
            "[8.03024283e-04 1.22796301e-05 6.23923494e-05 3.57829031e-02\n",
            " 1.00612853e-03 4.73679066e-01 8.71009037e-02 4.89805575e-03\n",
            " 2.43778022e-02 6.56703673e-04 6.02995911e-03 2.54698687e-02\n",
            " 4.19924518e-02 6.31876389e-04 2.41208320e-03 6.26455225e-03\n",
            " 9.52338655e-04 0.00000000e+00 0.00000000e+00 1.24027993e-04\n",
            " 2.81837197e-03 6.65969362e-05 1.43410458e-04 1.13883634e-04\n",
            " 1.00761124e-04 7.07828985e-05 4.65076034e-05 2.96771853e-05\n",
            " 1.06981894e-04 6.03766435e-05 2.01942441e-04 5.85630802e-05\n",
            " 2.94192385e-05 1.03420381e-04 7.19554752e-05 6.97935211e-05\n",
            " 1.12748016e-04 8.74005705e-04 6.35927738e-05 5.44802563e-05\n",
            " 6.93143963e-05 7.11038804e-05 7.88926961e-05 8.23055223e-05\n",
            " 1.12434289e-04 3.79523825e-05 2.61286143e-04 7.72399548e-05\n",
            " 2.81960927e-05 1.42608436e-03 4.91981458e-04 8.14185566e-04\n",
            " 3.61250528e-04 1.82729567e-04 2.77869051e-03 2.92907998e-03\n",
            " 6.49854961e-03 5.27014506e-03 3.08783994e-03 6.76902903e-03\n",
            " 5.12061912e-03 3.27923944e-03 8.45654605e-03 4.24656284e-03\n",
            " 4.13453532e-03 5.39768953e-03 4.55455773e-03 3.87280070e-03\n",
            " 4.03752703e-03 6.71186198e-03 4.82401171e-03 5.32883338e-02\n",
            " 5.14586622e-02 2.20470653e-02 6.96880080e-02]\n"
          ]
        },
        {
          "output_type": "display_data",
          "data": {
            "text/plain": [
              "<Figure size 432x288 with 1 Axes>"
            ],
            "image/png": "[encoded data removed]"
          },
          "metadata": {
            "needs_background": "light"
          }
        }
      ],
      "id": "xhV35aXs2DDC"
    },
    {
      "cell_type": "code",
      "source": [
        ""
      ],
      "metadata": {
        "id": "BasK4NEwLLa1"
      },
      "execution_count": null,
      "outputs": [],
      "id": "BasK4NEwLLa1"
    },
    {
      "cell_type": "code",
      "source": [
        "from sklearn.feature_selection import RFE\n",
        "from sklearn.ensemble import RandomForestRegressor\n",
        "rfe = RFE(RandomForestRegressor(n_estimators=500, random_state=1), n_features_to_select=4)\n",
        "fit = rfe.fit(X, y)\n",
        "# report selected features\n",
        "print('Selected Features:')\n",
        "names = temp_df.columns.values[0:-1]\n",
        "for i in range(len(fit.support_)):\n",
        "\tif fit.support_[i]:\n",
        "\t \tprint(names[i])\n",
        "# plot feature rank\n",
        "names = temp_df.columns.values[0:-1]\n",
        "ticks = [i for i in range(len(names))]\n",
        "pyplot.bar(ticks, fit.ranking_)\n",
        "pyplot.xticks(ticks, names)\n",
        "pyplot.show()"
      ],
      "metadata": {
        "colab": {
          "base_uri": "https://localhost:8080/",
          "height": 353
        },
        "id": "1XkLf9rm30kt",
        "outputId": "5db5ba30-7d70-49cb-8a70-790d6b87fb13"
      },
      "execution_count": null,
      "outputs": [
        {
          "output_type": "stream",
          "name": "stdout",
          "text": [
            "Selected Features:\n",
            "CA_3\n",
            "61-120\n",
            "population\n",
            "employed\n"
          ]
        },
        {
          "output_type": "display_data",
          "data": {
            "text/plain": [
              "<Figure size 432x288 with 1 Axes>"
            ],
            "image/png": "[encoded data removed]"
          },
          "metadata": {
            "needs_background": "light"
          }
        }
      ],
      "id": "1XkLf9rm30kt"
    },
    {
      "cell_type": "code",
      "source": [
        "# feature selection\n",
        "def select_features(X_train, y_train, X_test):\n",
        "  # configure to select all features\n",
        "  fs = SelectKBest(score_func=f_classif, k='all')\n",
        "  # learn relationship from training data\n",
        "  fs.fit(X_train, y_train)\n",
        "  # transform train input data\n",
        "  X_train_fs = fs.transform(X_train)\n",
        "  # transform test input data\n",
        "  X_test_fs = fs.transform(X_test)\n",
        "  return X_train_fs, X_test_fs, fs\n",
        "# load the dataset\n",
        "# split into train and test sets\n",
        "X_train, X_test, y_train, y_test = train_test_split(X, y, test_size=0.33, random_state=1)\n",
        "# feature selection\n",
        "X_train_fs, X_test_fs, fs = select_features(X_train, y_train, X_test)\n",
        "# what are scores for the features\n",
        "for i in range(len(fs.scores_)):\n",
        "  print('Feature %d: %f' % (i, fs.scores_[i]))\n",
        "# plot the scores\n",
        "pyplot.bar([i for i in range(len(fs.scores_))], fs.scores_)\n",
        "pyplot.show()"
      ],
      "metadata": {
        "colab": {
          "base_uri": "https://localhost:8080/",
          "height": 1000
        },
        "id": "RaQ6OyrH551p",
        "outputId": "b5acb69e-a69e-4be4-e197-d3a94c68b91a"
      },
      "execution_count": null,
      "outputs": [
        {
          "output_type": "stream",
          "name": "stderr",
          "text": [
            "/usr/local/lib/python3.7/dist-packages/sklearn/feature_selection/_univariate_selection.py:112: UserWarning: Features [17 18 24 30] are constant.\n",
            "  warnings.warn(\"Features %s are constant.\" % constant_features_idx, UserWarning)\n",
            "/usr/local/lib/python3.7/dist-packages/sklearn/feature_selection/_univariate_selection.py:113: RuntimeWarning: divide by zero encountered in true_divide\n",
            "  f = msb / msw\n",
            "/usr/local/lib/python3.7/dist-packages/sklearn/feature_selection/_univariate_selection.py:113: RuntimeWarning: invalid value encountered in true_divide\n",
            "  f = msb / msw\n"
          ]
        },
        {
          "output_type": "stream",
          "name": "stdout",
          "text": [
            "Feature 0: 1.852068\n",
            "Feature 1: 0.989997\n",
            "Feature 2: 1.108457\n",
            "Feature 3: 1.094857\n",
            "Feature 4: 1.532842\n",
            "Feature 5: 11.603729\n",
            "Feature 6: 4.034164\n",
            "Feature 7: 0.967647\n",
            "Feature 8: 0.723928\n",
            "Feature 9: 0.991083\n",
            "Feature 10: 0.924754\n",
            "Feature 11: 1.276735\n",
            "Feature 12: 0.864130\n",
            "Feature 13: 1.431808\n",
            "Feature 14: 1.091289\n",
            "Feature 15: 1.310670\n",
            "Feature 16: 0.851203\n",
            "Feature 17: nan\n",
            "Feature 18: nan\n",
            "Feature 19: 0.711112\n",
            "Feature 20: 2.135747\n",
            "Feature 21: 0.657556\n",
            "Feature 22: 2.204567\n",
            "Feature 23: 2.684163\n",
            "Feature 24: inf\n",
            "Feature 25: 0.593059\n",
            "Feature 26: 1.050066\n",
            "Feature 27: 1.153181\n",
            "Feature 28: 2.204567\n",
            "Feature 29: 0.535609\n",
            "Feature 30: inf\n",
            "Feature 31: 0.916424\n",
            "Feature 32: 0.426170\n",
            "Feature 33: 1.084476\n",
            "Feature 34: 0.780210\n",
            "Feature 35: 2.135747\n",
            "Feature 36: 0.575931\n",
            "Feature 37: 0.642216\n",
            "Feature 38: 0.371084\n",
            "Feature 39: 2.752371\n",
            "Feature 40: 1.118848\n",
            "Feature 41: 1.494411\n",
            "Feature 42: 0.870978\n",
            "Feature 43: 0.524431\n",
            "Feature 44: 0.916424\n",
            "Feature 45: 1.007011\n",
            "Feature 46: 2.341977\n",
            "Feature 47: 1.494411\n",
            "Feature 48: 0.734027\n",
            "Feature 49: 0.989208\n",
            "Feature 50: 0.953818\n",
            "Feature 51: 0.791098\n",
            "Feature 52: 0.772838\n",
            "Feature 53: 0.893782\n",
            "Feature 54: 0.870824\n",
            "Feature 55: 0.893022\n",
            "Feature 56: 1.504810\n",
            "Feature 57: 1.224635\n",
            "Feature 58: 1.000207\n",
            "Feature 59: 0.963936\n",
            "Feature 60: 0.856148\n",
            "Feature 61: 0.864146\n",
            "Feature 62: 0.942935\n",
            "Feature 63: 0.864959\n",
            "Feature 64: 0.848207\n",
            "Feature 65: 0.855700\n",
            "Feature 66: 1.110304\n",
            "Feature 67: 0.553116\n",
            "Feature 68: 0.864168\n",
            "Feature 69: 0.890645\n",
            "Feature 70: 0.723432\n",
            "Feature 71: 1.886495\n",
            "Feature 72: 1.920419\n",
            "Feature 73: 1.573966\n",
            "Feature 74: 1.301795\n"
          ]
        },
        {
          "output_type": "display_data",
          "data": {
            "text/plain": [
              "<Figure size 432x288 with 1 Axes>"
            ],
            "image/png": "[encoded data removed]"
          },
          "metadata": {
            "needs_background": "light"
          }
        }
      ],
      "id": "RaQ6OyrH551p"
    },
    {
      "cell_type": "code",
      "source": [
        "# feature selection\n",
        "def select_features(X_train, y_train, X_test):\n",
        "# configure to select all features\n",
        "  fs = SelectKBest(score_func=chi2\n",
        "                   , k='all')\n",
        "  # learn relationship from training data\n",
        "  fs.fit(X_train, y_train)\n",
        "  # transform train input data\n",
        "  X_train_fs = fs.transform(X_train)\n",
        "  # transform test input data\n",
        "  X_test_fs = fs.transform(X_test)\n",
        "  return X_train_fs, X_test_fs, fs\n",
        "\n",
        "X_train, X_test, y_train, y_test = train_test_split(X, y, test_size=0.33, random_state=1)\n",
        "# feature selection\n",
        "X_train_fs, X_test_fs, fs = select_features(X_train, y_train, X_test)\n",
        "# what are scores for the features\n",
        "for i in range(len(fs.scores_)):  print('Feature %d: %f' % (i, fs.scores_[i]))\n",
        "# plot the scores\n",
        "pyplot.bar([i for i in range(len(fs.scores_))], fs.scores_)\n",
        "pyplot.show()"
      ],
      "metadata": {
        "colab": {
          "base_uri": "https://localhost:8080/",
          "height": 1000
        },
        "id": "CiKpxP236hZz",
        "outputId": "5057f5b5-a1d7-467a-ceab-85b873030eb2"
      },
      "execution_count": null,
      "outputs": [
        {
          "output_type": "stream",
          "name": "stdout",
          "text": [
            "Feature 0: 1077.284031\n",
            "Feature 1: 1263.544304\n",
            "Feature 2: 1276.001835\n",
            "Feature 3: 1614.482051\n",
            "Feature 4: 1627.192893\n",
            "Feature 5: 1675.856354\n",
            "Feature 6: 1656.376963\n",
            "Feature 7: 1614.574468\n",
            "Feature 8: 1593.600000\n",
            "Feature 9: 1628.480000\n",
            "Feature 10: 1620.586592\n",
            "Feature 11: 1632.461957\n",
            "Feature 12: 1613.500000\n",
            "Feature 13: 1399.196262\n",
            "Feature 14: 1322.828629\n",
            "Feature 15: 1376.593750\n",
            "Feature 16: 1316.900000\n",
            "Feature 17: nan\n",
            "Feature 18: nan\n",
            "Feature 19: 1742.718750\n",
            "Feature 20: 1800.967742\n",
            "Feature 21: 1718.900000\n",
            "Feature 22: 1800.906250\n",
            "Feature 23: 1799.128205\n",
            "Feature 24: 1830.000000\n",
            "Feature 25: 1722.555556\n",
            "Feature 26: 1770.935484\n",
            "Feature 27: 1773.235294\n",
            "Feature 28: 1800.906250\n",
            "Feature 29: 1707.463415\n",
            "Feature 30: 1822.000000\n",
            "Feature 31: 1752.878049\n",
            "Feature 32: 1687.939394\n",
            "Feature 33: 1771.812500\n",
            "Feature 34: 1735.765957\n",
            "Feature 35: 1800.967742\n",
            "Feature 36: 1720.600000\n",
            "Feature 37: 1736.689655\n",
            "Feature 38: 1672.482759\n",
            "Feature 39: 1798.725000\n",
            "Feature 40: 1772.575758\n",
            "Feature 41: 1775.681818\n",
            "Feature 42: 1751.384615\n",
            "Feature 43: 1713.625000\n",
            "Feature 44: 1752.878049\n",
            "Feature 45: 1754.933333\n",
            "Feature 46: 1800.617647\n",
            "Feature 47: 1775.681818\n",
            "Feature 48: 1744.363636\n",
            "Feature 49: 1562.884615\n",
            "Feature 50: 1546.263566\n",
            "Feature 51: 1455.475073\n",
            "Feature 52: 1479.805732\n",
            "Feature 53: 1683.900901\n",
            "Feature 54: 117418.192427\n",
            "Feature 55: 79330.800011\n",
            "Feature 56: 1818504.451109\n",
            "Feature 57: 38.247230\n",
            "Feature 58: 2554.362123\n",
            "Feature 59: 34340.247060\n",
            "Feature 60: 24885.646530\n",
            "Feature 61: 40608.639799\n",
            "Feature 62: 14211.176446\n",
            "Feature 63: 4273.781037\n",
            "Feature 64: 5576.061749\n",
            "Feature 65: 37164.581185\n",
            "Feature 66: 34.738624\n",
            "Feature 67: 11746.454816\n",
            "Feature 68: 18892.189073\n",
            "Feature 69: 190.685546\n",
            "Feature 70: 5038.369408\n",
            "Feature 71: 441186458.337232\n",
            "Feature 72: 189454420.521081\n",
            "Feature 73: 23537398.288088\n",
            "Feature 74: 1530.885730\n"
          ]
        },
        {
          "output_type": "display_data",
          "data": {
            "text/plain": [
              "<Figure size 432x288 with 1 Axes>"
            ],
            "image/png": "[encoded data removed]"
          },
          "metadata": {
            "needs_background": "light"
          }
        }
      ],
      "id": "CiKpxP236hZz"
    },
    {
      "cell_type": "code",
      "source": [
        "from sklearn.linear_model import LogisticRegression, LinearRegression"
      ],
      "metadata": {
        "id": "elZv9a_pT5WJ"
      },
      "execution_count": null,
      "outputs": [],
      "id": "elZv9a_pT5WJ"
    },
    {
      "cell_type": "code",
      "source": [
        "from sklearn.metrics import accuracy_score"
      ],
      "metadata": {
        "id": "s1S-AhK6UeWy"
      },
      "execution_count": null,
      "outputs": [],
      "id": "s1S-AhK6UeWy"
    },
    {
      "cell_type": "code",
      "source": [
        "X_train, X_test, y_train, y_test = train_test_split(X, y, test_size=0.33, random_state=1)\n",
        "# fit the model\n",
        "model = LogisticRegression(solver='liblinear')\n",
        "model.fit(X_train, y_train)\n",
        "# evaluate the model\n",
        "yhat = model.predict(X_test)\n",
        "# evaluate predictions\n",
        "accuracy = accuracy_score(y_test, yhat)\n",
        "print('Accuracy: %.2f' % (accuracy*100))"
      ],
      "metadata": {
        "colab": {
          "base_uri": "https://localhost:8080/",
          "height": 414
        },
        "id": "5viCVXwc6pq3",
        "outputId": "a810c8ed-4376-4c57-82bd-9a24ace82143"
      },
      "execution_count": null,
      "outputs": [
        {
          "output_type": "error",
          "ename": "KeyboardInterrupt",
          "evalue": "ignored",
          "traceback": [
            "\u001b[0;31m---------------------------------------------------------------------------\u001b[0m",
            "\u001b[0;31mKeyboardInterrupt\u001b[0m                         Traceback (most recent call last)",
            "\u001b[0;32m<ipython-input-774-5f67d02721c9>\u001b[0m in \u001b[0;36m<module>\u001b[0;34m()\u001b[0m\n\u001b[1;32m      2\u001b[0m \u001b[0;31m# fit the model\u001b[0m\u001b[0;34m\u001b[0m\u001b[0;34m\u001b[0m\u001b[0;34m\u001b[0m\u001b[0m\n\u001b[1;32m      3\u001b[0m \u001b[0mmodel\u001b[0m \u001b[0;34m=\u001b[0m \u001b[0mLogisticRegression\u001b[0m\u001b[0;34m(\u001b[0m\u001b[0msolver\u001b[0m\u001b[0;34m=\u001b[0m\u001b[0;34m'liblinear'\u001b[0m\u001b[0;34m)\u001b[0m\u001b[0;34m\u001b[0m\u001b[0;34m\u001b[0m\u001b[0m\n\u001b[0;32m----> 4\u001b[0;31m \u001b[0mmodel\u001b[0m\u001b[0;34m.\u001b[0m\u001b[0mfit\u001b[0m\u001b[0;34m(\u001b[0m\u001b[0mX_train\u001b[0m\u001b[0;34m,\u001b[0m \u001b[0my_train\u001b[0m\u001b[0;34m)\u001b[0m\u001b[0;34m\u001b[0m\u001b[0;34m\u001b[0m\u001b[0m\n\u001b[0m\u001b[1;32m      5\u001b[0m \u001b[0;31m# evaluate the model\u001b[0m\u001b[0;34m\u001b[0m\u001b[0;34m\u001b[0m\u001b[0;34m\u001b[0m\u001b[0m\n\u001b[1;32m      6\u001b[0m \u001b[0myhat\u001b[0m \u001b[0;34m=\u001b[0m \u001b[0mmodel\u001b[0m\u001b[0;34m.\u001b[0m\u001b[0mpredict\u001b[0m\u001b[0;34m(\u001b[0m\u001b[0mX_test\u001b[0m\u001b[0;34m)\u001b[0m\u001b[0;34m\u001b[0m\u001b[0;34m\u001b[0m\u001b[0m\n",
            "\u001b[0;32m/usr/local/lib/python3.7/dist-packages/sklearn/linear_model/_logistic.py\u001b[0m in \u001b[0;36mfit\u001b[0;34m(self, X, y, sample_weight)\u001b[0m\n\u001b[1;32m   1539\u001b[0m                 \u001b[0mself\u001b[0m\u001b[0;34m.\u001b[0m\u001b[0mtol\u001b[0m\u001b[0;34m,\u001b[0m\u001b[0;34m\u001b[0m\u001b[0;34m\u001b[0m\u001b[0m\n\u001b[1;32m   1540\u001b[0m                 \u001b[0mself\u001b[0m\u001b[0;34m.\u001b[0m\u001b[0mrandom_state\u001b[0m\u001b[0;34m,\u001b[0m\u001b[0;34m\u001b[0m\u001b[0;34m\u001b[0m\u001b[0m\n\u001b[0;32m-> 1541\u001b[0;31m                 \u001b[0msample_weight\u001b[0m\u001b[0;34m=\u001b[0m\u001b[0msample_weight\u001b[0m\u001b[0;34m,\u001b[0m\u001b[0;34m\u001b[0m\u001b[0;34m\u001b[0m\u001b[0m\n\u001b[0m\u001b[1;32m   1542\u001b[0m             )\n\u001b[1;32m   1543\u001b[0m             \u001b[0mself\u001b[0m\u001b[0;34m.\u001b[0m\u001b[0mn_iter_\u001b[0m \u001b[0;34m=\u001b[0m \u001b[0mnp\u001b[0m\u001b[0;34m.\u001b[0m\u001b[0marray\u001b[0m\u001b[0;34m(\u001b[0m\u001b[0;34m[\u001b[0m\u001b[0mn_iter_\u001b[0m\u001b[0;34m]\u001b[0m\u001b[0;34m)\u001b[0m\u001b[0;34m\u001b[0m\u001b[0;34m\u001b[0m\u001b[0m\n",
            "\u001b[0;32m/usr/local/lib/python3.7/dist-packages/sklearn/svm/_base.py\u001b[0m in \u001b[0;36m_fit_liblinear\u001b[0;34m(X, y, C, fit_intercept, intercept_scaling, class_weight, penalty, dual, verbose, max_iter, tol, random_state, multi_class, loss, epsilon, sample_weight)\u001b[0m\n\u001b[1;32m   1196\u001b[0m         \u001b[0mrnd\u001b[0m\u001b[0;34m.\u001b[0m\u001b[0mrandint\u001b[0m\u001b[0;34m(\u001b[0m\u001b[0mnp\u001b[0m\u001b[0;34m.\u001b[0m\u001b[0miinfo\u001b[0m\u001b[0;34m(\u001b[0m\u001b[0;34m\"i\"\u001b[0m\u001b[0;34m)\u001b[0m\u001b[0;34m.\u001b[0m\u001b[0mmax\u001b[0m\u001b[0;34m)\u001b[0m\u001b[0;34m,\u001b[0m\u001b[0;34m\u001b[0m\u001b[0;34m\u001b[0m\u001b[0m\n\u001b[1;32m   1197\u001b[0m         \u001b[0mepsilon\u001b[0m\u001b[0;34m,\u001b[0m\u001b[0;34m\u001b[0m\u001b[0;34m\u001b[0m\u001b[0m\n\u001b[0;32m-> 1198\u001b[0;31m         \u001b[0msample_weight\u001b[0m\u001b[0;34m,\u001b[0m\u001b[0;34m\u001b[0m\u001b[0;34m\u001b[0m\u001b[0m\n\u001b[0m\u001b[1;32m   1199\u001b[0m     )\n\u001b[1;32m   1200\u001b[0m     \u001b[0;31m# Regarding rnd.randint(..) in the above signature:\u001b[0m\u001b[0;34m\u001b[0m\u001b[0;34m\u001b[0m\u001b[0;34m\u001b[0m\u001b[0m\n",
            "\u001b[0;31mKeyboardInterrupt\u001b[0m: "
          ]
        }
      ],
      "id": "5viCVXwc6pq3"
    },
    {
      "cell_type": "code",
      "source": [
        "X_train, X_test, y_train, y_test = train_test_split(X, y, test_size=0.33, random_state=1)\n",
        "# fit the model\n",
        "model = LinearRegression()\n",
        "model.fit(X_train, y_train)\n",
        "# evaluate the model\n",
        "yhat = model.predict(X_test)\n",
        "# evaluate predictions\n",
        "accuracy = accuracy_score(y_test, yhat)\n",
        "print('Accuracy: %.2f' % (accuracy*100))"
      ],
      "metadata": {
        "colab": {
          "base_uri": "https://localhost:8080/",
          "height": 362
        },
        "id": "qfPECuhANBg_",
        "outputId": "ada8d802-be99-4a94-e58f-970cbb339132"
      },
      "execution_count": null,
      "outputs": [
        {
          "output_type": "error",
          "ename": "ValueError",
          "evalue": "ignored",
          "traceback": [
            "\u001b[0;31m---------------------------------------------------------------------------\u001b[0m",
            "\u001b[0;31mValueError\u001b[0m                                Traceback (most recent call last)",
            "\u001b[0;32m<ipython-input-775-6dbff8f76edb>\u001b[0m in \u001b[0;36m<module>\u001b[0;34m()\u001b[0m\n\u001b[1;32m      6\u001b[0m \u001b[0myhat\u001b[0m \u001b[0;34m=\u001b[0m \u001b[0mmodel\u001b[0m\u001b[0;34m.\u001b[0m\u001b[0mpredict\u001b[0m\u001b[0;34m(\u001b[0m\u001b[0mX_test\u001b[0m\u001b[0;34m)\u001b[0m\u001b[0;34m\u001b[0m\u001b[0;34m\u001b[0m\u001b[0m\n\u001b[1;32m      7\u001b[0m \u001b[0;31m# evaluate predictions\u001b[0m\u001b[0;34m\u001b[0m\u001b[0;34m\u001b[0m\u001b[0;34m\u001b[0m\u001b[0m\n\u001b[0;32m----> 8\u001b[0;31m \u001b[0maccuracy\u001b[0m \u001b[0;34m=\u001b[0m \u001b[0maccuracy_score\u001b[0m\u001b[0;34m(\u001b[0m\u001b[0my_test\u001b[0m\u001b[0;34m,\u001b[0m \u001b[0myhat\u001b[0m\u001b[0;34m)\u001b[0m\u001b[0;34m\u001b[0m\u001b[0;34m\u001b[0m\u001b[0m\n\u001b[0m\u001b[1;32m      9\u001b[0m \u001b[0mprint\u001b[0m\u001b[0;34m(\u001b[0m\u001b[0;34m'Accuracy: %.2f'\u001b[0m \u001b[0;34m%\u001b[0m \u001b[0;34m(\u001b[0m\u001b[0maccuracy\u001b[0m\u001b[0;34m*\u001b[0m\u001b[0;36m100\u001b[0m\u001b[0;34m)\u001b[0m\u001b[0;34m)\u001b[0m\u001b[0;34m\u001b[0m\u001b[0;34m\u001b[0m\u001b[0m\n",
            "\u001b[0;32m/usr/local/lib/python3.7/dist-packages/sklearn/metrics/_classification.py\u001b[0m in \u001b[0;36maccuracy_score\u001b[0;34m(y_true, y_pred, normalize, sample_weight)\u001b[0m\n\u001b[1;32m    209\u001b[0m \u001b[0;34m\u001b[0m\u001b[0m\n\u001b[1;32m    210\u001b[0m     \u001b[0;31m# Compute accuracy for each possible representation\u001b[0m\u001b[0;34m\u001b[0m\u001b[0;34m\u001b[0m\u001b[0;34m\u001b[0m\u001b[0m\n\u001b[0;32m--> 211\u001b[0;31m     \u001b[0my_type\u001b[0m\u001b[0;34m,\u001b[0m \u001b[0my_true\u001b[0m\u001b[0;34m,\u001b[0m \u001b[0my_pred\u001b[0m \u001b[0;34m=\u001b[0m \u001b[0m_check_targets\u001b[0m\u001b[0;34m(\u001b[0m\u001b[0my_true\u001b[0m\u001b[0;34m,\u001b[0m \u001b[0my_pred\u001b[0m\u001b[0;34m)\u001b[0m\u001b[0;34m\u001b[0m\u001b[0;34m\u001b[0m\u001b[0m\n\u001b[0m\u001b[1;32m    212\u001b[0m     \u001b[0mcheck_consistent_length\u001b[0m\u001b[0;34m(\u001b[0m\u001b[0my_true\u001b[0m\u001b[0;34m,\u001b[0m \u001b[0my_pred\u001b[0m\u001b[0;34m,\u001b[0m \u001b[0msample_weight\u001b[0m\u001b[0;34m)\u001b[0m\u001b[0;34m\u001b[0m\u001b[0;34m\u001b[0m\u001b[0m\n\u001b[1;32m    213\u001b[0m     \u001b[0;32mif\u001b[0m \u001b[0my_type\u001b[0m\u001b[0;34m.\u001b[0m\u001b[0mstartswith\u001b[0m\u001b[0;34m(\u001b[0m\u001b[0;34m\"multilabel\"\u001b[0m\u001b[0;34m)\u001b[0m\u001b[0;34m:\u001b[0m\u001b[0;34m\u001b[0m\u001b[0;34m\u001b[0m\u001b[0m\n",
            "\u001b[0;32m/usr/local/lib/python3.7/dist-packages/sklearn/metrics/_classification.py\u001b[0m in \u001b[0;36m_check_targets\u001b[0;34m(y_true, y_pred)\u001b[0m\n\u001b[1;32m     93\u001b[0m         raise ValueError(\n\u001b[1;32m     94\u001b[0m             \"Classification metrics can't handle a mix of {0} and {1} targets\".format(\n\u001b[0;32m---> 95\u001b[0;31m                 \u001b[0mtype_true\u001b[0m\u001b[0;34m,\u001b[0m \u001b[0mtype_pred\u001b[0m\u001b[0;34m\u001b[0m\u001b[0;34m\u001b[0m\u001b[0m\n\u001b[0m\u001b[1;32m     96\u001b[0m             )\n\u001b[1;32m     97\u001b[0m         )\n",
            "\u001b[0;31mValueError\u001b[0m: Classification metrics can't handle a mix of multiclass and continuous targets"
          ]
        }
      ],
      "id": "qfPECuhANBg_"
    },
    {
      "cell_type": "code",
      "source": [
        "# feature selection\n",
        "def select_features(X_train, y_train, X_test):\n",
        "  # configure to select a subset of features\n",
        "  fs = SelectKBest(score_func=f_classif, k=4)\n",
        "  # learn relationship from training data\n",
        "  fs.fit(X_train, y_train)\n",
        "  # transform train input data\n",
        "  X_train_fs = fs.transform(X_train)\n",
        "  # transform test input data\n",
        "  X_test_fs = fs.transform(X_test)\n",
        "  return X_train_fs, X_test_fs, fs\n",
        "\n",
        "X_train, X_test, y_train, y_test = train_test_split(X, y, test_size=0.33, random_state=1)\n",
        "# feature selection\n",
        "X_train_fs, X_test_fs, fs = select_features(X_train, y_train, X_test)\n",
        "# fit the model\n",
        "model = LogisticRegression(solver='liblinear')\n",
        "model.fit(X_train_fs, y_train)\n",
        "# evaluate the model\n",
        "yhat = model.predict(X_test_fs)\n",
        "# evaluate predictions\n",
        "accuracy = accuracy_score(y_test, yhat)\n",
        "print('Accuracy: %.2f' % (accuracy*100))"
      ],
      "metadata": {
        "colab": {
          "base_uri": "https://localhost:8080/"
        },
        "id": "xXIlR5QF6tqo",
        "outputId": "63fc38ea-1c95-4732-806f-47d76459a862"
      },
      "execution_count": null,
      "outputs": [
        {
          "output_type": "stream",
          "name": "stderr",
          "text": [
            "/usr/local/lib/python3.7/dist-packages/sklearn/feature_selection/_univariate_selection.py:112: UserWarning: Features [17 18 24 30] are constant.\n",
            "  warnings.warn(\"Features %s are constant.\" % constant_features_idx, UserWarning)\n",
            "/usr/local/lib/python3.7/dist-packages/sklearn/feature_selection/_univariate_selection.py:113: RuntimeWarning: divide by zero encountered in true_divide\n",
            "  f = msb / msw\n",
            "/usr/local/lib/python3.7/dist-packages/sklearn/feature_selection/_univariate_selection.py:113: RuntimeWarning: invalid value encountered in true_divide\n",
            "  f = msb / msw\n"
          ]
        },
        {
          "output_type": "stream",
          "name": "stdout",
          "text": [
            "Accuracy: 0.00\n"
          ]
        }
      ],
      "id": "xXIlR5QF6tqo"
    },
    {
      "cell_type": "code",
      "source": [
        "X_train, X_test, y_train, y_test = train_test_split(X, y, test_size=0.33, random_state=1)\n",
        "# feature selection\n",
        "X_train_fs, X_test_fs, fs = select_features(X_train, y_train, X_test)\n",
        "# fit the model\n",
        "model = LogisticRegression(solver='liblinear')\n",
        "model.fit(X_train_fs, y_train)\n",
        "# evaluate the model\n",
        "yhat = model.predict(X_test_fs)\n",
        "\n",
        "accuracy = accuracy_score(y_test, yhat)\n",
        "print('Accuracy: %.2f' % (accuracy*100))"
      ],
      "metadata": {
        "colab": {
          "base_uri": "https://localhost:8080/"
        },
        "id": "yygOuBMh626m",
        "outputId": "b447d576-e0e8-4f56-8db6-d46b4873e495"
      },
      "execution_count": null,
      "outputs": [
        {
          "output_type": "stream",
          "name": "stderr",
          "text": [
            "/usr/local/lib/python3.7/dist-packages/sklearn/feature_selection/_univariate_selection.py:112: UserWarning: Features [17 18 24 30] are constant.\n",
            "  warnings.warn(\"Features %s are constant.\" % constant_features_idx, UserWarning)\n",
            "/usr/local/lib/python3.7/dist-packages/sklearn/feature_selection/_univariate_selection.py:113: RuntimeWarning: divide by zero encountered in true_divide\n",
            "  f = msb / msw\n",
            "/usr/local/lib/python3.7/dist-packages/sklearn/feature_selection/_univariate_selection.py:113: RuntimeWarning: invalid value encountered in true_divide\n",
            "  f = msb / msw\n"
          ]
        },
        {
          "output_type": "stream",
          "name": "stdout",
          "text": [
            "Accuracy: 0.00\n"
          ]
        }
      ],
      "id": "yygOuBMh626m"
    },
    {
      "cell_type": "code",
      "source": [
        "from sklearn.linear_model import LogisticRegression\n",
        "from sklearn.linear_model import LinearRegression"
      ],
      "metadata": {
        "id": "bZLZJB1k-Jtr"
      },
      "execution_count": null,
      "outputs": [],
      "id": "bZLZJB1k-Jtr"
    },
    {
      "cell_type": "code",
      "source": [
        "model = LinearRegression()\n",
        "# fit the model\n",
        "model.fit(X, y)\n",
        "# get importance\n",
        "importance = model.coef_\n",
        "# summarize feature importance\n",
        "for i,v in enumerate(importance):\n",
        "  print('Feature: %0d, Score: %.5f' % (i,v))\n",
        "# plot feature importance\n",
        "pyplot.bar([x for x in range(len(importance))], importance)\n",
        "pyplot.show()"
      ],
      "metadata": {
        "colab": {
          "base_uri": "https://localhost:8080/",
          "height": 1000
        },
        "id": "Ap4H3ESv8KBj",
        "outputId": "278fb967-754f-4c9f-e655-fabd9cb691e0"
      },
      "execution_count": null,
      "outputs": [
        {
          "output_type": "stream",
          "name": "stdout",
          "text": [
            "Feature: 0, Score: 48533839521.86173\n",
            "Feature: 1, Score: 26473002099.01111\n",
            "Feature: 2, Score: 26472997433.61453\n",
            "Feature: 3, Score: -13236497960.96749\n",
            "Feature: 4, Score: -13236505205.03880\n",
            "Feature: 5, Score: -13236485258.47401\n",
            "Feature: 6, Score: -13236511089.43130\n",
            "Feature: 7, Score: 8824331452.91397\n",
            "Feature: 8, Score: 8824337340.75223\n",
            "Feature: 9, Score: 8824333298.65865\n",
            "Feature: 10, Score: 8824329217.72176\n",
            "Feature: 11, Score: 8824334384.92325\n",
            "Feature: 12, Score: 8824333825.81942\n",
            "Feature: 13, Score: 1252.02596\n",
            "Feature: 14, Score: -987.42027\n",
            "Feature: 15, Score: 867.90688\n",
            "Feature: 16, Score: -1132.49518\n",
            "Feature: 17, Score: -0.00021\n",
            "Feature: 18, Score: -0.00026\n",
            "Feature: 19, Score: 775.20183\n",
            "Feature: 20, Score: -2482.94547\n",
            "Feature: 21, Score: -622.66333\n",
            "Feature: 22, Score: 1390.56933\n",
            "Feature: 23, Score: -2185.61675\n",
            "Feature: 24, Score: 1092.18883\n",
            "Feature: 25, Score: 1340.01934\n",
            "Feature: 26, Score: -1738.70175\n",
            "Feature: 27, Score: -2294.39412\n",
            "Feature: 28, Score: 1178.24701\n",
            "Feature: 29, Score: 262.05997\n",
            "Feature: 30, Score: 980.80639\n",
            "Feature: 31, Score: 1052.57742\n",
            "Feature: 32, Score: 465.68127\n",
            "Feature: 33, Score: -1786.07102\n",
            "Feature: 34, Score: -1316.88989\n",
            "Feature: 35, Score: -7.68556\n",
            "Feature: 36, Score: 1214.35032\n",
            "Feature: 37, Score: 1885.92726\n",
            "Feature: 38, Score: 1930.41454\n",
            "Feature: 39, Score: 241.15339\n",
            "Feature: 40, Score: 1002.03862\n",
            "Feature: 41, Score: 943.74121\n",
            "Feature: 42, Score: 1092.36634\n",
            "Feature: 43, Score: -275.37868\n",
            "Feature: 44, Score: -2199.99588\n",
            "Feature: 45, Score: -79.58687\n",
            "Feature: 46, Score: -2439.02819\n",
            "Feature: 47, Score: -601.50071\n",
            "Feature: 48, Score: 909.50540\n",
            "Feature: 49, Score: -273.60932\n",
            "Feature: 50, Score: 2812.19147\n",
            "Feature: 51, Score: 327.68670\n",
            "Feature: 52, Score: -553.99675\n",
            "Feature: 53, Score: 1127.07755\n",
            "Feature: 54, Score: 42.34074\n",
            "Feature: 55, Score: 20.53550\n",
            "Feature: 56, Score: -0.16000\n",
            "Feature: 57, Score: 307.38109\n",
            "Feature: 58, Score: 350.16731\n",
            "Feature: 59, Score: -71.82496\n",
            "Feature: 60, Score: -130.02991\n",
            "Feature: 61, Score: -35.73794\n",
            "Feature: 62, Score: -69.66832\n",
            "Feature: 63, Score: -11.23736\n",
            "Feature: 64, Score: 10.93775\n",
            "Feature: 65, Score: -24.22414\n",
            "Feature: 66, Score: 2605.56174\n",
            "Feature: 67, Score: -6.38243\n",
            "Feature: 68, Score: -16.25529\n",
            "Feature: 69, Score: -733.20539\n",
            "Feature: 70, Score: 10.81845\n",
            "Feature: 71, Score: -0.10814\n",
            "Feature: 72, Score: 0.21003\n",
            "Feature: 73, Score: 0.64050\n",
            "Feature: 74, Score: -2667.32075\n"
          ]
        },
        {
          "output_type": "display_data",
          "data": {
            "text/plain": [
              "<Figure size 432x288 with 1 Axes>"
            ],
            "image/png": "[encoded data removed]"
          },
          "metadata": {
            "needs_background": "light"
          }
        }
      ],
      "id": "Ap4H3ESv8KBj"
    },
    {
      "cell_type": "code",
      "source": [
        "from sklearn.tree import DecisionTreeRegressor"
      ],
      "metadata": {
        "id": "ISlv-OII-VAj"
      },
      "execution_count": null,
      "outputs": [],
      "id": "ISlv-OII-VAj"
    },
    {
      "cell_type": "code",
      "source": [
        "model = DecisionTreeRegressor()\n",
        "# fit the model\n",
        "model.fit(X, y)\n",
        "# get importance\n",
        "importance = model.feature_importances_\n",
        "# summarize feature importance\n",
        "for i,v in enumerate(importance):\n",
        "  print('Feature: %0d, Score: %.5f' % (i,v))\n",
        "# plot feature importance\n",
        "pyplot.bar([x for x in range(len(importance))], importance)\n",
        "pyplot.show()"
      ],
      "metadata": {
        "colab": {
          "base_uri": "https://localhost:8080/",
          "height": 1000
        },
        "id": "S-_9WI3d8SlA",
        "outputId": "9de79838-b64b-4088-be7a-693e569314c5"
      },
      "execution_count": null,
      "outputs": [
        {
          "output_type": "stream",
          "name": "stdout",
          "text": [
            "Feature: 0, Score: 0.00004\n",
            "Feature: 1, Score: 0.00000\n",
            "Feature: 2, Score: 0.00009\n",
            "Feature: 3, Score: 0.03544\n",
            "Feature: 4, Score: 0.00001\n",
            "Feature: 5, Score: 0.47513\n",
            "Feature: 6, Score: 0.08743\n",
            "Feature: 7, Score: 0.00453\n",
            "Feature: 8, Score: 0.02399\n",
            "Feature: 9, Score: 0.00015\n",
            "Feature: 10, Score: 0.00972\n",
            "Feature: 11, Score: 0.02244\n",
            "Feature: 12, Score: 0.04163\n",
            "Feature: 13, Score: 0.00026\n",
            "Feature: 14, Score: 0.00334\n",
            "Feature: 15, Score: 0.00758\n",
            "Feature: 16, Score: 0.00138\n",
            "Feature: 17, Score: 0.00000\n",
            "Feature: 18, Score: 0.00000\n",
            "Feature: 19, Score: 0.00006\n",
            "Feature: 20, Score: 0.00323\n",
            "Feature: 21, Score: 0.00001\n",
            "Feature: 22, Score: 0.00007\n",
            "Feature: 23, Score: 0.00020\n",
            "Feature: 24, Score: 0.00007\n",
            "Feature: 25, Score: 0.00008\n",
            "Feature: 26, Score: 0.00001\n",
            "Feature: 27, Score: 0.00000\n",
            "Feature: 28, Score: 0.00001\n",
            "Feature: 29, Score: 0.00004\n",
            "Feature: 30, Score: 0.00029\n",
            "Feature: 31, Score: 0.00000\n",
            "Feature: 32, Score: 0.00001\n",
            "Feature: 33, Score: 0.00001\n",
            "Feature: 34, Score: 0.00001\n",
            "Feature: 35, Score: 0.00005\n",
            "Feature: 36, Score: 0.00056\n",
            "Feature: 37, Score: 0.00185\n",
            "Feature: 38, Score: 0.00001\n",
            "Feature: 39, Score: 0.00001\n",
            "Feature: 40, Score: 0.00011\n",
            "Feature: 41, Score: 0.00003\n",
            "Feature: 42, Score: 0.00023\n",
            "Feature: 43, Score: 0.00005\n",
            "Feature: 44, Score: 0.00005\n",
            "Feature: 45, Score: 0.00000\n",
            "Feature: 46, Score: 0.00012\n",
            "Feature: 47, Score: 0.00006\n",
            "Feature: 48, Score: 0.00000\n",
            "Feature: 49, Score: 0.00116\n",
            "Feature: 50, Score: 0.00100\n",
            "Feature: 51, Score: 0.00144\n",
            "Feature: 52, Score: 0.00038\n",
            "Feature: 53, Score: 0.00004\n",
            "Feature: 54, Score: 0.00111\n",
            "Feature: 55, Score: 0.00317\n",
            "Feature: 56, Score: 0.00334\n",
            "Feature: 57, Score: 0.00644\n",
            "Feature: 58, Score: 0.00136\n",
            "Feature: 59, Score: 0.00544\n",
            "Feature: 60, Score: 0.00475\n",
            "Feature: 61, Score: 0.00535\n",
            "Feature: 62, Score: 0.01003\n",
            "Feature: 63, Score: 0.00383\n",
            "Feature: 64, Score: 0.00390\n",
            "Feature: 65, Score: 0.00520\n",
            "Feature: 66, Score: 0.00490\n",
            "Feature: 67, Score: 0.00382\n",
            "Feature: 68, Score: 0.00445\n",
            "Feature: 69, Score: 0.00683\n",
            "Feature: 70, Score: 0.00328\n",
            "Feature: 71, Score: 0.01439\n",
            "Feature: 72, Score: 0.06318\n",
            "Feature: 73, Score: 0.03049\n",
            "Feature: 74, Score: 0.09031\n"
          ]
        },
        {
          "output_type": "display_data",
          "data": {
            "text/plain": [
              "<Figure size 432x288 with 1 Axes>"
            ],
            "image/png": "[encoded data removed]"
          },
          "metadata": {
            "needs_background": "light"
          }
        }
      ],
      "id": "S-_9WI3d8SlA"
    },
    {
      "cell_type": "code",
      "source": [
        "from sklearn.ensemble import RandomForestClassifier"
      ],
      "metadata": {
        "id": "LmIuWyul-eTY"
      },
      "execution_count": null,
      "outputs": [],
      "id": "LmIuWyul-eTY"
    },
    {
      "cell_type": "code",
      "source": [
        "model = RandomForestClassifier()\n",
        "# fit the model\n",
        "model.fit(X, y)\n",
        "# get importance\n",
        "importance = model.feature_importances_\n",
        "# summarize feature importance\n",
        "for i,v in enumerate(importance):\n",
        "  print('Feature: %0d, Score: %.5f' % (i,v))\n",
        "\n",
        "# plot feature importance\n",
        "pyplot.bar([x for x in range(len(importance))], importance)\n",
        "pyplot.show()"
      ],
      "metadata": {
        "colab": {
          "base_uri": "https://localhost:8080/",
          "height": 1000
        },
        "id": "oETBhJEe8ZwL",
        "outputId": "f2af7f04-48bd-4e82-a1ad-d988707ee90b"
      },
      "execution_count": null,
      "outputs": [
        {
          "output_type": "stream",
          "name": "stdout",
          "text": [
            "Feature: 0, Score: 0.00098\n",
            "Feature: 1, Score: 0.00080\n",
            "Feature: 2, Score: 0.00073\n",
            "Feature: 3, Score: 0.03278\n",
            "Feature: 4, Score: 0.03171\n",
            "Feature: 5, Score: 0.03140\n",
            "Feature: 6, Score: 0.03235\n",
            "Feature: 7, Score: 0.03161\n",
            "Feature: 8, Score: 0.03094\n",
            "Feature: 9, Score: 0.03086\n",
            "Feature: 10, Score: 0.03407\n",
            "Feature: 11, Score: 0.03400\n",
            "Feature: 12, Score: 0.03365\n",
            "Feature: 13, Score: 0.00245\n",
            "Feature: 14, Score: 0.00315\n",
            "Feature: 15, Score: 0.00352\n",
            "Feature: 16, Score: 0.00200\n",
            "Feature: 17, Score: 0.00000\n",
            "Feature: 18, Score: 0.00000\n",
            "Feature: 19, Score: 0.00211\n",
            "Feature: 20, Score: 0.00178\n",
            "Feature: 21, Score: 0.00151\n",
            "Feature: 22, Score: 0.00173\n",
            "Feature: 23, Score: 0.00184\n",
            "Feature: 24, Score: 0.00192\n",
            "Feature: 25, Score: 0.00238\n",
            "Feature: 26, Score: 0.00123\n",
            "Feature: 27, Score: 0.00117\n",
            "Feature: 28, Score: 0.00139\n",
            "Feature: 29, Score: 0.00163\n",
            "Feature: 30, Score: 0.00232\n",
            "Feature: 31, Score: 0.00182\n",
            "Feature: 32, Score: 0.00156\n",
            "Feature: 33, Score: 0.00094\n",
            "Feature: 34, Score: 0.00163\n",
            "Feature: 35, Score: 0.00182\n",
            "Feature: 36, Score: 0.00166\n",
            "Feature: 37, Score: 0.00204\n",
            "Feature: 38, Score: 0.00115\n",
            "Feature: 39, Score: 0.00183\n",
            "Feature: 40, Score: 0.00195\n",
            "Feature: 41, Score: 0.00082\n",
            "Feature: 42, Score: 0.00213\n",
            "Feature: 43, Score: 0.00202\n",
            "Feature: 44, Score: 0.00141\n",
            "Feature: 45, Score: 0.00082\n",
            "Feature: 46, Score: 0.00153\n",
            "Feature: 47, Score: 0.00119\n",
            "Feature: 48, Score: 0.00153\n",
            "Feature: 49, Score: 0.01757\n",
            "Feature: 50, Score: 0.00482\n",
            "Feature: 51, Score: 0.00633\n",
            "Feature: 52, Score: 0.01045\n",
            "Feature: 53, Score: 0.00224\n",
            "Feature: 54, Score: 0.01561\n",
            "Feature: 55, Score: 0.01493\n",
            "Feature: 56, Score: 0.01786\n",
            "Feature: 57, Score: 0.01737\n",
            "Feature: 58, Score: 0.01570\n",
            "Feature: 59, Score: 0.01567\n",
            "Feature: 60, Score: 0.01541\n",
            "Feature: 61, Score: 0.01566\n",
            "Feature: 62, Score: 0.01631\n",
            "Feature: 63, Score: 0.01535\n",
            "Feature: 64, Score: 0.01601\n",
            "Feature: 65, Score: 0.01620\n",
            "Feature: 66, Score: 0.01695\n",
            "Feature: 67, Score: 0.01621\n",
            "Feature: 68, Score: 0.01706\n",
            "Feature: 69, Score: 0.01667\n",
            "Feature: 70, Score: 0.01658\n",
            "Feature: 71, Score: 0.07282\n",
            "Feature: 72, Score: 0.07473\n",
            "Feature: 73, Score: 0.07495\n",
            "Feature: 74, Score: 0.07473\n"
          ]
        },
        {
          "output_type": "display_data",
          "data": {
            "text/plain": [
              "<Figure size 432x288 with 1 Axes>"
            ],
            "image/png": "[encoded data removed]"
          },
          "metadata": {
            "needs_background": "light"
          }
        }
      ],
      "id": "oETBhJEe8ZwL"
    },
    {
      "cell_type": "code",
      "source": [
        "# permutation feature importance with knn for regression\n",
        "from sklearn.datasets import make_regression\n",
        "from sklearn.neighbors import KNeighborsRegressor\n",
        "from sklearn.inspection import permutation_importance\n",
        "from matplotlib import pyplot\n",
        "\n",
        "model = KNeighborsRegressor()\n",
        "# fit the model\n",
        "model.fit(X, y)\n",
        "# perform permutation importance\n",
        "results = permutation_importance(model, X, y, scoring='neg_mean_squared_error')\n",
        "# get importance\n",
        "importance = results.importances_mean\n",
        "# summarize feature importance\n",
        "for i,v in enumerate(importance):\n",
        "  print('Feature: %0d, Score: %.5f' % (i,v))\n",
        "# plot feature importance\n",
        "pyplot.bar([x for x in range(len(importance))], importance)\n",
        "pyplot.show()"
      ],
      "metadata": {
        "colab": {
          "base_uri": "https://localhost:8080/",
          "height": 1000
        },
        "id": "5GSBrnhq8e-T",
        "outputId": "ba6d8766-26b0-48d7-da9f-ca796d1f55b1"
      },
      "execution_count": null,
      "outputs": [
        {
          "output_type": "stream",
          "name": "stdout",
          "text": [
            "Feature: 0, Score: 0.00000\n",
            "Feature: 1, Score: 0.00000\n",
            "Feature: 2, Score: 0.00000\n",
            "Feature: 3, Score: 1088309.78322\n",
            "Feature: 4, Score: 2051372.36098\n",
            "Feature: 5, Score: 8580423.15643\n",
            "Feature: 6, Score: 5114636.95626\n",
            "Feature: 7, Score: 100174.64101\n",
            "Feature: 8, Score: 263674.15161\n",
            "Feature: 9, Score: 14627.45793\n",
            "Feature: 10, Score: 364847.28334\n",
            "Feature: 11, Score: 348403.16598\n",
            "Feature: 12, Score: 271678.71305\n",
            "Feature: 13, Score: -11856.81529\n",
            "Feature: 14, Score: 0.00000\n",
            "Feature: 15, Score: 0.00000\n",
            "Feature: 16, Score: 331.38819\n",
            "Feature: 17, Score: 0.00000\n",
            "Feature: 18, Score: 0.00000\n",
            "Feature: 19, Score: 0.00000\n",
            "Feature: 20, Score: 37605.62658\n",
            "Feature: 21, Score: 0.00000\n",
            "Feature: 22, Score: 0.00000\n",
            "Feature: 23, Score: 0.00000\n",
            "Feature: 24, Score: 0.00000\n",
            "Feature: 25, Score: 0.00000\n",
            "Feature: 26, Score: 0.00000\n",
            "Feature: 27, Score: 0.00000\n",
            "Feature: 28, Score: 0.00000\n",
            "Feature: 29, Score: 0.00000\n",
            "Feature: 30, Score: 0.00000\n",
            "Feature: 31, Score: 0.00000\n",
            "Feature: 32, Score: 0.00000\n",
            "Feature: 33, Score: 0.00000\n",
            "Feature: 34, Score: 0.00000\n",
            "Feature: 35, Score: 0.00000\n",
            "Feature: 36, Score: 0.00000\n",
            "Feature: 37, Score: 58032.61149\n",
            "Feature: 38, Score: 0.00000\n",
            "Feature: 39, Score: 0.00000\n",
            "Feature: 40, Score: 0.00000\n",
            "Feature: 41, Score: 0.00000\n",
            "Feature: 42, Score: 0.00000\n",
            "Feature: 43, Score: 0.00000\n",
            "Feature: 44, Score: 0.00000\n",
            "Feature: 45, Score: 0.00000\n",
            "Feature: 46, Score: 0.00000\n",
            "Feature: 47, Score: 0.00000\n",
            "Feature: 48, Score: 0.00000\n",
            "Feature: 49, Score: 8430.59815\n",
            "Feature: 50, Score: 0.00000\n",
            "Feature: 51, Score: 3883.88844\n",
            "Feature: 52, Score: 0.00000\n",
            "Feature: 53, Score: 0.00000\n",
            "Feature: 54, Score: 3476661.45265\n",
            "Feature: 55, Score: 2007842.47737\n",
            "Feature: 56, Score: 7841900.87257\n",
            "Feature: 57, Score: 1826.21772\n",
            "Feature: 58, Score: 7994.02742\n",
            "Feature: 59, Score: 394748.86278\n",
            "Feature: 60, Score: 119768.74602\n",
            "Feature: 61, Score: 490002.69947\n",
            "Feature: 62, Score: 2172.55687\n",
            "Feature: 63, Score: -2663.99101\n",
            "Feature: 64, Score: 31585.16986\n",
            "Feature: 65, Score: 412346.86022\n",
            "Feature: 66, Score: -76.44169\n",
            "Feature: 67, Score: -2432.76154\n",
            "Feature: 68, Score: 205319.63293\n",
            "Feature: 69, Score: 0.00000\n",
            "Feature: 70, Score: 14078.19058\n",
            "Feature: 71, Score: 29482457.95793\n",
            "Feature: 72, Score: 32189904.36439\n",
            "Feature: 73, Score: 17170863.83886\n",
            "Feature: 74, Score: -38.04868\n"
          ]
        },
        {
          "output_type": "display_data",
          "data": {
            "text/plain": [
              "<Figure size 432x288 with 1 Axes>"
            ],
            "image/png": "[encoded data removed]"
          },
          "metadata": {
            "needs_background": "light"
          }
        }
      ],
      "id": "5GSBrnhq8e-T"
    },
    {
      "cell_type": "code",
      "source": [
        "from sklearn.decomposition import PCA\n",
        "from sklearn.preprocessing import LabelEncoder"
      ],
      "metadata": {
        "id": "Hw_exCzy_A5v"
      },
      "execution_count": null,
      "outputs": [],
      "id": "Hw_exCzy_A5v"
    },
    {
      "cell_type": "code",
      "source": [
        "pca = PCA()"
      ],
      "metadata": {
        "id": "TrJiPFww--Qf"
      },
      "execution_count": null,
      "outputs": [],
      "id": "TrJiPFww--Qf"
    },
    {
      "cell_type": "code",
      "source": [
        "pca.fit(temp_df)\n",
        "feature = pca.transform(temp_df)"
      ],
      "metadata": {
        "id": "9qydbCqG_H0b"
      },
      "execution_count": null,
      "outputs": [],
      "id": "9qydbCqG_H0b"
    },
    {
      "cell_type": "code",
      "source": [
        "plt.figure(figsize=(6, 6))\n",
        "plt.scatter(feature[:, 0], feature[:, 1], alpha=0.8)\n",
        "plt.xlabel(\"PC1\")\n",
        "plt.ylabel(\"PC2\")\n",
        "plt.show()"
      ],
      "metadata": {
        "colab": {
          "base_uri": "https://localhost:8080/",
          "height": 388
        },
        "id": "9Mj2aP3U_Mtg",
        "outputId": "7b0c7f47-bf4d-4a33-fbcd-571971b94bb7"
      },
      "execution_count": null,
      "outputs": [
        {
          "output_type": "display_data",
          "data": {
            "text/plain": [
              "<Figure size 432x432 with 1 Axes>"
            ],
            "image/png": "[encoded data removed]"
          },
          "metadata": {
            "needs_background": "light"
          }
        }
      ],
      "id": "9Mj2aP3U_Mtg"
    },
    {
      "cell_type": "code",
      "source": [
        "import plotly.express as px"
      ],
      "metadata": {
        "id": "d7qvr10q_uYI"
      },
      "execution_count": null,
      "outputs": [],
      "id": "d7qvr10q_uYI"
    },
    {
      "cell_type": "code",
      "source": [
        "temp_df"
      ],
      "metadata": {
        "colab": {
          "base_uri": "https://localhost:8080/",
          "height": 692
        },
        "id": "gSiZih4FAsMc",
        "outputId": "d47b09a3-7a7e-49d6-ebf1-a93bc22c9d26"
      },
      "execution_count": null,
      "outputs": [
        {
          "output_type": "execute_result",
          "data": {
            "text/plain": [
              "            store_id_label  number_of_events  raw_visit_counts  \\\n",
              "Date                                                             \n",
              "2012-01-23               0                 1        557.260223   \n",
              "2012-01-23               3                 1        557.260223   \n",
              "2012-01-23               1                 1        557.260223   \n",
              "2012-01-23               7                 1        422.318182   \n",
              "2012-01-23               9                 1        422.318182   \n",
              "...                    ...               ...               ...   \n",
              "2016-05-16               0                 1        786.498141   \n",
              "2016-05-16               6                 1       1047.154440   \n",
              "2016-05-16               4                 1       1047.154440   \n",
              "2016-05-16               7                 1        627.727273   \n",
              "2016-05-16               8                 1        627.727273   \n",
              "\n",
              "            raw_visitor_counts  distance_from_home  median_dwell         <5  \\\n",
              "Date                                                                          \n",
              "2012-01-23          450.617100         5690.000000     21.888476   9.011152   \n",
              "2012-01-23          450.617100         5690.000000     21.888476   9.011152   \n",
              "2012-01-23          450.617100         5690.000000     21.888476   9.011152   \n",
              "2012-01-23          331.522727        10326.875000     21.653409   7.590909   \n",
              "2012-01-23          331.522727        10326.875000     21.653409   7.590909   \n",
              "...                        ...                 ...           ...        ...   \n",
              "2016-05-16          620.386617         6106.869403     21.611524  14.375465   \n",
              "2016-05-16          785.808880         7970.343023     21.405405  20.847490   \n",
              "2016-05-16          785.808880         7970.343023     21.405405  20.847490   \n",
              "2016-05-16          477.102273        12322.965909     20.954545  11.409091   \n",
              "2016-05-16          477.102273        12322.965909     20.954545  11.409091   \n",
              "\n",
              "                  5-10       11-20       21-60  ...  rolling_sold_max  \\\n",
              "Date                                            ...                     \n",
              "2012-01-23  109.315985  127.713755  231.275093  ...           26976.0   \n",
              "2012-01-23  109.315985  127.713755  231.275093  ...           13688.0   \n",
              "2012-01-23  109.315985  127.713755  231.275093  ...           18128.0   \n",
              "2012-01-23   90.431818   97.431818  169.090909  ...           12264.0   \n",
              "2012-01-23   90.431818   97.431818  169.090909  ...           30656.0   \n",
              "...                ...         ...         ...  ...               ...   \n",
              "2016-05-16  162.498141  175.189591  306.130112  ...           34592.0   \n",
              "2016-05-16  243.729730  231.339768  387.498069  ...           30176.0   \n",
              "2016-05-16  243.729730  231.339768  387.498069  ...           25872.0   \n",
              "2016-05-16  143.363636  145.625000  233.920455  ...           29360.0   \n",
              "2016-05-16  143.363636  145.625000  233.920455  ...           43360.0   \n",
              "\n",
              "            rolling_sold_min  rolling_sold_std  weekly_avg_sold  avg_sold  \\\n",
              "Date                                                                        \n",
              "2012-01-23           22432.0           1981.00          22432.0   28176.0   \n",
              "2012-01-23           13168.0            233.25          13432.0   15048.0   \n",
              "2012-01-23           17168.0            454.25          18128.0   20928.0   \n",
              "2012-01-23           11544.0            309.00          11944.0   18928.0   \n",
              "2012-01-23           21248.0           4636.00          21248.0   23536.0   \n",
              "...                      ...               ...              ...       ...   \n",
              "2016-05-16           28560.0           2666.00          28560.0   28176.0   \n",
              "2016-05-16           25120.0           2266.00          25120.0   22320.0   \n",
              "2016-05-16           21664.0           1730.00          21664.0   20480.0   \n",
              "2016-05-16           23904.0           2362.00          23904.0   18928.0   \n",
              "2016-05-16           28944.0           7012.00          28944.0   24096.0   \n",
              "\n",
              "            selling_trend  state_store_sold_avg  state_sold_avg  \\\n",
              "Date                                                              \n",
              "2012-01-23        -5744.0               28176.0         26256.0   \n",
              "2012-01-23        -1616.0               15048.0         26256.0   \n",
              "2012-01-23        -2800.0               20928.0         26256.0   \n",
              "2012-01-23        -6984.0               18928.0         22192.0   \n",
              "2012-01-23        -2288.0               23536.0         22192.0   \n",
              "...                   ...                   ...             ...   \n",
              "2016-05-16          384.0               28176.0         26256.0   \n",
              "2016-05-16         2800.0               22320.0         23056.0   \n",
              "2016-05-16         1184.0               20480.0         23056.0   \n",
              "2016-05-16         4976.0               18928.0         22192.0   \n",
              "2016-05-16         4848.0               24096.0         22192.0   \n",
              "\n",
              "            store_sold_avg   sold  \n",
              "Date                               \n",
              "2012-01-23         28176.0  22432  \n",
              "2012-01-23         15048.0  13431  \n",
              "2012-01-23         20928.0  18126  \n",
              "2012-01-23         18928.0  11946  \n",
              "2012-01-23         23536.0  21248  \n",
              "...                    ...    ...  \n",
              "2016-05-16         28176.0  28566  \n",
              "2016-05-16         22320.0  25126  \n",
              "2016-05-16         20480.0  21660  \n",
              "2016-05-16         18928.0  23912  \n",
              "2016-05-16         24096.0  28950  \n",
              "\n",
              "[2260 rows x 36 columns]"
            ],
            "text/html": [
              "\n",
              "  <div id=\"df-add63fbf-c337-4c3b-b055-f03427b4cb78\">\n",
              "    <div class=\"colab-df-container\">\n",
              "      <div>\n",
              "<style scoped>\n",
              "    .dataframe tbody tr th:only-of-type {\n",
              "        vertical-align: middle;\n",
              "    }\n",
              "\n",
              "    .dataframe tbody tr th {\n",
              "        vertical-align: top;\n",
              "    }\n",
              "\n",
              "    .dataframe thead th {\n",
              "        text-align: right;\n",
              "    }\n",
              "</style>\n",
              "<table border=\"1\" class=\"dataframe\">\n",
              "  <thead>\n",
              "    <tr style=\"text-align: right;\">\n",
              "      <th></th>\n",
              "      <th>store_id_label</th>\n",
              "      <th>number_of_events</th>\n",
              "      <th>raw_visit_counts</th>\n",
              "      <th>raw_visitor_counts</th>\n",
              "      <th>distance_from_home</th>\n",
              "      <th>median_dwell</th>\n",
              "      <th>&lt;5</th>\n",
              "      <th>5-10</th>\n",
              "      <th>11-20</th>\n",
              "      <th>21-60</th>\n",
              "      <th>...</th>\n",
              "      <th>rolling_sold_max</th>\n",
              "      <th>rolling_sold_min</th>\n",
              "      <th>rolling_sold_std</th>\n",
              "      <th>weekly_avg_sold</th>\n",
              "      <th>avg_sold</th>\n",
              "      <th>selling_trend</th>\n",
              "      <th>state_store_sold_avg</th>\n",
              "      <th>state_sold_avg</th>\n",
              "      <th>store_sold_avg</th>\n",
              "      <th>sold</th>\n",
              "    </tr>\n",
              "    <tr>\n",
              "      <th>Date</th>\n",
              "      <th></th>\n",
              "      <th></th>\n",
              "      <th></th>\n",
              "      <th></th>\n",
              "      <th></th>\n",
              "      <th></th>\n",
              "      <th></th>\n",
              "      <th></th>\n",
              "      <th></th>\n",
              "      <th></th>\n",
              "      <th></th>\n",
              "      <th></th>\n",
              "      <th></th>\n",
              "      <th></th>\n",
              "      <th></th>\n",
              "      <th></th>\n",
              "      <th></th>\n",
              "      <th></th>\n",
              "      <th></th>\n",
              "      <th></th>\n",
              "      <th></th>\n",
              "    </tr>\n",
              "  </thead>\n",
              "  <tbody>\n",
              "    <tr>\n",
              "      <th>2012-01-23</th>\n",
              "      <td>0</td>\n",
              "      <td>1</td>\n",
              "      <td>557.260223</td>\n",
              "      <td>450.617100</td>\n",
              "      <td>5690.000000</td>\n",
              "      <td>21.888476</td>\n",
              "      <td>9.011152</td>\n",
              "      <td>109.315985</td>\n",
              "      <td>127.713755</td>\n",
              "      <td>231.275093</td>\n",
              "      <td>...</td>\n",
              "      <td>26976.0</td>\n",
              "      <td>22432.0</td>\n",
              "      <td>1981.00</td>\n",
              "      <td>22432.0</td>\n",
              "      <td>28176.0</td>\n",
              "      <td>-5744.0</td>\n",
              "      <td>28176.0</td>\n",
              "      <td>26256.0</td>\n",
              "      <td>28176.0</td>\n",
              "      <td>22432</td>\n",
              "    </tr>\n",
              "    <tr>\n",
              "      <th>2012-01-23</th>\n",
              "      <td>3</td>\n",
              "      <td>1</td>\n",
              "      <td>557.260223</td>\n",
              "      <td>450.617100</td>\n",
              "      <td>5690.000000</td>\n",
              "      <td>21.888476</td>\n",
              "      <td>9.011152</td>\n",
              "      <td>109.315985</td>\n",
              "      <td>127.713755</td>\n",
              "      <td>231.275093</td>\n",
              "      <td>...</td>\n",
              "      <td>13688.0</td>\n",
              "      <td>13168.0</td>\n",
              "      <td>233.25</td>\n",
              "      <td>13432.0</td>\n",
              "      <td>15048.0</td>\n",
              "      <td>-1616.0</td>\n",
              "      <td>15048.0</td>\n",
              "      <td>26256.0</td>\n",
              "      <td>15048.0</td>\n",
              "      <td>13431</td>\n",
              "    </tr>\n",
              "    <tr>\n",
              "      <th>2012-01-23</th>\n",
              "      <td>1</td>\n",
              "      <td>1</td>\n",
              "      <td>557.260223</td>\n",
              "      <td>450.617100</td>\n",
              "      <td>5690.000000</td>\n",
              "      <td>21.888476</td>\n",
              "      <td>9.011152</td>\n",
              "      <td>109.315985</td>\n",
              "      <td>127.713755</td>\n",
              "      <td>231.275093</td>\n",
              "      <td>...</td>\n",
              "      <td>18128.0</td>\n",
              "      <td>17168.0</td>\n",
              "      <td>454.25</td>\n",
              "      <td>18128.0</td>\n",
              "      <td>20928.0</td>\n",
              "      <td>-2800.0</td>\n",
              "      <td>20928.0</td>\n",
              "      <td>26256.0</td>\n",
              "      <td>20928.0</td>\n",
              "      <td>18126</td>\n",
              "    </tr>\n",
              "    <tr>\n",
              "      <th>2012-01-23</th>\n",
              "      <td>7</td>\n",
              "      <td>1</td>\n",
              "      <td>422.318182</td>\n",
              "      <td>331.522727</td>\n",
              "      <td>10326.875000</td>\n",
              "      <td>21.653409</td>\n",
              "      <td>7.590909</td>\n",
              "      <td>90.431818</td>\n",
              "      <td>97.431818</td>\n",
              "      <td>169.090909</td>\n",
              "      <td>...</td>\n",
              "      <td>12264.0</td>\n",
              "      <td>11544.0</td>\n",
              "      <td>309.00</td>\n",
              "      <td>11944.0</td>\n",
              "      <td>18928.0</td>\n",
              "      <td>-6984.0</td>\n",
              "      <td>18928.0</td>\n",
              "      <td>22192.0</td>\n",
              "      <td>18928.0</td>\n",
              "      <td>11946</td>\n",
              "    </tr>\n",
              "    <tr>\n",
              "      <th>2012-01-23</th>\n",
              "      <td>9</td>\n",
              "      <td>1</td>\n",
              "      <td>422.318182</td>\n",
              "      <td>331.522727</td>\n",
              "      <td>10326.875000</td>\n",
              "      <td>21.653409</td>\n",
              "      <td>7.590909</td>\n",
              "      <td>90.431818</td>\n",
              "      <td>97.431818</td>\n",
              "      <td>169.090909</td>\n",
              "      <td>...</td>\n",
              "      <td>30656.0</td>\n",
              "      <td>21248.0</td>\n",
              "      <td>4636.00</td>\n",
              "      <td>21248.0</td>\n",
              "      <td>23536.0</td>\n",
              "      <td>-2288.0</td>\n",
              "      <td>23536.0</td>\n",
              "      <td>22192.0</td>\n",
              "      <td>23536.0</td>\n",
              "      <td>21248</td>\n",
              "    </tr>\n",
              "    <tr>\n",
              "      <th>...</th>\n",
              "      <td>...</td>\n",
              "      <td>...</td>\n",
              "      <td>...</td>\n",
              "      <td>...</td>\n",
              "      <td>...</td>\n",
              "      <td>...</td>\n",
              "      <td>...</td>\n",
              "      <td>...</td>\n",
              "      <td>...</td>\n",
              "      <td>...</td>\n",
              "      <td>...</td>\n",
              "      <td>...</td>\n",
              "      <td>...</td>\n",
              "      <td>...</td>\n",
              "      <td>...</td>\n",
              "      <td>...</td>\n",
              "      <td>...</td>\n",
              "      <td>...</td>\n",
              "      <td>...</td>\n",
              "      <td>...</td>\n",
              "      <td>...</td>\n",
              "    </tr>\n",
              "    <tr>\n",
              "      <th>2016-05-16</th>\n",
              "      <td>0</td>\n",
              "      <td>1</td>\n",
              "      <td>786.498141</td>\n",
              "      <td>620.386617</td>\n",
              "      <td>6106.869403</td>\n",
              "      <td>21.611524</td>\n",
              "      <td>14.375465</td>\n",
              "      <td>162.498141</td>\n",
              "      <td>175.189591</td>\n",
              "      <td>306.130112</td>\n",
              "      <td>...</td>\n",
              "      <td>34592.0</td>\n",
              "      <td>28560.0</td>\n",
              "      <td>2666.00</td>\n",
              "      <td>28560.0</td>\n",
              "      <td>28176.0</td>\n",
              "      <td>384.0</td>\n",
              "      <td>28176.0</td>\n",
              "      <td>26256.0</td>\n",
              "      <td>28176.0</td>\n",
              "      <td>28566</td>\n",
              "    </tr>\n",
              "    <tr>\n",
              "      <th>2016-05-16</th>\n",
              "      <td>6</td>\n",
              "      <td>1</td>\n",
              "      <td>1047.154440</td>\n",
              "      <td>785.808880</td>\n",
              "      <td>7970.343023</td>\n",
              "      <td>21.405405</td>\n",
              "      <td>20.847490</td>\n",
              "      <td>243.729730</td>\n",
              "      <td>231.339768</td>\n",
              "      <td>387.498069</td>\n",
              "      <td>...</td>\n",
              "      <td>30176.0</td>\n",
              "      <td>25120.0</td>\n",
              "      <td>2266.00</td>\n",
              "      <td>25120.0</td>\n",
              "      <td>22320.0</td>\n",
              "      <td>2800.0</td>\n",
              "      <td>22320.0</td>\n",
              "      <td>23056.0</td>\n",
              "      <td>22320.0</td>\n",
              "      <td>25126</td>\n",
              "    </tr>\n",
              "    <tr>\n",
              "      <th>2016-05-16</th>\n",
              "      <td>4</td>\n",
              "      <td>1</td>\n",
              "      <td>1047.154440</td>\n",
              "      <td>785.808880</td>\n",
              "      <td>7970.343023</td>\n",
              "      <td>21.405405</td>\n",
              "      <td>20.847490</td>\n",
              "      <td>243.729730</td>\n",
              "      <td>231.339768</td>\n",
              "      <td>387.498069</td>\n",
              "      <td>...</td>\n",
              "      <td>25872.0</td>\n",
              "      <td>21664.0</td>\n",
              "      <td>1730.00</td>\n",
              "      <td>21664.0</td>\n",
              "      <td>20480.0</td>\n",
              "      <td>1184.0</td>\n",
              "      <td>20480.0</td>\n",
              "      <td>23056.0</td>\n",
              "      <td>20480.0</td>\n",
              "      <td>21660</td>\n",
              "    </tr>\n",
              "    <tr>\n",
              "      <th>2016-05-16</th>\n",
              "      <td>7</td>\n",
              "      <td>1</td>\n",
              "      <td>627.727273</td>\n",
              "      <td>477.102273</td>\n",
              "      <td>12322.965909</td>\n",
              "      <td>20.954545</td>\n",
              "      <td>11.409091</td>\n",
              "      <td>143.363636</td>\n",
              "      <td>145.625000</td>\n",
              "      <td>233.920455</td>\n",
              "      <td>...</td>\n",
              "      <td>29360.0</td>\n",
              "      <td>23904.0</td>\n",
              "      <td>2362.00</td>\n",
              "      <td>23904.0</td>\n",
              "      <td>18928.0</td>\n",
              "      <td>4976.0</td>\n",
              "      <td>18928.0</td>\n",
              "      <td>22192.0</td>\n",
              "      <td>18928.0</td>\n",
              "      <td>23912</td>\n",
              "    </tr>\n",
              "    <tr>\n",
              "      <th>2016-05-16</th>\n",
              "      <td>8</td>\n",
              "      <td>1</td>\n",
              "      <td>627.727273</td>\n",
              "      <td>477.102273</td>\n",
              "      <td>12322.965909</td>\n",
              "      <td>20.954545</td>\n",
              "      <td>11.409091</td>\n",
              "      <td>143.363636</td>\n",
              "      <td>145.625000</td>\n",
              "      <td>233.920455</td>\n",
              "      <td>...</td>\n",
              "      <td>43360.0</td>\n",
              "      <td>28944.0</td>\n",
              "      <td>7012.00</td>\n",
              "      <td>28944.0</td>\n",
              "      <td>24096.0</td>\n",
              "      <td>4848.0</td>\n",
              "      <td>24096.0</td>\n",
              "      <td>22192.0</td>\n",
              "      <td>24096.0</td>\n",
              "      <td>28950</td>\n",
              "    </tr>\n",
              "  </tbody>\n",
              "</table>\n",
              "<p>2260 rows × 36 columns</p>\n",
              "</div>\n",
              "      <button class=\"colab-df-convert\" onclick=\"convertToInteractive('df-add63fbf-c337-4c3b-b055-f03427b4cb78')\"\n",
              "              title=\"Convert this dataframe to an interactive table.\"\n",
              "              style=\"display:none;\">\n",
              "        \n",
              "  <svg xmlns=\"http://www.w3.org/2000/svg\" height=\"24px\"viewBox=\"0 0 24 24\"\n",
              "       width=\"24px\">\n",
              "    <path d=\"M0 0h24v24H0V0z\" fill=\"none\"/>\n",
              "    <path d=\"M18.56 5.44l.94 2.06.94-2.06 2.06-.94-2.06-.94-.94-2.06-.94 2.06-2.06.94zm-11 1L8.5 8.5l.94-2.06 2.06-.94-2.06-.94L8.5 2.5l-.94 2.06-2.06.94zm10 10l.94 2.06.94-2.06 2.06-.94-2.06-.94-.94-2.06-.94 2.06-2.06.94z\"/><path d=\"M17.41 7.96l-1.37-1.37c-.4-.4-.92-.59-1.43-.59-.52 0-1.04.2-1.43.59L10.3 9.45l-7.72 7.72c-.78.78-.78 2.05 0 2.83L4 21.41c.39.39.9.59 1.41.59.51 0 1.02-.2 1.41-.59l7.78-7.78 2.81-2.81c.8-.78.8-2.07 0-2.86zM5.41 20L4 18.59l7.72-7.72 1.47 1.35L5.41 20z\"/>\n",
              "  </svg>\n",
              "      </button>\n",
              "      \n",
              "  <style>\n",
              "    .colab-df-container {\n",
              "      display:flex;\n",
              "      flex-wrap:wrap;\n",
              "      gap: 12px;\n",
              "    }\n",
              "\n",
              "    .colab-df-convert {\n",
              "      background-color: #E8F0FE;\n",
              "      border: none;\n",
              "      border-radius: 50%;\n",
              "      cursor: pointer;\n",
              "      display: none;\n",
              "      fill: #1967D2;\n",
              "      height: 32px;\n",
              "      padding: 0 0 0 0;\n",
              "      width: 32px;\n",
              "    }\n",
              "\n",
              "    .colab-df-convert:hover {\n",
              "      background-color: #E2EBFA;\n",
              "      box-shadow: 0px 1px 2px rgba(60, 64, 67, 0.3), 0px 1px 3px 1px rgba(60, 64, 67, 0.15);\n",
              "      fill: #174EA6;\n",
              "    }\n",
              "\n",
              "    [theme=dark] .colab-df-convert {\n",
              "      background-color: #3B4455;\n",
              "      fill: #D2E3FC;\n",
              "    }\n",
              "\n",
              "    [theme=dark] .colab-df-convert:hover {\n",
              "      background-color: #434B5C;\n",
              "      box-shadow: 0px 1px 3px 1px rgba(0, 0, 0, 0.15);\n",
              "      filter: drop-shadow(0px 1px 2px rgba(0, 0, 0, 0.3));\n",
              "      fill: #FFFFFF;\n",
              "    }\n",
              "  </style>\n",
              "\n",
              "      <script>\n",
              "        const buttonEl =\n",
              "          document.querySelector('#df-add63fbf-c337-4c3b-b055-f03427b4cb78 button.colab-df-convert');\n",
              "        buttonEl.style.display =\n",
              "          google.colab.kernel.accessAllowed ? 'block' : 'none';\n",
              "\n",
              "        async function convertToInteractive(key) {\n",
              "          const element = document.querySelector('#df-add63fbf-c337-4c3b-b055-f03427b4cb78');\n",
              "          const dataTable =\n",
              "            await google.colab.kernel.invokeFunction('convertToInteractive',\n",
              "                                                     [key], {});\n",
              "          if (!dataTable) return;\n",
              "\n",
              "          const docLinkHtml = 'Like what you see? Visit the ' +\n",
              "            '<a target=\"_blank\" href=https://colab.research.google.com/notebooks/data_table.ipynb>data table notebook</a>'\n",
              "            + ' to learn more about interactive tables.';\n",
              "          element.innerHTML = '';\n",
              "          dataTable['output_type'] = 'display_data';\n",
              "          await google.colab.output.renderOutput(dataTable, element);\n",
              "          const docLink = document.createElement('div');\n",
              "          docLink.innerHTML = docLinkHtml;\n",
              "          element.appendChild(docLink);\n",
              "        }\n",
              "      </script>\n",
              "    </div>\n",
              "  </div>\n",
              "  "
            ]
          },
          "metadata": {},
          "execution_count": 858
        }
      ],
      "id": "gSiZih4FAsMc"
    },
    {
      "cell_type": "code",
      "source": [
        "temp_df.columns"
      ],
      "metadata": {
        "colab": {
          "base_uri": "https://localhost:8080/"
        },
        "id": "HifwI0ebAzOb",
        "outputId": "cf8a1668-5ff1-41fc-8407-71d4f1618cef"
      },
      "execution_count": null,
      "outputs": [
        {
          "output_type": "execute_result",
          "data": {
            "text/plain": [
              "Index(['store_id_label', 'number_of_events', 'raw_visit_counts',\n",
              "       'raw_visitor_counts', 'distance_from_home', 'median_dwell', '<5',\n",
              "       '5-10', '11-20', '21-60', '61-120', '121-240', '>240',\n",
              "       'average_visitors_same_day_yj', 'average_visitors_same_week_yj',\n",
              "       'population', 'employed', 'unemployed', 'unemployment_rate',\n",
              "       'sold_lag_1', 'sold_lag_4', 'sold_lag_13', 'sold_lag_26', 'sold_lag_52',\n",
              "       'expanding_sold_mean', 'rolling_sold_mean', 'rolling_sold_max',\n",
              "       'rolling_sold_min', 'rolling_sold_std', 'weekly_avg_sold', 'avg_sold',\n",
              "       'selling_trend', 'state_store_sold_avg', 'state_sold_avg',\n",
              "       'store_sold_avg', 'sold'],\n",
              "      dtype='object')"
            ]
          },
          "metadata": {},
          "execution_count": 860
        }
      ],
      "id": "HifwI0ebAzOb"
    },
    {
      "cell_type": "code",
      "source": [
        "features=['raw_visit_counts','unemployment_rate','rolling_sold_mean','sold']"
      ],
      "metadata": {
        "id": "_Hi3A3RmA3Yk"
      },
      "execution_count": null,
      "outputs": [],
      "id": "_Hi3A3RmA3Yk"
    },
    {
      "cell_type": "code",
      "source": [
        "t_df=temp_df[features]"
      ],
      "metadata": {
        "id": "0qlf963uAwpO"
      },
      "execution_count": null,
      "outputs": [],
      "id": "0qlf963uAwpO"
    },
    {
      "cell_type": "code",
      "source": [
        "pca.fit(t_df)\n",
        "feature = pca.transform(t_df)"
      ],
      "metadata": {
        "id": "e1_gI4TnBT_t",
        "colab": {
          "base_uri": "https://localhost:8080/",
          "height": 182
        },
        "outputId": "4d9cc7e1-d858-4d1a-b0c4-d345f23b3b6f"
      },
      "execution_count": null,
      "outputs": [
        {
          "output_type": "error",
          "ename": "NameError",
          "evalue": "ignored",
          "traceback": [
            "\u001b[0;31m---------------------------------------------------------------------------\u001b[0m",
            "\u001b[0;31mNameError\u001b[0m                                 Traceback (most recent call last)",
            "\u001b[0;32m<ipython-input-789-7035df4382d5>\u001b[0m in \u001b[0;36m<module>\u001b[0;34m()\u001b[0m\n\u001b[0;32m----> 1\u001b[0;31m \u001b[0mpca\u001b[0m\u001b[0;34m.\u001b[0m\u001b[0mfit\u001b[0m\u001b[0;34m(\u001b[0m\u001b[0mt_df\u001b[0m\u001b[0;34m)\u001b[0m\u001b[0;34m\u001b[0m\u001b[0;34m\u001b[0m\u001b[0m\n\u001b[0m\u001b[1;32m      2\u001b[0m \u001b[0mfeature\u001b[0m \u001b[0;34m=\u001b[0m \u001b[0mpca\u001b[0m\u001b[0;34m.\u001b[0m\u001b[0mtransform\u001b[0m\u001b[0;34m(\u001b[0m\u001b[0mt_df\u001b[0m\u001b[0;34m)\u001b[0m\u001b[0;34m\u001b[0m\u001b[0;34m\u001b[0m\u001b[0m\n",
            "\u001b[0;31mNameError\u001b[0m: name 't_df' is not defined"
          ]
        }
      ],
      "id": "e1_gI4TnBT_t"
    },
    {
      "cell_type": "code",
      "source": [
        "labels = {\n",
        "    str(i): f\"PC {i+1} ({var:.1f}%)\"\n",
        "    for i, var in enumerate(pca.explained_variance_ratio_ * 100)\n",
        "}\n",
        "\n",
        "fig = px.scatter_matrix(\n",
        "    feature,\n",
        "    labels=labels,\n",
        "    color=temp_df['store_id_label']\n",
        ")\n",
        "fig.update_traces(diagonal_visible=False)\n",
        "fig.show()"
      ],
      "metadata": {
        "colab": {
          "base_uri": "https://localhost:8080/",
          "height": 541
        },
        "id": "La6F1jsT_NAw",
        "outputId": "6e3caa73-e44b-41e4-cb0c-55aaa50978d9"
      },
      "execution_count": null,
      "outputs": [
        {
          "output_type": "display_data",
          "data": {
            "text/html": [
              "<html>\n",
              "<head><meta charset=\"utf-8\" /></head>\n",
              "<body>\n",
              "    <div>            <script src=\"https://cdnjs.cloudflare.com/ajax/libs/mathjax/2.7.5/MathJax.js?config=TeX-AMS-MML_SVG\"></script><script type=\"text/javascript\">if (window.MathJax) {MathJax.Hub.Config({SVG: {font: \"STIX-Web\"}});}</script>                <script type=\"text/javascript\">window.PlotlyConfig = {MathJaxConfig: 'local'};</script>\n",
              "        <script src=\"https://cdn.plot.ly/plotly-2.8.3.min.js\"></script>                <div id=\"0a6cf292-70bf-4a4b-b180-47e933b1d7de\" class=\"plotly-graph-div\" style=\"height:525px; width:100%;\"></div>            <script type=\"text/javascript\">                                    window.PLOTLYENV=window.PLOTLYENV || {};                                    if (document.getElementById(\"0a6cf292-70bf-4a4b-b180-47e933b1d7de\")) {                    Plotly.newPlot(                        \"0a6cf292-70bf-4a4b-b180-47e933b1d7de\",                        [{\"dimensions\":[{\"axis\":{\"matches\":true},\"label\":\"0\",\"values\":[-2866.8109232848997,-16910.3248977234,-10594.00779475247,-19028.965630726754,-2276.79877956877,-17501.596076470516,-2130.0003170776868,-10976.120755378794,-12445.072394521687,13650.701544483323,-9965.461162248976,-18120.80101123712,-14873.24456382089,4659.327181194837,-15765.32005078269,20530.770614528865,-9365.227341372007,-7193.3058960510325,1473.7347489563995,1290.8146415138435,22326.6937563787,1139.0798054052927,-9497.632967578866,-7722.188332067553,2244.01556499059,-15672.272357975247,-9025.50267247861,-14842.008418526339,-18272.08518384013,4688.789647964937,-8926.557505313993,-18137.934180190252,1005.0098994743781,-781.4370977048918,19300.240021950172,-17262.92392370206,-9851.525058838983,-16743.976682871173,2152.173691031233,-10149.529233387902,-37.733091423989,-17501.55466754118,-17022.549728932376,551.5248291330286,-17400.42505469365,-10204.534557817356,-737.1166323031487,19896.663464127316,-9502.108045750685,-9816.3737304534,2433.4720152548057,-8127.786338967632,-9184.310671288806,3629.281616250073,1687.6480872181694,-8706.837729999603,-16828.793470933328,-15571.277532605534,-17721.604959352877,23160.452316599094,2714.029038104998,-7462.608546621802,-8602.220050488706,2804.9373243186296,6109.615706450954,-17168.233610896434,-17822.453143678664,-16047.781156497567,-7819.385145281194,24767.18783598906,1107.8381537704977,-8534.56130280163,-17003.7850649936,3980.7250886308207,-6722.109223242097,-7393.45838723792,4253.720046988513,-17396.001584098885,-17701.49725916977,21356.605652501574,-17792.602968683907,-8715.577680662303,-8251.587960802966,1431.7256599178186,-19071.916683963114,-16738.228013305452,1437.7781337952053,-8788.256357241014,20763.22964669652,2569.8563196983864,-18281.682297955795,-8349.26346423672,-15940.97965003966,-17610.170563334006,19758.03239107416,-9128.486347554956,-7869.614058106462,2655.640551886664,1694.409629937618,1073.992414119329,24345.943247950305,-15041.071088680457,-17751.17982730226,4470.277537301007,-7389.055482468116,4962.882029148595,5631.246342398535,-5893.2417304133005,-4554.179343964118,-17330.921594649026,-7333.948082307612,4611.570930794083,18949.550686496605,-16487.254244284613,-6157.298022684369,-8213.385913650305,3469.7222786730385,-17726.739669898358,4261.288895863886,-18403.8282391299,2611.7506398029386,-18589.00999349113,-20308.413230243623,-879.466960605068,-8801.222638355552,2260.0243108463724,-16335.19065901933,17989.011050452402,-7569.43261759688,-8607.653053612084,-7117.646654667581,1967.179822964412,-9426.760421142688,-8450.797511642504,15670.045981567444,-20941.11962008794,-805.9438382448405,1762.6785679851766,-16432.626366647564,-17901.34364173427,6234.06800550638,-17677.194132047396,-6828.717028493668,5054.595511770539,-4279.972893195958,-18487.35402427642,4540.75308179783,19392.170201979887,-16107.30801030155,-7248.370706291794,3490.3076583881284,19323.37586669837,-8385.242170498323,-16522.583060843517,3692.908892723325,6302.689352968184,-6427.711312874751,-17928.022325420297,-18596.995967388175,-8099.439233251619,-17007.911454396097,-17565.46983497507,5302.2271699875255,-6514.089110034287,4061.7980004803712,-7870.586304841327,18748.171472772137,-15623.86812370118,-7198.136364196286,3335.5812061807633,17748.026817790647,-16818.107790725815,-6624.229657752679,-6172.18456270093,3245.639280427039,-15758.44270178744,-17412.860172373297,-8121.046662663737,2660.527680161473,4988.852084672531,-17139.447222202565,-5727.46630383793,4785.354272109613,-14940.93525510667,22483.53096521271,-5008.900338622049,-10175.384214765672,5433.193113692946,5446.222332378244,-6988.897625578471,-4280.886598259495,8664.501561803605,-16577.9419475131,-3722.825907441466,-6907.700672557128,25909.530107732167,8636.292903030691,-5000.77702576076,5732.894183529603,-14452.492352079324,-4775.63325496453,-15340.129417671686,8655.039049411644,-4855.928021367023,-15016.101850071836,5881.652730361684,25660.022573542392,-3588.895972425632,7996.090587324476,-3252.777970796608,-15321.749997273422,6355.219106868015,-15375.382589339839,-6083.138274126706,-4244.3159612089285,24997.378381267245,6875.808637780781,-5150.485536710628,5618.087472238221,-5166.286592620899,6061.004617349367,23700.599347049774,6986.520781808873,-15287.98169401629,-5782.848544730696,5836.050238652924,-4259.257940092294,-15357.95474072463,-5036.819942381906,-6397.819736608102,27770.228701549597,408.2289674712898,-15520.324774995783,12067.854336744369,6937.298116931868,-4026.1134149744216,-4488.188783225089,6743.844293610301,-15571.33235924111,-5594.093568505931,5728.323193634272,25277.33894727599,5625.229714427112,-4726.749695015338,-5562.292163542133,-15569.397665331113,-271.2313525064942,-16352.162504683714,10088.255340960084,-5380.423627592976,-6994.488360000323,4582.035239365862,-5459.176403550673,-16923.918111797942,24490.830169646822,-4480.705509566018,5156.412391795945,-5775.792223673581,-15120.638407368235,4946.928251554472,-6879.857758957431,-16432.30724272752,-6358.108297296327,3604.148121002003,-8487.876516997067,2198.167472837249,-17883.559746755305,-6127.536323495951,21686.896741900928,2078.094321741784,-15289.543686701398,26864.594524679433,-5864.478209283729,6294.188092190538,162.56107611799908,-18061.979024224765,5778.14093462783,-2800.017395417206,5230.519230800377,-6238.372652947206,-5166.817295876692,-5670.575220251853,28789.55672992237,-14916.786512363342,6420.000880474695,-19396.973394164837,-240.2552202240552,6783.424558885151,-2568.0186725851204,5186.860836669791,-2962.8177581666628,6687.7643069475325,-5214.122752212499,-14810.817071033913,28059.184453629758,-4565.13575934535,3841.0587867723802,-18267.741144878917,-712.9072486474558,7154.382603772216,629.171654134345,4871.910022092373,-5120.436221476128,24740.1293104841,-15243.20521335289,-5365.986967994983,-3757.9551573290073,-18419.59534150028,-4320.092097112514,6387.080987274674,6735.080949639334,-4543.183356164571,3711.9305523801154,-15047.542865361389,-17533.679294453977,-3460.1165556221263,460.0102451948689,25916.887220012308,-4789.495903939162,6307.197960590939,-5798.133080306573,27530.990999468886,-14796.852886715029,5294.325654441276,-18721.513864556382,-4541.6810702935,4560.751401150677,6640.102901884566,530.5274063504457,-3666.4687249460185,5851.535409499467,-4162.682549220811,-18018.462639713467,2700.0688190784495,4735.654591458603,-3801.470616643037,24404.32589058145,3527.108619652789,-14951.480535285964,-5503.871162670911,22220.323865604623,-1935.675223977848,3067.0263073791443,-18081.2348213677,1433.8655641681742,-5452.394875727906,4557.7432246555045,-5149.974438515774,-6380.438742561399,-14865.376445007058,-14711.535371080186,1831.0892755882405,1244.7890397040865,-3535.8581192526485,23309.067562604298,-18951.813208159292,-6786.177233267186,-6313.662617475418,3694.235990047391,-4746.973874782459,1570.8038113361333,-4069.529366996205,-5472.756372975035,4207.953007638822,26779.44090009354,-14882.49827712725,4059.590230529239,-7017.76835056587,5044.408353410274,-19627.454199437143,4782.568155259272,-20604.626203909596,5236.007380089639,-4783.118882785081,1771.2390422912551,1275.5910822740063,-15645.190660018077,22600.699603785146,-3019.1603569257895,-7150.80627992554,-7194.526827727948,2641.0552544930597,-5264.852473932764,20618.886067205443,-640.3644472379996,-4107.067621872297,-951.3983907351064,-23983.550804119077,-8096.598953049729,-16534.98572946694,-7678.932304121175,-9156.110346889624,-4776.822914537982,-2000.6962789354404,-17021.65859688127,2522.9846740486687,16630.20111198053,-1096.8003429613486,-17189.22390964459,-8815.357085057867,-51.38124512863044,-733.6315919744712,-11568.755691251787,-6133.311582339619,-8046.887466857946,-17057.202000804606,-7858.325291129068,19777.501601201504,2644.6300707202054,582.8786057701624,3013.483916131637,-7711.575914418023,-6432.207455284455,614.0292630575921,19713.395613380086,-16840.651439794074,651.9285389261171,-9178.576363660488,-9501.274089732782,1649.3915505020846,-8312.332668487985,-9859.084603923458,-8387.903106683254,1627.3204668417243,-8452.588639304113,-865.4977153303523,16198.056832315911,-1672.0270117640225,-2.8710246802657364,-17319.1186162302,13323.001299044376,-11660.127191769096,-3405.891083425967,-17886.46778047937,-3369.4262228686134,-8269.103675720417,-10009.48373463745,-8965.754130701027,-6717.184874683005,522.718851297412,-8347.086550786196,-10496.500444453395,14330.048353180293,-17141.048885040887,-2345.515236908561,-3133.292713770459,-848.785166366207,-8538.72251800682,762.1908744712692,-8960.014150078381,-677.2202285301955,-9856.007195085573,-16711.26701991987,16609.66715213294,-7343.099253450758,-8107.647147504212,-1020.9808778178488,-7494.599287341116,767.3098201244399,1516.4956322434402,-7938.728788595844,283.99085474633904,-268.1413187513868,-7233.522007395085,2866.4446349841837,-7748.401960246436,-16856.668255934786,-1799.3000833955643,14996.707076066707,-10050.321275122304,-433.9198651829753,-16240.709236664292,-8706.775281832002,16334.531912072744,-6264.39820446805,3839.0938974183746,-6874.709081057049,-182.89056341879672,-1550.2690966136993,-5708.356516137078,-3658.177151781915,-18677.97426727683,12387.480829656251,-11339.688038941513,-8588.134675434614,-9568.71115800625,-4969.066437459025,597.2446949795049,-4050.6806533254476,-9243.356173431253,2793.625253212656,18888.35214308226,-17245.156325596807,-9646.5252499469,969.8813589181312,-7511.930039348806,3827.1661881524674,239.0411850882061,-7517.367960221058,-6223.676600578655,-9770.556850490513,822.1031125990052,19222.832961052667,-17184.13217085266,-255.08288511523472,4032.0337591165667,-8526.480534555716,-8162.973057321906,2338.8581173921943,-6667.4935483189065,-8910.903279576936,567.2533495048068,-1092.692516690438,-8053.390646592974,-7590.586276156708,2072.4208264623885,-9224.726435299573,-944.5168559260521,17254.97576381516,-16967.231814782506,-9427.27755146559,16673.56153134068,-1212.9478767015125,-16364.460012005244,-9467.255387791354,-8298.86192284258,-10178.802828620897,123.94329289799302,-2404.885161318331,-2962.848974135631,-7131.913274985039,2238.644275849606,-8529.493109812005,1047.7529621104352,-8775.558638802597,-10186.806397945988,-15124.331134627359,272.10420267658463,-123.4270953480714,17881.44967508136,17242.427758557504,-15592.67052561623,-8360.82821715385,2181.25742425956,-6564.260767920023,-5470.683281481347,5456.1263122824275,-9221.780076828352,4704.452489651928,2942.031085558721,-7589.442656262395,4968.171254333873,2187.3406314123904,-7443.695747030234,7962.0575379338225,7466.388729671952,-5057.6506480299395,-4030.034351513692,19436.701744441292,-15314.005551401908,-15648.581048621245,565.3861887638523,2995.127992780085,-8718.668218726632,2049.728024058908,-6817.147038227386,19217.280633008053,6461.442671551898,-5536.422410994915,-5595.797501912597,-5431.517364248355,-4435.085092300542,7206.2315115574065,-7320.005190061894,5761.6874575665315,22210.342682255774,-6037.872008898433,3118.2522869170853,-14685.78738577062,4847.870237974301,2359.99421737251,7051.49949031715,-9372.063353311842,-4934.3615796508375,6055.708624742212,22150.951668684083,-5607.514613220021,4392.828193772434,-6408.220406198582,-15249.569563839177,4704.40571940797,3438.2751509091268,1508.483381237838,21775.53044866172,-6559.791884603852,-14802.386611849577,-5202.1349758452225,-5282.110413629291,7511.294820191119,-8271.449495767887,-427.49392417520363,-8243.512728507349,5365.267140156761,-7134.187916016021,-7282.763163967447,1626.1712056593653,-14968.208615721556,-6454.6103830002085,19396.479473290976,-218.87041093390644,-995.0991596320539,17962.601170124657,-8200.179696739668,-6226.251238520025,6324.564025300471,-6322.350181983728,2897.0925231897363,-14705.194731020147,-674.0375165722793,-6134.910611160858,7167.163787626884,-13975.20063147618,5463.746043449332,3330.089732760015,5664.9868684334415,24150.114677703157,-5377.240209333418,-5678.358258060858,-5514.571380094798,-7886.656867266337,-6253.591568708794,23656.498932937076,-14316.851697951024,4076.470180352637,6778.177641080617,-5801.186165924414,-4991.713052102158,-843.8796773371718,-8504.022153910633,4519.863709941688,3018.7697371298245,-14077.628381983724,-5821.202993814323,-10188.992533189516,-122.08876541102734,-6051.975805688708,23323.62441835638,-6808.698832714689,4953.9335814177375,-7019.103323661018,-6866.0667765144435,21624.992205752176,2120.860026941517,-14559.433703988067,-8013.717805496646,-8433.396092188132,2174.1839304849723,-7792.453867181017,-4311.865093044384,-11199.78568211538,-13267.219496461279,-6029.306031848494,4719.130478824236,-10667.202282992796,-7005.616721013067,-5796.205334331865,25036.549876313326,1741.3612172613584,-7217.7510954003565,2893.0878700299813,-6834.993763098749,3982.695800317665,-6652.085266587734,-10739.232029240462,24520.97308810876,-6123.258587512011,257.98854344461324,-13920.768612637186,-6862.97636250786,4693.420997835254,-13191.579958696628,-6234.09309582019,-9179.04825287273,4947.439721238347,200.93308374046492,-7151.740972708787,-5815.472219169436,5307.7276176790265,-4883.3973284261465,24879.73603899274,-3079.2851099049553,-8442.464810520354,-9154.591654669706,22246.630908505096,-13437.091866871398,-4468.5614189975495,5053.504950236472,5916.551168234263,-6154.112358359251,-6308.334777462542,-8318.816196946877,-6167.9974087313485,-343.91683014994675,-5373.416770951447,6429.920331528692,-6411.514556641599,-5022.561971042289,6746.893098853248,24884.009375950423,-12447.375895527217,-5232.729089236149,1861.9912346142055,-4424.901579491826,-7585.711366411286,8304.138973943478,30240.807262612238,-3366.0799410404247,8385.2070365242,-12451.978720428937,-3890.3602076269694,-5010.749590206028,9446.142562004528,-3459.2943750694462,7189.721840091385,-7963.892251488398,27099.14912139647,-12549.00002381038,-4095.934118666507,2104.4912389381047,-4967.123491704571,-4343.360933262384,-4615.587368023033,7638.841303294809,-7848.034737814923,-1551.3763985937885,7565.841308697999,-3787.3942470613883,-12418.734391549695,27487.73012341089,-6740.709751321882,-7183.294947083868,-8095.9814714749255,-4182.761352719028,-1920.6014522987768,-11424.922089597227,9072.774483338531,-2435.6370177381914,30470.696047257537,8628.042915385959,-4465.144135401652,-7922.421621875055,-2826.4372176406496,11624.372140130805,33911.32852991064,-2374.565056751607,2739.1321651559815,10308.745953190892,-3438.2578534043273,-3006.568254953434,-11250.8170453768,10286.563974038849,-11566.566507284222,30504.021373478434,-2813.993967122504,10612.53179196498,-2780.5996464157965,-3463.2337242466842,5525.272936350566,-2047.9619589669899,-6344.957979050882,-5067.096949793559,-6923.3736713022545,-149.51691830938464,-3024.914815637927,9696.519425626768,28955.45534977594,-12032.272096153727,-4606.086932789585,8856.368584394811,-6577.316318291799,-3307.3129182448083,-7033.0312600911075,-7863.073535404256,7802.013810572053,-3492.1562028338335,-11752.34272603901,-4283.458145504358,9454.564797780133,-6188.896210890692,28483.17327884854,-3015.234311158916,10614.607529631096,-4333.555677657492,-3584.2244255600476,30735.917028626962,10036.293523489961,-12488.142326745443,-8051.356865856379,1505.5689483712008,-3189.7694333565482,-1655.6125043510042,-3665.033038352474,11056.811676880636,11491.611538541114,31100.643216278044,-12218.403146037605,-3807.874995537132,2758.0360586620654,-3899.2818029602963,-7614.867683079534,9614.84259284798,-2786.889958135898,-11917.255442137644,30497.876904735054,-7302.259994221201,-3933.7394192410416,2790.766211179066,9733.441262521215,-1863.511819578227,-5164.44549837631,-7298.761076538102,-5230.7272104847025,10389.535069362093,-1015.8512316979163,-2130.275483411545,8614.252871451301,-2235.0271430984603,-3413.2362220295327,30578.853491043086,-11851.201840495221,32383.084754686508,-1413.672285671334,-3181.3780123042184,9511.835965888904,-11128.626330351217,-5851.757539815383,2475.1217411290645,-2754.820416272596,-1527.7368989452789,11932.478908247753,11346.772425417708,-1066.7096810708813,-7276.919948518262,33935.26241314745,-11150.373796091837,-1676.4694607847518,-1100.2734710881618,5593.660526541905,10186.809127400507,-3158.366642762791,-5996.139314663231,-510.20157135483316,7618.1448516450555,9954.337654274232,-2102.747247744878,-11263.409917052833,10012.551084628296,-1813.337212229809,-935.8853740217274,34328.92363649574,-4396.003921625455,-2648.8731938805317,31202.513203866514,-11413.35499790843,-2742.140849869314,7050.370976420326,9768.854643525476,-7880.508924799477,2727.33685135432,-4415.375636616424,28414.39668830277,-4089.6837523734366,6406.249096069269,-5373.827141757807,-11436.616328305034,-3558.094112279215,-8134.741085236749,-5489.443624507383,1942.1481663305838,8388.570194384816,-3729.7525362714737,-11796.626263483162,9914.507769712645,-2573.860304192446,-7683.376428730013,31872.633633636135,7723.2417979545235,-1477.771221726888,7681.143819652382,-594.1355580249536,-2478.4296988398987,6226.370457317842,-3977.6891357118716,-3322.15808915105,-8041.075874725321,7776.543019050157,-3873.4075379411324,-11918.82106651409,30319.176029722512,9183.295355919856,-4023.755943465869,6756.147903689618,-12424.069352599714,27642.92963348105,5182.075292089185,3338.3393459958083,-5276.694969179601,-8510.306510949717,-4999.633167418021,-5756.242308868355,5927.050461639384,26229.75324017232,-8550.947150552793,811.3893071837099,-6658.955330163807,3828.0160570067774,-5209.076710804937,-6905.240980446113,-12690.013331509768,-5007.866760207474,-4886.9245344546025,-12389.407716911182,28444.157692013017,6729.742055249,4285.025989948751,-4801.98104695135,3845.457566813813,-5465.473283804875,-6648.502082396823,-8039.444183807134,6622.366744967337,28970.19885152803,-12847.05230017744,-5992.402612353802,-6202.452092530473,-8267.201779659232,-3840.6114570846476,5202.180570469587,-4824.31171831981,3753.366199027913,-8623.937044333334,3047.836020754736,4053.6223813773336,-6631.535304621911,-6146.0195880060155,24952.34576734617,-13529.626513904173,4798.136951451681,-5011.125941343714,-5052.913240780474,-7452.321192898825,-9385.092682094508,1091.9478053810274,-14013.736884752518,-7187.7769239268955,4652.52474817718,-8045.785685149489,-7113.615905058637,21876.117761558562,391.3725237392351,-8489.48088744541,-6260.32796039321,-8808.482312624132,-15155.096600901274,3002.0244844127924,18531.02054096799,-948.4376201541565,-596.7101042936332,-8931.17280554036,-7300.962426641029,24085.268101582402,-5681.268236684256,2524.3254250346235,6849.691978837356,4659.6766086028865,-4113.187864822535,-6890.401400542758,-13808.554657906327,-7157.965866755393,-6861.7520003229565,21292.797387250794,-15250.975536785501,5611.322399067841,-7108.348301496026,-7313.413646330877,1477.1724847806709,5099.828900499932,-4607.342657348797,-7302.237758776964,-7293.126360205637,20133.04867279299,-14478.018454672856,6269.586265813661,-7283.2886880992155,-6349.059992324443,824.9698941183739,-7028.214535019748,-5774.236425049151,-93.20369313636941,-6672.230216678965,16468.41686896203,1694.3959540903513,-16694.368308442834,-9894.049378215093,-1256.5788730936401,-10133.610283301909,-9119.712290117697,-4131.070815484221,-9028.715380967033,-8722.672606247015,-7990.9688229118965,2937.055635948648,-14858.13676956444,-8557.796705064184,22929.337953725495,2438.3160572016136,6482.072899926024,-7384.876587487954,-6153.021770033494,-4210.735025983083,-7915.550526018991,-2133.3982864049303,-13836.82475809162,24141.86250105758,-6111.0479485088445,2209.3796016610786,5354.601905598168,-5303.566505984498,2241.6982870544293,-6992.405809623506,-3411.9543574850545,2601.931359502874,3974.9483073661004,-7381.864333514723,23318.007208914612,-682.8626181471416,-14060.93095380589,-7561.382313307918,-6905.304167097965,-6769.439507437971,23442.68911474104,-13637.55678639365,-7230.964569368747,3293.860722191138,-8913.319362206008,-1861.1596848673819,-6445.762645206521,-840.1107901387411,-6827.9782466862025,-8427.195374038807,4177.279544580779,22292.693976332725,-6992.693176693337,4040.692998772222,-7646.983758092469,-6027.16753845143,-2847.010863785859,-8874.407524069788,-12822.52045969104,-4298.139200486979,-5361.6747449816185,-1205.5892672338907,-8053.184386452926,26886.01097016968,5851.326172472424,-12576.84320772734,-5996.500526489278,6255.115734969147,-7415.113946423813,-4543.3198303252575,-13916.636749279636,-3371.6363885858173,8097.216712032111,-6687.870281892097,-4378.8577599752125,4272.315987843017,2274.8523625004277,-5530.233410826122,24230.34921986944,-1980.4114568893071,5169.909996838491,-5819.80645220412,-14013.266971707257,-6310.27984718992,22984.102767508033,-4317.897109968343,2682.8777229699454,-209.3194639003842,-6742.741288447992,-3932.517961044228,-3295.126567125701,23585.63605878052,-5785.868738128191,6883.138148378406,-4656.332296870278,3839.7226027802235,-6353.6578829526115,565.0276944139106,-13368.815046358492,-5363.72167711008,8730.861322731851,-1593.9799999150093,1540.0248761064418,-13618.497915888021,-6065.250575162485,4309.389354874072,25134.415827803,-4955.796694674533,-5681.01702521634,-3159.525028414996,-5349.1277980634395,-5824.011376349469,3910.8625416440295,-13523.502238081977,-3034.6107163754154,25788.82120043516,6764.982219977444,1487.416302748025,-4667.438350020721,-216.91498274747153,-6268.7912021365755,-224.27585940992674,-2637.5200667649715,1422.4415286895776,4386.192049726101,-6139.704395707122,-5575.502670561933,23521.240230307685,-13259.297839992205,-6749.342097923934,-7561.250443926046,-6767.97276046902,-1296.0127691193543,-3501.8829339767485,-5854.440058630822,-13473.068643317036,22825.817574621953,458.52205404903077,-6832.202989536261,4060.976788290036,-4983.419297877352,-5475.10507302746,7060.805937676202,-12283.179280611765,668.4743215374567,-898.0070611194648,-4303.662075530107,8155.900310681771,-5705.361087993034,29338.051558671024,7352.073348365239,7625.767078529339,-5773.034422871631,-4789.951517920436,29231.04492114165,-11858.294115292085,-5966.877795648135,-3736.669483356745,836.8172979923773,-1321.097198647536,28663.883965180026,-5982.910204263566,8404.849636491665,3104.6052113437145,-6720.206736354368,2314.7417895100634,-248.1051781428527,-3278.755970511282,-4624.4466239612875,-12488.998605001823,-13149.4882425058,1109.064240717081,-1371.094682774435,-4495.912329775703,7295.72158790062,-9117.434344394855,898.0987776943066,-5360.589377098191,28120.547999974093,-6433.889489264021,8882.27415168849,670.0177199311438,-4680.042865592003,-4948.442248168441,-7882.46473464623,-720.4216170613638,-12989.948751457208,-6417.4187480992105,30716.275715286025,4392.616372128656,-4662.46684216973,6496.501283461151,-7916.982811620828,-5361.749455319102,3326.18748108432,-13259.142851618171,830.041407455667,29595.72467875356,-7957.248943938835,-1468.1625457388784,-8282.696774421594,3023.278185034245,-4589.063894767119,6967.710657670776,28086.5904302466,-7904.43188977414,-12921.589390284651,-5452.789869263136,-830.5418657472901,-2364.4417808273283,-5544.733739199013,-6744.333509313827,-708.2144400192819,-10412.452044364203,-3928.4411132164537,-7680.4283377438915,4428.809872045462,-13816.531302629686,25422.138704564557,-1369.3212715234583,5753.31408328862,-9204.044646527316,-12547.193593980577,-739.386730739717,-3633.0150717605593,-4903.278901506818,-10117.559207245444,-166.8555855509535,-6414.397050311216,25976.433252241233,1951.0536951280349,-3445.798363977517,6243.634419973541,-7321.26743838649,-1222.5991601723574,-4446.277306744284,30620.51970487507,-8549.68585470862,7565.925584821863,-11652.23265917378,-4415.273131274816,-11833.132089689032,3036.67515049059,-7563.689941220825,7040.001275499259,-3985.9330607250013,28844.215263210222,-9117.689403519058,4988.710372636861,-402.43357239799735,-11717.671660878068,30324.67405927127,7698.31076511362,-7565.355498576442,-4965.549765192892,2306.4464823777766,-1468.5217878397243,-3256.490366074899,1788.3767937609637,-9068.013527574345,-10687.138300924264,-6806.817489397637,-2749.5852120399854,431.33322149133835,-4302.342818592156,-606.0431162970057,-12063.409457252676,6677.187741489809,-8084.341448925151,28226.514940953464,6166.658874813702,10647.26882368562,1462.825558259503,-6796.6389232801985,-3346.92140385045,4686.998715889906,-7306.466837710395,-2227.9197730012975,-11403.612847827679,35252.88884044217,3713.3742422225873,-3435.6356994038806,608.7797122451205,7229.427032954234,9679.808724927549,-6645.079555535878,-1786.4535900433098,-7421.058425462909,-11573.824809412938,32914.435170161894,3880.5819761896737,-8712.566821099215,-2890.659048426595,-12468.366717271785,30166.756476951756,2774.312358187026,-1001.4468676185544,-4745.052949953909,8991.214219835576,-7106.782531867125,8207.655928781787,-5652.16745224163,257.1101680374437,-3653.7405704927232,-10356.168120051598,-1171.2729135297695,1324.6072493960194,-12666.574688781684,30544.22288976108,-8439.080910815122,4459.2007453671395,2046.3825772985087,-3946.4442776674655,-8863.959623696006,-12186.623350235064,31915.242181319678,10974.26671742628,-2931.080864029328,-7686.300657278219,-197.27230949322887,10603.049803118649,-8482.217936456931,32943.86748656794,-12192.200440507793,-4285.278137827338,2840.4488574796756,-4327.0991071397075,6280.40180299823,-8001.513306123851,-1317.373802889594,-2661.0821594133918,-3540.6576710149147,10561.02029286811,-6922.6726291811765,-12207.953236017755,-8399.20611607038,31651.768386865926,2192.6116426342574,294.2254905888189,6660.6922717127845,-2920.4671760253764,2792.6593115863934,2917.2759298947212,1499.1113408891156,-3762.2377938047657,32723.921902173657,-12430.357912316478,-8468.016758227926,9676.704836713276,-8490.438317912967,-8137.736536265184,4194.841805721622,29759.937349219243,-1928.1994431899916,-4991.829088233046,-8550.449974546142,-871.3336289691351,1415.6426688735007,8811.134609084618,-12436.326551996617,-4885.908119047951,8123.068364173339,-3479.940304296046,2331.7541242514653,-741.6490819769855,9610.613114625552,-5525.281899972326,31682.500565243565,-9316.115790751503,-12022.563015249587,2265.9064415515177,-8572.299426044221,32058.127070164577,8416.838270476273,-3114.8328481972626,-5687.687197180769,198.80320984383403,-12097.363198301253,-4445.183134920152,7845.874370838861,7007.473800523053,-8550.171837536964,-6457.068171463266,-604.3682024259587,-1835.322478186478,30463.86576595927,-12382.017251511435,-4416.949274190118,1840.4456147752423,-9117.044698991325,-1204.7403476194586,-2920.3586762381024,-7726.054976733513,6771.420514054717,29366.909332208117,-9849.495486366197,445.33058218567305,-12844.780858238997,-9776.914341127102,-4656.605488755454,-11133.444138420024,-346.9071880246464,-8757.53443135092,32632.08143310849,578.8994457852464,10146.13367022853,-5348.18087847492,7402.875206903982,-3080.8555567576086,-6185.641854083367,385.85895154133146,-3607.819182064294,6243.056809810913,9369.131094946455,29631.306354118806,-11297.859848349588,-12008.848698117188,-6147.703546090495,-666.5261346717365,-7567.646796304389,-422.69393585330033,-6935.796759702961,5367.525456287394,-7378.74426162594,-11545.501440629989,27129.7420507628,8596.083271230726,-3348.8308097164754,-1632.1839173535368,-11980.339268745453,-3468.194598916737,-1639.6348359139745,-11864.745015199203,24982.751566320647,7574.386799083652,-12500.792806060232,-4269.510813508492,-7891.598207270675,1407.1388163572362,-8866.931633882863,25398.23585878035,-4154.669124740205,-7699.667368672017,4058.41937278739,-1517.8414669776362,-2840.7824922816317,-7359.853581131583,9104.336575870857,-12343.99480834285,-11450.000584063506,-12459.242184275814,8766.266970667244,-11666.407340198966,27654.095057269944,-2953.0964369434955,-3882.3811679129976,6250.115847779081,-6672.5585472800885,-1250.9525557179431,-6663.004954861958,-3745.4612046667603,6922.752987980667,-13205.231201763901,-11791.404925395274,23591.871152148997,-7103.533494092832,-3784.2399556155465,6397.675863927698,-1492.8327537448763,-6860.581018901622,-11511.20395894853,6749.341546560668,-2541.732710143463,-3711.803969942542,-13627.039216100611,-9775.264004415674,1102.4874283251904,-4206.741399800603,-7563.332700472266,23851.435275826447,-1940.4649124178713,-9859.860692271366,-4755.86984305927,-7555.190656363054,-5462.6150231155325,-3122.473744265877,-14597.993108965946,-12141.664047318369,5098.91526892868,21174.382723795163,-3771.092748762352,5739.934899189154,-8222.020065351997,-2888.9374891873517,-6608.4869293495,-2721.0805293135218,-10552.369052968283,-13760.66569971903,23422.750811227554,6384.496560239497,-9025.136604685062,19432.19493973475,-10738.153485669272,5094.076855554468,-3480.765213743281,-2301.5505200075086,-6760.1377202803515,-14388.443056731105,4348.748134754287,-3886.737280032473,-10317.775505943931,18030.52526932967,6729.4815058966,-14607.302237351145,-10423.88555355745,-2890.712363264328,-907.2297987169264,-2365.756871700405,-3639.138420069016,-6437.890236181923,12952.998817802385,-13267.352205705001,1240.133240641383,-16615.09891442194,-5028.095508116945,-12086.965370530204,-6289.567933254292,-5499.838697390289,-7208.98240336608,-9618.974203875243,2066.300358875921,6370.299627894205,-4468.299832446587,-2409.5782758098435,-7314.290347321296,-14850.882163182747,18143.502115694097,-11226.46652988687,-7786.784934810975,-3481.4228323438892,4230.523782744929,-4479.0818262060575,-3840.8652055115886,-7088.431607372108,-6664.093189896955,-2066.2440454159255,-11279.680718706197,5971.128931595228,-14246.543127060979,20062.87726515594,-4000.6399412764963,20035.73760889782,-10887.917451173165,-6597.263205898602,3668.7298073073257,-2049.7863914827817,-1693.906340746209,4671.458070327811,-5707.181522910266,-14077.10707774012,-4635.748207580246,-2554.224301446009,-6540.409915739664,-13787.728562817081,22639.743687544193,-3128.4606584495014,-135.04947701945008,4786.147193184812,-12376.645083874697,-8668.156512572628,5014.181946951849,23173.901507017647,-12019.940357108684,-262.1588102805182,-2093.473730617746,3531.4373115498183,-7146.287936563894,-5496.196418706795,-12736.088666150254,-2673.5699513398754,-11677.882304783583,-3601.2270834713113,2535.179125124668,-295.90300344559313,1478.356653346401,-2168.088621810344,9886.535823277549,27689.910880037787,8278.4074397673,-12276.507010865105,7842.241325636648,-2266.838559630402,1064.6079181120285,764.4177258318131,2408.6807972437955,26396.69746123627,-3421.9191933905327,-12444.669278983909,6564.939437902836,-12999.854792798642,22512.055500568422,-498.7312712585666,-4951.3461591276155,696.3599333568613,4632.390645831083,-13394.969916776037,-13359.446585244039,4114.057830908333,-811.7705017431442,-5670.81118730779,-12531.43953047069,-13046.873882151755,5365.669147961297,23765.609971582322,3911.832242224161,-4095.788270907289,344.06183984376503,-22.827874674262347,-5294.480335228336,395.28309920222847,-84.15638996839185,-286.53925317766016,-4848.561822416506,793.224046254831,6473.830543812812,-12489.630024020105,-13198.572142601979,6596.111793416266,27762.70705784344,-3939.1292946922886,26582.372995033005,-12585.048627304663,1739.531093643775,-3437.407412628328,1415.3869135446655,5850.1301752036,-3608.858474618455,-1152.7002771040086,5785.722056621033,-11673.200503175465,-67.90983432317398,-724.6538557247338,-4327.194124278541,-2821.7781228439626,5585.577752960337,25731.40489378389,-12061.671216921255,-13078.448036699052,609.3397588508498,-6679.597007848828,-11777.2185850916,24724.115123239146,-2902.266147692052,-7877.611156522007,-264.8407526139859,5223.397921900335,-509.1721381910376,-6146.161179069828,-748.8837923266235,-12598.262743469148,2384.706433554059,-4881.77221945155,2990.6672021351656,-1898.6560703745256,-2993.3899468729524,1329.1356274469288,9637.365552888446,-10900.644874517859,-12046.080718523755,28430.07226431768,-2227.1566525127637,2536.6257994801917,2169.234194462585,4436.111623971647,-3938.6795301067914,8342.325928938539,-12507.631904313175,-12317.1326883193,26532.50524493651,-3781.491523473811,-4965.008745699007,1299.29107866903,3197.1765371112265,-2491.448902937583,-4072.771984947134,908.779282082581,-12603.87630747104,24621.751822540435,8150.266073019858,-12634.85396633002,-5599.20225054494,798.1360505079601,-2649.004604522472,-6060.418266446872,992.5250672992511,8531.406979893769,25507.30678577954,-11786.913855218709,-11947.840154542637,441.0852615800379,-4398.82993302776,2995.2528443484453,900.8672830954843,-1742.059966680952,4238.467925503177,-4852.950288829419,26477.487576081054,-11826.44801690981,9669.210650559264,-11283.133141770264,-3727.037212484831,5189.72346231536,-1848.0905210556955,2878.533621161627,-4682.3273309151,581.4676623488356,25600.233040962565,-12462.71223042674,9624.93394985504,-11898.760512517898,-3708.9356880881633,-4650.553411803516,5169.144860357254,-1685.8565101769323,8509.349245563795,-12110.57187445041,25298.341981914662,1278.6561949329814,3290.301623433887,-11977.363527959,-2420.381920188483,1024.019263273449,-73.49740841787604,-4713.100651134809,-6961.066269890103,334.574377030211,8591.163587791905,-12274.596770207063,24128.867454996558,-11348.508790228732,-7510.460207850502,-9091.47946659388,23481.535793317136,-12383.699029888512,7830.801907234797,1060.3754752904365,-2167.6943972806134,-5498.214266338321,-363.5842571318349,286.88188905767504,3566.776709446001,-4182.029130613256,-321.86027071248066,1963.027513454958,-3227.452127162055,30522.576216680867,-5625.241450062862,9459.522189320654,-11871.935874436866,7183.144745099721,-3965.9178389362037,5031.1726966234555,30094.136861462215,9629.789819823094,-1149.0864299848067,4999.522857718872,-12358.833290262062,-214.87479269241092,-3853.418805475529,7554.396007735576,-3857.1378817851605,26663.54034861943,-11846.822065509034,8597.759379935273,-2745.549085479925,-1244.971025951638,-4820.000701708967,2999.0641437596037,-919.863982788074,161.19988165213627,-42.616614150139526,-1843.1979813671078,-6466.348416832925,-1143.9321476063328,-12062.862376538225,203.86943267053329,327.12879127600814,27485.058022811845,8890.456839547092,-4256.8759751499265,-23.550247661667413,6324.4286373113055,1819.1437818410077,2437.7404498268024,-11405.209376299683,868.0386641795144,11286.775368167302,-2057.574763311611,30730.549733123906,-2077.939796515429,-2566.3883704826035,2772.548736869945,2170.538250038903,6303.250454827749,-340.5856602209392,-2168.3169774061303,-11002.149017052277,11092.518885521486,29582.140278873565,618.5088464946293,2305.695677138696,3552.2096160341066,-1042.8602351177728,9663.213647400578,2372.0300886597192,30242.127829683468,-11160.348695568082,178.53091190676048,5763.114495569197,-1980.5882660667262,-11482.821640488157,1784.4806118125864,2191.0241907240743,28327.509579640264,-2176.603772351737,8911.823098178178,2167.870249669123,-4166.676988667666,-1376.402731299845,1772.8215322088838,2892.9015428546923,-2746.8124283939446,794.5571731759842,3821.8126112456653,5625.362002981308,-1603.840310014497,2310.300297016336,-11115.427207302488,11623.471094674369,29880.113910833825,11959.26734897878,-732.0828743199348,3297.4241510246184,4255.568396472447,7082.275890175872,-1835.202748406582,3554.991862723957,32714.016216890046,-11193.418212598752,-1991.257239478977,7346.469395661155,-2197.498879773555,-11043.794919785914,32258.539186651924,4605.387246169175,2449.7890148032475,-1328.0690307787129,3865.041930902649,-1417.4590038636118,10637.122219090083,30695.423525776045,-2045.6247749944866,4132.6195567544155,-4969.248051937938,3227.874355889854,9489.427817581689,-11283.805990405253,2313.853398491075,-3569.9576033088492,1596.1304774539294,-11239.10635549058,-5667.990675912156,283.3561278057725,3897.698595344763,28616.58570769388,-1555.0356002786361,80.39438407750312,-5125.3726254247285,4573.743912888094,7885.120596304006,-4026.5645856876013,1992.435801164223,1939.468645937574,-11340.68858593105,10448.343962814191,-1051.9118103610306,-1118.1251497295705,10272.017576535683,30508.385924075843,6106.400825419753,1467.5577970234515,4928.09606558522,-1102.3224916304653,11564.313516765062,-4816.5806153452195,8944.05465740428,31634.110451901433,-10689.353981825721,1537.828102860532,-1112.1746015156714,-1669.9297545759648,-1864.775576713986,7882.012775038191,29525.959216961728,9225.976343986706,1881.3794955697758,5109.398172433699,1095.1005594487626,-4333.612006982406,-10742.101759599798,-5415.588559863024,1991.6637597113638,29145.986837250293,8582.395761343929,5284.988536379584,-2456.131353584982,-2945.4004668873627,5270.32565655858,124.3209591501402,-10302.023652640926,2421.0889244234913,3010.2377561358094,-4461.238570739463,37.184210236034566,11005.267489538399,30861.137661925444,10646.548140308572,6248.274958806292,-10247.366788136736,-665.061327305786,11740.325377671361,3290.9806981917836,29726.079677237332,6108.813501067841,-10218.990706294586,10951.060645441694,-3673.3616667603824,3621.9548332345857,-384.86531778321586,995.2414966267725,2547.6574329027376,8003.790945787373,3.1181688155061784,-1014.8450843444092,9109.780421355568,5373.188762131616,27822.171955387643,-4907.579751611458,-10832.656651633055,1426.4505781251096,5233.202149843204,25762.50377227347,7928.6655749283245,650.3719071743485,-6121.497502404034,1822.4762941245722,-465.63452114065234,4992.346723923697,-2037.460825565837,-11229.17035678959,24931.747178499038,5136.909929706054,-1175.5442631610742,7040.566023060771,-10714.907844398793,5033.991835587534,-181.33741298997742,-6511.5390395092045,315.862159408357,-1962.2296258469996,7021.991742428521,-11498.141495446389,3976.6170319233534,25160.608645388875,1597.824548463506,-6285.605971716754,-1292.504033815505,8222.80105607981,642.2230395864618,592.8890778607389,179.27969245216696,-6533.147939256714,963.1190748571235,5301.382780373164,4074.0279502522003,22250.052345304313,-11885.401929156247,-186.6143097247668,7990.603817477156,-1146.9615521302867,3507.497919219508,-1413.096968025599,-2312.3986238437137,6045.374400150372,20626.012628517714,-1254.4036040680219,-181.78810165057118,3172.0796581886398,-6593.657559165335,-12014.922962334473,796.0802914099506,-3326.7348259079504,-3736.471423894082,-954.6475172021882,-1229.8306502494406,-7665.8332133183285,16498.095244361466,-13943.522439998867,-3211.422749383084,2266.901492751439,-626.2593479763136,-6727.496563014552,-862.8957642531466,-12491.826193367828,-302.031415767301,8052.389643349118,901.3830704744138,4038.3077231704624,5448.164623237528,20830.951993751543,4152.733431543332,19492.657906162014,-1819.1634534424686,-13196.71840952184,-6714.724791836647,392.98226752890434,7038.262125649355,-857.5131410494072,-1731.0622899077475,2071.460680528623,1200.388815543933,-1529.9851487988183,-2391.8058129479505,-6303.3438376562935,-13671.942112384038,4062.756670655597,18992.912919132235,5081.745999054954,3225.8528122428424,574.7543460232316,-3927.036803558722,13345.047717220239,743.4442530545904,1133.9998447245296,-15814.924524916438,-1799.2068216615646,-8854.197055446997,-4379.171646284203,-1653.5726121922544,-5844.766532546319,-7588.516708596557,634.7147016720176,5947.5376649099535,-894.8094105415486,8.606442009592152,18739.18616213262,4496.098879979076,3826.0137850880624,-13582.447860149661,-2627.9550056745775,-6198.10957557311,-533.9186224119903,-182.41082745462134,8335.331295291708,-1209.8226206380325,1362.684689551798,-12856.780119153587,5994.119893728087,22982.593703710143,4055.8711031870866,-5342.290153430832,1533.4658410885413,-12936.585196259866,-413.64172912432684,1072.650550858489,9424.166241922701,5296.594039127365,20738.26878868117,65.51251756976701,4570.673911186989,-524.5228481365994,898.0842306872973,-6652.266035493199,-404.1955165538294,6582.675150907973,-1236.345899477107,24444.328706043478,4185.522640606318,-11631.266813025006,5232.57839773887,9129.915482163182,977.5630226588092,-578.1054247182801,4981.045095335512,5425.2848116877785,1379.3494954657185,-11175.410711300321,25045.278391295924,293.3335317875773,-6576.8127818094235,2857.248227871133,1938.5373024856253,14421.830420200396,-499.40777849692034,-11346.2183349266,24962.08171434665,7263.270331427437,4306.3559166320065,2202.472870112982,-5115.330360752215,4363.280378515745,-3422.317154440301,2470.8560354305887,19218.768842244324,6059.974939508543,6253.817356778211,-11079.664033844949,7202.731289274283,6180.599593283934,28667.05066072954,5459.354651324451,5993.566861739703,7213.981254881665,27497.28936220837,-11474.247976873958,2605.246251102535,15623.010835959678,2078.7697065638545,-3838.234585656946,2644.939989221925,12809.000887451017,4589.391612546841,761.6260569092375,-5045.823551107338,1206.5423016105144,-11333.557659881686,1194.3455273568136,26936.399022523845,6847.071795614681,5587.534625301166,5936.420196961176,3375.051957629691,-3501.3178234906327,6638.060665634978,8874.576048918841,19555.85692809347,2203.059451771982,5443.989654690268,29374.755970654147,-10170.555999499904,19081.279539601157,-3555.0384367931956,2007.6588333562988,1724.1875457261767,7996.761249263074,-11042.797614136205,4065.2991842261263,5111.617679191069,7092.375114629975,28491.264803124188,7796.916260568975,357.18466194584875,-10340.525157780132,26765.450358446004,15595.29911608515,1383.8626671627735,2368.9558073967846,4774.06898821808,-3402.0841364079047,1776.228921004318,1103.5536627456042,1493.0535396733553,5226.44909759813,1930.7561633869989,12019.171102733795,8301.390361214339,6808.454583108708,-2891.932744828077,-10033.779355456667,27265.290201924785,7692.55213418575,27488.534676541072,-9897.746700133053,2860.4217960432957,15531.87553544653,3531.739717036435,-3506.3838148988034,1303.7768729566435,1413.7847945200026,10073.162785373257,21294.94252444837,2890.6239093077043,-9671.863413244097,28906.65688291049,4664.672096137151,7722.3849176031135,10117.423542397755,4362.853369710829,2701.3922792912435,-2212.2485669402813,7686.091508378641,-10071.592655219194,8219.383409499851,17027.359664221472,1884.5944907338098,3929.5977440385145,26255.717536237116,-2930.3163944624253,1883.3478553584323,3301.261289244509,-3375.672919410054,2181.895689814757,13931.924903128569,25986.02591257628,8176.158250159291,-9070.866492008283,9306.700306221905,2789.529848628959,1389.7991054349568,1801.0452300918064,14746.388016095516,3083.2600791836094,2140.3858571950673,3112.1435283202263,9858.362162331421,-8978.686173314574,9018.200034999207,3049.5525264595713,-2684.6630142230633,25375.221826730743,-8784.311123467336,26882.737880587425,9534.17652837477,10692.273966643936,20765.47284518996,3313.0677087932218,5824.086509927826,3831.7561438137486,-2890.931018671835,4593.813389887074,21977.22385684524,12074.012023054873,-7689.86315956688,11003.059717126564,-667.0263152365987,5607.325679872101,5793.575167722562,6185.54923737783,4662.041232651548,26017.848995202603,318.1076162294063,1403.984187809808,-10258.611576614927,20273.35520793178,8321.207295068432,7185.852818525525,1819.3679569478045,-3877.9049116526385,313.45876070166,10985.823494359362]},{\"axis\":{\"matches\":true},\"label\":\"1\",\"values\":[1297.2971785451848,-234.3945770884836,-473.0065813813423,-285.18943854314716,3600.340982553085,26.191056226974634,895.3391761998304,949.1950531561754,1261.5948667054683,1952.3036792125174,-615.1677537897418,-900.1807330758345,-1770.2360596157048,-2852.6346209815,-845.1782506061035,-3531.1405216402723,-1464.2149098517154,-1879.8710514330626,-1670.372578668625,-2387.353690465426,-2956.2308561730943,-1302.4192978906074,-1201.3771079485396,-1030.7592101277703,-1682.6388937171698,-623.0066183223391,-926.2702856913764,-1175.4817206478801,-451.5340157583334,-2836.31684568299,430.88582086130504,-235.7566383127853,281.27074506590236,899.5455416434988,1101.895863086591,700.4208092433871,233.95644913235964,863.5846512335204,634.2016371022821,-53.69956045240497,3387.66919281174,-430.7893080749092,1011.3657449674323,1301.9180429166356,521.4966264211665,691.1208074769264,1369.4705923864642,2039.1989102631064,27.93500141687633,1451.7643139840834,-571.9382015970465,-702.7017943961572,-501.17748207619974,-913.289902493753,-1188.2490146429984,-454.70796268046104,-401.9874391320271,-811.9287524698674,-272.22578112169305,-1044.127558488856,-911.2998159912142,-1237.4751958545041,-910.5469561438,-1738.7541438497306,-2945.397774100494,-96.25969468133289,-140.81015330357394,-1127.6312568388503,-1004.9079818764776,-2204.3486812379288,468.3731332634395,69.09667372949356,24.30554164854959,-206.44948440181884,-1042.4163899367852,-1126.098367741625,-1225.4372146241851,-343.5637082203553,310.4569350954089,1512.4052168288688,-102.2943637417892,561.862149171783,958.7054317051758,2785.610085355029,1107.9653937787346,46.211346700404675,840.4935724730914,406.14399389177777,2268.9410459564215,992.7171392139236,-428.35862603835693,-40.4319260963015,-480.8888674126588,-255.57917266952552,1731.3561922404078,699.257747567303,390.26915676247637,667.6044825962479,236.49858951503137,1818.6337654378017,-2729.4783184816793,-1110.8473639353185,-888.840034691933,-2086.1802276380877,-885.2098283209411,-2272.1802056898855,-1378.9571778353945,-1153.4434613267908,-2388.3192046050294,-349.06915798063727,-132.550455098307,-477.30400279577265,1846.9012341922282,350.39598314774605,-629.3703379796101,4.947975648709744,-84.69350828321282,-110.07795588974354,-1504.4457351093406,-288.5926306052133,1378.3210349513308,406.0970904136883,1229.7489544744635,2892.2885155567615,1116.0856770908213,1203.2750942342198,247.53774914888368,2111.6558154535446,922.6816067218176,433.2246940797485,929.7548440763362,1603.3292417976165,1144.0791904001912,191.43525341658864,3027.246580258233,862.7032254582648,2240.306369897391,1418.9797793670525,85.61253248341393,-318.5701527976172,-3755.468796306553,-569.4593053772338,-1515.3549340146637,-1509.5517801742815,-1873.3889886480013,-1544.6300003121814,-1571.624948341417,-1974.5300049086734,-620.8700461471689,-932.6389895920917,-300.97402433069544,-1104.475966533999,105.54306326657822,-105.70270376744546,-568.9784050742064,-2951.931894520024,-8.333374985911497,-1642.1184563925312,68.15754589873161,-413.6664731636069,-1142.6835632770499,-466.7499575551282,206.79955580915362,453.99330831788376,-147.0732452864218,-82.8556467168454,123.69404810845889,-600.536531521723,-487.58513003814744,294.7418915739874,1899.353562558154,393.1655621398061,-63.18799634994532,479.15096697209594,3032.503787468895,-683.1530457139999,-458.2125647268705,227.6133916129666,1438.3940211152894,-151.692406033713,-590.2227653084562,-622.2150003599942,-760.597739625903,-1040.6842452074693,-1945.1465027693846,-1231.539076416423,-3544.9119984695412,-672.5307272066066,-178.02332665027166,-827.800335171619,-1203.494022665618,-2096.342377984082,-489.35075092785485,-1210.4995341609795,-415.88458010822336,-3133.7726115513738,-2744.174473108162,-4615.2206402277825,-1057.0449871421372,-823.8622744610105,-1665.0706672250215,-1011.7006701111346,-1512.3614431857197,-1339.6625833253238,-220.28458013833279,-621.6451574093173,-927.7235399621065,-827.4237737111263,-174.57025152125127,-640.9736438913775,444.893804193728,1816.4364598582756,-464.6432475749237,1502.3125155561504,724.2657003839713,1590.7082909449828,1092.693325740382,-205.51790966374747,571.6248094612815,861.920463759328,1505.3674097321943,2181.909339732382,1225.7067916145375,54.95001121170386,409.163771473456,359.63187959866656,287.7080013020095,-146.17918673521194,959.062835995043,1389.6522139602387,-1684.0855680012876,-3245.3574105019675,134.87524942789042,-2821.2638439466155,-215.63871117714604,-312.4568081210082,-644.219552722976,-432.4717680092023,-114.67284537901665,360.7274407646299,267.520876644367,337.1845755773977,364.3170227385083,-122.67188164086251,-247.55239648537457,-251.06893587426842,-1492.0478751690039,351.6259096631306,-741.161005643761,-249.28121542423582,720.7181377884725,868.5799641999843,366.11764969216443,327.11674048924436,1101.6636911213177,2711.71145040922,663.7438612912964,-43.57406416673045,-430.89018415001,3498.2911100592974,672.7437257538734,464.9426971531609,927.6559565794372,1261.4247241669561,1614.7256678303768,4251.362570830269,478.8399793578898,3152.1742461514154,3113.54674579234,2272.9633254473356,-489.56951099168754,-2053.7515227014815,-224.8692084126461,-1647.0828780988602,-3073.831728342177,39.37149501635309,-963.3529702199584,-1861.7363538680445,-882.700417083724,-951.2293678909899,-1568.7710610748209,-435.77040447991965,-2407.906045909693,-595.4266857074963,-1189.3129606846728,533.2037991277396,-2437.4972632276426,-1293.3274173074851,-1261.4231809668777,-1800.4837303831603,-140.9117017196634,-374.37892858980814,-719.1462972704754,-587.1817943504672,-403.9459460243122,-997.5461758865722,65.52699499949685,-665.2380742501106,-304.6565016971041,-1011.0157039431782,3076.948442203986,1988.7031159623778,122.21557087684806,3491.9542758008233,189.94753408310336,476.8913606611252,3213.982660516442,-427.9121488830709,1535.2782011763315,743.1997322336384,337.1780348764002,-100.64723013201204,-410.2261489013877,-45.151209713584684,-920.2629761519839,73.67410770741232,-1242.940244403748,1276.6098651423943,23.36808440622575,146.80816296273312,691.7650492438158,-961.8066824347783,-322.1306609416685,462.30036302749505,423.7985615621006,-258.17597960265044,-1481.2926931020068,50.30728104382423,-1378.8399761392832,-238.80359749393944,412.6965796619042,-450.71682683102733,-284.3736598152646,-2173.8802121694553,-1140.4737685845773,-288.6626593932299,871.0573790492995,817.3311949211696,-285.2589285767334,-64.78936103244591,2594.9142277208507,2870.240405895686,1043.728892828997,-199.25044097607503,2428.283727129426,738.9438866836551,1137.732170200456,958.1543088448803,410.31221643046666,-177.04907424456442,-204.04105156428724,928.6140711393272,1540.9583312392888,2506.8450505166415,956.1359766137774,55.7190142051445,246.76215093371732,884.5934164612273,1040.106210918621,209.4084091820392,-2033.6264284207634,-493.5848140097016,-178.1399097288009,-39.246623922699904,-2283.766926040494,-115.87057393613287,-1148.5859451386884,271.14816625222267,-1929.6498551140864,478.4606151622995,-1563.7271659545677,569.164873581602,-882.3757496719597,-893.0898908373326,-2407.201783917051,955.1573474796661,312.86751502152583,1242.866467939005,-1112.9552206051148,-23.824245032072568,961.7699509285095,1150.9231312304364,1027.0756747564337,2723.6015779648583,1724.7636887319452,2794.722660053716,3230.105297005539,1879.6664488373644,449.70613236752723,575.7606516989088,2169.0573416756906,1909.2938390253137,2999.79877982161,3067.809247841337,-3538.3690429083076,997.9403023646689,4147.160249660577,1343.2334373232777,431.15872714133417,568.6545162736911,-787.8615700671113,-1600.028408467817,-5391.786697337227,20.747263116533986,118.3018854907939,-209.46974824416523,-405.4453197737828,-964.5369262558207,390.195928092361,-827.0438168203636,-594.0010793214989,-944.8551877848912,-648.9811920507149,-3044.137183308509,-1081.3979704116082,-521.0825093368389,-1115.2601547333927,297.2501426266379,-3608.4518790097172,-2444.102218299789,-315.77709066724333,512.7436784943895,583.3050141870938,620.1271754749134,-232.08137701598932,583.2895914214487,1533.055357367365,361.02286522147193,144.0676894444841,-89.2036186637052,3617.331582780527,1352.0548801927634,2252.9565003457333,320.557299946151,3085.3044607956354,271.7904163930018,1753.1293279173697,1082.9473564605935,4443.26786307824,1163.2774398134861,-58.192516247837865,-428.33234104951845,851.1609736205143,-383.8377690393075,372.1234048504698,-25.40809781011769,51.95594493995099,-192.59931245483702,435.41385060282107,582.3147311503843,-1495.1229403479394,-917.0284711892964,-723.4679942723491,-1945.1138733141468,-900.0559773233058,-692.3065467993201,-2591.7101142176075,-1274.1459535712681,-1875.7339478162423,-654.617184744971,-618.8909238972516,-1048.496192481745,-2319.145523984468,-648.3655263815133,-1207.1486354335882,-594.084189119791,-391.92502972471266,-403.73491784174047,-242.61580227235348,-526.7761955513562,-345.42424158850275,-397.18051324560554,-625.7496455272858,65.62263525932136,-828.0483689414948,-832.411851956821,-524.7932786430615,768.9261523937848,1049.5196818433271,-1022.050353798532,2047.7627154676577,1197.4329560515882,2916.046737366376,1304.1099850147657,844.0066878888198,1946.3804816219733,3142.3971740249162,1910.730379180875,3008.227548132695,1726.4563913553384,-3292.8517528884267,-2649.024458200188,-411.2027382316695,-412.5890358785109,-1942.0392304580384,-187.9820284715513,-657.224173527617,-1411.796283707716,-297.5235057484263,-927.1844141726789,-292.10201180395086,-1688.4664901577341,-1590.836050738646,-526.4089873885695,-371.9051866688772,-3202.5159224192075,304.2792360873037,43.76349729835332,276.92911009951456,-294.4263336261448,-76.5659743577396,746.2099389210885,106.28368439075399,-802.599799291866,224.12619185068428,-88.36212288342898,-889.2373329260054,75.66877291237728,456.624865081437,-814.9201288784096,88.56977636637997,2226.7210427668642,1162.151149676457,-430.3685058506953,664.9333114846073,957.1262109926928,1285.9380635911548,1738.7751072202739,4059.572942855379,2348.315426009091,-511.4677058650934,-695.837897960621,-446.9655931064987,-434.89377357817256,-343.8857301226884,445.93838270821664,-966.2762991147727,-749.8754296165652,-679.7498253177534,160.18555449465634,-110.8847417690047,-198.33213697193858,-367.5078234032155,-1690.8209449875321,-1554.0051246112223,-1523.7854125671918,-2395.508082131811,-491.91346287372045,-3699.4715321672047,-2833.9980183088005,-760.2583510648055,-2639.004259237046,-714.7667498067442,-1818.5599560926112,-3876.076794592436,-2430.168793241289,-1679.1831517509988,-1584.836910017269,-1262.1584662943264,-201.3222500146559,157.21161716853098,2488.93086747045,2648.2390448118085,90.04925170257876,422.93642817809894,-663.3521622851333,111.27494229131189,443.1200103227973,637.9387315067526,-18.38184577837548,670.2086022597962,-186.93925984866158,634.2898065142717,-354.4234363542195,829.2891554083828,-1370.0219167858356,-661.8532335007794,-79.90744058489962,-722.5909113691966,-469.07110268952425,233.47093033056237,472.65731102350463,1194.1823080074953,-35.92441210107337,-14.499427397290496,-62.531064522205234,663.1331450138307,-294.550642188525,77.70459680855954,-107.37384894111894,-374.4683563253035,-303.8760621034939,592.0907374445258,435.7159861332011,246.7587103129873,-375.38004045473264,-355.66725786060454,-99.40522711037977,-442.8480856092972,-433.8111323456544,3544.364468783559,-259.4065774374363,1198.1769520775547,1055.0207031920406,1110.2079194298733,367.25998058664493,-1.0353028546316356,56.40030353707976,2303.4709254178297,2939.893799730467,1710.3564161203174,1825.6215849322712,-478.2858857867961,-296.9698906459162,157.73101791397764,90.99081291235323,-754.2216221429609,-354.62552041339165,1911.4441233692364,-314.37408011394194,-417.62734135372693,-618.5706664681186,-3386.724393783867,-2271.9109948758937,-2062.2013651969332,-2985.374268161263,-676.6216011407536,-492.10876355692,-673.6539154272251,-91.87716519812122,241.7963274433695,-1524.1773295035719,-208.82380904820593,217.989989261152,-263.0045766919975,-506.98572457987797,-892.2941007373613,513.2941460807369,262.086616466919,-2090.536717212275,1358.188762493626,-173.2786812289776,3747.016958679378,1098.3304996227891,2691.5093512917997,135.39193395922868,272.50274322789517,986.4067591371086,1377.2999865994548,811.6230307535923,547.4624143979664,2637.8917989050146,1494.7245302851504,194.6719362830115,1287.683180389944,1360.9802188035562,2473.14907579768,3520.963301044332,5090.8660561770985,964.9720479831191,-827.0243513564257,-870.3130222309625,-1432.646653973203,-199.4038707677134,-450.82034044704943,-603.9308377199853,-946.2623531825585,-2043.0750879047907,0.8663701038807232,480.2657552208606,-817.3287682379016,-1069.7472325773026,-950.5220420958334,-508.70532002801593,-489.7802572603299,-1582.2651692697204,-1761.274876232693,-113.68117655882408,276.8450449052308,-961.5011951487512,-521.8025493534259,-290.37049123051224,-1222.8580413828167,-316.3512776973173,-769.2873518506217,-2.892316710430879,-1050.8056998379207,-1555.6091399584984,-1555.3057779186493,-303.48328406905364,3179.071196130385,1565.0305228136085,-398.00174979242536,2434.928483756131,40.465309368940304,-1024.9510801438141,540.0639054419579,-495.7412318818404,149.18707885336102,455.31708661349967,-541.1996268491351,-713.2012546216894,-395.16933448734954,-252.37273292109094,9.692451669515822,600.6539862097469,-351.8586592973151,-748.5841592311025,-306.98667485547986,-742.5937322408523,-1444.2878539397348,-2071.4733484974486,-617.2070992594356,-473.2709708164401,-808.820007497917,-3372.7078320544265,-824.3100752399271,-1337.256101104022,-314.20629800350406,-1114.56672910399,-92.22049571579224,-1004.129239771272,-1243.5010686643873,248.8011888194356,-82.83459300561994,127.70496635446968,-153.0820626654555,286.7534867331886,-1615.0376610425665,-921.0595708129316,173.45324710218458,-30.483592135386093,841.7892036951955,27.234718410973862,2496.5573572428257,507.7844367280071,-80.29365754115747,-12.105313166357332,1311.75629523554,1293.6666484048442,1032.910310603418,157.41454768615463,-183.63511319096685,1896.7147605968285,-732.9154228302774,-444.10790633236263,-658.1873449234547,-204.87270788968323,348.5621790242278,737.9959595640121,-167.04078008051223,-277.07167170351767,-1964.052648215842,-2789.949379358141,-2637.4695180361105,-2342.857208249432,-793.3326945117338,-326.1146005678595,-901.994249522711,-543.9704871999553,139.21320090023974,-14.496466936781065,1146.7428738959582,-866.5317243348311,-821.3606935190691,-475.0334665024098,452.95030884532434,-3690.989137423587,-1973.8099186743625,-1054.1582094464488,1362.7990718340507,-201.95117566020977,2227.409700591848,160.55267349603204,1114.3424499029027,2696.710956136551,415.7884749754846,1054.1001145477337,1108.9685083141328,1832.4933205933585,4359.950148134086,2872.1617008625126,644.4291528080582,2018.9539224440741,146.18968820841047,-79.51059024835428,539.6239253856183,661.2978075604663,963.9752924102595,2084.773662023439,-737.6364203398789,-466.1626483923339,-928.6993108348815,-1149.4290680175068,-1265.3644717073241,-822.3283532758053,145.18700368609598,605.0432796342325,-965.4610641881186,-236.77286543868848,-1523.6628089645278,-1600.6959562308277,-784.2523915081085,-1523.201201262396,-950.6072351059931,-228.69658258764827,319.43520953330534,-3031.7497331861678,-1424.0261751999717,-310.941168449511,434.9476009080578,-472.6295092419378,-320.945694749217,527.6463028451668,-615.059806285373,-632.0609073811074,-1434.8620945597766,792.7252905547023,-317.08605214840384,526.7632748975416,-260.99939349782835,1432.591789604698,663.3590089626724,3136.5584610424153,-598.0158521997339,1478.7794672833006,556.9601388705362,-194.28166364066215,1207.339611228272,-340.78866844212274,-368.44811859316997,-714.7772021031802,-286.56707277700616,159.12489511775095,-530.2978587398933,-774.4552835682673,-211.94289476324198,-839.8211554129018,47.09423725237703,-435.2699956798772,-222.66799163431037,-1700.3948466881536,499.09560487846966,-1118.5725824500419,-241.18011059871375,121.07997687532242,-479.92010743280247,-2619.355537794987,-720.0842941071029,-465.00664714645956,-458.342586809795,-1239.6614072777984,-3005.606765317871,1039.8960825484241,466.67386824394873,-43.9181392708607,-240.87370059332125,-659.5259839164686,-396.8781127483499,-342.84826197982187,1251.5934251364204,575.8970319797423,2520.34343366643,104.10736900400791,1116.4474472099098,2106.144874596645,999.332249248046,929.120213003128,2777.3887846451184,2491.7346904223805,3356.388378654689,1444.766310369416,1594.4106675796033,1287.4177204576158,-51.94556729974536,611.7449597839786,350.5908908553521,2130.0771782568854,2692.7339548587606,1091.4915748017434,-466.8889263908467,52.65963213302705,-659.7084245342403,-434.3073009738865,-65.716720016453,-630.3876538440979,-2436.468777983501,-1836.766456429415,-358.8315820257537,-1573.9834518898151,-1332.7360644064847,51.487248223095754,-738.9342298669393,319.62278391816966,-276.01746803208124,-2555.4331384679167,404.78402475421706,-7.401620051386517,-191.55083339385334,95.44738432441382,283.50585952227215,1562.852164439156,216.3488255471158,1741.1632044571186,889.6538458915289,2072.0572824873598,1432.6630175738633,202.813422263921,1327.080255791807,768.4397865657155,1632.8736868406056,2713.726183722988,175.60921238506643,3948.788405173626,2419.681944553151,1581.2594914584035,1285.2428016370009,1461.5134018645144,118.21654799151594,816.6235131657853,8.255499101711234,-240.0289837847856,-375.3286920416988,-83.73404806519228,156.57310566600452,-545.6415496186257,-450.96954779124127,-48.35472631324851,298.46930805240146,-343.65828843506716,-493.23748953662994,-1021.2946281396479,-30.08211139391024,524.4655951532926,-693.8350485758854,-189.22603276456903,-1725.7728619805778,-2439.42156096866,-784.0661567075422,47.842634015864505,135.32601973794922,332.50234032449634,-519.4569344812661,-253.9694057914415,183.0951832180824,2126.323712556966,332.46016162936525,945.7352616547539,-222.70887803048913,-100.85971804595759,1530.6031644571294,1736.0750048043144,1569.3780298135282,404.68787776152544,685.889933522875,934.3325709281805,-200.5777318336804,1905.5540290604047,3781.3882805811686,3133.2137156541758,27.295235759240523,470.8685877201967,1032.2298630213086,608.5660453066364,1287.324772645644,3595.0831680277097,2514.1080256894043,1622.6347346328535,643.5310981168291,732.2048613463081,-2652.505710191819,-998.3205286631795,-1366.6483995466258,-2029.2600405761618,-2937.5440385342563,-1705.329225848126,-991.2971864447366,-756.2085614585377,-1191.6094383888767,-770.9991037551608,-249.5818125149194,233.80364318576252,-311.59753787847313,-145.26896308253578,-178.06100304492557,-525.9344774257883,-2606.4420313209616,-912.1847958462168,-476.130443887383,-1036.696658210501,1103.3014420374316,-426.1454465147127,-257.5687268167211,-269.1603937900933,-187.8943695520647,335.07996900767836,-219.3603071120097,-913.3750950340853,2489.158210513782,1343.1023119714955,4036.1836402259737,3359.720558321029,1199.1501253706024,1795.3604803418136,2084.077923948607,2123.3572454779246,1784.7626043309879,5005.375481156632,2470.156674572932,1525.5236944292565,-369.3699085409402,-2428.168092084641,-835.1493459760896,-87.57487296902269,-2561.114804787244,-1516.0780927334847,-1521.6182340003925,-113.93540936110446,-1174.3850961992102,-2151.0382303111046,-801.3077141144694,-3032.493698454951,-1147.5756942304724,-2490.43128980154,-883.6481755090854,-2479.3099728926472,-447.91559304868747,-1285.7086204837042,-1012.0741669735305,-1228.128653425765,-517.4536974650118,-1276.5028745700356,202.08855782863392,-228.18471866968133,-528.7142071226361,1229.1384126797404,-750.7369124256619,-696.820781530164,71.12389542703303,-1491.1219068148832,1670.6194134248015,-80.2080570378528,50.85032073050399,1667.4358900106497,1152.843072681617,2195.947753202565,583.657815835865,3319.3073573635334,3182.8205890994986,988.8246854208107,-105.96902492876293,1628.6179073707428,154.2258931412964,-1403.2798675295674,118.89150039248395,-68.14191897916959,1191.3618559384986,647.0271946723753,-459.4565576709657,143.33302434499404,-826.4622923713176,-1229.7867998684042,-575.0863374584623,-2211.9138647036175,-1376.1942849259042,-530.709436834431,-434.6854999038621,-2529.338588256875,-530.1597663137603,-778.2946717520515,504.2096291297908,-1626.976261027663,-2624.016050507833,-902.1355698985338,-2830.0013695414727,225.99601202507077,-2872.245857688181,-753.9430304088835,370.0401117600545,-2305.5599352352383,2028.9769191954276,-675.3058819873555,385.9637958834695,205.02544948472652,1492.161155130037,542.2249719748538,1614.8216058581597,390.3727647992857,226.41915794863925,283.59518876957344,266.78091748452687,1309.435973325337,-172.34802885793235,586.9581832534326,670.8403812059088,312.0694955048372,517.9480209178987,642.0619091930372,-385.17635791909004,-223.8724826336492,-964.0176496741353,-516.474619312896,51.539200741044006,-432.34426876630164,279.80728759755516,-702.206448648022,-910.1354492367037,-171.28271857352598,15.69872029713499,-516.6661232316636,-150.9073841665113,-178.47623859899304,-270.7519936645382,-246.38960123267452,-749.820735358659,-877.5380028573353,-12.460154487484582,-633.5809899919348,-964.7472812944308,-1587.378469483976,615.3441469116688,897.5835767094507,923.0616007129605,3798.7605626591685,71.59222193310154,1555.6022865377975,-151.1532149477421,1462.0082931126537,-178.54100340557045,653.2533467358435,1912.9300809465683,903.5546653237556,1318.4605147527448,1432.4129015622882,-33.650824158016135,-68.60793570726533,1828.214563457464,2640.124024962034,356.23304402557176,412.5963511315755,-1017.6835598531156,-651.2430553701824,-3555.902715322055,-801.9705897393177,-637.6611860677583,-832.9191342790509,-1092.2107953292996,-2230.1300259612763,-22.91900727602399,-2941.4478158555844,-534.2918016853281,-3146.430272991451,-987.1663220961339,-894.1531133535154,-1766.8512223159446,-691.1617208972624,119.25437807400868,-1331.4438027910087,-890.9825729393501,-868.2797661858224,346.85431737659667,1.3056271579212775,-419.42992704745205,2098.345794741829,135.9254358668497,-1189.1080360875555,-884.3050519429815,-704.8707586600644,-294.94326663600833,56.23154698473209,609.0534524765402,719.4080828002544,876.8812844113976,1013.979966406487,1261.2821681988341,2042.16913956999,4019.9980181094365,710.4615868871718,2124.613956867926,238.87514543129546,-526.3141223332908,811.7646003307797,679.999744009759,64.82195510428942,61.06006077854799,66.0251030539288,74.89566688648928,22.317810294658972,-621.774166275937,-737.9723487134003,82.94538810521725,1168.1850661300161,-552.4762724949671,87.30559423851774,-1240.8549249735886,-143.27266002795508,343.9912267860321,110.46094482902338,849.7758149559152,436.13980245717755,-443.0510445276634,-366.87389900099066,-597.610650467522,196.4108157323648,1220.1457361009009,262.44273994921735,-460.73232899540824,113.94354605712017,707.8247399054247,458.5776717065983,376.8108939430309,834.5610313948508,254.7218356616783,1449.6608229515823,1243.2477719953588,-178.43573381943855,1816.7999300236138,320.0953328169282,2917.9659245199077,3480.2901762843007,-295.86012134753264,500.1203140518285,-634.3955155938132,106.91526918860436,197.76604839772833,-179.9460328295968,493.4684624020083,793.8409321535665,201.80639327569887,862.3624276604669,-1728.2551975471479,-883.1867688116456,-4032.9147736630716,-1779.1120639715593,-1588.3073835634068,-1310.470169251773,-2715.4204004948383,-69.14745086378016,-1210.178840886151,-913.1970523186042,-849.6453319269187,-469.70276610788363,-1333.217376706383,-1185.9498359099928,-520.5118043617553,-290.6734389810904,-408.50174231807915,192.83692000572557,-1942.1936946260587,-1426.1025320691683,20.37560793366435,71.0636389524093,88.91899381690463,-1071.014738946158,265.1170530507052,157.31674369195304,413.2633393899925,-263.9036389394615,2262.0707441816567,789.3169272152797,1873.200545146326,1608.7628917913112,1546.9947503780622,1846.2610667446318,686.6165318637503,3764.977038853389,267.14881485601046,992.2921025620408,-120.27899695946407,2333.9102396021435,-3086.6397260730137,-1928.9959102892838,-1810.7376421991326,-1774.7300158042844,-1441.3491795012578,-1620.4645960515,-473.68247570722036,-994.9255463629553,-440.05241490415716,-3246.2677994001915,-674.3790502578262,-1065.480255214222,-869.3353301388931,-3227.924841311356,-364.28822805742874,-1587.9979463493833,-755.3285384321498,83.36753441032525,-252.8928102235902,-36.305351646600506,875.5012029621358,555.6661019461804,273.33560326852165,348.84800312243135,2099.262086292044,327.69259207442036,740.605311254385,274.33172023495797,528.1388368551745,-289.2621777897609,1535.3388370853156,1468.6137135263211,4442.575809509188,1081.8933809124933,2175.624907666316,1351.9892513590082,1937.9040421092454,363.01501593090666,2312.4386165960846,715.8819764795885,-646.0549054392632,143.14074219518616,-546.3715971123432,504.4234235318621,-326.4565702257156,-492.8938882538623,-1243.3072224693524,-21.609391602442013,-865.5532834699968,-375.5895353972178,-592.4125592238232,-89.9168104190224,-1225.219781063872,-432.6815977946282,379.32229671457617,-807.1048110958118,-533.0810620560258,-2774.3532361640773,-1028.4300324491587,21.872301568427496,-865.1955853390917,-739.4658483783626,-16.321453387699417,-1207.2281086889807,-216.8445564469897,-461.00270670451016,744.6822300180119,-199.26522282638638,-830.5220373864794,-1805.4392427331456,-121.67986794339073,2959.5718909249695,-33.887144397791396,-819.6141897274896,234.2681673947886,639.2784891903564,110.6891439255321,-193.5354150462107,1267.1068183422924,1053.7293616005866,309.93295321545077,1106.2297519136723,2315.6216582078223,-683.9534682507847,826.4250817367417,87.17908139772979,993.2338299515864,1045.8839075724622,1014.9708629353461,-17.642348882913492,-1870.0398744363558,-2356.1163889987433,891.1662382269428,-134.69814094042647,822.6575167879874,-119.0842565027712,742.6944394333863,-133.41923735504037,474.73498709671605,-375.0610076010285,-73.2768913879426,-317.21999603019276,-188.08930232030934,392.4984375943541,176.82992064769283,-869.7848088440112,-272.74279005205136,-281.9131140157221,-577.7237048129409,-1798.913830516177,1140.1248735019615,-336.481086945843,622.2927209394264,1470.348304728564,547.2458205611712,783.9189654991025,41.702301407049184,842.0372972140595,3639.61175769169,2064.3209839824494,1317.7310879518525,1066.637025271717,1097.379275876549,878.550911725881,1850.2081702708247,1950.709002084993,3478.5022058118634,312.92722053574846,454.33442718080994,182.3958047124334,-993.72651648548,-899.4662803396814,-224.23651337719923,-877.8066763774816,-706.1421340848942,-1844.3887837030788,-790.1558813589357,-3240.707054312159,-836.1177777721897,-1923.4428682864213,-808.4178383946736,-324.01527306392205,-2381.1187242707047,-598.4388097437034,1101.9748731089971,1196.3330250713368,-143.01691858676026,-459.0154195074306,-700.1731666184703,-1004.0451102758432,313.78273862131084,263.9585752110907,188.56690231523936,-205.54503082910753,500.2254776574989,2329.332320902369,666.6483720232209,-84.5570313852263,329.3098606095744,-58.84214558359431,1801.8561758805004,1362.9892754309749,320.0270215063226,3033.4881430206724,1660.2700056652443,492.1060056980359,766.1143797367628,1148.5445788124573,4128.2811124823975,1576.184942516872,488.3682536897843,141.56994145287422,-316.9624323649846,-55.533253268861465,442.7067091880712,278.4488663121426,-58.71735729788275,-428.6595637072192,-150.29554943010294,-662.401907971587,-150.49602090405463,-323.8048419334248,-207.2345726685176,-1571.535577580915,-282.59142864688465,-212.44885066507396,-2230.9459160757365,-1092.412986460742,-330.7920355014287,-781.6253120077885,41.85986697163868,977.7185556815945,195.598637578076,-18.581320948929715,1663.8472056885764,-517.1751231810169,-352.43511366349054,-1660.3044790542494,-229.11966532197303,-410.6304546486215,-86.93141491944833,1082.5974128874716,728.4697422355745,304.02468437475716,363.45405748897076,1793.1907417204063,3557.5719257585642,217.53989963509645,522.8328640086011,1503.9905509169441,4014.0759216207425,1024.8506944192418,734.7428385627277,354.57320332179023,922.6068289360007,798.0056091663869,569.02021814177,144.6336145880388,1279.3205186196371,2542.587935833912,-400.8390720744026,-3318.3393945094404,-990.9216436570731,-1110.417581605601,-587.7971540088021,-38.18537340483065,-931.7658464761992,-490.37125846575435,-848.0940851903458,-528.2513353504612,-656.0809598960342,1916.2914242813736,-393.60880481248773,414.3999568925257,-481.06864626795357,-556.4180889618672,-416.8527414080014,-102.67589754227734,-2300.2158053108224,-206.9726338666972,-420.70505684111276,1763.884061712746,-726.9862814978383,-32.691089637014954,795.3985075697443,-637.3805998190701,2544.1846642565156,-222.41745198068105,-189.40362057459515,-257.7320913415637,4240.62406920848,1750.069106788839,3176.5595605376675,1244.8118260641525,5431.172433839402,1694.6116862492934,2150.1539819621407,1947.3633667070465,2292.4495578591464,1935.4296594842453,-2563.44303765765,-1569.1510872156448,-536.2319567974852,-797.2090161297441,-514.0078750050654,-697.1620129805115,-1880.2642490685769,-505.5060837359056,-2110.791174099333,-807.1881592072344,-4243.412679750186,-726.1141494977958,-390.7079429247385,-1986.32680069404,-989.4624898430312,-974.3358624112832,-543.1222447674095,-690.2723487136593,-1028.1768999861904,-2541.398575153662,-1056.8943541891863,-1264.981565663548,-945.8479163326277,-1057.904448033959,-1554.9572198969317,-1685.5368727041807,-1001.1381638345597,-95.71239481926911,-1450.6959876714616,-857.7371178443957,609.0980291333184,839.1721156468794,474.8476051414476,-112.72429968895787,-271.06202584908965,545.6991099249437,3771.864682728631,1153.8391796264775,925.3395921563011,1780.9306601745711,173.7864925895921,13.248478410577853,199.53176811842852,-830.6891327857654,-237.21478929274707,-37.94741706665108,-33.16967277284983,-160.38075028791093,-621.5829573253886,-784.6793086328255,-288.9724288833278,-1199.1115871231718,-2121.901203933436,-1801.7765075995912,-1991.1955842694083,-3332.913367259992,-4698.606787717263,-2502.5485836422918,-2084.5409914067177,-666.4949002541159,-1639.7745746935468,-1942.3730636757994,-1695.6634498634348,-805.8770236482808,-971.7887857271251,49.057627397514636,-926.4605286392292,-123.51652469480743,27.703259805439753,81.51871058133948,2977.51726106829,805.6180803007377,872.4355874602795,1361.9362717649021,1727.7821418836297,621.6346870041655,408.588361044825,3189.3446074403773,1150.1171611810298,2058.3336642447566,-239.7640812433477,-95.68824092100719,926.0707576009532,1536.1177008883042,2783.8891247776837,1040.7565444830893,473.1295065249473,655.7196864255188,983.2607138527106,1297.9905625103438,-3.2164342904502163,600.035370422081,-52.39613314290598,-248.8702057311372,-887.4516371746929,-447.5903836948585,-271.5862152684813,-1432.4270384014224,-2349.628763150324,-294.2791429113596,-934.9736204366259,-600.8938691159506,-1414.21655616718,-1334.9522542800719,-942.8910317064032,-1287.500530082305,-1151.042169247623,299.10335152559355,-330.66716953913186,-873.7479022041689,388.54464621022777,1027.0218331207116,-67.29931783284493,1364.6493936631352,422.91037633200904,1143.0558692378522,-4.023745141390418,36.13225534111477,2982.6470460631754,1678.8282963306146,-121.84677473002061,2214.1047681500686,596.7307205070884,1729.586036227719,2785.519977906108,777.5370527157843,732.0162955988167,1392.4184636665514,831.1772661263035,-271.97928082673167,-1034.2663964500352,-1205.7589675710162,-1317.140672944137,-669.5643243533533,-982.5780844172984,-900.6107320480119,-2376.18439414345,-550.6084127360016,-463.4705246015692,-1433.9346595026022,-440.23352784376306,-1628.6430806517933,-847.5064522047863,-2723.158427526164,-1989.5142336714132,-448.2489062271818,-126.82646769255774,357.38933992780386,142.5863771653241,-506.88262455554445,376.63314340523516,266.69018061049513,-111.46947583216324,197.48300445814078,-652.7624880471684,579.3985458509935,78.65843256288699,1598.8918456462357,385.919559456876,421.1688068884512,1171.7135839613093,954.7463894332279,439.5688344359044,1747.8473257150247,2433.168048986754,840.9522056218892,1184.2043492904493,-336.28604453799926,-358.3468364214964,1301.8660827535564,-45.539612267700534,-801.6933386291524,185.68607240033595,-441.65319847043344,-588.1114645714116,-200.65454240346625,-472.75558209820724,-543.0239727197124,-666.573968006928,-758.832623192508,-899.4636244023917,-1602.1558421873947,-293.93580521536063,-799.5962647085206,-567.1629701943185,-83.76536008943796,156.8334209961306,97.73036305718603,-333.57489025546795,-26.571726614494853,-889.6763553561855,-247.751004059153,-891.0832916825975,-162.2409338850776,750.528735120688,0.3852743868230077,806.8977674530443,-427.8384683811302,-509.1654995900097,183.27635198476534,574.8732589249969,1739.2399998232354,731.0391390651852,466.4247971065281,1776.0630547881426,3408.0726041643393,715.6511598728106,249.13686826405888,1497.6000307209936,-584.2510369569322,1216.7105350914721,-1773.7604748950691,1011.8502857432676,-90.45540495748084,674.4958064754579,811.7389891620253,105.98992599300846,828.4504406786276,589.4929273252292,1870.067693730075,-1313.102698896439,-1885.602585750048,-1108.6859265069509,-1070.4795497485322,-933.4229876435126,-3646.6397232508957,-2756.0535519388914,-842.0323263564688,-476.465960262287,-3808.285439695057,-1870.2097954905666,-1955.7205179980044,-1489.7744939114418,-427.54332152246343,-2039.0501305119453,-2572.053547230285,-47.879124962362795,-721.3298759568281,-1669.079293875724,-3053.056151459167,749.5064691395492,2291.5327824627693,-300.34388630822815,597.9484284599812,-847.7081236131334,569.7609954912833,185.0525143137613,2312.321159988594,2535.217874745111,2399.092103103821,4533.740759678648,1018.1643879778368,1897.8766784185195,-686.7010936245285,-23.46356029010191,1375.6677998276625,1813.6838339276749,2206.816559945263,603.3799482794246,1316.506396104117,-750.3969760595049,-2235.896634127375,-394.34854838109834,-683.3450859997466,-527.7558737930945,-1347.3200834344723,-1189.5683770098574,-597.3288116818861,-1438.124372826362,-1854.7781802960674,-772.5422054258026,-2013.4238903871171,-1294.2745798743115,-2639.9035352725055,-532.0674739843363,-1410.5249618385008,-473.9597162403624,-599.697052548692,-634.6833098596215,-346.6907119804238,-243.163483089101,-830.2179157825507,-1093.4992247500963,968.2106785977779,-779.7013939614843,106.99329871904902,-186.43047439585283,-434.47134556369224,-686.9035766250527,-678.3639380055104,216.31174951772263,866.0330263481312,1073.2719370624086,2191.479805987545,678.1303872280423,1497.8600361631138,3589.086672201406,2004.5265635419632,1166.2276709959817,293.72911118476384,-211.2414498475125,0.0723478988178334,-742.8171434039481,-87.87703400054089,-396.31968885614396,76.98671323089579,-161.58936537074763,-162.90868590114104,-1093.4686928052756,102.16815512409241,-1085.2944034521365,-413.2559288152627,-515.011618281359,-509.3228053600923,-1813.4411215417663,1054.3955573980957,-568.438653784961,-1626.5503769059435,-198.7339363107099,-824.4536686494276,-1490.3312709444122,-691.0960193485282,-277.55646002993336,-514.6281921699593,-987.445832387331,220.1270211257387,-123.59177449159337,-196.2648261618149,112.53199667746722,556.7958327354959,1718.800428197243,679.037966458958,96.7064900459612,1847.8018071448855,2938.1118403740147,1761.5691486143774,44.78004511895622,1289.1097159282394,1497.738365969848,982.7450712155653,-65.86877952871122,2041.6267680941341,1254.1215076316826,1417.4219905237783,2757.7553552867644,-466.57717546719374,2009.285052697055,1130.087633409144,158.5062232833554,1692.0896338528387,-379.62898788601944,-697.3729521508512,-400.42634585115195,-33.845026375196575,-1156.6531272881052,-2250.3143729119815,-356.20445667733037,-3552.7390133900462,-18.400287673721817,-661.8959737285741,-479.7694140882657,258.6106656166512,-217.73235766126143,-3316.422642420585,-417.4813018092718,13.82940260117345,-1114.6993060816021,-535.0656286699066,-347.26027499043454,-1680.8704295008417,112.7316472541631,592.2384356680366,1715.643098402901,847.8108199180657,76.70840501976856,-544.6103650251421,285.4273042170633,152.85717835355186,-571.8597750616676,-258.39514352972753,837.112130295534,263.10957696096784,1618.7081955972094,1036.9402790364022,270.76179846086535,653.8502289056241,1754.2993655465427,3986.8449486851305,1096.7028919809516,-373.9946995560525,-957.434729684952,-459.1305426547083,-246.65406479759517,-1145.1381910584685,-1833.8477390208584,40.579866904243694,-969.7379160779833,-643.35630669151,-136.98951229320804,-841.7610567557488,-2660.2339865797044,-307.96756272986164,295.7933457308285,-128.7841354369869,-142.60870500203282,-596.7104559043914,-655.4611454094614,-1366.093980819479,-801.9733212790738,-1585.8464887664832,349.16784455846397,1151.2203018315897,-130.0752654733832,145.5299202320095,948.2250985498318,586.7015907674356,1566.906245278336,211.14864287987223,298.1132507904731,725.1449897781686,633.8819279940546,2498.5629047787215,1762.1227893298067,1501.9487121474235,1145.8467114997254,875.6647808998968,214.2972023521845,3989.8751553363977,2010.170929147532,282.29123983902184,1477.4149965564416,237.5310791753053,458.5060056108434,1198.3727483722882,-283.6684859321742,1629.0670178028397,1151.625786666059,767.7905156306134,1248.416350166002,933.2298600795597,55.435658235206205,97.77121526179207,628.5203138425691,138.55215786498425,-400.3529715442622,-211.34423330042713,125.88621440885495,-2408.2797034455875,-587.0248455800197,-1640.1244812992838,-203.4963860180901,-260.3647391332517,-72.97862919841755,813.5088037530821,288.55684963714,1584.8836598280602,228.9983387763265,-770.6799924407518,-1535.3853136330092,-15.555125584959027,2759.112724155239,45.38096369631446,1388.260732422674,48.8153479154986,2006.6624983102367,860.4073330396451,620.9255331545788,655.4312380996353,-40.5355330179612,179.63816048464463,1557.5461704184922,1813.8806575782276,1431.234905722477,4818.474852249183,1234.0208034502944,729.9048855090646,3429.3314849248104,948.0346855590899,1843.9774433207174,2269.767325855096,0.4502330629226043,-271.2727622833086,-773.6198618865797,-552.4402596726173,-1416.2966456290394,-3669.7951192952696,-2006.0781663068544,-1148.1245530106744,-979.1095616626415,-1452.3275879140458,169.23875682402874,-373.8779778330467,-311.34374116867684,-112.08881175271787,-327.1192668314358,-922.3025185464425,-2661.22106356995,-184.1950660219184,-472.95095731248415,273.62871742374784,-967.0800295079961,-365.5263978066787,394.93342946992686,-522.4194805353671,-16.008876461535113,836.3778947168549,158.8480011977025,-776.3085404871548,-556.3211667150857,-860.2007987956262,3066.5336932194723,4573.5238497404025,1785.0674530551453,2677.266090418407,1471.018270346502,6040.824810051691,1459.6907682897502,2062.8163856006377,1599.7881597216967,2855.7322886028996,-38.55221744579737,-1546.847218947165,-2338.3773638560033,-1956.545548111052,117.72463588591333,-1250.7416535449618,-859.0852954549729,-1234.0766375843514,-889.0317465981296,-219.85240732209715,-1085.9236567784033,-303.3138083666842,-1916.9359047390628,-4016.818455665691,-1227.2362986018557,-961.270021540014,-1241.182141726752,-1471.2011613524746,-3683.9557311767107,-724.8712201516992,-1448.8869646958608,-1037.5848550738037,-795.5124004286129,-710.2318894475014,-1753.534222421029,-2843.886321278986,-748.5433512519694,-832.7332269102191,-1752.594120496916,-823.7999770951402,227.2752678112376,495.4641224232836,583.7957911420914,731.1416787280301,2797.2162924965214,1874.8546494254495,-463.3861951796396,666.7875398659431,-535.5686116601437,786.8627769727345,432.32343542429544,-723.8251852350296,677.0041242426175,-84.3902234338649,510.16478013307074,317.46209621011326,-465.62219846009697,201.86037834958702,101.38013057520197,599.4934942526035,-784.0166324606761,-828.041957696437,-3351.1073290864247,511.3867135549701,-187.68464188179743,-118.59544539851727,-1053.2483506346455,371.0194713027365,-1535.1822750736214,-642.2226979810587,-2024.789184786582,-1752.3812349560592,-1461.0593468206728,-5024.229492773845,-3589.2028963472058,-2546.223332585355,-134.1936637818082,-570.1924758693663,-1004.578984689393,-1533.5162167954663,-412.01724040924546,-175.48844002917778,88.44433486443548,184.02740531928606,115.68937497379588,952.4027607454473,1149.5128930894048,-231.61920243255136,-387.84132853368004,382.80896660075257,3929.5637522019283,1058.1517707638664,1900.9602820928894,1053.5407037982357,392.89174162500666,-132.86364277247043,2368.370808958607,996.8770916662899,735.0224522647892,285.98547327906556,262.1828022539345,-393.9486996492171,-157.5515426907712,-43.163612082956085,-878.639158113339,-1736.6599158362096,183.18238319075093,-1070.9239220944064,-212.90993921003002,-816.8126166542457,-2034.0528560248558,-462.01365298796424,-113.00741299131373,90.78944174916205,41.875947837437614,9.02879375952205,-891.0008565707825,127.19463216837612,-417.7255948654537,155.27662319387835,324.8025240371919,3764.2438701013994,-294.9899114664134,1386.1958313356683,1310.194625283863,153.73657894789912,758.0147309385253,143.05290777028006,-476.7377797624591,0.5086268770632529,2033.5877937768528,182.20540631594108,105.87037053145295,476.0332171451144,4475.200379998953,304.10456515983736,-1703.1360986883865,-146.1209940541886,-235.0286394779722,990.6672525428023,-1868.3922345767542,195.99184551961292,-409.3848110320727,-453.6407328133128,-321.5019871330209,976.195107158456,343.408426878863,397.58148685825915,82.51779988982712,-1081.1585413055523,-4719.8432426695435,-840.5440576753703,-227.8683647398986,-826.1971728611851,-1828.8903696831114,-1473.964399066052,-455.3046841781047,10.353520302199437,-672.727417016876,-559.3568970606534,1059.9741913178643,137.9288030231686,1255.5595933324362,97.67921759687287,248.29555691418466,-445.6223852987404,1571.9972383258853,116.01932232023856,122.1585070345032,573.4215052509213,304.2196513943489,1634.2440375247693,3777.872643410738,1388.258029245219,405.3752900010029,-522.2205327936575,421.97245485973207,402.18684133746,468.78003658593593,353.2742303134516,2182.420377328901,-358.086747619551,1116.4091739650567,-513.9128785335942,-337.5253497909827,-388.7393067897764,-435.6008170164204,216.35363539615628,-55.16050847059251,1223.3599157465658,-331.9750557733681,-777.4786594878555,-669.1790293462982,-902.5096257660063,-3981.145898499725,-558.6919410705331,-2107.313423625703,-543.8636267161017,-122.16630692258929,-1329.3525934127745,-3150.935444154444,-795.5399739842138,-615.122499567269,-825.4416832810012,-1369.151958013875,-1087.2176382268083,-1357.5422629138625,-1610.7866231023686,-888.3257900568193,330.9940192623988,3222.551230040613,2127.985190324416,1167.6820019669688,3862.380087408606,1558.226305818906,2840.5128116043184,2259.6881506578607,1372.0979583039302,2446.084942590514,6195.250639426997]},{\"axis\":{\"matches\":true},\"label\":\"2\",\"values\":[-285.47581927669466,-272.0392089222144,-264.8586295924927,-407.5310331362782,-452.9067302151739,-411.05677395424567,-135.60475907943214,-141.66460981287955,-146.99737075711988,-284.9332097159961,-239.68024928060404,-387.47988478437935,-373.1324249348469,-346.01534050648246,-239.87055695446293,-179.86248717105707,-62.032837680227225,-54.807378785711236,-52.60939182798353,-207.67975379576674,-169.65591642956792,-205.9099261359544,-48.91730270874851,-50.2877372664251,-35.03158988090921,-225.65358961456758,-217.35356298389448,-357.23863228535413,-369.61217484623074,-321.8756411153993,-21.089652359999118,-348.33316487954494,-13.015183737883703,-226.93883196961218,-217.81036054937206,-233.95955213192494,-222.87529380506567,-363.17294309893543,-348.59831886150084,-14.912370549235895,-412.3723930122735,-368.378695986372,-388.65343870767634,-56.02056032056167,-246.5927167175717,-53.746806020745616,-248.71409084677543,-245.91890306199002,-234.83083468657253,-64.3593512860248,-0.8417890422284038,-5.295502769867175,-8.800747664523238,-318.253082306382,-179.5636180955606,-196.24025034802008,-201.85069736670604,-331.18456133777437,-340.16568010949777,-168.7727447400658,28.560718970003087,27.123149327707555,21.780272588368337,-158.29055330121375,-294.9907223992735,-349.5373510949348,-349.293553319374,-178.28179115761418,-175.1090306479257,-138.51394947120406,-235.781820029503,-235.85756565102963,-240.28550159493932,-345.9404779931153,31.5560689550467,32.347530726898654,40.7315228792206,-356.77377943870323,-366.28113179266643,-238.55353482092636,-306.37727733446206,78.07508908762232,72.6947310397945,-336.0505601331347,-324.3976874281016,-156.1070544488655,-156.55798687335823,-156.48283066896673,-165.3627980225361,78.68352033118452,-173.33765256843432,34.49465440301695,36.23281195458989,-175.39931024998697,26.048275558409955,349.271193482422,354.4296438202467,356.7720957518238,36.554781643859876,-193.79465800120587,53.41825083862301,6.778407136187766,-204.4247774207793,-174.06036050253482,8.139076165305491,35.30287876448989,267.23404487085196,257.124531451478,275.5316434783641,-211.86906449419504,212.07125278228588,224.13268230881306,-51.627381963894145,-51.49053267638388,219.85849030230816,-41.61569128618414,-33.34846351550876,-272.35986013437775,-239.32599753514756,-270.2197696679591,246.48701052032573,-174.96302838911973,-187.73471207488873,-199.81514053034937,243.39821380130766,-26.97953911403256,-24.477468896620064,-30.52109167584225,246.89253471379678,-22.502031162046123,248.1952794001352,244.02670902317703,243.75820425309038,-21.973532819535674,-47.97486714858354,-207.9735520375391,-215.56905736600226,-33.36505332735786,-25.23974658956964,-189.31325042461344,-89.55186463536968,-149.28031034812923,300.0471852768472,307.0733943437404,306.6765327831926,-135.8616298643576,31.42887031506684,46.05777938452291,5.5213560405308755,15.266028947740608,303.0739332652867,24.356210049639895,-9.471554070373319,-11.32774730412416,7.370833809566489,-100.36478029539222,292.96840522328046,-133.5347616646778,-158.3189509148827,297.74730100779914,-188.66664052640039,-198.63720479000247,-194.56010238302994,214.3179398787711,-31.477063157159513,-39.53093819676709,-26.551665012416073,-36.788425793780846,227.3331283625118,222.48080386368255,-50.02332040889976,-49.227560292507675,260.4095046331047,252.94761930583653,-184.50407601824995,-142.89748652585152,-147.0942609787213,-41.664388979600474,-52.47704781754291,268.61862886830824,-151.28784663885315,298.1141311392005,25.321189935137983,17.51363316051327,52.79727570454608,307.23134003650375,-104.99572522689843,305.5081339456894,-143.6533039875941,19.23561697593395,267.1567996735,287.63075531413847,-177.48353731597933,267.59052794288266,9.673541640691754,68.05563173389831,-130.2518488545603,-111.73379989137801,26.376759863948347,10.976703084307506,-119.98656759640622,-135.62187889844267,-114.12917252535672,13.822412115162956,-8.215057122798216,10.008928447580221,26.204794368750793,266.69015237238625,264.312675799957,264.2329448010626,-28.664146344515355,-194.7407250180099,-175.21847615156153,-197.7031433130129,217.14148674797966,-20.880328236265864,218.54107332905622,-13.306255052832409,-17.944167757160592,214.62734582056228,202.60339893920224,-36.85981041905082,-134.82204942883016,-29.859138645392086,-29.223035454102522,-21.56607580203675,-128.1762352087434,-128.6297236910473,203.75320535122032,196.79995535233957,107.38099102411249,-40.32657957920507,-98.04864076016729,-39.39789614166216,312.15958046868775,306.98131435996936,311.43494215418184,76.95770448455205,59.07714246903504,58.267875399167856,271.0289496262258,30.855187713479985,18.71188214769503,270.3375294529786,271.61814759211575,14.806401452820307,-111.97387329270107,-147.8798460104562,-116.48217482474207,20.876256865421677,247.7064367249513,252.5237365829283,253.6805658021935,-162.5671111247878,8.257339964193045,-189.1211977231301,2.934496034701961,6.479003554921564,6.410740392148451,-194.69584536022765,-5.630727663012113,-8.38259323721001,245.41863638536407,246.61969539245956,234.348758751812,-224.69244004300091,-182.91977503203603,-214.00161694100296,-23.340618984797562,-23.086695419346235,25.589605358617494,73.10852665310816,27.454033680217464,55.00469142981723,-69.79674880611886,-125.08520651464767,302.7925655390006,310.46941824049424,-98.00465544728357,295.4310838026472,322.82630441746016,24.902277790385735,73.63475288509406,21.647196777659932,42.878729353222404,-186.35040311313395,-132.53599111895008,326.04819593340267,319.9990183057571,-138.37145056126099,328.3138556364428,337.4157393549074,335.2111471402151,-0.5330879756375088,22.500550051025527,11.446884792892778,-180.83923428386305,-183.64660043264135,-178.28571788395885,18.649884585378107,-193.5218540600875,-44.086921156903294,-23.45348525987127,-53.63353440545162,-30.47490076232873,292.1058311009788,-198.1001058747371,-154.9473905327487,277.64173317347155,295.34001209685914,245.79382757110878,245.28906304218734,-87.46569995919187,-45.350985110165915,-92.90367843944493,243.45162651589692,-77.53880471076042,-39.68965921448267,-40.19122310156431,-35.31278227823607,-35.06803656800357,8.445961844934436,-25.99587737136871,-25.160645463192875,-142.20043451221161,256.96459692691684,-101.11076233913003,259.2557172539039,-104.98246412008639,257.21197598631136,63.833245022009756,70.15242575401949,-304.42784153326585,-265.0940666570084,-278.6099483588765,68.05805168393852,-157.4668196714086,-169.1901917059398,-164.5246222416112,-162.01609479146768,-18.718176236078218,-209.3722135254081,-8.060461890372515,-175.26818131581464,-201.05532781322967,254.4513623575527,254.75406012988336,251.5069212274175,-4.681374918820176,-1.383103192113987,-12.33174044755662,-18.58410771701198,-194.12037369782132,-210.75127436621614,-6.127739438410726,-185.02700978098179,-14.017813765443982,256.8041721785858,260.5739920239332,267.36775484250666,-129.1530583819743,295.0885200415913,289.7516626040384,293.56269825887694,46.628279168692316,-9.203555917357562,16.85193386916206,-10.01650193025484,-128.55747566003112,-177.6501626454068,-148.85315632158617,-194.44989256358815,315.9644054836908,310.1234250303671,-138.6289159069411,-40.130903519851,-41.096066491400144,-31.475564485955836,314.3133719943826,-31.2141467359809,386.7296109177408,389.9167234762611,386.9529127699902,-30.23506755906661,-28.71220246574056,-191.61544096852577,-195.9350260183254,-190.45986786206504,-14.993809543502087,-21.83910274701514,369.0228568666664,371.84270262083993,-178.32464116485465,-177.63352915692346,-92.43296803121964,391.8229592061226,-27.841055877495883,1.5306741457056219,4.907474585495756,7.956643224683358,101.33272115822244,-86.75402442487123,-39.17551991031505,504.64495372982987,502.1093268303886,82.91300975510406,91.2101387163181,115.71386226247691,504.62882036392307,-96.98715489726465,459.3572216941439,457.94342282465584,454.4904019241057,-68.92720241140155,68.12635815004003,38.270044431998706,57.206013382678385,31.18647446393759,-66.93284648838515,-76.86272187774509,478.10163896103165,41.65675190963858,465.2379096139119,470.70432439675795,-110.5681706358527,46.03118256411939,42.69796693705201,-114.96792941734776,-110.87618717688962,45.776108808873204,247.66563555100882,265.01681850933966,257.1102826615003,275.99845226628605,66.62971329720301,821.2038078454048,81.65071208333285,809.2221093177718,45.266037334161254,813.7530991076471,522.5712169174003,143.1185410276173,139.72833821746215,138.50920265532403,136.58232862150967,-83.14807091372094,-82.88441699702094,-83.99805550230572,520.983139547929,513.072614860765,171.44290171306335,157.70979128772615,150.84911561642352,188.20010006498222,558.2423973581359,554.8230677070994,-10.428635781518414,-33.08630707154382,-19.566744695667182,560.0431624939843,-17.839420850495248,-6.795319269693837,10.990460895995444,642.3217723406356,656.3306308442178,641.2398484493967,183.91724968227703,193.09338722082558,200.84412175530142,189.91162553744385,357.87401441964784,349.15583557479596,356.9216444117453,362.044958992773,924.3738477884028,930.4802652064799,919.6851304147335,141.08809248025526,136.2695686159061,163.31716068218992,-46.19756878606166,-43.05941056508652,-48.97800696131601,-40.19036305895956,395.4138435451347,-142.05628289996864,-156.3566591244141,385.7001629983292,-153.8943515543171,382.44048373956036,-364.55069705316896,-235.51861074901,-289.0401260678113,-284.4746368413545,-256.3176963505128,-176.64445677687004,-163.17093068841726,-392.8977750819953,-413.42445473849165,-165.33472464390096,-293.18679808242854,-381.7395982505144,-257.32560553929284,-294.28122195972486,-286.3565809123674,-358.2330031663159,-415.74345256303974,-146.64751792330804,-143.68933588203794,-140.9311901348969,-110.93961616420813,-405.2847506827968,-397.15413170913706,-388.35996329030706,-114.43683474615632,-104.2008873447949,-251.07836325261147,-259.88189483744475,-254.4258449950843,-256.76972317534,-272.1645309483558,-287.03459580213513,-282.55689426273443,-268.9158767929071,-136.70868045073934,-140.17560720536335,-424.6362440065208,-146.2810732139952,-459.5303186632014,-435.4661256492571,-74.27998119694917,-66.04560957522239,-76.0356831753805,-382.6459843573869,-242.83346274905045,-401.9251529000598,-237.7578498547204,-231.6325511564895,-379.85562224346955,-234.07317397421315,-213.26183340378748,-231.65798627119645,-224.91969018979265,-199.74617739576595,-42.13447016569932,-41.91111275547752,-22.945926228633812,-363.6218492935072,-309.5595161169529,-322.95320009056644,-207.34447698900283,-300.24602747979077,-202.14430735797816,-319.36852577112444,-280.81763077428667,29.50858814908201,11.309280928753934,10.57890456428076,-184.0208820576402,-219.93448045652605,-240.34826384848196,-399.1975062144174,-400.0152744362258,-370.5498250885867,-233.54914496183466,-223.3659823272388,-218.83554638610963,-40.24043180767999,-50.19550421852605,-40.87363732951052,-23.25610331903823,-10.439358206830722,-15.183724179313842,-332.7707539103506,-341.8214961496826,-164.69202853750886,-191.68754329402083,-194.50708088287826,-195.99502245650538,-323.85700244992756,-186.67270593061102,11.424436341632598,-363.2712621557378,11.505165653052446,-336.8093271417558,-170.61297223624427,1.1357631934348673,-333.8113251642193,-189.6972956099231,-192.34772371229155,-343.1115848743793,-344.8754798394358,-237.3033140268045,-222.94948287796728,-237.2064765319965,-233.26739398299128,22.67461003951207,18.973151016134157,31.52312404127129,-350.028052366873,-347.98015688068807,-298.42426490958724,77.42697137485668,71.99045778254929,71.11475269918628,-149.69551909379166,-154.37185279028358,-150.09764732703016,-166.67001998575685,-339.2372072195247,-193.4882385569327,23.632934369938734,-166.59430795658423,39.42496455737315,366.2368587741893,359.62264112828984,51.40201101196895,35.17462752612362,-196.16314622900194,365.5141988261294,254.44733268526764,0.4001974381769097,-154.9232721150642,-172.0939636842111,32.73187083014021,56.9522088911532,6.371401932463026,247.8246711763778,250.51100458334432,-209.88563845849183,-43.817400222746926,-0.7462154553326827,-42.21643396141108,-37.29823875458053,222.37393487616654,218.32711257074814,224.3048363885725,-271.1472028978439,-272.1481735147947,-230.81474739835463,-28.731580002720243,-17.12449270874586,-214.95712413644324,-179.80683592059228,-196.49901385280177,-16.724134066812237,-1.1056228263517782,246.43954169086592,247.90319555122815,248.8056229038517,-26.09878884440114,-38.85856676310415,-34.22798503133912,-25.67133248414837,242.5565816419347,241.26049683256002,231.74969122941337,-238.0068928820218,-258.30734264135583,-203.60361788025955,10.162305240157362,-138.02236365063277,29.556832296460463,-150.36227051996823,284.76439006920435,11.450964879729387,34.77676214040637,-116.65325261000457,278.1976332284289,277.4112731863288,304.25934571095627,314.32962168728534,306.2677489794453,-145.39321103674752,18.704350968488992,-127.32569040452393,-120.9560383510078,-9.65480123229911,-11.000488425204404,13.568413559688913,-36.45318443435559,-35.59061738824391,-182.8396460399531,-28.53107906414715,-183.69497804171957,-199.02031961879155,236.19077181209187,250.0421518772668,243.94119645027322,-16.790457311325085,-190.37702959810946,-170.57351164240333,-143.01190472811808,-54.96528559214045,-42.17365676092805,-21.61841276718846,-38.23498656927007,274.07929238391597,257.66330353177415,253.20644298928957,-146.7095620900828,-142.97059311374088,-144.02074683296132,293.05343130583924,296.3781813493545,280.2705172035657,13.628985995138864,26.32607078721919,30.88022021220504,14.758087708704226,-157.0811694249587,-143.89490135209607,258.71221757317227,-172.3329121518459,269.05899425684186,74.05602249431354,17.61801751394506,31.961229383974555,4.9098420657804995,266.1230221722156,255.3579782955692,277.00791049971883,272.7003050335624,-1.6160848498275175,-144.45189470523138,12.020829593852396,-7.6945811747904616,-8.908594626514573,-116.58354908327533,-130.7082795789882,224.9358215223826,227.68056489915858,222.5752326759341,-177.7278042371709,-209.1669351848276,-15.866057753196113,-14.2734663401297,-20.40917208007017,-15.41070028941251,-195.12132281933378,-140.54962046280588,-128.6133739983971,220.55642850427034,-149.71687793839774,-16.312563688225243,-8.167866993639082,-12.000333062528895,1.2221402164346145,220.63250920461005,207.24748959489824,-89.19836826518477,69.01960111231925,101.71636416183355,126.82416811991993,-50.65773055484461,-51.79895507443043,322.4133251437286,307.52817560160514,315.9969380006871,67.78515729004778,24.71252378447545,13.830830504980497,22.442505716640337,282.087725117401,289.4758483825239,276.5259780979381,12.013933734203937,-77.15471333114998,-106.16765598138426,-121.85003398980237,-170.23962582370675,-149.04092594555274,-179.6248342764094,5.217066981007479,-0.7711042487719794,-11.810211753809597,-3.81038278670732,244.38257277759453,251.6539316610709,232.10550745019427,-229.5336867148059,-210.55061241847753,-179.28562367234068,-16.038267335598558,3.9058682460310816,2.1822680564743284,252.19252331269246,258.6762660412643,245.0025118022465,-4.604604791358625,294.31445713209814,298.59773451474416,296.24984750558065,-99.47458885290048,64.18687424906801,45.48723407194413,18.218257768949357,-127.16107066398801,-99.05261966624973,29.226549973370677,324.2841514526117,324.18034497755053,321.34706993951505,50.675787025194865,54.24281786030973,18.03556496401038,15.252087627898229,-122.26940099603591,-149.17386840372265,-167.26627443015943,-0.49107663942949886,5.029479753060876,-2.5951810607591286,10.680130811963974,-177.80167261352855,-175.54413415108866,-160.07552642402086,322.59841394419016,331.48373563485495,317.47797185010296,-150.67384940649765,-173.58279919985895,-21.887519391450112,-195.3553718650642,-11.393385257407418,286.1854249826763,292.83776025727974,302.84363214453157,-17.565393471566217,-20.87610482450108,-12.364523499733037,-27.64500416169456,248.7549227090423,249.99399342183222,-36.08696008906805,-87.99357620137627,-91.03212383077773,-85.20895386840459,244.98705604762247,-23.645974278256386,-11.77135362604054,-101.35299693986033,-136.42701432991413,14.51496257270591,-24.965873705457625,-24.463171745430174,262.1852948271627,-84.26663115369388,272.3616620793365,260.7414567376941,-294.7549365063398,-280.3335579155364,-250.29325572692537,-168.51570575643518,-167.55598305540778,-165.75647576334237,75.64112667162156,74.53540163212134,71.3156586184991,-134.21985369087793,247.77477171559408,-4.807129682970942,-12.278873005059067,-3.3238336495460605,250.6909835872991,242.43869728259065,-3.4155407701268206,-185.25290994598046,-205.2583818113541,-205.458694164367,-37.29208810859719,250.14851019794813,254.29395477720635,251.6236705336987,-12.53835255777749,-17.287651855116657,-182.75954502121198,-206.54779463851852,-210.1239881283086,-16.980717829053102,294.9116370892155,-9.757576959807563,13.387136032593515,2.702606560287205,-162.74587858809738,26.105095659000753,-119.72856456437897,-133.78304180510253,300.19735997154964,312.5716803440405,-156.48975399013702,303.2429307567703,308.40787177365786,293.70782052165345,-174.88349056015514,-132.9225179623392,-35.36161271749027,-34.297943780981484,-6.404454964533329,-23.140391307296635,-10.18502869075275,-21.976251139630907,-14.252862128961507,-12.02340624061777,395.1623067707201,-176.8576288959873,-172.89533288487738,-157.29538822641993,382.83477185279185,390.3468741632443,1.605760400795123,-1.6586499405232316,-140.31653350071434,-188.51121431972155,-171.17920042619838,384.2875512067817,383.1017079935585,379.573862505473,12.063470558804017,6.701729458016345,87.09215637506492,86.14382730250252,112.5006797390358,95.35311396758881,508.94145878458767,-104.22012080536425,-100.39674011261553,506.03014986228493,500.3776384767943,-109.0366107452948,51.912027564417066,72.80984828668298,33.66148466771695,29.855761248749943,455.2678100571277,-114.94319620640734,-90.38800648817353,-74.80360924044453,457.3787098608794,450.64932075592924,-115.90846550717364,475.65534907851753,-98.9889126809423,478.2263929865748,48.580640175397036,39.47932242252743,42.03400207789603,44.25453580205915,478.7500774349171,-110.40479337870715,803.7455724464696,799.6598495077978,808.3041786260998,277.11846766912925,277.19276359043715,280.73384823692714,110.68058691943874,81.21039783435789,250.44606106591203,68.19693857167655,-87.10324583069888,-92.09387797214927,123.30734089822695,125.55092967439063,126.73575765638302,103.12315896074438,-118.04731222522891,503.24405607197554,512.2175508935467,511.9285384743785,202.76046378526505,560.6380097450146,570.7982132558278,183.5638093330438,-2.0991635221677187,-24.91545651648151,-36.75706608441818,153.0551093025942,562.5103919026446,157.42176452073235,204.7126571371471,175.95930708761037,196.21571757565053,635.224300219935,-23.74993821031281,645.7876892964415,18.298286484418053,-11.664433207618949,190.83624845538176,647.8231499130042,349.5255142799957,350.62600436215854,360.63437501827065,352.6919134851711,915.1967711967355,912.0322626936015,915.2391016276324,161.72879269379638,116.61627296138884,129.02021673455613,-62.50413342751436,-61.69782131605707,-41.89452905419757,-46.32675334785574,382.1201410497745,376.2496213982222,381.68362449589915,-182.4160004330274,-149.20043416401123,-135.5493950963246,-174.3444578784273,-376.79251968199515,-281.5650767243759,-288.45445303138524,-234.3518198863959,-151.75634277226806,-259.0115148817923,-415.9622091319024,-161.76756726563687,-385.0196731780821,-284.8146723028253,-364.34326589509016,-283.4200915232826,-241.5545740037985,-397.35963789445594,-369.6322180637395,-281.91450959457916,-125.98031437852968,-125.3678152861303,-127.81156492911647,-389.64660042498036,-375.2268937662855,-258.7388496064367,-396.1457238903634,-236.7479587788753,-124.63135017937368,-255.943683933292,-101.28722414738935,-111.84358868567038,-241.02577763239472,-275.0540870794625,-272.274433639736,-270.31036608208694,-287.06231948187684,-143.33171175615445,-153.9848026732986,-133.74047808299028,-448.03786039905157,-449.6740400867976,-419.3501892010803,-238.47426751402392,-252.36769329631966,-248.86616118210443,-367.0467633772994,-395.74079241782687,-79.937852992772,-95.99256569787792,-91.83756609618052,-243.60425463575862,-394.08588639807425,-51.785990594367874,-43.54936281633275,-56.98008363465539,-177.53518153183683,-202.03388755069167,-225.1125262528855,-222.54501806548112,-325.312704384813,-361.99361314074935,-356.73787738238025,-229.15505580296593,-319.66182969574777,-298.58568780717997,-331.9799997166943,28.124847608856374,-214.30730336688313,32.707586553604045,-206.20015046267176,-204.42150761906268,22.082527845518896,-389.8830793766812,-357.901566293151,-242.62888218143968,-235.44102916810567,-236.2674027338865,-374.3618335671819,-250.16100384499177,-43.47715801590293,-45.04810024498515,-44.18212031993552,-16.22436105576418,-202.06874791349247,-334.44675495909127,-337.69347111833923,-345.79265846075054,-199.66153855542026,-21.63503957539162,-19.265612767210364,-200.01531878695414,-197.52620128319185,-321.66922157799456,20.35673273201598,14.133219315436149,-186.7362676312082,-192.3710813726716,-172.16376152064004,-156.7411041475698,13.424076315643086,-344.25898170276525,-335.16044357949613,-352.31114434392356,-230.70110424502244,-223.56180973951277,-234.3389018136271,-342.3876198732061,-201.82261669654818,-347.03801737586485,30.640691318826804,31.680227490217998,43.21972697198072,78.7786666033762,78.3706892042256,76.56376673714917,-350.49833843719534,-143.8264704990185,-323.0407619608394,-146.61009105750784,-152.2029598119247,-150.8162859653318,-310.54036786769274,-200.3023203238585,347.7729401544792,345.1309728338065,342.18669837758864,35.89564974348695,31.836357827464955,26.507771046150317,-205.87250947533335,-177.67182095980849,35.465044837409934,-194.9471534565635,-200.4657618580616,-151.55368603270685,4.02969646114807,253.6986076284229,255.54535176274416,257.2047987395889,36.61871149043595,-3.142464188101867,59.43199743032423,-24.610651331987224,-213.9003246401004,-252.70124548942655,-253.43925752982207,6.051013093274504,-33.86630936331045,-41.89627040773333,231.3186318624326,227.77481968235773,226.16021016908329,1.03150824380191,-14.768615931161847,-0.1628647658380209,-186.10963037310148,-164.00822362148327,282.9163940575933,277.03754338997396,272.6662630122959,-156.61143599245864,-19.443846732018173,-30.73335385855419,256.118074276729,252.38922109548596,248.56520062056492,-27.80147653626212,-217.71371650004983,-239.92071277478252,-196.47965170929527,-27.652270093992605,-21.43812676732979,19.127941178018162,271.3569591112191,270.0350123156675,-150.70615342008597,-152.40773724041313,281.1574203776631,-2.5283184932337797,2.153182485774025,33.55068872854926,-133.67234497586006,292.72538288753134,-15.714109087690357,-143.07865644049426,-150.67162955376534,-126.53821197281108,-8.834614618120069,292.28934290386786,13.184859196368423,-19.821097497474643,289.6006960516421,-193.41925237856404,-187.74176966543394,-189.00600356229924,-34.630631330001016,-36.59243580742802,-44.46902356164838,-37.15988039730263,219.80339505095057,214.10139239787418,216.73736906123605,-151.89700561162138,247.5404893227864,259.418438664309,-170.1050058403266,243.3982523092818,-35.60641779300421,-56.80907267307206,-46.38494264863192,-59.949946701862,-193.64651618041088,19.27952803307679,-1.016968455321853,13.158241625710616,290.7050364707086,287.6786923878186,-149.81465854267478,-162.53509482630167,-160.86480460778105,285.9571834116313,14.864417159246008,278.3689779500301,-164.0098401577137,-113.30658805636062,-153.5547464173448,274.4751217704023,268.5854026785885,64.91449280141488,3.752907287507029,29.661813973310863,13.930776335915187,266.51495873042234,-2.7496715985112723,277.86738501757674,-128.4828460611296,9.265192974364622,-139.10678841683065,20.712148504003107,-10.57126879469485,-110.19160429539572,277.1343045710588,-20.450380601646273,3.9779089502588323,-9.81241608299121,-2.40601787355493,223.25861180834463,229.14587942545734,223.2384644205947,-170.82800366349642,-203.8236961469281,-189.32075314413987,-154.62388279271906,193.43369414994154,196.74149917852523,194.37767585282617,-133.8867767190894,-175.5647796510636,-30.950296507585335,-30.07773650808972,-23.046210403468677,-36.314204369298174,-39.14200153963923,100.63450311648216,331.6288099698866,-65.60137223199686,323.4849804822978,330.8448172000397,69.14514999270585,-73.98616910942998,66.21464163014151,134.13510335121248,283.254886290418,284.5542021170864,284.1771849719077,-82.73515946287229,31.530623705452687,-114.4162951432448,-123.38137474630096,14.918001443328045,17.227873284840275,40.754095745453434,-157.9371443986373,-160.91073755217244,-153.40261888810923,-3.114387454955927,-2.5650563284126195,259.1562689025626,251.0104610485276,255.4187478954609,7.167153501028285,9.1908246594051,-8.898047970139382,238.1306803816936,-228.57722163831903,-183.00240929928557,-202.60570256638354,242.47403793527914,235.6135593133477,-4.671404433163218,-6.6150346963511835,-7.173338352112264,-101.83740836688857,284.7868080947711,291.0323361496021,15.267080640322748,25.125505681818247,53.88149079867872,52.05288357922891,-115.16142504069109,-105.9737406565087,290.8403027166407,36.87613822028886,18.29451680663753,59.26322045077194,20.96201103467414,-175.1135935458495,316.75949925066254,308.5648112667387,-123.82986340048058,-157.26594843018884,302.4531575514248,-171.45676761853358,336.50431498962286,6.5113385671173285,-169.12970161670296,-4.250803777216892,1.5087468316069323,8.278553944850717,332.2323001299137,340.09667395175205,-152.47483312612943,-150.03880670336957,-190.55150617763434,304.3458151106436,314.69980645799615,296.52675186063055,-8.18062219472807,-27.656959737524918,-20.949137345089564,-30.91930750994926,-170.12913821088637,-104.81946495489224,-108.79482998853247,-52.198980844246066,-86.9345590316543,231.8054322435817,-43.345712308397154,231.89218431874465,232.5096705629941,-46.18734700697519,-44.17588285706669,-101.21692169575718,-86.5044108279408,-139.743289828735,259.31837110043546,243.83042417268584,-14.2843170861648,242.10877543607822,-0.8758869649770686,-34.07312619366435,-23.576370449046376,68.61925543921252,-160.24752967427014,-137.78227553007787,-160.20282677818486,-302.08498111225924,-288.7021942073156,70.22650706642679,-162.85970865132748,71.79655517501467,-267.35911009580326,-7.072321715936734,4.673113590904342,255.5158219216001,246.92606061811713,259.35065526274315,12.03853033958829,-3.011098727627831,-181.9371911453621,-218.0798090658023,-202.17544260689013,253.68743680692424,256.2410374092763,252.92782594758165,-14.90968969358213,-15.245654241230183,-206.59664754866023,-222.2202501330019,-18.580387243337757,-18.761190259794596,-178.27866252330452,5.560329816671397,303.1046418748588,-3.989213207768282,30.089443971730642,300.90219816248685,30.41858103052436,298.5542573263294,-108.45177247655617,-149.00649940933695,-135.36150828791205,312.0108101039472,-171.54492028974218,-136.32300985917414,-13.133759503034275,-25.25571020232364,-51.08603607902794,-32.41580053264765,303.1206913868898,309.8379611477763,-164.21838764668527,400.02164454160277,396.83567524896364,-148.7879992157397,-150.79420361687121,-17.77211670572128,-20.71365151150524,-8.09557719565597,-150.10835828163073,399.0767166222082,-10.061431263315297,376.7795054789944,384.13047905248493,9.682376158253703,-6.961111769524375,2.2031334587066986,6.848484789586036,-146.17214175550342,383.4477822630687,-190.71176356184506,-160.47190684225205,98.36698400202016,-113.62854414489983,-109.21181343497612,-105.90506573884726,501.392392565702,502.94285059724285,505.0465036308792,101.6938738929636,84.89412114727976,92.73021015271543,35.61275309288592,50.781399236100086,36.89599111161999,79.86997639191614,451.35031332991906,-111.9868272823943,-77.14686732186102,-101.11004387621527,453.0557983251661,456.24583373566395,475.73707236020454,45.0720335219204,44.18183316734846,48.08126245400459,45.26161894213755,-105.69383882864688,-106.05689456177929,-81.31903284560896,480.94810868444523,480.3248253702992,285.62722742826674,279.87684985998874,818.1214052364076,823.4728925126544,277.940172998248,81.22226833928488,62.57427312500235,107.01811476899078,818.0491718839936,284.09987866679944,-140.02418231456457,-102.1433916548245,513.4167869419413,517.1623594442694,-98.05510439452823,513.4919735217867,126.45051047767255,133.97058354286045,128.1067854571529,119.71276690511526,553.2641196085634,3.9783530551247477,-37.5568889415409,-32.662787860560876,554.2322323455872,548.7217900172172,157.50852215283194,149.29611134236228,176.64049991904906,161.8876083423066,-17.956502458310855,172.7224817846949,187.60673028241033,185.55797841142757,642.1839219777185,643.9636456053225,639.306556912273,181.27508993458864,13.485140714954671,-21.28565196751951,353.0397051543738,338.85205756917003,367.604631146992,344.9415365051502,134.58681145169896,159.52099841253602,115.34691245850334,918.0737916481744,916.8413279233275,916.141214741703,-67.51945008784861,-47.69654083544505,-59.35569890635651,-42.49563549403015,-189.02121486800505,-139.97061436107467,-142.99726314732385,381.5327686927599,375.59029694061275,379.2387237828167,-375.3826251431336,-258.39820204538836,-169.8562004224065,-164.90377357406484,-171.87561187551026,-283.5255826237733,-246.9194798056884,-284.08985482520455,-387.7306425276248,-403.74096223294003,-343.27022363520666,-133.46506794652328,-403.0280939682931,-382.22160011569304,-131.01755862001605,-128.48265570519507,-290.50619202679917,-278.0882816486503,-285.3654662464986,-243.2660445146628,-94.02304633348966,-228.21225320285203,-251.26168951660875,-383.84528333679515,-370.6172134992632,-372.17647911708286,-93.4380256014033,-254.07428676968857,-89.4293851375535,-254.42578220043868,-133.02003896615406,-135.0550551189372,-132.24540936231043,-271.89863535923587,-247.84917637601674,-409.8610663362473,-454.06686517334754,-278.84502576283,-285.8545155086382,-430.78619355197367,-241.96013769085076,-228.80761469449578,-252.5175091965494,-65.61681402332324,-387.3399191803567,-386.8159552111737,-393.2718020291499,-78.30478479478705,-241.23901683839287,-67.71536878916467,-228.01922832549494,-45.4195055885853,-28.592000154683113,-34.84976386245785,-335.84131941375125,-318.89340103062625,-292.2108126884672,-172.90854619833522,-190.48075486302383,-222.99487629005546,-312.76941740675625,-314.5027158411294,15.208990343623233,-328.8927418101968,5.692525700021918,-198.54713720886946,1.5582290657987967,-219.32273502036224,-210.10662086642165,-222.57812073644723,-257.72498473610835,-49.570241930561416,-53.18656698389083,-56.786921883273955,-250.6032246626654,-245.61699891082208,-242.55827351821688,-407.05700860395433,-380.92982105516194,-396.78539504859,-201.58552842776584,-203.94801490016948,-207.5006581180634,-205.19092084403619,-370.79191765423127,-350.729874425074,-339.98097297012276,-19.8116637035478,-27.635185439183505,-28.718612857635094,-340.6396241294106,5.220762754859106,11.793565810917832,17.969845847198705,-168.22578498939015,-185.84153636557755,-188.77499795557338,-316.266547367432,-134.64339464882832,-338.7960016274166,-200.52697120925956,-228.72116251288685,41.92164702522905,37.69455210055964,35.00788534575849,-329.40515095686936,-337.0093293041264,-356.21520369997376,-221.58394230204124,-224.28549496483686,85.72211911504026,76.22624805394678,89.67321335412103,-318.33192902277136,-148.11578549329747,-146.33132039727326,-152.58594248313747,-153.76672606783282,-339.3476791131266,-325.11914560430955,33.611949733204405,22.143660108811506,-178.74820356737004,-197.87610656083626,-208.37673483589865,30.959395240156276,353.96316483187553,341.17537296271837,352.40599042742525,35.26126745820176,260.3801892714404,-192.2034184951023,-185.90588694707677,-198.06354109973665,256.4259161110815,257.843141316256,39.589354827254674,1.2750529370863717,-0.652535086556465,37.397727443061626,-258.37633373372523,239.30911819196834,227.95240182408702,-221.84173028864242,-237.31159239753617,-25.242955860651477,-42.29864264466509,-49.08831070090437,-22.784796879882663,219.53611256449773,256.23847139299426,261.5534539527163,-154.54668850192974,-162.3546324513831,-151.178385752124,256.86144827280253,-19.83027745947908,-19.235300682297428,-11.795266781319958,-24.7320966878509,245.65666321182388,252.5771143507069,-190.9938201641519,-211.6872016646385,-217.23877560005167,-21.067425023646223,-15.805806261954247,-16.438153231679603,-16.219895820231173,247.4145119615971,-148.80242528155256,295.7519495380701,280.42162080914807,-141.56554065213925,-135.89970763677465,282.48770833184795,28.892352526345643,6.979653602076647,21.600482531830853,10.381538216429588,-135.62351930948657,-120.270728016577,-143.13269530600456,309.8196740130269,301.98266397359987,298.2396557928962,10.13553075593543,-11.792188643813054,7.57055651470161,-9.682598779859829,235.15591696558565,-194.0293856466074,-178.9827453752119,-193.47496317618288,-41.60658616558409,-43.24697692454447,-32.36659012289108,231.5550603134721,233.9179929806337,-45.77482838764292,-152.85029810141245,239.28977397680777,253.00747155890153,254.00462174142348,-172.6924423624667,-191.5960938252168,-38.617535747393156,-44.448792773381896,-40.47093723469453,-32.012883509803466,-171.28548975484864,31.471907264923168,11.242636987505076,5.502949052655209,6.689686386372785,281.7331395213643,-152.2533669237356,277.57133761333114,284.0499230541787,-175.93602701792764,273.41692496754314,-150.15701876413092,-158.92451874069437,268.99835392061516,263.9391942832779,78.13465258387741,43.81257480885467,25.547868648880748,7.574759219282649,-115.94569126190376,21.92627475140874,287.93613723380525,36.87800379842678,9.4910373764349,285.42698345823794,296.70447404191214,-9.076205074887644,-130.7093432460253,-119.37363974191277,-92.81731870782382,217.01593600756638,-29.868236088319094,-15.952994448121784,-16.529705884702775,-2.7043865860544187,-181.50902404556558,-178.16279149198343,-203.8143934487513,193.31360163387941,195.90111744861332,-186.18677719464804,-137.1411638395677,-152.44922705387341,-10.81653998859116,-26.8045689967714,200.95135452746996,194.78014757646545,-34.943707380977216,-23.20680013957439,199.12628995258677,-76.1523066025455,-51.17548277647403,311.6483716707342,316.13875678881516,67.46614499400457,86.49316955732266,90.47684388646827,312.2231637607984,105.65242863448164,-61.63576244904262,280.89803862558136,301.78362196392504,291.17032406955025,-91.67137493518003,-125.69805207302451,-114.26698595684131,20.723733241689548,35.73409275942841,47.29393840929063,25.861034417282053,267.01516396238657,276.13070092758136,277.1354867860257,1.296948887464003,21.855728601856484,25.886530388291455,5.301795830381978,-141.4736223726913,-134.53374783067858,-139.2880108283277,-1.8696097116766415,251.17104565403267,248.4595759764878,-6.214546340030685,251.48040077934348,-7.940406147852633,-215.26419114548835,-196.46208827051257,-182.8409503933646,4.956539609547325,290.3461137820991,-115.35884290312053,-102.64866217501283,289.142967023591,-104.69886547719277,283.54666327859553,31.449463399395523,23.43660885088629,50.30699783423076,44.18205459547518,44.71669258401915,309.0074128229389,312.8687479324312,313.3608306136509,-137.04873992480222,-183.27116539247044,32.320019032507254,64.84966441872723,18.22608038587054,-156.57712613289544,-156.55571185224716,-173.6601641882479,-2.686739453267916,26.59800146623286,16.796196422579744,326.40707774121273,329.04756844816967,333.1903645033556,-184.65112074095205,-1.612223813126367,-24.783202529572897,-160.93008682865474,-17.547104366665938,-179.3425497306794,-189.98371316019586,-38.079020320399096,-26.02932988702062,285.122756697044,278.62839815162135,289.0613392242972,-42.77004960062059,214.07573183151186,228.8637339825328,-113.40789258395542,-59.18457836667307,-89.80905825099185,217.97569151537382,-114.70913468105434,-36.509329203457504,-56.39318929575481,259.0070460202663,267.13797315924205,262.87261738349144,-28.031245752412886,1.0118524266821658,-93.50013765897111,-120.54472093985099,-68.15671718617902,-3.2161010500924236,-8.639547350847891,73.9375078032699,-160.37897084893277,-295.25415771435536,-243.49751741453125,69.29008871056125,-154.48657631954967,-124.8228989083534,-158.4060739844431,72.0903174741907,-274.39959191893445,-169.89441212020455,-176.84746680069253,-187.03341598880255,10.568559346752469,9.41838401851059,277.1414075403301,3.9799493487079274,266.7269992122464,273.8119212213299,2.2505790027516515,258.02107761378414,270.6360641347169,-12.075202035107404,-16.082482194121628,-7.131419561084185,-183.68248981945626,-199.66466446878908,-226.57994128074102,257.63413999189936,-7.263514314504753,305.5873595826155,298.83531259528513,291.33630622086,-142.73391545432952,-126.35331842828526,15.93830278278835,18.249787536479747,10.965277159003554,-6.122344739967307,-147.47937086569974,-129.05346930905904,306.61399375396576,-13.702968151441295,-21.778164220133718,-31.34883468624393,-12.21000424865391,307.40205437264984,321.89806223259575,-162.80097203297208,-150.79940390745162,401.29444355996947,-160.93431501482576,-147.45268360415253,-151.9910564626064,-11.800763847364454,-8.881738508648297,-9.427210170416743,398.8022886263278,-14.462048648157328,395.2632700106887,15.43817395622838,1.1340111347648212,0.9649637390830649,383.5195812942692,384.5455180459242,393.149912650058,-136.02763378764988,-186.59221452309328,-162.57233203747032,10.602647787996752,83.98877954632896,89.82437528710334,-116.3635386287411,77.26415016840387,87.77227262798984,-129.33790020879775,492.0849720705323,493.77053017894076,491.0024353106182,-123.60245718257298,44.333001379303774,32.6501211696435,34.34050494892001,53.99903445748467,455.7521196403558,448.34125775236157,-115.25977406096185,-73.4369693453468,457.84189546439376,-88.95325837844993,481.58344074472996,478.3786609176363,480.19152021502964,46.44531706375554,53.195496800584664,45.58675404469537,44.49724311159289,-97.94015770757206,-82.14564047704735,-109.2807389785682,75.39839812691297,111.14535504163734,91.46147049256139,294.1967405626838,275.00561058343214,817.0107891210496,821.0668331010725,283.8291211511196,826.6617409728432,281.52735463182785,121.56798522663895,-109.4830824327137,-104.2726876216237,-150.90155658577592,508.40813568217345,511.74528285961463,104.27470875440879,121.44033550209255,498.5263287736776,112.29349320932113,549.4244776630321,549.6485859713711,560.3190967426802,150.94214763378702,-26.752730972458465,10.374027127902663,-17.624096340257875,169.3238338744625,167.7575471803741,183.70681358474278,188.49222641668788,205.41242075606993,640.7584601014909,182.12425802105037,638.0547085713379,650.7924787757033,20.242533667569568,-19.79675736146648,-16.202448677366643,185.7588245723613,930.8244187857466,920.6144731309824,145.1028763046262,919.9957880628795,345.26529265318874,142.67036054010143,362.31337413673384,367.32415193495564,363.0774669332392,164.77243744934577,-154.64759509027036,-72.02914062044242,-39.8118139728353,-52.29855308827332,-45.24001000582414,-195.78014981201622,386.4793530557987,380.55747661713787,388.7895617071024,-152.78936966307936,408.59748259045875,-86.1440727449543,-71.6806701575918,-81.2178698750997,410.9142122962792,14.236335559782976,0.13172380734453448,5.0772389643839935,-10.256437090711918,414.14989508839386,-163.054133197167,-409.1590962953807,-385.94285221462417,-350.90854537587035,-158.05525078014057,-160.30827346800692,-274.57340671431353,-260.01678482426536,-218.30578252096538,-271.81698326431814,-123.67724280827882,-125.4280383753511,-287.8980639337157,-396.4212462148618,-380.6573845349499,-360.1157399609465,-277.66009433370573,-267.22210708925047,-116.11207967217696,-277.02140163827323,-110.2529736039757,-113.22558843456862,-119.00180453748344,-405.6464306146733,-430.9234113429912,-422.45055418157506,-237.00259941011691,-265.2352855224853,-257.55495092733275,-266.3208597122787,-400.9102900375233,-389.3036606640769,-410.2064095182636,-261.0736479648518,-269.2846646330752,-125.26427502228279,-265.30355981848925,-253.15180692775706,-122.83320722699835,-134.0449030413059,-64.41671626414318,-64.33863201483874,-333.06312892675857,-397.0583497400336,-246.59286787877824,-225.85720458145357,-223.11948747388152,-245.19467370896956,-366.26337174791445,-71.20775154913176,-28.883532906951842,-37.42491929523319,-342.80489080155326,-281.98446269140686,-310.3161044254496,-20.318293274393547,-229.86716604457655,-212.71391605015634,-207.13218831686083,-186.13889386657934,-0.46392322131689895,-207.5505349057998,-210.58342695670345,-199.8121167647587,-222.15171646955605,-352.8588801364338,-347.8815375184251,-336.29282802089574,-6.3706984440072345,-13.479697660235864,-412.4079757584251,-50.1274338794733,-64.43352470234585,-55.82576105147645,-368.9253655356121,-233.62573665970007,-397.0977423212374,-226.838624270193,-235.12329880853045,-229.47471724243508,-10.636473956166148,-2.8140685729145467,-10.298110029832594,-192.91984612778884,-179.67023649123914,-296.98116981649,-334.73397087101426,-314.9149289561198,-176.89795573422077,-191.94507603778496,-300.21894848549385,18.406849122398892,16.758716764506584,-340.8970737013612,-180.56353984829053,-191.48525011342304,-325.49883207620604,15.190953456702477,-174.55187390458732,-169.91991802015923,-229.72511802646457,-283.21307493225885,-231.73887563204903,-233.5102309442184,-360.6105125402974,-352.6241935975482,-360.6502821115267,21.533876310580542,25.47922903773722,21.772782862509242,-325.51994379772543,-298.8911419968142,92.91894654489192,85.66982799351331,-353.8008060449457,-144.79632725883354,-117.07152903869236,91.65501908236426,-148.07835796564498,-143.24012425341175,70.1613583919486,52.57126715071062,38.83675739019182,-160.32426964790525,-154.62778108192794,352.8986188498992,357.71006261805036,359.81527819882876,-168.83388586416825,60.36164975460023,-126.44121827337018,-192.75971676047934,-2.5903447821498617,29.01903757797745,-177.60723782058264,25.581422596756983,12.490825301281152,246.66947428266963,255.41445786825156,250.85861132863863,-47.137862506416866,-44.61511450404867,-49.60735955767825,-254.52590250637564,-265.7321380605782,-254.61533175008634,-43.32905436341125,211.1637871849681,213.95593407791725,208.37036072767438,258.2210853083055,-180.04227372691722,-203.57550687792843,-15.41514922970609,-12.056240021357485,-9.148866111385248,-11.616548008160951,260.5125389831272,258.72573699030363,-162.00688525902208,-205.43479564547516,-176.19114289189417,-197.77759030997947,274.9000014235754,-3.4707198243936475,-14.009420556058176,-2.575034027198087,264.45089834051737,264.89159212819624,-16.442153359537404,5.791477000168835,33.48025053595388,21.55776670324176,25.577248677789022,-77.63609623918512,-136.87173355512635,-113.29034252786796,292.5758066812189,282.5418149205034,304.2306764023819,-88.14545211281497,15.62298536220521,1.2273810931740627,15.40862912567661,315.81836874971754,315.5522364448194,319.51776693517985,-119.55092391739035,-130.76270220316735,7.9032180056150105,-240.53325195994512,195.1901863037887,-58.78070402425956,-78.93481636630773,-53.23383425789897,-72.19503367639653,193.56094695182028,202.8073477401498,-229.46568777165226,-276.534302575995]},{\"axis\":{\"matches\":true},\"label\":\"3\",\"values\":[4.363596861556243,4.633738853386574,4.560221834280399,-0.032020998003586904,-0.4607565306348326,-0.06889234283468867,-1.0874518578237962,-0.9699876046403012,-0.9661809570811672,4.105178726631325,4.594701100361705,0.004269240787279775,0.005134685277815713,-0.20438615129995627,4.6854412746014855,4.331002843133721,-0.7977155275120394,-0.8057361972689612,-0.9343904632087217,4.533370129723315,4.303986385140071,4.506443743487965,-0.782980123400566,-0.8159414979165114,-0.9176935884377058,4.699821501304334,4.625157132001027,0.012083216060190608,0.02125759299053023,-0.1674887298934715,-0.7956943423679831,0.046288510042063385,-0.9229597065850874,4.436666630841502,4.153216415884594,4.67101050607637,4.594395098915421,-0.029533573432968783,-0.2745329884600548,-0.7540002886438062,-0.4235563974113421,0.011383177114427183,-0.06973652076862233,-1.0137339004640227,4.658484905932103,-0.8359216448954275,4.388101922563836,4.072967365700406,4.576652386243354,-0.8805491953123757,-0.89956216093228,-0.7492319613889873,-0.7452956543599973,-0.20296759718779897,4.536376709503391,4.639726022537494,4.747405022714439,0.0527928927108883,0.05410259606799575,4.237028506091066,-0.8476122527991508,-0.6924010116010374,-0.6938228870076066,4.569645681544995,-0.14282177071835186,0.026210460985200103,0.037408414226213244,4.794305808911951,4.676103512499544,4.295187138857362,4.408044295322363,4.559775132904882,4.677219406350829,-0.27222057203007555,-0.7019541648627584,-0.6884989325005497,-0.8416865744455531,0.025459082161228854,-0.004223177853318912,4.0787792432187135,0.10305359146066015,-0.6473087783868001,-0.6741463099522084,-0.3076763816286882,0.05783258356058593,4.804549055140912,4.516380780504056,4.677859775698723,4.179779588463348,-0.8230080147013197,0.32810249020312987,4.983703936036156,5.109689077684474,0.3100356879339201,4.509963707349267,-0.22062703977012063,-0.2217544331721415,-0.37917794055473697,4.8328477869435895,-0.0512560650982052,4.617336041421692,5.069008397560485,0.2852489018600104,0.04512286799679131,4.953317016932471,4.857163379800127,-0.5024611521745052,-0.35746882945055647,-0.3117865387968026,0.2516116356511563,-0.4371126940592704,-0.5816595920565985,4.396665279778288,4.9557983048348415,-0.42740514767955257,4.861198203735799,4.7070204654071475,0.15560036571628635,-0.07115952990702273,0.17403968249554405,-0.572157345066866,0.3054851086469915,0.2862472264961522,-0.06387132650033127,-0.40344774501452324,4.696699160699288,4.998918686325943,4.43589187485996,-0.4101866316366333,4.884267491422343,-0.41491904714736627,-0.5732609753843954,-0.39461776369032997,4.889925901354861,4.415329752170645,0.274537673635907,-0.07044019288737692,4.687582550931691,5.00390213631668,0.294328122043648,0.20092958119100582,0.3611444871531837,-0.26601231732604247,-0.42784927251836646,-0.2821363710434627,0.4226068431090667,4.836629908137937,4.655589862096069,5.068124676161817,4.96382904499342,-0.4469217044323842,4.597018227130359,4.911078481667848,5.032622627047682,4.781788820555427,0.15936999141694633,-0.32723978278168614,0.4209903006859451,0.341604796455511,-0.28354555655266583,0.30659215862405365,0.2792026896166414,-0.06649647624224123,-0.4627546171771774,4.703182440430869,4.862064009805744,4.489534229345327,4.994240502338451,-0.4047444416783627,-0.5884081814265453,4.415093737159354,4.962892163713854,-0.37376198440212033,-0.40796420494178004,-0.10395537149899016,0.346603521619832,0.35745592587952835,4.853232644890947,4.6440340682008445,-0.5270466380117337,0.350797312689735,-0.31130449299699514,4.799661895869552,5.082302717947001,4.620361679871943,-0.2895496639641447,0.4089883799167856,-0.4604147580052498,0.022452567885212337,4.963192759360728,-0.36371374376500865,-0.4934973583787923,0.29864694020293125,-0.37093736283150147,4.934925157353139,4.629428523066518,0.07254610060947078,0.3547191911872086,4.796263974849107,5.05859214891649,0.25177275750910916,0.36158068085206163,0.061301622626527025,4.938773553568437,5.0189768776388,4.755665570036516,4.5026413864844566,-0.3855579991994885,-0.5768140766923897,-0.39977283803662034,4.9718328034769215,-0.12941179680898998,0.28399398342675297,0.05592084098131586,-0.49926097068301606,4.36447413534346,-0.6694834496513561,4.867217262398834,4.680629201129987,-0.49384950894732865,-0.6947389071245453,4.340906872882118,-0.02737521333091492,4.980937092282617,4.8334034641772625,4.678023535785325,0.17402149307929385,0.34733917014304605,-0.5156172970199461,-0.5193925085187562,4.621350831391854,0.3476738084030907,0.38932722326784486,0.1672377673584339,-0.48528831346148227,-0.33124754627253733,-0.30780290770888735,4.842423762434038,5.129325877854221,4.969105193161226,-0.5463438041223584,4.478289873895339,4.744028685436232,-0.3840357621893507,-0.3662171943006172,5.063975821327066,0.19378262150563502,0.3169995754715971,0.0141138244844185,4.925378722688603,-0.4113273719016124,-0.5763432170289265,-0.4138528880832688,0.3030263235464842,4.431847768904319,0.010514156075499157,4.717326985397059,4.902527076694379,5.049594345641999,-0.1583339527401389,4.87854093633888,5.019143260943803,-0.43024229771703554,-0.5829321673864182,-0.4368359238935882,-0.1875153992876815,0.28063443589184356,-0.017473995587069444,4.363944269965799,4.6739847138587685,5.083810263371879,4.591705936899966,4.941995921774229,4.85029280490358,0.3000462588882022,0.3867248177639908,-0.4611281451801881,-0.2980434040578397,0.11779880403982008,-0.2984079321982669,-0.25291523816749445,4.941383726355802,4.574973506538377,5.075332462629092,4.81601323367308,0.2956537266756267,0.18893133978025747,-0.4296115566568447,-0.3041425146859233,0.0822022194605067,-0.318333034674131,-0.4374408038794805,-0.25781541334407865,5.0388135308105575,4.44657731780322,4.920767813511864,-0.01962249186702299,0.3187205313748168,0.06143323686263917,4.762154458255012,-0.08136658738065934,4.608859436104886,4.8412518558337,4.2610102014823985,4.97535246658019,-0.35828623524341713,-0.02881915176078494,0.3588944230073704,-0.42725816885556905,-0.5318296516905072,-0.6025416661328289,-0.42657929210433887,0.14247645964502506,4.956125026249264,0.45766650813194243,-0.45032036794453956,0.22976124052593971,4.3308919956673515,4.813136694804418,4.655906884872375,4.8161616607865625,4.448645330819333,4.990939240402414,4.677246561625539,0.35819966533427605,-0.4036837920328268,0.1402681800115767,-0.5716432866610198,0.1897530653412849,-0.4165832681787728,-0.8768937507950967,-0.6960969544993982,0.11474257401762253,-0.06914485338759346,-0.15027789403811156,-0.709390811337633,4.180343994993403,4.4669195405913795,4.7751509712280304,4.635318405906139,4.378683148542591,-0.06284319195842854,4.7192938607650925,0.3154294670395711,-0.0857831642250207,-0.42370737276246734,-0.580411839017697,-0.43915895885526085,4.880487829121111,5.026214982172175,5.007626569625971,4.724156443758825,-0.046082775193243344,-0.031065763376755835,4.43077005601573,0.3052985358940684,4.876570787640333,-0.41179087537226283,-0.5558793088117322,-0.39815782652899673,0.1560378633275269,-0.34391594481844767,-0.34116026460673377,-0.4799412337663087,4.558236044318474,5.012417126860737,4.808352764955367,4.885485318257023,0.10344003543065473,0.31423797344516113,0.06469939184344274,0.2994593716136644,-0.4350033435206495,-0.29825328528403466,0.1492703613748689,4.69770298771786,4.960945112108084,4.3929341473977415,-0.3108573017894311,4.8628944140604355,-0.19778375484783706,-0.3412701385620986,-0.22739345346691567,4.380132005673119,4.7207950654446185,-0.0012622057506356274,-0.06668308373885302,0.3162697454481833,4.8881156720045595,4.996302248444129,-0.25397652993537656,-0.22045781569470624,0.023254128674842386,-0.01800181199256397,0.527950184717106,-0.3320706305834871,4.3999784697402555,4.786009918411001,5.051948715551424,4.931004710509668,4.989785836323229,0.243173707191862,0.5866242596834963,-0.0008645254127902531,0.020100936363021456,5.191033321174446,5.076126254341853,4.72938047695496,-0.1393011802784071,0.1852881147588495,-0.1866202893776148,-0.02267730072239806,-0.05537521164570581,0.29397483781123,4.659221180814086,5.127134164424045,4.920086542363802,4.980643609066236,0.46067220316349244,0.24885841029697342,-0.0008763755824451343,5.000592620663564,-0.04636212764738869,-0.18440980410343755,0.27781327357763985,4.874687980895462,4.593598133706851,0.1549575842808785,0.14349171985807155,5.133142256521217,4.89508643863583,5.351888144321786,5.1930763869738685,5.489889784320247,0.38391442729947056,0.5185525942222295,0.543095183319408,0.4860582535637882,0.35916970114166913,0.3529201677997533,0.0616983661012076,5.196427297419812,4.792752490312053,5.284448606848486,5.04421554616717,0.23738691568690104,0.20232994050996456,0.3195155008886606,-0.08766548968537113,0.036894306603223015,5.12947691057995,5.224342384658759,5.307516254931424,4.917766045763476,0.12773016143740756,0.1273754143415479,0.3960435360316111,0.4158804385453527,0.33469402682496047,-0.0054009385354442056,0.42694408487678337,0.33739306086905135,0.41063415948137555,0.25041420834368633,0.14202755453484195,0.25460508378700153,5.351668097769635,5.147595561270596,4.910942408186637,5.266121866360747,5.384105412857031,5.601653790270726,5.511065444619272,5.134897097921084,0.6833397912195203,0.546222923691809,0.6759475308440764,0.5223363433513822,0.526407712132949,0.6901013970019423,4.727763435357487,4.975927094037426,4.464725812983258,4.870654709252851,-0.16047066720430903,0.18065880936590348,0.05625857098389997,-0.34051861570565306,0.050715540391227276,-0.19721642839117093,-0.1933602302524504,4.241765547576615,4.617177964234965,4.513957098925794,4.448766573191683,-1.0416669885760208,-1.1715301503764566,-0.25594863021081304,-0.20815695553774993,-1.0209371389978605,2.7661562736119167,-0.5349217761942762,2.4392209473127497,2.8790549015762523,2.640935466021472,-0.5002285350612578,-0.5109335859487752,-1.2890120411006678,-1.4438320686234167,-1.2918450791181106,-1.2186835312447877,-0.6396854976202964,-0.5840150125100234,-0.44237413157402045,-1.2521873421519636,-1.3673759429276138,2.841730410292778,2.6792543788081535,2.412149812299077,2.9431340418670886,2.7828975893876273,2.3174788923809295,2.6156949059809733,2.904045421745607,-1.2727606549090178,-1.3037595811294196,-0.5297176791506486,-1.4586933871525292,-0.7788839875697512,-0.6827692358222011,-1.174331726118288,-1.2921729414009873,-1.1586705616054462,-0.5764818498555714,2.83207991964604,-0.4693328750535168,2.9505811456521522,2.7300932404480682,-0.5478939636742584,2.443638225032714,2.4934872261978724,2.9443576893511043,2.8548031953902173,2.7799586825703098,-1.101580464231485,-1.1180094786402284,-1.2214463022881685,-0.3957901970203716,-0.4191580330813248,-0.4399747415159876,2.8826682449772565,-0.4395875090169028,2.747413321184887,-0.3133106117901108,-0.416286547390348,-1.167487758569291,-1.036092669866438,-1.0549425512437105,2.541251495116269,2.9587567478953662,2.9211052918987312,-0.6813704550384089,-0.7226409731606425,-0.43106343339225345,2.6667749667124645,2.84350547063065,2.4495299664816312,-1.346609996980719,-1.1935948151189253,-1.1588336713460783,-1.1538780546944898,-1.12307953172203,-1.3238120598134633,-0.3791507042341078,-0.6182157832234108,2.5343920113649965,2.8817499912852043,2.7271791757789328,3.0024483001485103,-0.5386244964047504,2.7412514827745893,-1.2751396367883965,-0.44263773446860494,-1.085897983376499,-0.5898265341772864,2.487534897745227,-1.1129123996718364,-0.552733897552003,2.8685012919008654,2.9982616909328668,-0.5694764577217409,-0.5559172279037392,2.6637860282737917,2.396374219922723,2.7913281300236927,2.935560148630511,-1.055112405080325,-1.0672826872907977,-1.223423199793659,-0.3900181249868278,-0.6177670078433956,-0.3147354317385154,-1.1686050273558244,-0.9912866794037185,-0.9921220601759083,2.8058903938277586,3.0505207413555153,2.931819112101461,2.4641605775090887,-0.58933132201395,-0.31363884613404636,2.7970816544989674,-0.10246901773983362,3.2357046429176095,-0.6996421345081276,-0.5242725891478659,3.1353411741252772,3.3539465729264464,-0.3284062741705164,-0.5058494562743342,-0.8700412485047887,3.2966403398049033,-0.19721044862782736,-0.22588007137671598,3.104344567747866,2.9008248774995216,3.1827664958479778,-0.691571428645061,-0.6844058394040832,-0.18618600661789045,3.089892826701771,2.7746683863040897,3.2228137194396766,2.950701921759079,-0.9191662146969699,-0.735545555555935,-0.7266156860015591,-0.40225832674114936,-0.28513363732622565,-0.34046446221362525,2.9459591365873954,3.2575891425023196,-0.3370246375736741,-0.1406238666092667,-0.3598904649363349,3.132523073465769,2.726110284733175,-0.720792616482028,-0.9009113087614579,-0.7088902225109127,3.1175533960101225,2.6221118975843045,2.9463833412776945,3.2403850068012834,-0.718223403363205,-0.716310415593531,-0.9180422152407185,-0.3378326515270205,-0.46636350026102796,-0.15928342213525964,3.3077712073692487,-0.07773839966186437,3.0946035611327276,-0.04940154311441203,-0.6156482850657891,3.1946718961631775,2.793254579343099,-0.12269801395348578,-0.6361321355292696,-0.7983758136029133,-0.5768190094683778,-0.7108115239910225,-0.5724147827156287,-0.03147771207008865,2.7621520064563265,-0.038685867815499105,-0.11616897767521639,3.265255746423567,3.1491116523415177,3.0560833458502423,3.2246921168904077,3.1181420936239457,-0.09179311342627954,2.9674891430327053,-0.2427656021636703,-0.18246505914756442,-0.6913703373600598,-0.8164589702210585,-0.6779408128967871,2.6958722076621613,-0.3216702708792469,-0.16526484892990437,-0.054029179679819725,2.593822561125493,3.202766949564215,3.1359706779024212,2.9255673958894417,-0.8188265399916624,-0.6881076918028216,-0.7018485568761393,-0.0677535293077235,-0.08809253697405962,-0.18371566225578995,-0.6322188163175202,-0.8062260537203167,-0.6622377530775089,3.1794292321393223,3.039964384917218,2.7705705202965976,3.30057326866548,-0.10228322189414528,-0.16627910334374194,-0.6890551147140883,-0.12053226529113213,-0.8521754365496862,2.850500349863448,3.175499633408214,3.0422942967616846,3.272619848406192,-0.6705910906143323,-0.7012329949888687,-0.8505772886863123,-0.6627625870850379,2.960440974802563,-0.08285338820689132,2.696065402970263,3.2495518176267635,3.111889998448231,-0.14045190207495156,-0.08022554984765014,-0.7663870582448253,-0.752136078706856,-0.9638436847366586,-0.13988712078396895,-0.3532289300089006,2.92504329842811,3.1097979649988083,3.223601111062521,2.612640949143255,-0.22045709354837423,-0.12089335282428847,-0.06319386617818466,-0.7650789264320187,-0.2371201611099147,3.2367719722395236,2.9431937964330053,3.1107094498430397,2.6399429114329385,-0.9667562350341556,-0.8089199048453126,0.005553080134061637,3.232067006398682,3.1229029098734165,2.8626702905821517,0.05794277546472871,-0.02681211047268284,-0.7982001291452503,-0.6355001758946713,-0.6115758812906924,3.360392187256646,2.9598983030388566,3.2649125366011935,2.632947279309686,-0.668522324845575,-0.8533737230870896,-0.6892300053052639,3.130576405426798,-0.06736354992916346,-0.053252570893205654,-0.04241819109905507,-0.2078409348876783,-0.10165685798849454,-0.3194181231783366,3.1221608671214502,2.8998877930577285,2.5562278503700937,3.231398736787107,-0.7580095832172457,-0.9438510778424078,-0.7714828400450001,-0.4144046297134048,-0.2867896865742406,-0.16025714684282025,2.876905394789577,3.1273189750359887,3.2512808203674277,-0.7353379456598765,-0.9283814961055213,-0.7313895764356497,2.5923693294142054,-0.6502400510440792,-0.8495627659241801,-0.6224349180921619,-0.044689125569655055,2.765882804293082,3.024344763352227,3.280479094218067,-0.07473051144190919,-0.12339501110266787,3.173841211516665,-0.5999468401811396,-0.5686464002801334,-0.8110067547341233,3.031933569431369,2.7357541490308006,3.2872677284747285,3.1445815624678204,-0.1171939162655514,-0.10987095849890625,-0.11694708185404533,2.921491010337522,3.13702743304493,3.2532945725691924,2.6328201899572212,-0.12904625736432904,-0.17395697111766895,-0.22383502539474373,-0.836189445375118,-0.6211304893271156,-0.6199146076752571,-0.09702330083101428,-0.21275135920501864,2.870008720247998,-0.3581994476877436,3.105453583343743,-0.8971274357004299,-0.7019575920605502,-0.647076845970856,2.5674214076942454,3.224288387905681,2.5956868318394166,3.073022637926676,-0.7324408805559519,-0.9280444584907555,3.1955397869757403,-0.004786555006122519,-0.147079597950537,-0.04350337967304635,-0.7721813811628976,2.8771406930657406,2.8979965691256493,-0.06801022824524398,-0.09737947237153848,2.637286809053646,3.2047709842333316,3.0572455995489554,-0.735961285835034,-0.11100706836265475,-0.876968492761457,-0.7087559673425281,-0.33579447238806454,-0.36994732417160064,-0.38908139240613904,2.635624681157496,2.8291786260615868,2.9801197246235267,-1.1966132416070583,-1.0141985913035685,-1.0397141002652746,2.3758216056233565,-0.7615570061821287,3.088784482844103,2.528029225017912,3.232332669273265,-0.7770472941202232,-0.9613634758706113,2.8980771757762813,-0.17772065981718752,-0.4175373818542294,-0.30566436215948145,2.5047842755128675,-0.7679707746537716,-0.918389742440696,-0.7423744149907449,3.2228285389566653,3.0813959329260427,-0.15310979811249384,-0.28112862299472036,-0.41125897539230644,2.8941788564032565,-0.6468839501675125,3.2293386894467835,2.9710602750300836,3.129161000562693,-0.11608311073640278,2.671053901454166,-0.20286592411934204,-0.10881617695384128,-0.807589087311096,-0.6322338852967406,-0.1446584869131184,-0.7937464373082415,-0.6141451711633134,-0.6778194674250114,-0.12371039784551834,-0.22080536847784663,3.0637575903030925,3.1944475176912,2.629808768602861,2.902273472819499,3.1089376809125513,2.896214642363705,3.2266022914591153,2.6030638209333885,-0.6592633532637562,-0.36119637493491547,-0.21100887469271673,-0.10342760676502553,-0.5434872802177253,-0.5043016040759142,2.9431347642966172,2.6112316751407465,-0.07544642381478127,-0.39791535356731444,-0.21725999894291478,-0.6769561937742703,-0.5387956705689889,-0.5248578951433208,3.2745663949482644,3.134007219777798,3.2819202586438667,3.396750573543193,2.8486759006161737,3.1287671738912386,-0.44648195019546455,-0.0521811611556202,-0.17462854406259962,-0.3033360620009025,-0.30519702810024346,-0.018621835682519603,3.0743355955034937,2.7978670533815775,3.315033826540059,3.1931656954249186,-0.35314608420451826,-0.029103895138435965,-0.009785534049816231,-0.09578960120166638,-0.3672119355915801,-0.5268511561693763,-0.034975654780600496,-0.48580787834699135,-0.1734345705344348,-0.32389011833821985,3.2347611139525845,2.7114922675715043,3.32740351728147,3.046536522453066,-0.3475345083924776,-0.07129983563752142,0.1453581635335994,0.1610015835746895,0.027205001768394094,3.7004814413737352,3.5931445431673885,3.41933957251479,0.32136364031155595,0.1997337054809666,3.0379200196297123,0.034202435376026005,0.01135937980476459,-0.04189056421564613,3.365508840097545,3.4736998182413976,3.191764740408719,2.861280777290906,-0.2198029066960298,-0.42758087121416194,-0.26363285203976444,-0.29038068361041275,3.1203303502050894,-0.1867445995606885,-0.2792329390354505,3.322380568023251,0.04060366535838028,0.09611100321216909,0.09692360899342639,3.537340134801672,-0.15667140586457043,3.4436734037754304,3.093304721986493,3.56505793271196,3.3096803901252225,-0.07428263814549889,0.09952721488136954,-0.17129727217922178,0.05641645860897919,0.10072111563880462,3.49373380592518,-0.025653810967735714,3.2971668208176976,3.846779314090133,3.5560240005505133,3.740855744933147,0.35440484402694666,0.229828606781269,0.3652648399502872,0.3892639972620198,0.1360121143700634,0.2847345668287992,2.6188905684109107,2.854718447645914,3.2164622853171765,3.093177332257084,-0.6212546053562559,-0.5026160593893336,-0.4988817391167479,-0.34762267168064415,-0.14988939942576024,-0.1051800665563634,-1.3227393749782705,-0.5361541696731864,2.874250569083533,2.749931461396644,2.4498745120042367,-1.4051869842234654,2.6196744788915076,-0.5155664640930878,-1.3060770754074185,-0.45332712895407007,1.1790093818075642,-1.795073599641453,1.277414478129969,0.8306193907566101,-1.85217127067127,-1.8827258415707984,0.9803381771785404,-2.4624871803178157,-2.5792105032492674,-2.442508647908727,-1.8900790106472176,-1.9325606598959233,1.0175671407787072,-1.851078742650108,0.7924330396479374,-2.601465577484805,1.3120326502004391,-2.408324501271835,-2.456971724678684,1.2512181968878595,0.6659576194041869,1.2605879679602432,1.1667192960624704,0.9400169849892706,-2.5089164552237517,-2.6587444119598307,-2.513013206025587,-2.131717476178703,-2.0432599401379505,-1.90801689031677,1.055422228560637,0.71943198142345,1.1938012253642791,-1.93692765594679,-1.8567981738441266,-2.4156684982599845,-2.5240572496800064,-2.4139628077596895,1.3047976242395094,-1.9035854087876358,-2.3589508924536347,-2.3945814142034587,-2.3353683051142773,0.8828169427397264,1.125518536240496,1.3322830637916567,1.23786496971147,-1.8706320696132772,-1.7882300562348206,-1.8144310267675186,1.3149876735061634,-1.7484352728697183,-1.852757263694385,-1.7408546255566963,-2.1891679304534772,1.0821278022714331,-2.2774301855352146,1.2660755912222625,0.8033747584482326,-2.248902798554134,-2.0900266291095013,-1.8007339628059365,1.2987673637433033,1.2034168542838806,0.7386128291852153,-1.8841379053389127,1.0082334108251747,-2.4565860035030167,-2.359291464919573,-2.400450393922369,-2.3654327140187714,0.7888041279327005,-1.7792840116259379,-1.9907830168716933,-1.8382598791241325,1.1088194005722833,-2.336850184235306,-2.4373207716154828,1.3788162466692397,1.2616535071663493,-1.9469285819139495,-2.3098293363143765,-2.381817246713956,1.4046276627249081,1.2651096279724217,1.1748845528316005,0.9025549103675394,-2.2819883426554157,-1.8017041398879408,-1.8084389277419983,-1.814238080142612,1.215051386950788,1.0874934042313915,1.3232284393971474,-1.8147165244380188,0.821485075057806,-1.986074594344485,-2.3350541327757144,-2.2342551120710747,-2.2625425080926576,-2.1836886860403273,-2.2804566233171633,-2.2489700776292483,-2.0259345848109733,1.1953939657372368,-1.8070906362195933,1.3423325299085667,0.863348549043812,1.4481996756909365,-1.7521214477649345,-1.6047207155257956,-1.763636434307244,-1.859484647214978,-1.8353941806767653,1.6287539599380474,1.7341268492828246,1.1425650821145528,-1.751358697767649,-1.534097068355684,1.4708818608119067,-1.5476152491802406,-1.5598888770891721,-1.5800273850532645,1.694853792989244,-1.9737019498917923,-1.9423064077133054,-1.8825972016267116,1.490897830243949,1.5651343310683397,1.2397558501585728,1.3568193103495403,-1.6979187417865576,-1.6274882367639667,-1.6456637870143562,1.1231709118391535,1.626072430941069,1.50406101759481,-1.924341643760019,-2.009298470568962,-1.9811391963936456,1.0613966371144001,1.550247116393002,1.3764322729260903,-1.7429255490814657,-1.5078475411616905,-1.9356493029532582,-1.9165796903478296,-1.8846651385263786,-1.5140459007796991,1.635846604159583,1.611507314699455,-2.0162199170174397,-1.9906523863854002,-1.9552675837564621,1.2998414251350505,-1.6131770680059463,-1.8516448019105551,-1.5953516060957758,0.9720940024727854,1.539369067450265,1.402849509325885,-1.9886904171146362,-1.9091472414223043,-1.5106688190225357,-1.4705903381554808,-1.93120935818202,1.669068348670647,1.5824442073280431,1.1109858274282278,-1.5961155464496608,-1.856310470142013,1.3331221388024912,-1.4374371675061102,-1.5052703431632115,-1.5546595662278508,1.6695188517696404,-1.9444782288187308,1.07384123992824,1.5460728720066776,-1.9180046195212888,-1.5141796279990418,-1.6718092209060942,-1.5563933431235168,1.325225332953419,0.9851823932575449,1.5239748730241724,1.6295886621371394,-1.9599418628977103,-2.053498542428104,-2.0197528311743005,-1.5130435781710307,-1.9189258952920047,-1.9709810068038522,-1.502376582056036,-1.978346907523026,1.5475639838576802,1.2797347857144692,1.605184620959339,0.9373927209776105,-1.7303574633622498,1.4417755819404146,1.6039204307320651,1.708058716317231,-1.9171835873266163,-1.882548890121828,-1.5027313923181844,-1.466689025398114,-1.617494130456349,-1.8449489801701504,1.1069516641594703,-1.9216326597672349,-1.525461384874616,-1.4942277276382618,-1.426430183263839,-1.8857314086397963,-1.8562836914171525,1.2230607400163513,1.618621959786075,1.4585831444573172,1.7044626502570759,-1.873527461503867,1.66792671904774,-1.949809033057632,-1.4010845474225067,1.414001859112998,-1.4960352050796104,1.1118098590026622,1.5967383745981805,-1.5325931346319264,-1.8982539290872016,1.6241168792472072,1.0499886856139709,1.356638191777184,1.6241339260767518,-1.9660557645550747,-2.059331281905952,-2.0212570723117933,-1.5571003469631588,-1.7563566509421475,-1.532588162440386,-1.4865945097553224,-2.0255207083529005,-2.07747750468547,-2.136199781405341,-1.5120001048757998,-1.7215016411003503,1.6054401594914591,1.3131738993654078,1.5713935404295123,0.9508343001179139,-1.404785123580138,1.5460977019916475,-1.8287024461235064,-1.2964377316041829,-1.7824306820424967,-1.8823740622436043,1.7148641660094561,-1.3988852988498575,1.7688192254597395,1.2797669017639084,-1.9705777733225993,-1.853163958300975,-1.9182893766486429,-1.4843446568062935,1.4059204547833684,-1.380580285700146,-1.4897036333383618,1.6152234465776771,1.6890704595743409,1.0731109151985545,-1.6741215189498149,-1.486389251558323,-1.5509237506248919,1.6525159985947655,0.9823963786499863,-2.024140073824771,-1.9941755822249594,-1.9191644292529764,1.3515280979348456,1.6126448149970898,1.3081366458644792,-1.9681769072639121,-1.8369918734127761,-1.6099682065760428,-1.57544123383156,-2.023054858100222,-2.087294457513829,1.6525410116997485,0.9643003784345032,1.576819061021378,-1.5499289946329307,-1.9679959258668345,-1.8508608036500092,1.624354866518841,1.7125064183473964,1.1216147229408993,1.4450993146368412,-1.4817736279154696,-1.3734726671030786,-1.910660687367364,1.407585058911632,1.6410260683828939,1.136630998345195,1.7091905643875884,-1.5677775715621047,-1.9015190938373705,-1.818262789354923,-1.548251027337851,-1.4444321193017797,-1.8878856273456914,-1.549055403224123,-1.779865074266778,1.3437010624699528,-1.4734304642103622,1.6635867215245528,1.624443474232555,1.0176326447730455,-1.8857474033764363,-1.8272841656024839,-1.6271291982560183,-1.53360695565403,-1.7706739597496668,-1.9448133430431715,-1.8848866868790912,-1.867887572908179,0.979376354766801,1.620530566443475,1.5824068963234466,1.2601904879434904,-1.5186996235698502,-1.3996709879311613,-1.6085103928786848,0.9042134739942483,-1.4326631926349696,-1.9687941512106237,1.5402747385605111,-2.033436094743704,-2.067248079244001,1.2562703967806748,1.598520526256977,-1.3771766902628277,-1.5288685918911245,-1.5391367873516666,-2.003858852009342,-2.0116080488615684,1.3279644791796985,-1.942444561294914,1.0286701609399636,1.5545258579997585,1.635279421291482,-2.303363412928087,1.3694029594323875,0.8104096548840521,1.1017432884643825,-1.7776811209593817,-1.6885613618718562,-2.2649449349248427,1.4154946258816705,-2.1860386920287613,-1.8244634171534562,1.340056553661293,1.62793120921742,-1.9043679406523129,-2.027800297654013,-1.9633115321088015,1.0396281821070212,1.6604547965552618,-1.5901571217911437,-1.8199469475263654,-1.5894995116151382,-2.003999802521779,-1.9676883356174293,-1.9039521448710846,1.3389040416856683,0.9814828824236277,-1.5824399354322818,-1.8014221586780361,1.6348203243722663,1.585801495264061,-1.5615481503425594,1.6861833928991297,-1.8738743604999646,1.6140775593462644,1.0852563236609132,-1.8964607974156191,1.4409258706772539,-1.8115442100755668,-1.5267640452360984,-1.5086514176757855,-1.4101946943890242,-1.8732510965527462,-1.5513505374104588,-1.578837201621973,1.3473708237908553,0.983966331498448,1.5354586276901598,1.614413307591237,-1.802512555591654,-1.8645453369883729,-1.4623417156850362,-1.756666779340981,-1.665552810018921,-1.6611994022422203,-1.467543043390799,1.6116994472349206,0.9913376772632606,1.329293539712916,-1.5285831672594068,-1.7410287615826117,1.6465331982881097,-1.7925712649178491,-1.79472363777456,1.6646336865011893,1.0233664398512348,1.3310503347501652,1.6643775345784018,-1.534055031175801,-1.6986430255709721,-1.7851590117426392,-1.5134677432441155,1.257124547950151,-1.4663920103662091,-1.394481131893692,-1.5678403519410027,-1.5857873790235792,-1.559306178062493,-1.4804329088503245,1.5260583645044505,1.8032170728378722,1.8175577523706015,1.727717664611858,1.4481529926434011,1.7198755089782007,1.255949807604254,-1.6219760428156256,-1.4573673217959275,-1.490679482294299,-1.3739148504882097,-1.6426206629306188,-1.5457281425879807,-1.5818109463787842,1.427726851988203,1.7418002886961046,1.7336616957858966,1.1656377830140627,-1.3917463821696705,-1.445390101009909,-1.5161375830341868,-1.5984133985067381,-1.5160562327833833,2.1036225326580715,1.7948920950584408,-1.083281165103428,-1.0454175115653188,2.1090841066769626,-1.1281314151980235,-1.3672772990037738,-1.1223129964720953,-1.0043812562411953,1.540613139785173,-1.6537763299769368,-1.3914791237520356,-1.5284932499441748,-1.4707728059245218,-1.4459639515258518,-1.553969777066786,1.8798987322329501,1.8684636062282598,1.57540066717532,1.2915237954844163,-1.4470051179897947,-1.3242403134455325,-1.2548537899791787,-1.3211674726926397,-1.398762708077136,-1.4800400315372104,1.913885268988561,1.9346624355965407,1.44771316188617,1.6627772861079724,-1.2223339412723715,1.4182739783688945,1.947897111724363,1.690879008966211,-1.3096065964685069,-1.3217382227185515,-1.2683503299224335,1.9824665133186594,-1.3190753765537624,-1.3154172987962853,2.2016713584917316,1.7032992045113997,1.9857832639356425,2.239907898303429,-1.0057915922315603,-1.0340711165957048,-1.2256285242297185,-0.9013408361659744,-0.8857389591084427,-0.8441590097632934,1.0678272606315196,1.5531017704837602,1.2820952200291482,1.624748556548742,-1.7273164668459366,-1.4380543048515677,-1.540428658944439,-1.7598850971850266,-1.754504373867456,-1.7032739303321025,-1.8871786220833842,1.0353790213336833,-2.565376978241199,-2.579861008832356,-2.527839522761756,1.2787394138129442,0.8914341730615631,1.2195555284607271,-1.7766573857744536,-1.9026231306152486,-2.7586575784734424,-2.723077682913757,-2.8482539689235473,-2.721560333661947,-2.6797515236056286,-2.7430353038341697,-0.09171884546312974,-0.31860642234185604,-0.026294800457987853,-0.4143977207146954,-2.658532520488715,-0.42796104170823845,-0.024107954586136408,-2.7585407117202756,-2.8723778091039023,-2.7878873185102564,-2.6927737687523425,-0.27959636570766777,-2.6149616196957015,0.014686227886516327,-2.7593667006659257,-2.799564688194729,-2.7265302350944496,-0.03879031997020427,-0.5257785755196701,-2.8968421099523862,-3.104435408932649,-0.3568000178222229,-0.11167508797820652,-2.885441169376531,-0.2735289655307174,-0.512079271299728,-0.04330619959708082,-2.675018852474419,-2.8535885486707397,-2.940360093954951,-2.7954587747404305,-2.6385472217910175,0.008908286281865239,-2.6446194148347617,0.004455118449397276,-2.5840358740139675,-2.619712083400276,-2.5977888471673953,-2.7732601305189513,-2.654279597293613,-2.747492426063335,-0.41617711730653995,-0.17393049546803743,0.03212328026160846,-2.8399309579960894,-2.6868577921936536,-2.542280632074349,-2.786858784571863,-2.598000251831825,-0.5125698409093316,-2.5210865438920695,0.024351239956053563,-0.2418805474502003,0.021290924931683688,-0.6349154771612168,-2.6945669224288316,-2.6374966851455874,-2.739592998190994,-0.32721318603320043,-0.024931531812977917,-0.014392703429122912,-3.0754252385323655,-2.9029684160308182,-2.8839022504361083,0.056808721209783836,0.05636171297470091,-0.24679020508875374,-0.5284713433220047,-3.003769217399243,-2.804737955161385,-2.835725842707424,-2.6504690820061194,-2.5957534384449117,-2.68937988411739,-2.8165280174211835,-2.6057963522334053,-2.510029315905659,-2.5765570016858876,-0.14805634270065618,0.08696919827338043,0.08750087598404241,-2.833398123679574,-0.3618042183650174,-2.7490673333316935,-0.4894326163269188,0.02570953405757861,-2.518528752451448,-2.4522562868428786,-2.538505981345869,-2.847396739954168,-2.725874763692805,-2.834284426601503,-0.23799485072232604,0.02743005906405843,-2.476680428174105,-2.5007838427738096,-2.3951989285767032,-2.782035458497722,-0.14218688774255722,-0.453296695212032,0.11978933448235043,0.1315335428888528,-2.9123819574581264,-2.745847597023173,0.41072658038401744,-0.20630503105191297,-2.539681925105429,-2.5306562097464926,-2.688768579825925,0.1330987405819144,-2.0602743802273102,-2.0178127107161528,-2.0621458250134257,0.42965444838191647,-2.1969465509627937,-2.478988193029355,-2.5802406018877995,-2.547278855608314,-2.1265130165778974,-2.1895120958464576,0.1752135274620981,0.3599544059899227,0.37101699454212844,-0.12899285084436815,-2.6437054406665856,-2.2146756949826942,-2.2500927736533383,-2.6161784864167523,-2.540289386168147,0.0358050482906567,0.3026021388488197,0.27496220019513484,-0.2420307864230324,-2.1868229191222905,-2.1381261466973074,-2.2175926163412445,-2.5695826308317837,-2.5082371745083125,-2.4427548196838615,-2.228461787436691,0.33314612112059006,-0.2515309619348626,0.03512725198181786,0.3158478205046158,-2.168862902382182,-2.244601059908715,-2.5579184771305132,-2.5792275096732027,-2.7105565592384835,0.001687496386360702,-0.2468334934763383,0.33878930184094613,0.3421181568620074,-2.25770531806445,-2.4521516533708407,-2.1572610093777342,-2.179871804792784,-2.4677741619232543,-2.5414940765945255,-2.0816699299141415,-0.14220504001812193,0.3821177525032545,0.09630656390558771,0.3858967827763232,-2.4161635812017708,-2.5010212528500535,-2.4730315058499435,-2.1335951260175445,-2.0428406543167306,-2.1394025060691098,-0.1773466138750089,0.34312263170582735,0.0651855947897297,0.34188714207996085,-2.1521587087173226,-2.5133781558416137,-2.613580900867306,-2.5581027638080447,-0.027499584783382356,0.29160676805254027,-0.2586382563118622,-2.2438506033741166,-2.2669886977379816,0.28033432108649214,-2.505482307902816,-2.291760977399178,-2.2246836353276143,-2.1479252947566505,-2.5059003953371652,-2.6895044758664977,-0.022981624178892244,0.2847933201143392,-0.27464787853533423,0.315318878443388,-2.479266033669626,0.41692513930639796,-0.1699691945678445,0.3745942445557169,0.060232939870909843,-2.198544876611816,-2.4944314270637227,-2.110254724250219,-2.167690513194765,-2.6190605259611157,-2.185506375632627,-2.403315564712834,-2.4959820006624476,-2.176257527919689,-2.1127908089211638,-0.030534100942806928,0.4147705795692566,0.11069488425352055,0.3817535481482116,-2.4583410571453705,0.33033496923275824,-2.165149675780076,-0.15234444183523319,0.07088589258284224,-2.0768268756132335,-2.1328341292386934,0.3501484449982333,-2.46473891301125,-2.366247306653446,-2.4497218047404603,-2.2266152028542328,-0.3182187907426616,0.33936271417967434,0.014975536713921432,0.2439611377434832,-2.567293886596775,-2.4987939714764345,-2.71513494476817,-2.358925081861309,-2.3665782905698,-2.708652840404916,-2.5023020168417025,-2.4849678096338117,0.20324991851408464,0.3173653828238433,-2.3291949099227556,-2.3535307238183143,-0.3356134473698039,0.00010574451110140028,-2.265496769264378,-2.3812220556247627,-2.390663109049538,-2.1272542197946285,-2.120712243524869,0.47027631830148164,0.3458382180555593,0.19604919727370204,-2.064054783163,-0.0554024940283839,-2.296161603123567,-2.1005677685313997,-2.10894737592198,-2.1379682987560096,-2.4418963102998883,-2.4606293884990507,-2.3903379475427875,0.3896341418183783,0.09579343417035037,-0.15373670006241621,0.22508370115523293,-2.208670085494645,-2.195244053926964,-2.119160044482883,0.016524736422167865,0.20606431884933238,-0.21866220301827918,0.359325545710679,-2.495748479825496,-2.55860364804804,-2.453780809700574,0.34093725287157084,-2.258526513577416,-2.274774172724637,-0.3024107369907534,-2.1949602676546904,-0.0025984326289286725,-2.7585326878163703,-2.590448050134787,-2.5850093887614474,0.15674053189805814,-2.1816023749366633,-2.4251212471373744,-2.4348285594081713,-2.2006117224507804,-2.518422146508521,-2.135386731294039,0.20381028117401853,0.3863822082334296,0.12542072088535844,-0.18460733493370649,0.11154605880414739,-2.093763745167096,-2.1432749442682013,-2.156593857248038,-2.5485841684825474,-2.5757281065931217,0.199051268555425,-0.14258395490392348,0.3804086633625189,-2.476406567630722,-2.592474198614735,-2.504085079316526,0.3478006565527052,-0.22856835230220637,0.1717976254069119,-2.131372961711097,-2.0622364396731734,-2.1290697379020598,-2.5562634244946345,0.009915120232722922,-0.35199882742513433,-2.5266445222092253,0.09300196648590932,-2.5473667342388686,-2.7152009481590524,-0.0659460643595072,0.3052527065491497,-2.22548726137025,-2.1562983917833267,-2.1998814006564498,0.2816391098158937,-2.242902620634803,-2.2830619980880513,-2.5602914128940126,-0.4062194390612207,-2.388702618969901,-2.319370577969271,-2.4227706636232393,0.05507810275937379,-0.06927360684788825,-2.1251881235329186,-2.1905697396882466,-2.2052119329015807,0.3052560224853642,0.0671523531878965,-2.349342405580976,-2.4464320245000124,-2.435895614921446,-0.26442165088617764,0.10057917805288365,-2.4919143552176566,-0.14700753740704772,-2.7243471624004463,-2.736224729654325,-2.4097128368568876,-0.18893529394174666,-0.43899114361486646,0.10634945823132194,-2.4997247947971957,-2.6485193966488993,-2.5294901903120746,-2.5516482952155264,-2.742260128242327,-0.2540295387434903,0.061811997052067955,-2.177781630994219,0.10697318045168046,-2.2031760039008415,-2.091887941216884,0.35058583725216064,-2.1423278162527284,-2.2133234867726093,-0.30663944538272847,0.0029904568546621196,0.08745142077511332,-2.55557171451335,-2.605851323497945,-2.83303072946701,-2.231064650970741,0.3326904549981572,-2.128935198213139,-2.1627230583229617,-2.072151199513465,-2.4747709737277925,-2.588236837173603,-0.24128378450647933,0.08577249430827918,0.12867576977179854,0.3267142321423705,-2.4809198269350587,-2.5788460999800056,-2.1590651413654363,-0.2787169134008024,0.0642912849268338,0.2869597632037185,0.02267547487464097,-2.046417611862271,-2.1088232565901417,-2.510156448522546,-2.488364221159063,-2.019307892603637,-2.6865585693788536,-2.5115143820958763,-2.511934750680895,0.004641643167389296,0.07413831458389313,-0.28173349918264556,-1.9108242730150555,0.309363538221228,-2.023517444269832,0.11287261834652422,-0.2626612649301312,0.017863324991444534,-2.0534747375171714,-1.9429982570935964,-2.0370077189053344,-2.4969367357161745,-2.7664556057355663,-2.5684775461109246,0.3548443202696133,-0.0908032999652015,0.2424233953028335,-2.4630063863291483,0.1668378098917078,0.4848700027408648,-2.607973887020416,-1.8610632013248753,-1.7551558160736154,-1.8728292759136187,-2.476871834468268,0.14914249164005133,0.39870718306519326,0.160892125271711,-0.10172615203837362,-1.8981798787918749,-1.8007940108203357,-2.4497974822280675,-2.4480422347476005,-1.8755325709124477,-2.384064097769756,-1.8429017823948102,-1.748713852344681,-1.8603091568706311,0.15516043360910048,0.1990023896583956,-0.11513885791958853,0.419029337987467,-2.4123783373966856,-2.4839748000119792,-2.4383893374833434,-2.2983836581281993,-2.0911032373815703,-2.1483509193823314,0.5548412547051231,0.25535114140365806,-1.3280390207393196,-1.3302303754351255,0.5625170042956256,-1.2088501667237286,0.7935773403823754,0.31639603975868286,-2.460828348521779,-2.4354628046461437,-2.6485128812350385,-1.822687136256366,-1.7091189506329705,0.00611471903996094,0.5482923854325199,-1.827305646069677,0.2595563382690366,-1.730947718016369,-1.6339527837264003,-1.6876853166951433,0.6175235866604383,-2.2802295357275146,-2.2772137424795798,-2.2660765454901566,0.42363699495164997,0.39572819042260665,0.21110248567955683,0.41325652770461485,0.23282961594719145,-1.5614070417880364,0.6636518264341233,-1.4940427176058222,-1.5598707361237725,-2.2766803552323585,-2.297494736631479,-2.270681609450339,0.43614797119646553,-1.1317260162212246,-1.1257311809832093,-2.0339797445024566,-1.0527274663010469,0.9232281197976461,-2.1445579871160283,0.4701498380490879,0.7076316661078477,0.7214790897814218,-2.0093729212354896,-2.5596728783088474,-0.25782614273555743,0.05773246383253024,0.006266499869271599,0.29906693002313856,-2.742469383576103,-1.9094909601647443,-2.0015246079710334,-2.0146209944693294,-2.522698490715517,-1.8491861301565378,-2.3830152110953695,-2.414286541971594,-2.341028212990233,-1.9605430272314521,-0.029839808577193736,0.1435127974424739,0.17202141643092866,0.39081417864880175,-1.907238546281118,-2.352322813767657,-3.5598668064545795,-3.481166089095366,-3.4883175644148032,-2.412820827123701,-2.4615498788678716,-0.6136692403113454,-0.8580206379829456,-0.9744803549825847,-0.8702834613264354,-2.2924167702455738,-2.4071611580395254,-0.6464825622420554,-3.5297000690043476,-3.4959299992511497,-3.553048811194008,-0.8967665977307938,-1.1023187365256872,-2.350216201464291,-0.883005427041261,-2.390685527795519,-2.4238983037088646,-2.3258317705765936,-3.5866690863949997,-3.788531757256965,-3.6345259190239356,-1.1197033284180644,-0.902781965101434,-0.6255726303820934,-0.9232271596044864,-3.7090000265459717,-3.5383683094367213,-3.589691574098886,-0.8857350444695775,-0.9225325014481054,-2.444510970068554,-0.646388385652345,-1.173288624255965,-2.418569364360441,-2.3509488423705664,-2.338302340116402,-2.323536169709727,-3.568384905222752,-3.565373775415013,-0.6227763812793565,-1.1199103421501837,-0.830966928890012,-0.8644548129428196,-3.496225002957805,-2.2372620249375963,-2.2680515382696536,-2.1763101372021167,-3.4655658547595523,-3.508893221128047,-3.404257654427539,-2.2667748774237686,-0.6020282218984206,-0.8279954685355841,-0.7916285329501827,-1.0699358720529684,-2.2868940248343272,-0.8139457548044613,-0.8441898250753267,-1.1248574401766633,-0.591559416343094,-3.554232993967755,-3.741388267775641,-3.4858222188545867,-2.1617572349621272,-2.2897555201192175,-3.883303139675464,-2.395262304848454,-2.3868310475510808,-2.2640467079048663,-3.5426183743187782,-0.6042644623617535,-3.6446518152435368,-1.1829359973834952,-0.8963033995960047,-0.8559513482130777,-2.329582421354768,-2.2608200202777913,-2.17957529873809,-0.8042883876544866,-0.7914682245862719,-3.6339499403042184,-3.4973842666914314,-3.4765602924717913,-1.1045797880690522,-0.5357752655638729,-3.6233798650192885,-2.124886848992537,-2.218559262295294,-3.4973612632113347,-0.807180265673827,-0.5466652265732505,-3.4783935045656493,-2.273179757694148,-0.7711094414863091,-1.0916405567519314,-0.8895882845505516,-0.9663914315763,-0.6109712801159289,-1.2023485479481908,-3.765645448786839,-3.5126330933210945,-3.5572856998796447,-2.258807638715889,-2.1156002736850934,-2.2106818943267212,-3.5213896460086738,-3.430905109588966,-2.1524909003944224,-2.126840609673933,-3.796086086729183,-0.7633023143804744,-0.6391655854759815,-2.029096547595816,-0.4861702915819897,-1.0566081314160427,-0.35392575989977804,-0.7298226336932713,-0.1902908071830627,-3.215065750841672,-3.394152197881435,-1.7463021874133298,-1.6178923829646599,-1.6860822609896233,-3.223138350499181,-0.4270134464153126,-3.3044142079928105,-3.2549249485858116,-0.26378983664323674,-0.7572560763666385,-3.2279096005393457,-0.43577449831379744,-0.5210308835313423,-1.8963439433994418,-1.8384203008784623,-1.7774914402506246,-0.6236447468625133,-0.3345532779033996,-0.6410124877419052,-3.584659624858818,-3.386607236790753,-3.3785070657320517,-0.902561355590611,-1.849083616690506,-1.9148361409049837,-1.9574562530321116,-1.7744497090890028,-3.297481992594291,-3.568105201030977,-0.8495235234210763,-0.5565753405044981,-0.27413841457058247,-0.5728020881630431,-1.8633250984551837,-1.847742875256533,-3.2260353068410206,-3.5359367030259623,-3.2459627198043317,-3.3094271117673144,-1.8185422619816318,-0.5457274353302454,-0.28701505250970094,-0.529232799432343,-1.855470961938478,-1.763475970092617,-0.8374077608095053,-0.2604982606318547,-0.7222934323888949,-0.4920671735596669,-0.495738759366224,-3.2420083893117844,-3.1818246541583446,-3.1358421533386545,-1.8004356533834385,-1.7308663288017194,-1.770158329434866,-3.300487128221691,-0.53455098727854,-0.2752229090290886,-0.5184459815475397,-1.6743979770748403,-1.7742744322721204,-1.7628212818018845,-3.165499675020266,-3.1821654674867097,-0.7823776203919348,-3.411840400322414,-1.9962420220173092,-0.3843009164252333,-0.9387468313864394,-0.6570715130843224,-0.7079756667912634,-2.0087020815918164,-1.8853372554664045,-3.3716075756074413,-3.710642165029757]},{\"axis\":{\"matches\":true},\"label\":\"color\",\"values\":[0,3,1,7,9,8,5,6,4,2,1,7,8,9,3,2,4,6,5,0,2,0,4,6,5,3,1,8,7,9,6,7,5,0,2,3,1,8,9,4,9,7,8,5,3,4,0,2,1,6,5,6,4,9,0,1,3,8,7,2,5,6,4,0,9,8,7,3,1,2,0,1,3,9,6,4,5,7,8,2,7,4,6,9,8,3,0,1,2,5,8,1,3,7,2,4,6,5,0,9,2,3,8,9,1,0,5,6,4,7,6,5,2,3,4,1,0,7,9,8,5,7,8,9,6,0,3,2,4,1,4,5,6,1,2,8,9,0,3,7,9,7,6,5,4,8,0,2,3,1,5,2,1,3,0,9,4,8,7,6,8,7,9,4,0,1,2,3,6,5,2,3,6,4,9,8,7,1,0,5,7,4,0,3,2,6,8,5,9,1,4,5,7,6,1,2,9,8,0,3,8,7,9,1,3,0,2,4,5,6,3,9,7,8,6,2,5,1,0,4,5,2,9,3,1,0,8,7,6,4,2,8,7,9,5,6,4,0,3,1,5,2,0,6,4,3,8,7,9,1,4,5,6,7,2,8,0,1,3,9,1,3,6,5,4,9,7,8,2,0,3,2,1,0,8,7,5,6,9,4,4,1,2,3,0,7,8,5,6,9,6,5,4,3,2,1,9,7,8,0,9,0,1,2,3,4,8,7,6,5,5,4,9,3,7,6,8,2,1,0,1,2,3,0,7,4,9,5,8,6,5,4,7,8,9,6,2,0,3,1,2,8,0,7,9,4,5,6,1,3,3,0,9,8,2,7,1,4,5,6,8,6,4,5,2,3,0,1,9,7,9,7,5,4,8,0,3,2,6,1,4,5,6,2,0,8,9,7,1,3,6,4,8,9,7,5,2,0,3,1,0,8,7,6,4,3,1,2,5,9,5,4,6,8,2,3,0,1,7,9,4,1,6,5,7,0,2,8,9,3,2,1,0,3,9,4,7,6,8,5,6,1,2,3,0,8,9,7,5,4,0,1,3,2,4,6,8,7,9,5,7,9,8,4,5,6,3,0,2,1,0,3,1,2,4,5,6,9,8,7,0,3,2,1,6,7,8,5,9,4,8,2,3,1,0,4,5,9,7,6,1,9,2,3,0,8,7,4,5,6,4,8,9,7,6,5,1,0,2,3,1,2,0,3,4,6,7,5,8,9,6,5,4,8,1,7,3,0,9,2,2,3,1,0,4,6,5,7,8,9,1,9,0,7,8,5,4,6,2,3,3,9,8,7,0,1,2,5,6,4,6,4,5,7,8,2,1,0,3,9,0,5,7,6,8,2,4,9,1,3,8,9,0,2,1,3,6,4,5,7,8,7,5,4,6,0,3,1,2,9,9,2,7,1,5,6,0,3,8,4,5,3,8,9,0,2,1,4,6,7,1,2,3,0,5,6,4,9,7,8,0,3,9,7,8,1,2,4,5,6,1,2,0,3,4,6,5,9,8,7,3,9,0,7,6,1,2,8,4,5,6,5,4,7,2,9,8,3,1,0,3,1,7,0,8,9,6,5,4,2,8,9,7,2,3,1,0,5,6,4,7,9,8,6,5,4,1,0,2,3,9,8,6,7,5,2,1,0,3,4,6,5,4,0,7,2,3,1,8,9,4,6,5,7,8,0,1,3,2,9,9,7,6,8,3,0,1,2,5,4,7,1,0,2,9,8,5,4,6,3,0,3,2,4,5,6,1,8,9,7,9,7,8,1,0,2,3,6,5,4,8,9,7,0,1,3,6,5,4,2,6,5,4,9,2,0,3,7,8,1,6,4,5,0,2,3,1,8,9,7,0,1,3,2,7,9,8,5,6,4,7,9,0,8,1,5,6,4,2,3,2,1,4,5,3,7,8,9,6,0,0,9,7,2,3,1,6,8,5,4,7,9,8,0,1,3,5,4,6,2,4,1,2,3,6,5,0,7,8,9,2,6,5,4,3,1,7,9,8,0,4,3,0,1,7,2,8,9,5,6,9,5,4,6,7,8,1,3,2,0,1,0,3,2,5,8,9,7,6,4,0,2,7,8,9,5,6,4,3,1,1,3,2,0,5,9,8,6,4,7,0,2,3,1,4,7,9,8,6,5,7,5,8,4,1,2,3,0,6,9,6,4,5,3,1,0,7,9,2,8,7,9,1,3,0,2,8,5,4,6,2,6,5,0,8,9,7,3,4,1,2,3,0,6,7,5,8,9,1,4,2,3,0,1,6,5,4,7,8,9,2,0,3,1,5,4,6,8,9,7,4,8,3,1,2,5,0,7,6,9,1,9,3,2,7,8,0,6,5,4,9,8,0,7,2,5,3,4,6,1,2,3,1,0,4,5,6,8,9,7,0,2,1,8,7,6,5,4,3,9,6,5,4,2,0,3,1,8,7,9,3,9,8,7,4,0,5,1,2,6,8,7,3,1,2,9,0,5,4,6,6,2,7,8,9,0,4,5,3,1,8,6,5,3,1,0,2,4,7,9,7,1,0,3,9,2,8,5,4,6,4,5,6,8,0,9,1,2,3,7,9,4,5,6,1,3,2,8,7,0,7,9,8,3,5,6,4,0,1,2,0,8,9,7,2,3,1,4,5,6,2,1,0,8,9,5,6,4,7,3,3,5,6,4,0,9,8,7,2,1,0,5,4,7,9,6,3,1,2,8,4,0,9,7,8,3,5,2,1,6,9,8,7,0,2,1,3,4,5,6,7,4,5,9,6,1,0,3,2,8,0,1,3,5,6,7,9,8,4,2,5,7,8,9,6,4,2,1,0,3,4,3,5,9,0,7,2,1,8,6,3,2,0,1,4,5,6,7,8,9,9,4,6,5,7,8,3,0,1,2,8,0,6,9,4,5,1,7,3,2,5,4,6,8,0,9,7,1,3,2,8,9,7,3,2,5,6,4,0,1,0,4,8,7,9,6,5,3,2,1,8,5,4,1,3,2,0,7,9,6,0,1,2,3,7,5,4,8,9,6,7,4,0,9,3,1,2,5,6,8,7,8,5,6,4,2,3,1,0,9,9,8,2,7,4,1,6,5,0,3,9,8,7,5,6,0,4,2,1,3,5,1,2,0,7,9,6,3,4,8,0,1,4,5,6,2,3,7,8,9,5,6,4,0,2,9,8,3,1,7,3,6,1,2,5,0,4,8,7,9,5,7,8,0,2,1,3,4,6,9,5,4,8,9,1,2,0,7,6,3,6,5,1,2,0,3,7,4,8,9,2,7,9,8,5,6,4,0,3,1,3,0,1,2,6,7,8,9,5,4,6,0,3,1,2,9,7,8,5,4,1,0,5,6,3,9,8,7,4,2,8,9,6,4,7,5,3,1,0,2,6,8,9,7,4,5,1,3,2,0,9,2,1,0,6,5,4,3,8,7,1,2,0,3,9,7,8,5,6,4,2,1,0,3,8,9,7,5,6,4,8,0,6,5,4,3,2,1,9,7,8,6,7,9,4,5,1,0,3,2,6,2,1,9,8,7,5,0,4,3,6,5,4,3,2,7,8,0,1,9,0,2,1,5,7,8,9,4,3,6,1,4,5,6,7,9,8,2,0,3,8,9,6,7,5,2,4,1,0,3,2,6,4,5,0,1,3,8,7,9,1,3,0,2,8,9,7,6,4,5,7,5,4,6,0,1,3,8,2,9,2,3,5,4,6,8,9,7,0,1,5,6,4,7,0,2,1,3,8,9,1,2,7,9,8,0,5,4,6,3,5,9,8,7,4,6,0,1,3,2,7,6,5,8,9,0,3,1,2,4,4,6,8,7,9,5,3,2,0,1,4,5,7,9,8,0,2,1,3,6,9,6,5,7,8,4,2,1,0,3,9,8,7,6,4,5,2,1,0,3,4,9,8,7,0,1,2,5,6,3,7,6,5,4,9,8,0,3,2,1,9,1,2,3,0,6,7,4,5,8,6,9,7,5,4,2,1,0,3,8,1,6,2,0,4,5,3,7,9,8,4,2,3,0,1,7,9,8,5,6,8,7,9,1,3,5,6,2,0,4,7,8,5,6,3,1,0,4,2,9,4,5,6,8,7,9,3,0,2,1,6,5,4,0,1,2,3,7,8,9,3,6,5,2,4,0,8,9,7,1,6,9,7,5,8,4,1,3,0,2,0,4,6,5,8,7,1,2,3,9,8,9,3,2,1,6,4,5,7,0,2,7,1,9,8,0,3,5,4,6,3,4,6,8,2,7,5,9,1,0,4,6,5,3,0,9,7,8,2,1,5,1,7,8,4,0,2,3,6,9,9,7,8,2,0,5,1,6,4,3,4,5,2,0,1,7,9,8,6,3,6,5,4,9,8,2,0,1,3,7,8,5,2,1,3,0,4,6,7,9,5,8,9,7,0,1,2,4,3,6,1,2,0,6,4,5,7,8,9,3,2,1,7,0,3,8,6,4,5,9,0,3,1,2,5,4,7,8,6,9,6,4,5,0,1,2,3,9,8,7,8,7,9,0,2,6,5,1,4,3,1,9,7,8,5,4,2,3,6,0,5,4,6,3,9,8,7,1,0,2,0,2,6,3,4,5,8,7,9,1,5,6,9,4,3,8,2,0,1,7,7,2,1,0,3,8,4,6,5,9,4,7,8,9,5,2,0,1,3,6,4,7,9,8,6,5,3,0,2,1,4,5,3,7,9,8,0,2,6,1,6,5,4,7,8,9,2,1,3,0,8,7,9,1,0,5,3,2,6,4,5,6,8,7,3,2,0,1,9,4,6,4,7,8,9,5,3,0,1,2,5,1,0,2,3,9,8,7,4,6,8,5,6,4,7,3,9,2,0,1,5,6,4,1,0,8,7,9,2,3,8,4,6,7,0,3,9,5,1,2,0,1,3,2,8,7,9,5,4,6,9,7,5,6,8,0,1,4,3,2,1,2,3,9,8,5,4,6,7,0,8,7,3,2,9,1,0,5,6,4,1,3,0,8,7,9,2,4,6,5,4,9,8,2,1,3,0,5,6,7,8,7,9,6,0,3,1,5,4,2,3,2,1,0,8,7,9,5,4,6,8,0,3,1,4,6,5,9,7,2,9,5,3,2,1,0,6,4,7,8]}],\"hovertemplate\":\"%{xaxis.title.text}=%{x}<br>%{yaxis.title.text}=%{y}<br>color=%{marker.color}<extra></extra>\",\"legendgroup\":\"\",\"marker\":{\"color\":[0,3,1,7,9,8,5,6,4,2,1,7,8,9,3,2,4,6,5,0,2,0,4,6,5,3,1,8,7,9,6,7,5,0,2,3,1,8,9,4,9,7,8,5,3,4,0,2,1,6,5,6,4,9,0,1,3,8,7,2,5,6,4,0,9,8,7,3,1,2,0,1,3,9,6,4,5,7,8,2,7,4,6,9,8,3,0,1,2,5,8,1,3,7,2,4,6,5,0,9,2,3,8,9,1,0,5,6,4,7,6,5,2,3,4,1,0,7,9,8,5,7,8,9,6,0,3,2,4,1,4,5,6,1,2,8,9,0,3,7,9,7,6,5,4,8,0,2,3,1,5,2,1,3,0,9,4,8,7,6,8,7,9,4,0,1,2,3,6,5,2,3,6,4,9,8,7,1,0,5,7,4,0,3,2,6,8,5,9,1,4,5,7,6,1,2,9,8,0,3,8,7,9,1,3,0,2,4,5,6,3,9,7,8,6,2,5,1,0,4,5,2,9,3,1,0,8,7,6,4,2,8,7,9,5,6,4,0,3,1,5,2,0,6,4,3,8,7,9,1,4,5,6,7,2,8,0,1,3,9,1,3,6,5,4,9,7,8,2,0,3,2,1,0,8,7,5,6,9,4,4,1,2,3,0,7,8,5,6,9,6,5,4,3,2,1,9,7,8,0,9,0,1,2,3,4,8,7,6,5,5,4,9,3,7,6,8,2,1,0,1,2,3,0,7,4,9,5,8,6,5,4,7,8,9,6,2,0,3,1,2,8,0,7,9,4,5,6,1,3,3,0,9,8,2,7,1,4,5,6,8,6,4,5,2,3,0,1,9,7,9,7,5,4,8,0,3,2,6,1,4,5,6,2,0,8,9,7,1,3,6,4,8,9,7,5,2,0,3,1,0,8,7,6,4,3,1,2,5,9,5,4,6,8,2,3,0,1,7,9,4,1,6,5,7,0,2,8,9,3,2,1,0,3,9,4,7,6,8,5,6,1,2,3,0,8,9,7,5,4,0,1,3,2,4,6,8,7,9,5,7,9,8,4,5,6,3,0,2,1,0,3,1,2,4,5,6,9,8,7,0,3,2,1,6,7,8,5,9,4,8,2,3,1,0,4,5,9,7,6,1,9,2,3,0,8,7,4,5,6,4,8,9,7,6,5,1,0,2,3,1,2,0,3,4,6,7,5,8,9,6,5,4,8,1,7,3,0,9,2,2,3,1,0,4,6,5,7,8,9,1,9,0,7,8,5,4,6,2,3,3,9,8,7,0,1,2,5,6,4,6,4,5,7,8,2,1,0,3,9,0,5,7,6,8,2,4,9,1,3,8,9,0,2,1,3,6,4,5,7,8,7,5,4,6,0,3,1,2,9,9,2,7,1,5,6,0,3,8,4,5,3,8,9,0,2,1,4,6,7,1,2,3,0,5,6,4,9,7,8,0,3,9,7,8,1,2,4,5,6,1,2,0,3,4,6,5,9,8,7,3,9,0,7,6,1,2,8,4,5,6,5,4,7,2,9,8,3,1,0,3,1,7,0,8,9,6,5,4,2,8,9,7,2,3,1,0,5,6,4,7,9,8,6,5,4,1,0,2,3,9,8,6,7,5,2,1,0,3,4,6,5,4,0,7,2,3,1,8,9,4,6,5,7,8,0,1,3,2,9,9,7,6,8,3,0,1,2,5,4,7,1,0,2,9,8,5,4,6,3,0,3,2,4,5,6,1,8,9,7,9,7,8,1,0,2,3,6,5,4,8,9,7,0,1,3,6,5,4,2,6,5,4,9,2,0,3,7,8,1,6,4,5,0,2,3,1,8,9,7,0,1,3,2,7,9,8,5,6,4,7,9,0,8,1,5,6,4,2,3,2,1,4,5,3,7,8,9,6,0,0,9,7,2,3,1,6,8,5,4,7,9,8,0,1,3,5,4,6,2,4,1,2,3,6,5,0,7,8,9,2,6,5,4,3,1,7,9,8,0,4,3,0,1,7,2,8,9,5,6,9,5,4,6,7,8,1,3,2,0,1,0,3,2,5,8,9,7,6,4,0,2,7,8,9,5,6,4,3,1,1,3,2,0,5,9,8,6,4,7,0,2,3,1,4,7,9,8,6,5,7,5,8,4,1,2,3,0,6,9,6,4,5,3,1,0,7,9,2,8,7,9,1,3,0,2,8,5,4,6,2,6,5,0,8,9,7,3,4,1,2,3,0,6,7,5,8,9,1,4,2,3,0,1,6,5,4,7,8,9,2,0,3,1,5,4,6,8,9,7,4,8,3,1,2,5,0,7,6,9,1,9,3,2,7,8,0,6,5,4,9,8,0,7,2,5,3,4,6,1,2,3,1,0,4,5,6,8,9,7,0,2,1,8,7,6,5,4,3,9,6,5,4,2,0,3,1,8,7,9,3,9,8,7,4,0,5,1,2,6,8,7,3,1,2,9,0,5,4,6,6,2,7,8,9,0,4,5,3,1,8,6,5,3,1,0,2,4,7,9,7,1,0,3,9,2,8,5,4,6,4,5,6,8,0,9,1,2,3,7,9,4,5,6,1,3,2,8,7,0,7,9,8,3,5,6,4,0,1,2,0,8,9,7,2,3,1,4,5,6,2,1,0,8,9,5,6,4,7,3,3,5,6,4,0,9,8,7,2,1,0,5,4,7,9,6,3,1,2,8,4,0,9,7,8,3,5,2,1,6,9,8,7,0,2,1,3,4,5,6,7,4,5,9,6,1,0,3,2,8,0,1,3,5,6,7,9,8,4,2,5,7,8,9,6,4,2,1,0,3,4,3,5,9,0,7,2,1,8,6,3,2,0,1,4,5,6,7,8,9,9,4,6,5,7,8,3,0,1,2,8,0,6,9,4,5,1,7,3,2,5,4,6,8,0,9,7,1,3,2,8,9,7,3,2,5,6,4,0,1,0,4,8,7,9,6,5,3,2,1,8,5,4,1,3,2,0,7,9,6,0,1,2,3,7,5,4,8,9,6,7,4,0,9,3,1,2,5,6,8,7,8,5,6,4,2,3,1,0,9,9,8,2,7,4,1,6,5,0,3,9,8,7,5,6,0,4,2,1,3,5,1,2,0,7,9,6,3,4,8,0,1,4,5,6,2,3,7,8,9,5,6,4,0,2,9,8,3,1,7,3,6,1,2,5,0,4,8,7,9,5,7,8,0,2,1,3,4,6,9,5,4,8,9,1,2,0,7,6,3,6,5,1,2,0,3,7,4,8,9,2,7,9,8,5,6,4,0,3,1,3,0,1,2,6,7,8,9,5,4,6,0,3,1,2,9,7,8,5,4,1,0,5,6,3,9,8,7,4,2,8,9,6,4,7,5,3,1,0,2,6,8,9,7,4,5,1,3,2,0,9,2,1,0,6,5,4,3,8,7,1,2,0,3,9,7,8,5,6,4,2,1,0,3,8,9,7,5,6,4,8,0,6,5,4,3,2,1,9,7,8,6,7,9,4,5,1,0,3,2,6,2,1,9,8,7,5,0,4,3,6,5,4,3,2,7,8,0,1,9,0,2,1,5,7,8,9,4,3,6,1,4,5,6,7,9,8,2,0,3,8,9,6,7,5,2,4,1,0,3,2,6,4,5,0,1,3,8,7,9,1,3,0,2,8,9,7,6,4,5,7,5,4,6,0,1,3,8,2,9,2,3,5,4,6,8,9,7,0,1,5,6,4,7,0,2,1,3,8,9,1,2,7,9,8,0,5,4,6,3,5,9,8,7,4,6,0,1,3,2,7,6,5,8,9,0,3,1,2,4,4,6,8,7,9,5,3,2,0,1,4,5,7,9,8,0,2,1,3,6,9,6,5,7,8,4,2,1,0,3,9,8,7,6,4,5,2,1,0,3,4,9,8,7,0,1,2,5,6,3,7,6,5,4,9,8,0,3,2,1,9,1,2,3,0,6,7,4,5,8,6,9,7,5,4,2,1,0,3,8,1,6,2,0,4,5,3,7,9,8,4,2,3,0,1,7,9,8,5,6,8,7,9,1,3,5,6,2,0,4,7,8,5,6,3,1,0,4,2,9,4,5,6,8,7,9,3,0,2,1,6,5,4,0,1,2,3,7,8,9,3,6,5,2,4,0,8,9,7,1,6,9,7,5,8,4,1,3,0,2,0,4,6,5,8,7,1,2,3,9,8,9,3,2,1,6,4,5,7,0,2,7,1,9,8,0,3,5,4,6,3,4,6,8,2,7,5,9,1,0,4,6,5,3,0,9,7,8,2,1,5,1,7,8,4,0,2,3,6,9,9,7,8,2,0,5,1,6,4,3,4,5,2,0,1,7,9,8,6,3,6,5,4,9,8,2,0,1,3,7,8,5,2,1,3,0,4,6,7,9,5,8,9,7,0,1,2,4,3,6,1,2,0,6,4,5,7,8,9,3,2,1,7,0,3,8,6,4,5,9,0,3,1,2,5,4,7,8,6,9,6,4,5,0,1,2,3,9,8,7,8,7,9,0,2,6,5,1,4,3,1,9,7,8,5,4,2,3,6,0,5,4,6,3,9,8,7,1,0,2,0,2,6,3,4,5,8,7,9,1,5,6,9,4,3,8,2,0,1,7,7,2,1,0,3,8,4,6,5,9,4,7,8,9,5,2,0,1,3,6,4,7,9,8,6,5,3,0,2,1,4,5,3,7,9,8,0,2,6,1,6,5,4,7,8,9,2,1,3,0,8,7,9,1,0,5,3,2,6,4,5,6,8,7,3,2,0,1,9,4,6,4,7,8,9,5,3,0,1,2,5,1,0,2,3,9,8,7,4,6,8,5,6,4,7,3,9,2,0,1,5,6,4,1,0,8,7,9,2,3,8,4,6,7,0,3,9,5,1,2,0,1,3,2,8,7,9,5,4,6,9,7,5,6,8,0,1,4,3,2,1,2,3,9,8,5,4,6,7,0,8,7,3,2,9,1,0,5,6,4,1,3,0,8,7,9,2,4,6,5,4,9,8,2,1,3,0,5,6,7,8,7,9,6,0,3,1,5,4,2,3,2,1,0,8,7,9,5,4,6,8,0,3,1,4,6,5,9,7,2,9,5,3,2,1,0,6,4,7,8],\"coloraxis\":\"coloraxis\",\"symbol\":\"circle\"},\"name\":\"\",\"showlegend\":false,\"type\":\"splom\",\"diagonal\":{\"visible\":false}}],                        {\"template\":{\"data\":{\"bar\":[{\"error_x\":{\"color\":\"#2a3f5f\"},\"error_y\":{\"color\":\"#2a3f5f\"},\"marker\":{\"line\":{\"color\":\"#E5ECF6\",\"width\":0.5},\"pattern\":{\"fillmode\":\"overlay\",\"size\":10,\"solidity\":0.2}},\"type\":\"bar\"}],\"barpolar\":[{\"marker\":{\"line\":{\"color\":\"#E5ECF6\",\"width\":0.5},\"pattern\":{\"fillmode\":\"overlay\",\"size\":10,\"solidity\":0.2}},\"type\":\"barpolar\"}],\"carpet\":[{\"aaxis\":{\"endlinecolor\":\"#2a3f5f\",\"gridcolor\":\"white\",\"linecolor\":\"white\",\"minorgridcolor\":\"white\",\"startlinecolor\":\"#2a3f5f\"},\"baxis\":{\"endlinecolor\":\"#2a3f5f\",\"gridcolor\":\"white\",\"linecolor\":\"white\",\"minorgridcolor\":\"white\",\"startlinecolor\":\"#2a3f5f\"},\"type\":\"carpet\"}],\"choropleth\":[{\"colorbar\":{\"outlinewidth\":0,\"ticks\":\"\"},\"type\":\"choropleth\"}],\"contour\":[{\"colorbar\":{\"outlinewidth\":0,\"ticks\":\"\"},\"colorscale\":[[0.0,\"#0d0887\"],[0.1111111111111111,\"#46039f\"],[0.2222222222222222,\"#7201a8\"],[0.3333333333333333,\"#9c179e\"],[0.4444444444444444,\"#bd3786\"],[0.5555555555555556,\"#d8576b\"],[0.6666666666666666,\"#ed7953\"],[0.7777777777777778,\"#fb9f3a\"],[0.8888888888888888,\"#fdca26\"],[1.0,\"#f0f921\"]],\"type\":\"contour\"}],\"contourcarpet\":[{\"colorbar\":{\"outlinewidth\":0,\"ticks\":\"\"},\"type\":\"contourcarpet\"}],\"heatmap\":[{\"colorbar\":{\"outlinewidth\":0,\"ticks\":\"\"},\"colorscale\":[[0.0,\"#0d0887\"],[0.1111111111111111,\"#46039f\"],[0.2222222222222222,\"#7201a8\"],[0.3333333333333333,\"#9c179e\"],[0.4444444444444444,\"#bd3786\"],[0.5555555555555556,\"#d8576b\"],[0.6666666666666666,\"#ed7953\"],[0.7777777777777778,\"#fb9f3a\"],[0.8888888888888888,\"#fdca26\"],[1.0,\"#f0f921\"]],\"type\":\"heatmap\"}],\"heatmapgl\":[{\"colorbar\":{\"outlinewidth\":0,\"ticks\":\"\"},\"colorscale\":[[0.0,\"#0d0887\"],[0.1111111111111111,\"#46039f\"],[0.2222222222222222,\"#7201a8\"],[0.3333333333333333,\"#9c179e\"],[0.4444444444444444,\"#bd3786\"],[0.5555555555555556,\"#d8576b\"],[0.6666666666666666,\"#ed7953\"],[0.7777777777777778,\"#fb9f3a\"],[0.8888888888888888,\"#fdca26\"],[1.0,\"#f0f921\"]],\"type\":\"heatmapgl\"}],\"histogram\":[{\"marker\":{\"pattern\":{\"fillmode\":\"overlay\",\"size\":10,\"solidity\":0.2}},\"type\":\"histogram\"}],\"histogram2d\":[{\"colorbar\":{\"outlinewidth\":0,\"ticks\":\"\"},\"colorscale\":[[0.0,\"#0d0887\"],[0.1111111111111111,\"#46039f\"],[0.2222222222222222,\"#7201a8\"],[0.3333333333333333,\"#9c179e\"],[0.4444444444444444,\"#bd3786\"],[0.5555555555555556,\"#d8576b\"],[0.6666666666666666,\"#ed7953\"],[0.7777777777777778,\"#fb9f3a\"],[0.8888888888888888,\"#fdca26\"],[1.0,\"#f0f921\"]],\"type\":\"histogram2d\"}],\"histogram2dcontour\":[{\"colorbar\":{\"outlinewidth\":0,\"ticks\":\"\"},\"colorscale\":[[0.0,\"#0d0887\"],[0.1111111111111111,\"#46039f\"],[0.2222222222222222,\"#7201a8\"],[0.3333333333333333,\"#9c179e\"],[0.4444444444444444,\"#bd3786\"],[0.5555555555555556,\"#d8576b\"],[0.6666666666666666,\"#ed7953\"],[0.7777777777777778,\"#fb9f3a\"],[0.8888888888888888,\"#fdca26\"],[1.0,\"#f0f921\"]],\"type\":\"histogram2dcontour\"}],\"mesh3d\":[{\"colorbar\":{\"outlinewidth\":0,\"ticks\":\"\"},\"type\":\"mesh3d\"}],\"parcoords\":[{\"line\":{\"colorbar\":{\"outlinewidth\":0,\"ticks\":\"\"}},\"type\":\"parcoords\"}],\"pie\":[{\"automargin\":true,\"type\":\"pie\"}],\"scatter\":[{\"marker\":{\"colorbar\":{\"outlinewidth\":0,\"ticks\":\"\"}},\"type\":\"scatter\"}],\"scatter3d\":[{\"line\":{\"colorbar\":{\"outlinewidth\":0,\"ticks\":\"\"}},\"marker\":{\"colorbar\":{\"outlinewidth\":0,\"ticks\":\"\"}},\"type\":\"scatter3d\"}],\"scattercarpet\":[{\"marker\":{\"colorbar\":{\"outlinewidth\":0,\"ticks\":\"\"}},\"type\":\"scattercarpet\"}],\"scattergeo\":[{\"marker\":{\"colorbar\":{\"outlinewidth\":0,\"ticks\":\"\"}},\"type\":\"scattergeo\"}],\"scattergl\":[{\"marker\":{\"colorbar\":{\"outlinewidth\":0,\"ticks\":\"\"}},\"type\":\"scattergl\"}],\"scattermapbox\":[{\"marker\":{\"colorbar\":{\"outlinewidth\":0,\"ticks\":\"\"}},\"type\":\"scattermapbox\"}],\"scatterpolar\":[{\"marker\":{\"colorbar\":{\"outlinewidth\":0,\"ticks\":\"\"}},\"type\":\"scatterpolar\"}],\"scatterpolargl\":[{\"marker\":{\"colorbar\":{\"outlinewidth\":0,\"ticks\":\"\"}},\"type\":\"scatterpolargl\"}],\"scatterternary\":[{\"marker\":{\"colorbar\":{\"outlinewidth\":0,\"ticks\":\"\"}},\"type\":\"scatterternary\"}],\"surface\":[{\"colorbar\":{\"outlinewidth\":0,\"ticks\":\"\"},\"colorscale\":[[0.0,\"#0d0887\"],[0.1111111111111111,\"#46039f\"],[0.2222222222222222,\"#7201a8\"],[0.3333333333333333,\"#9c179e\"],[0.4444444444444444,\"#bd3786\"],[0.5555555555555556,\"#d8576b\"],[0.6666666666666666,\"#ed7953\"],[0.7777777777777778,\"#fb9f3a\"],[0.8888888888888888,\"#fdca26\"],[1.0,\"#f0f921\"]],\"type\":\"surface\"}],\"table\":[{\"cells\":{\"fill\":{\"color\":\"#EBF0F8\"},\"line\":{\"color\":\"white\"}},\"header\":{\"fill\":{\"color\":\"#C8D4E3\"},\"line\":{\"color\":\"white\"}},\"type\":\"table\"}]},\"layout\":{\"annotationdefaults\":{\"arrowcolor\":\"#2a3f5f\",\"arrowhead\":0,\"arrowwidth\":1},\"autotypenumbers\":\"strict\",\"coloraxis\":{\"colorbar\":{\"outlinewidth\":0,\"ticks\":\"\"}},\"colorscale\":{\"diverging\":[[0,\"#8e0152\"],[0.1,\"#c51b7d\"],[0.2,\"#de77ae\"],[0.3,\"#f1b6da\"],[0.4,\"#fde0ef\"],[0.5,\"#f7f7f7\"],[0.6,\"#e6f5d0\"],[0.7,\"#b8e186\"],[0.8,\"#7fbc41\"],[0.9,\"#4d9221\"],[1,\"#276419\"]],\"sequential\":[[0.0,\"#0d0887\"],[0.1111111111111111,\"#46039f\"],[0.2222222222222222,\"#7201a8\"],[0.3333333333333333,\"#9c179e\"],[0.4444444444444444,\"#bd3786\"],[0.5555555555555556,\"#d8576b\"],[0.6666666666666666,\"#ed7953\"],[0.7777777777777778,\"#fb9f3a\"],[0.8888888888888888,\"#fdca26\"],[1.0,\"#f0f921\"]],\"sequentialminus\":[[0.0,\"#0d0887\"],[0.1111111111111111,\"#46039f\"],[0.2222222222222222,\"#7201a8\"],[0.3333333333333333,\"#9c179e\"],[0.4444444444444444,\"#bd3786\"],[0.5555555555555556,\"#d8576b\"],[0.6666666666666666,\"#ed7953\"],[0.7777777777777778,\"#fb9f3a\"],[0.8888888888888888,\"#fdca26\"],[1.0,\"#f0f921\"]]},\"colorway\":[\"#636efa\",\"#EF553B\",\"#00cc96\",\"#ab63fa\",\"#FFA15A\",\"#19d3f3\",\"#FF6692\",\"#B6E880\",\"#FF97FF\",\"#FECB52\"],\"font\":{\"color\":\"#2a3f5f\"},\"geo\":{\"bgcolor\":\"white\",\"lakecolor\":\"white\",\"landcolor\":\"#E5ECF6\",\"showlakes\":true,\"showland\":true,\"subunitcolor\":\"white\"},\"hoverlabel\":{\"align\":\"left\"},\"hovermode\":\"closest\",\"mapbox\":{\"style\":\"light\"},\"paper_bgcolor\":\"white\",\"plot_bgcolor\":\"#E5ECF6\",\"polar\":{\"angularaxis\":{\"gridcolor\":\"white\",\"linecolor\":\"white\",\"ticks\":\"\"},\"bgcolor\":\"#E5ECF6\",\"radialaxis\":{\"gridcolor\":\"white\",\"linecolor\":\"white\",\"ticks\":\"\"}},\"scene\":{\"xaxis\":{\"backgroundcolor\":\"#E5ECF6\",\"gridcolor\":\"white\",\"gridwidth\":2,\"linecolor\":\"white\",\"showbackground\":true,\"ticks\":\"\",\"zerolinecolor\":\"white\"},\"yaxis\":{\"backgroundcolor\":\"#E5ECF6\",\"gridcolor\":\"white\",\"gridwidth\":2,\"linecolor\":\"white\",\"showbackground\":true,\"ticks\":\"\",\"zerolinecolor\":\"white\"},\"zaxis\":{\"backgroundcolor\":\"#E5ECF6\",\"gridcolor\":\"white\",\"gridwidth\":2,\"linecolor\":\"white\",\"showbackground\":true,\"ticks\":\"\",\"zerolinecolor\":\"white\"}},\"shapedefaults\":{\"line\":{\"color\":\"#2a3f5f\"}},\"ternary\":{\"aaxis\":{\"gridcolor\":\"white\",\"linecolor\":\"white\",\"ticks\":\"\"},\"baxis\":{\"gridcolor\":\"white\",\"linecolor\":\"white\",\"ticks\":\"\"},\"bgcolor\":\"#E5ECF6\",\"caxis\":{\"gridcolor\":\"white\",\"linecolor\":\"white\",\"ticks\":\"\"}},\"title\":{\"x\":0.05},\"xaxis\":{\"automargin\":true,\"gridcolor\":\"white\",\"linecolor\":\"white\",\"ticks\":\"\",\"title\":{\"standoff\":15},\"zerolinecolor\":\"white\",\"zerolinewidth\":2},\"yaxis\":{\"automargin\":true,\"gridcolor\":\"white\",\"linecolor\":\"white\",\"ticks\":\"\",\"title\":{\"standoff\":15},\"zerolinecolor\":\"white\",\"zerolinewidth\":2}}},\"coloraxis\":{\"colorbar\":{\"title\":{\"text\":\"color\"}},\"colorscale\":[[0.0,\"#0d0887\"],[0.1111111111111111,\"#46039f\"],[0.2222222222222222,\"#7201a8\"],[0.3333333333333333,\"#9c179e\"],[0.4444444444444444,\"#bd3786\"],[0.5555555555555556,\"#d8576b\"],[0.6666666666666666,\"#ed7953\"],[0.7777777777777778,\"#fb9f3a\"],[0.8888888888888888,\"#fdca26\"],[1.0,\"#f0f921\"]]},\"legend\":{\"tracegroupgap\":0},\"margin\":{\"t\":60},\"dragmode\":\"select\"},                        {\"responsive\": true}                    ).then(function(){\n",
              "                            \n",
              "var gd = document.getElementById('0a6cf292-70bf-4a4b-b180-47e933b1d7de');\n",
              "var x = new MutationObserver(function (mutations, observer) {{\n",
              "        var display = window.getComputedStyle(gd).display;\n",
              "        if (!display || display === 'none') {{\n",
              "            console.log([gd, 'removed!']);\n",
              "            Plotly.purge(gd);\n",
              "            observer.disconnect();\n",
              "        }}\n",
              "}});\n",
              "\n",
              "// Listen for the removal of the full notebook cells\n",
              "var notebookContainer = gd.closest('#notebook-container');\n",
              "if (notebookContainer) {{\n",
              "    x.observe(notebookContainer, {childList: true});\n",
              "}}\n",
              "\n",
              "// Listen for the clearing of the current output cell\n",
              "var outputEl = gd.closest('.output');\n",
              "if (outputEl) {{\n",
              "    x.observe(outputEl, {childList: true});\n",
              "}}\n",
              "\n",
              "                        })                };                            </script>        </div>\n",
              "</body>\n",
              "</html>"
            ]
          },
          "metadata": {}
        }
      ],
      "id": "La6F1jsT_NAw"
    },
    {
      "cell_type": "code",
      "source": [
        "plt.figure(figsize=(6, 6))\n",
        "plt.scatter(feature[:, 0], feature[:, 1], alpha=0.8)\n",
        "plt.xlabel(\"PC1\")\n",
        "plt.ylabel(\"PC2\")\n",
        "plt.show()"
      ],
      "metadata": {
        "colab": {
          "base_uri": "https://localhost:8080/",
          "height": 388
        },
        "id": "0zE4ano7_nyn",
        "outputId": "2f53dc64-026f-48b4-c6ae-dfa3b45a0bf7"
      },
      "execution_count": null,
      "outputs": [
        {
          "output_type": "display_data",
          "data": {
            "text/plain": [
              "<Figure size 432x432 with 1 Axes>"
            ],
            "image/png": "[encoded data removed]"
          },
          "metadata": {
            "needs_background": "light"
          }
        }
      ],
      "id": "0zE4ano7_nyn"
    },
    {
      "cell_type": "code",
      "source": [
        "explained_variance = pca.explained_variance_ratio_"
      ],
      "metadata": {
        "id": "yOf_0QhnBa4v"
      },
      "execution_count": null,
      "outputs": [],
      "id": "yOf_0QhnBa4v"
    },
    {
      "cell_type": "code",
      "source": [
        "explained_variance"
      ],
      "metadata": {
        "colab": {
          "base_uri": "https://localhost:8080/"
        },
        "id": "SHAbIjTNB_EE",
        "outputId": "55edd5d2-3e77-42e3-841b-abfc22a749cf"
      },
      "execution_count": null,
      "outputs": [
        {
          "output_type": "execute_result",
          "data": {
            "text/plain": [
              "array([9.83653318e-01, 1.58865116e-02, 4.60130204e-04, 4.00273063e-08])"
            ]
          },
          "metadata": {},
          "execution_count": 876
        }
      ],
      "id": "SHAbIjTNB_EE"
    },
    {
      "cell_type": "code",
      "source": [
        "pca.fit(temp_df)\n",
        "feature = pca.transform(temp_df)"
      ],
      "metadata": {
        "id": "y9XJ_7jxB_20"
      },
      "execution_count": null,
      "outputs": [],
      "id": "y9XJ_7jxB_20"
    },
    {
      "cell_type": "code",
      "source": [
        "explained_variance = pca.explained_variance_ratio_\n",
        "explained_variance"
      ],
      "metadata": {
        "colab": {
          "base_uri": "https://localhost:8080/"
        },
        "id": "On5Pwx1MCFix",
        "outputId": "ba729276-903c-4e8d-b4c4-3b920c1c72d2"
      },
      "execution_count": null,
      "outputs": [
        {
          "output_type": "execute_result",
          "data": {
            "text/plain": [
              "array([9.91681990e-01, 7.20307179e-03, 3.75948834e-04, 2.41350589e-04,\n",
              "       1.59180765e-04, 8.36544597e-05, 6.07688131e-05, 5.23568640e-05,\n",
              "       4.34215687e-05, 3.32348066e-05, 2.48546539e-05, 1.89283923e-05,\n",
              "       1.40688461e-05, 5.63258474e-06, 9.25168023e-07, 4.15089606e-07,\n",
              "       1.59782427e-07, 2.97881821e-08, 3.76990008e-09, 1.22860265e-09,\n",
              "       6.09637986e-10, 4.13816651e-10, 2.85767297e-10, 1.88466013e-10,\n",
              "       1.67782309e-10, 8.56315571e-11, 8.53369895e-12, 7.25620696e-12,\n",
              "       2.99320038e-12, 2.72593598e-12, 1.20792345e-12, 7.07033381e-13,\n",
              "       7.42352049e-33, 7.42352049e-33, 7.42352049e-33, 7.42352049e-33])"
            ]
          },
          "metadata": {},
          "execution_count": 878
        }
      ],
      "id": "On5Pwx1MCFix"
    }
  ],
  "metadata": {
    "kernelspec": {
      "display_name": "Python 3 (ipykernel)",
      "language": "python",
      "name": "python3"
    },
    "language_info": {
      "codemirror_mode": {
        "name": "ipython",
        "version": 3
      },
      "file_extension": ".py",
      "mimetype": "text/x-python",
      "name": "python",
      "nbconvert_exporter": "python",
      "pygments_lexer": "ipython3",
      "version": "3.9.7"
    },
    "colab": {
      "name": "M3.ipynb",
      "provenance": [],
      "collapsed_sections": [
        "1c1256e1"
      ]
    }
  },
  "nbformat": 4,
  "nbformat_minor": 5
}